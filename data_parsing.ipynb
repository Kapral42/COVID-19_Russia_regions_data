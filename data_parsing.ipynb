{
 "cells": [
  {
   "cell_type": "markdown",
   "metadata": {},
   "source": [
    "# Import"
   ]
  },
  {
   "cell_type": "code",
   "execution_count": 38,
   "metadata": {},
   "outputs": [],
   "source": [
    "import numpy as np\n",
    "import pandas as pd\n",
    "import datetime\n",
    "\n",
    "import sys, os\n",
    "sys.path.insert(0, os.path.abspath('scripts'))\n",
    "import rus_table_parser"
   ]
  },
  {
   "cell_type": "markdown",
   "metadata": {},
   "source": [
    "# Data parsing"
   ]
  },
  {
   "cell_type": "code",
   "execution_count": 39,
   "metadata": {},
   "outputs": [
    {
     "output_type": "execute_result",
     "data": {
      "text/plain": "    Confirmed        Date  Deaths  Recovered                 Region/City\n0    161397.0  2020-05-23  1934.0    47413.0                      Москва\n1     32653.0  2020-05-23   324.0     5163.0          Московская область\n2     12955.0  2020-05-23   113.0     3124.0             Санкт-Петербург\n3      7826.0  2020-05-23    60.0     2257.0       Нижегородская область\n4      3982.0  2020-05-23    70.0     3002.0         Республика Дагестан\n..        ...         ...     ...        ...                         ...\n80      154.0  2020-05-23     2.0      113.0                 Севастополь\n81       92.0  2020-05-23     0.0       46.0            Республика Алтай\n82       66.0  2020-05-23     0.0       36.0         Сахалинская область\n83       62.0  2020-05-23     0.0       10.0   Ненецкий автономный округ\n84       58.0  2020-05-23     1.0       30.0  Чукотский автономный округ\n\n[85 rows x 5 columns]",
      "text/html": "<div>\n<style scoped>\n    .dataframe tbody tr th:only-of-type {\n        vertical-align: middle;\n    }\n\n    .dataframe tbody tr th {\n        vertical-align: top;\n    }\n\n    .dataframe thead th {\n        text-align: right;\n    }\n</style>\n<table border=\"1\" class=\"dataframe\">\n  <thead>\n    <tr style=\"text-align: right;\">\n      <th></th>\n      <th>Confirmed</th>\n      <th>Date</th>\n      <th>Deaths</th>\n      <th>Recovered</th>\n      <th>Region/City</th>\n    </tr>\n  </thead>\n  <tbody>\n    <tr>\n      <th>0</th>\n      <td>161397.0</td>\n      <td>2020-05-23</td>\n      <td>1934.0</td>\n      <td>47413.0</td>\n      <td>Москва</td>\n    </tr>\n    <tr>\n      <th>1</th>\n      <td>32653.0</td>\n      <td>2020-05-23</td>\n      <td>324.0</td>\n      <td>5163.0</td>\n      <td>Московская область</td>\n    </tr>\n    <tr>\n      <th>2</th>\n      <td>12955.0</td>\n      <td>2020-05-23</td>\n      <td>113.0</td>\n      <td>3124.0</td>\n      <td>Санкт-Петербург</td>\n    </tr>\n    <tr>\n      <th>3</th>\n      <td>7826.0</td>\n      <td>2020-05-23</td>\n      <td>60.0</td>\n      <td>2257.0</td>\n      <td>Нижегородская область</td>\n    </tr>\n    <tr>\n      <th>4</th>\n      <td>3982.0</td>\n      <td>2020-05-23</td>\n      <td>70.0</td>\n      <td>3002.0</td>\n      <td>Республика Дагестан</td>\n    </tr>\n    <tr>\n      <th>...</th>\n      <td>...</td>\n      <td>...</td>\n      <td>...</td>\n      <td>...</td>\n      <td>...</td>\n    </tr>\n    <tr>\n      <th>80</th>\n      <td>154.0</td>\n      <td>2020-05-23</td>\n      <td>2.0</td>\n      <td>113.0</td>\n      <td>Севастополь</td>\n    </tr>\n    <tr>\n      <th>81</th>\n      <td>92.0</td>\n      <td>2020-05-23</td>\n      <td>0.0</td>\n      <td>46.0</td>\n      <td>Республика Алтай</td>\n    </tr>\n    <tr>\n      <th>82</th>\n      <td>66.0</td>\n      <td>2020-05-23</td>\n      <td>0.0</td>\n      <td>36.0</td>\n      <td>Сахалинская область</td>\n    </tr>\n    <tr>\n      <th>83</th>\n      <td>62.0</td>\n      <td>2020-05-23</td>\n      <td>0.0</td>\n      <td>10.0</td>\n      <td>Ненецкий автономный округ</td>\n    </tr>\n    <tr>\n      <th>84</th>\n      <td>58.0</td>\n      <td>2020-05-23</td>\n      <td>1.0</td>\n      <td>30.0</td>\n      <td>Чукотский автономный округ</td>\n    </tr>\n  </tbody>\n</table>\n<p>85 rows × 5 columns</p>\n</div>"
     },
     "metadata": {},
     "execution_count": 39
    }
   ],
   "source": [
    "DAY = datetime.datetime.now().strftime(\"%d\").lstrip('0')\n",
    "MONTH = datetime.datetime.now().strftime(\"%m\").lstrip('0')\n",
    "# DAY = 23\n",
    "# MONTH = 5\n",
    "\n",
    "# Save of \"https://coronavirus-monitor.ru/coronavirus-v-rossii/\" page\n",
    "path = f'html_data/{DAY}-{MONTH}/Коронавирус в России. Онлайн карта распространения коронавируса в России..html'\n",
    "parse_df = rus_table_parser.run_parsing(path)\n",
    "parse_df"
   ]
  },
  {
   "cell_type": "markdown",
   "metadata": {},
   "source": [
    "# Preparing parsed data"
   ]
  },
  {
   "cell_type": "code",
   "execution_count": 40,
   "metadata": {},
   "outputs": [
    {
     "output_type": "execute_result",
     "data": {
      "text/plain": "            Date           Region/City                 Region/City-Eng  \\\n4156  2020-05-22   Ханты-Мансийский АО                 Khanty-Mansiysk   \n4157  2020-05-22   Челябинская область              Chelyabinsk region   \n4158  2020-05-22  Чеченская Республика                Chechen Republic   \n4159  2020-05-22     Ямало-Ненецкий АО  Yamalo-Nenets Autonomous Okrug   \n4160  2020-05-22   Ярославская область                Yaroslavl region   \n\n      Region_ID  Day-Confirmed  Day-Deaths  Day-Recovered  Confirmed  Deaths  \\\n4156       86.0           80.0         1.0           18.0     1510.0    13.0   \n4157       74.0           80.0         0.0           29.0     2132.0    11.0   \n4158       95.0           20.0         0.0            8.0     1046.0    11.0   \n4159       89.0           87.0         0.0           74.0     1989.0     5.0   \n4160       76.0          103.0         0.0           24.0     2309.0    13.0   \n\n      Recovered  \n4156      520.0  \n4157      754.0  \n4158      643.0  \n4159      398.0  \n4160      444.0  ",
      "text/html": "<div>\n<style scoped>\n    .dataframe tbody tr th:only-of-type {\n        vertical-align: middle;\n    }\n\n    .dataframe tbody tr th {\n        vertical-align: top;\n    }\n\n    .dataframe thead th {\n        text-align: right;\n    }\n</style>\n<table border=\"1\" class=\"dataframe\">\n  <thead>\n    <tr style=\"text-align: right;\">\n      <th></th>\n      <th>Date</th>\n      <th>Region/City</th>\n      <th>Region/City-Eng</th>\n      <th>Region_ID</th>\n      <th>Day-Confirmed</th>\n      <th>Day-Deaths</th>\n      <th>Day-Recovered</th>\n      <th>Confirmed</th>\n      <th>Deaths</th>\n      <th>Recovered</th>\n    </tr>\n  </thead>\n  <tbody>\n    <tr>\n      <th>4156</th>\n      <td>2020-05-22</td>\n      <td>Ханты-Мансийский АО</td>\n      <td>Khanty-Mansiysk</td>\n      <td>86.0</td>\n      <td>80.0</td>\n      <td>1.0</td>\n      <td>18.0</td>\n      <td>1510.0</td>\n      <td>13.0</td>\n      <td>520.0</td>\n    </tr>\n    <tr>\n      <th>4157</th>\n      <td>2020-05-22</td>\n      <td>Челябинская область</td>\n      <td>Chelyabinsk region</td>\n      <td>74.0</td>\n      <td>80.0</td>\n      <td>0.0</td>\n      <td>29.0</td>\n      <td>2132.0</td>\n      <td>11.0</td>\n      <td>754.0</td>\n    </tr>\n    <tr>\n      <th>4158</th>\n      <td>2020-05-22</td>\n      <td>Чеченская Республика</td>\n      <td>Chechen Republic</td>\n      <td>95.0</td>\n      <td>20.0</td>\n      <td>0.0</td>\n      <td>8.0</td>\n      <td>1046.0</td>\n      <td>11.0</td>\n      <td>643.0</td>\n    </tr>\n    <tr>\n      <th>4159</th>\n      <td>2020-05-22</td>\n      <td>Ямало-Ненецкий АО</td>\n      <td>Yamalo-Nenets Autonomous Okrug</td>\n      <td>89.0</td>\n      <td>87.0</td>\n      <td>0.0</td>\n      <td>74.0</td>\n      <td>1989.0</td>\n      <td>5.0</td>\n      <td>398.0</td>\n    </tr>\n    <tr>\n      <th>4160</th>\n      <td>2020-05-22</td>\n      <td>Ярославская область</td>\n      <td>Yaroslavl region</td>\n      <td>76.0</td>\n      <td>103.0</td>\n      <td>0.0</td>\n      <td>24.0</td>\n      <td>2309.0</td>\n      <td>13.0</td>\n      <td>444.0</td>\n    </tr>\n  </tbody>\n</table>\n</div>"
     },
     "metadata": {},
     "execution_count": 40
    }
   ],
   "source": [
    "file_name = 'release/covid19-russia-cases.csv'\n",
    "rus_df = pd.read_csv(file_name)\n",
    "rus_df.tail()"
   ]
  },
  {
   "cell_type": "code",
   "execution_count": 41,
   "metadata": {},
   "outputs": [],
   "source": [
    "# Create day-columns\n",
    "parse_df['Day-Confirmed'] = 0\n",
    "parse_df['Day-Deaths'] = 0\n",
    "parse_df['Day-Recovered'] = 0"
   ]
  },
  {
   "cell_type": "code",
   "execution_count": 42,
   "metadata": {},
   "outputs": [],
   "source": [
    "# Strip text data\n",
    "rus_df['Region/City'] = rus_df['Region/City'].astype('str').str.strip('\\u200b')\n",
    "parse_df['Region/City'] = parse_df['Region/City'].astype('str').str.strip('\\u200b')"
   ]
  },
  {
   "cell_type": "code",
   "execution_count": 43,
   "metadata": {},
   "outputs": [],
   "source": [
    "# Rename regions\n",
    "rename_dict = {\n",
    "    'Татарстан': 'Республика Татарстан',\n",
    "    'Башкортостан': 'Республика Башкортостан',\n",
    "    'Чувашская Республика': 'Республика Чувашия',\n",
    "    'Камчатский край' : 'Камчатский край',\n",
    "    'Ямало-Ненецкий автономный округ' : 'Ямало-Ненецкий АО',\n",
    "    'Республика Северная Осетия — Алания' : 'Республика Северная Осетия - Алания',\n",
    "    'Республика Алтай' : 'Республика Алтай'\n",
    "}\n",
    "\n",
    "def rename(row):\n",
    "    name = row['Region/City'][0]\n",
    "    return pd.Series(rename_dict[name] if name in rename_dict else name)\n",
    "\n",
    "parse_df['Region/City'] = parse_df.reset_index().groupby('index').apply(rename).reset_index(drop=True)"
   ]
  },
  {
   "cell_type": "code",
   "execution_count": 44,
   "metadata": {},
   "outputs": [],
   "source": [
    "# Minus a day from now if needed\n",
    "parse_df['Date'] = pd.to_datetime(parse_df['Date'])\n",
    "# parse_df['Date'] = parse_df['Date'] - pd.Timedelta(days=1)"
   ]
  },
  {
   "cell_type": "code",
   "execution_count": 45,
   "metadata": {},
   "outputs": [],
   "source": [
    "# Fit day-columns\n",
    "def upd(row):\n",
    "    reg = row['Region/City']\n",
    "    \n",
    "    row['Day-Confirmed'] = row['Confirmed'] - rus_df[rus_df['Region/City'] == reg]['Confirmed'].max()\n",
    "    row['Day-Deaths']    = row['Deaths'] - rus_df[rus_df['Region/City'] == reg]['Deaths'].max()\n",
    "    row['Day-Recovered'] = row['Recovered'] - rus_df[rus_df['Region/City'] == reg]['Recovered'].max()\n",
    "    \n",
    "    row['Day-Confirmed'] = row['Confirmed'] if np.isnan(row['Day-Confirmed']) else row['Day-Confirmed']\n",
    "    row['Day-Deaths']    = row['Deaths'] if np.isnan(row['Day-Deaths']) else row['Day-Deaths']\n",
    "    row['Day-Recovered'] = row['Recovered'] if np.isnan(row['Day-Recovered']) else row['Day-Recovered']\n",
    "    \n",
    "    return row.drop('Region/City')\n",
    "\n",
    "parse_df = parse_df.groupby('Region/City').apply(lambda df: upd(df.iloc[0])).reset_index()"
   ]
  },
  {
   "cell_type": "code",
   "execution_count": 46,
   "metadata": {},
   "outputs": [
    {
     "output_type": "execute_result",
     "data": {
      "text/plain": "Empty DataFrame\nColumns: [Region/City, Confirmed, Date, Deaths, Recovered, Day-Confirmed, Day-Deaths, Day-Recovered]\nIndex: []",
      "text/html": "<div>\n<style scoped>\n    .dataframe tbody tr th:only-of-type {\n        vertical-align: middle;\n    }\n\n    .dataframe tbody tr th {\n        vertical-align: top;\n    }\n\n    .dataframe thead th {\n        text-align: right;\n    }\n</style>\n<table border=\"1\" class=\"dataframe\">\n  <thead>\n    <tr style=\"text-align: right;\">\n      <th></th>\n      <th>Region/City</th>\n      <th>Confirmed</th>\n      <th>Date</th>\n      <th>Deaths</th>\n      <th>Recovered</th>\n      <th>Day-Confirmed</th>\n      <th>Day-Deaths</th>\n      <th>Day-Recovered</th>\n    </tr>\n  </thead>\n  <tbody>\n  </tbody>\n</table>\n</div>"
     },
     "metadata": {},
     "execution_count": 46
    }
   ],
   "source": [
    "# Check for missed regions\n",
    "parse_df[np.isnan(parse_df['Day-Confirmed'])]"
   ]
  },
  {
   "cell_type": "markdown",
   "metadata": {},
   "source": [
    "# Data checking"
   ]
  },
  {
   "cell_type": "code",
   "execution_count": 47,
   "metadata": {
    "scrolled": true
   },
   "outputs": [
    {
     "output_type": "stream",
     "name": "stdout",
     "text": "Russia Confirmed: 336147.0 Day-Confirmed: 9431.0\nRussia Deaths: 3398.0 Day-Deaths: 129.0\nRussia Recovered: 108097.0 Day-Recovered: 8133.0\n"
    }
   ],
   "source": [
    "print('Russia Confirmed:', parse_df.groupby('Region/City')['Confirmed'].max().sum(),\n",
    "      'Day-Confirmed:', parse_df.groupby('Region/City')['Day-Confirmed'].sum().sum())\n",
    "print('Russia Deaths:', parse_df.groupby('Region/City')['Deaths'].max().sum(),\n",
    "      'Day-Deaths:', parse_df.groupby('Region/City')['Day-Deaths'].sum().sum())\n",
    "print('Russia Recovered:', parse_df.groupby('Region/City')['Recovered'].max().sum(),\n",
    "      'Day-Recovered:', parse_df.groupby('Region/City')['Day-Recovered'].sum().sum())\n",
    "\n",
    "# rus_regs = rus_sum.groupby('Region/City')['Recovered'].max().reset_index()\n",
    "# rus_regs['Recovered-ByDay'] = rus_sum.groupby('Region/City')['Day-Recovered'].sum().reset_index(drop=True)\n",
    "# rus_regs.loc[rus_regs['Recovered'] != rus_regs['Recovered-ByDay']]\n",
    "# # rus_regs.to_csv('rus_regs.csv')"
   ]
  },
  {
   "cell_type": "markdown",
   "metadata": {},
   "source": [
    "# Data saving"
   ]
  },
  {
   "cell_type": "code",
   "execution_count": 48,
   "metadata": {},
   "outputs": [],
   "source": [
    "# Save full snapshot of current day\n",
    "parse_df.to_csv(f'covid19-russia-cases-upd-full.csv', index=False)"
   ]
  },
  {
   "cell_type": "code",
   "execution_count": 49,
   "metadata": {},
   "outputs": [],
   "source": [
    "# Filter regions without changes\n",
    "parse_df = parse_df[(parse_df['Day-Confirmed'] != 0) |\n",
    "                (parse_df['Day-Deaths'] != 0) |\n",
    "                (parse_df['Day-Recovered'] != 0)]"
   ]
  },
  {
   "cell_type": "code",
   "execution_count": 50,
   "metadata": {},
   "outputs": [],
   "source": [
    "# Save parsed data for future use\n",
    "parse_df.to_csv(f'old_data/covid19-russia-cases-upd{DAY}-{MONTH}.csv', index=False)\n",
    "parse_df.to_csv('covid19-russia-cases-upd.csv', index=False)"
   ]
  }
 ],
 "metadata": {
  "kernelspec": {
   "display_name": "Python 3",
   "language": "python",
   "name": "python3"
  },
  "language_info": {
   "codemirror_mode": {
    "name": "ipython",
    "version": 3
   },
   "file_extension": ".py",
   "mimetype": "text/x-python",
   "name": "python",
   "nbconvert_exporter": "python",
   "pygments_lexer": "ipython3",
   "version": "3.7.6-final"
  }
 },
 "nbformat": 4,
 "nbformat_minor": 4
}