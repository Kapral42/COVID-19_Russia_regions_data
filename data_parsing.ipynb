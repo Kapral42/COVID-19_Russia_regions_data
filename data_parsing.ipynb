{
 "cells": [
  {
   "cell_type": "markdown",
   "metadata": {},
   "source": [
    "# Import"
   ]
  },
  {
   "cell_type": "code",
   "execution_count": 14,
   "metadata": {},
   "outputs": [],
   "source": [
    "import numpy as np\n",
    "import pandas as pd\n",
    "import datetime\n",
    "\n",
    "import sys, os\n",
    "sys.path.insert(0, os.path.abspath('scripts'))\n",
    "import rus_table_parser"
   ]
  },
  {
   "cell_type": "markdown",
   "metadata": {},
   "source": [
    "# Data parsing"
   ]
  },
  {
   "cell_type": "code",
   "execution_count": 15,
   "metadata": {},
   "outputs": [
    {
     "output_type": "execute_result",
     "data": {
      "text/plain": "    Confirmed        Date  Deaths  Recovered                 Region/City\n0    197018.0  2020-06-08  2970.0   104347.0                      Москва\n1     44983.0  2020-06-08   578.0    12031.0          Московская область\n2     18835.0  2020-06-08   392.0     7915.0             Санкт-Петербург\n3     12442.0  2020-06-08   140.0     4878.0       Нижегородская область\n4      7668.0  2020-06-08    43.0     3273.0        Свердловская область\n..        ...         ...     ...        ...                         ...\n80      204.0  2020-06-08     0.0       71.0         Сахалинская область\n81      180.0  2020-06-08     0.0      101.0            Республика Алтай\n82      177.0  2020-06-08     3.0      145.0                 Севастополь\n83      106.0  2020-06-08     1.0       65.0  Чукотский автономный округ\n84       80.0  2020-06-08     0.0       16.0   Ненецкий автономный округ\n\n[85 rows x 5 columns]",
      "text/html": "<div>\n<style scoped>\n    .dataframe tbody tr th:only-of-type {\n        vertical-align: middle;\n    }\n\n    .dataframe tbody tr th {\n        vertical-align: top;\n    }\n\n    .dataframe thead th {\n        text-align: right;\n    }\n</style>\n<table border=\"1\" class=\"dataframe\">\n  <thead>\n    <tr style=\"text-align: right;\">\n      <th></th>\n      <th>Confirmed</th>\n      <th>Date</th>\n      <th>Deaths</th>\n      <th>Recovered</th>\n      <th>Region/City</th>\n    </tr>\n  </thead>\n  <tbody>\n    <tr>\n      <th>0</th>\n      <td>197018.0</td>\n      <td>2020-06-08</td>\n      <td>2970.0</td>\n      <td>104347.0</td>\n      <td>Москва</td>\n    </tr>\n    <tr>\n      <th>1</th>\n      <td>44983.0</td>\n      <td>2020-06-08</td>\n      <td>578.0</td>\n      <td>12031.0</td>\n      <td>Московская область</td>\n    </tr>\n    <tr>\n      <th>2</th>\n      <td>18835.0</td>\n      <td>2020-06-08</td>\n      <td>392.0</td>\n      <td>7915.0</td>\n      <td>Санкт-Петербург</td>\n    </tr>\n    <tr>\n      <th>3</th>\n      <td>12442.0</td>\n      <td>2020-06-08</td>\n      <td>140.0</td>\n      <td>4878.0</td>\n      <td>Нижегородская область</td>\n    </tr>\n    <tr>\n      <th>4</th>\n      <td>7668.0</td>\n      <td>2020-06-08</td>\n      <td>43.0</td>\n      <td>3273.0</td>\n      <td>Свердловская область</td>\n    </tr>\n    <tr>\n      <th>...</th>\n      <td>...</td>\n      <td>...</td>\n      <td>...</td>\n      <td>...</td>\n      <td>...</td>\n    </tr>\n    <tr>\n      <th>80</th>\n      <td>204.0</td>\n      <td>2020-06-08</td>\n      <td>0.0</td>\n      <td>71.0</td>\n      <td>Сахалинская область</td>\n    </tr>\n    <tr>\n      <th>81</th>\n      <td>180.0</td>\n      <td>2020-06-08</td>\n      <td>0.0</td>\n      <td>101.0</td>\n      <td>Республика Алтай</td>\n    </tr>\n    <tr>\n      <th>82</th>\n      <td>177.0</td>\n      <td>2020-06-08</td>\n      <td>3.0</td>\n      <td>145.0</td>\n      <td>Севастополь</td>\n    </tr>\n    <tr>\n      <th>83</th>\n      <td>106.0</td>\n      <td>2020-06-08</td>\n      <td>1.0</td>\n      <td>65.0</td>\n      <td>Чукотский автономный округ</td>\n    </tr>\n    <tr>\n      <th>84</th>\n      <td>80.0</td>\n      <td>2020-06-08</td>\n      <td>0.0</td>\n      <td>16.0</td>\n      <td>Ненецкий автономный округ</td>\n    </tr>\n  </tbody>\n</table>\n<p>85 rows × 5 columns</p>\n</div>"
     },
     "metadata": {},
     "execution_count": 15
    }
   ],
   "source": [
    "DAY = datetime.datetime.now().strftime(\"%d\").lstrip('0')\n",
    "MONTH = datetime.datetime.now().strftime(\"%m\").lstrip('0')\n",
    "# DAY = 5\n",
    "# MONTH = 6\n",
    "\n",
    "# Save of \"https://coronavirus-monitor.ru/coronavirus-v-rossii/\" page\n",
    "path = f'html_data/{DAY}-{MONTH}/Коронавирус в России. Онлайн карта распространения коронавируса в России..html'\n",
    "parse_df = rus_table_parser.run_parsing(path)\n",
    "parse_df"
   ]
  },
  {
   "cell_type": "markdown",
   "metadata": {},
   "source": [
    "# Preparing parsed data"
   ]
  },
  {
   "cell_type": "code",
   "execution_count": 16,
   "metadata": {},
   "outputs": [
    {
     "output_type": "execute_result",
     "data": {
      "text/plain": "            Date                 Region/City                 Region/City-Eng  \\\n5505  2020-06-07         Ханты-Мансийский АО                 Khanty-Mansiysk   \n5506  2020-06-07        Чеченская Республика                Chechen Republic   \n5507  2020-06-07  Чукотский автономный округ       Chukotka Autonomous Okrug   \n5508  2020-06-07           Ямало-Ненецкий АО  Yamalo-Nenets Autonomous Okrug   \n5509  2020-06-07         Ярославская область                Yaroslavl region   \n\n      Region_ID  Day-Confirmed  Day-Deaths  Day-Recovered  Confirmed  Deaths  \\\n5505       86.0          115.0         0.0           14.0     3346.0    20.0   \n5506       95.0           19.0         0.0            2.0     1345.0    14.0   \n5507       87.0            4.0         0.0            2.0      106.0     1.0   \n5508       89.0           73.0         0.0           53.0     2694.0    11.0   \n5509       76.0           70.0         0.0            7.0     3646.0    15.0   \n\n      Recovered  \n5505     1126.0  \n5506      990.0  \n5507       65.0  \n5508     1429.0  \n5509     1176.0  ",
      "text/html": "<div>\n<style scoped>\n    .dataframe tbody tr th:only-of-type {\n        vertical-align: middle;\n    }\n\n    .dataframe tbody tr th {\n        vertical-align: top;\n    }\n\n    .dataframe thead th {\n        text-align: right;\n    }\n</style>\n<table border=\"1\" class=\"dataframe\">\n  <thead>\n    <tr style=\"text-align: right;\">\n      <th></th>\n      <th>Date</th>\n      <th>Region/City</th>\n      <th>Region/City-Eng</th>\n      <th>Region_ID</th>\n      <th>Day-Confirmed</th>\n      <th>Day-Deaths</th>\n      <th>Day-Recovered</th>\n      <th>Confirmed</th>\n      <th>Deaths</th>\n      <th>Recovered</th>\n    </tr>\n  </thead>\n  <tbody>\n    <tr>\n      <th>5505</th>\n      <td>2020-06-07</td>\n      <td>Ханты-Мансийский АО</td>\n      <td>Khanty-Mansiysk</td>\n      <td>86.0</td>\n      <td>115.0</td>\n      <td>0.0</td>\n      <td>14.0</td>\n      <td>3346.0</td>\n      <td>20.0</td>\n      <td>1126.0</td>\n    </tr>\n    <tr>\n      <th>5506</th>\n      <td>2020-06-07</td>\n      <td>Чеченская Республика</td>\n      <td>Chechen Republic</td>\n      <td>95.0</td>\n      <td>19.0</td>\n      <td>0.0</td>\n      <td>2.0</td>\n      <td>1345.0</td>\n      <td>14.0</td>\n      <td>990.0</td>\n    </tr>\n    <tr>\n      <th>5507</th>\n      <td>2020-06-07</td>\n      <td>Чукотский автономный округ</td>\n      <td>Chukotka Autonomous Okrug</td>\n      <td>87.0</td>\n      <td>4.0</td>\n      <td>0.0</td>\n      <td>2.0</td>\n      <td>106.0</td>\n      <td>1.0</td>\n      <td>65.0</td>\n    </tr>\n    <tr>\n      <th>5508</th>\n      <td>2020-06-07</td>\n      <td>Ямало-Ненецкий АО</td>\n      <td>Yamalo-Nenets Autonomous Okrug</td>\n      <td>89.0</td>\n      <td>73.0</td>\n      <td>0.0</td>\n      <td>53.0</td>\n      <td>2694.0</td>\n      <td>11.0</td>\n      <td>1429.0</td>\n    </tr>\n    <tr>\n      <th>5509</th>\n      <td>2020-06-07</td>\n      <td>Ярославская область</td>\n      <td>Yaroslavl region</td>\n      <td>76.0</td>\n      <td>70.0</td>\n      <td>0.0</td>\n      <td>7.0</td>\n      <td>3646.0</td>\n      <td>15.0</td>\n      <td>1176.0</td>\n    </tr>\n  </tbody>\n</table>\n</div>"
     },
     "metadata": {},
     "execution_count": 16
    }
   ],
   "source": [
    "file_name = 'release/covid19-russia-cases.csv'\n",
    "rus_df = pd.read_csv(file_name)\n",
    "rus_df.tail()"
   ]
  },
  {
   "cell_type": "code",
   "execution_count": 17,
   "metadata": {},
   "outputs": [],
   "source": [
    "# Create day-columns\n",
    "parse_df['Day-Confirmed'] = 0\n",
    "parse_df['Day-Deaths'] = 0\n",
    "parse_df['Day-Recovered'] = 0"
   ]
  },
  {
   "cell_type": "code",
   "execution_count": 18,
   "metadata": {},
   "outputs": [],
   "source": [
    "# Strip text data\n",
    "rus_df['Region/City'] = rus_df['Region/City'].astype('str').str.strip('\\u200b')\n",
    "parse_df['Region/City'] = parse_df['Region/City'].astype('str').str.strip('\\u200b')"
   ]
  },
  {
   "cell_type": "code",
   "execution_count": 19,
   "metadata": {},
   "outputs": [],
   "source": [
    "# Rename regions\n",
    "rename_dict = {\n",
    "    'Татарстан' : 'Республика Татарстан',\n",
    "    'Башкортостан' : 'Республика Башкортостан',\n",
    "    'Чувашская Республика': 'Республика Чувашия',\n",
    "    'Камчатский край' : 'Камчатский край',\n",
    "    'Ямало-Ненецкий автономный округ' : 'Ямало-Ненецкий АО',\n",
    "    'Республика Северная Осетия — Алания' : 'Республика Северная Осетия - Алания',\n",
    "    'Республика Алтай' : 'Республика Алтай'\n",
    "}\n",
    "\n",
    "parse_df['Region/City'] = parse_df['Region/City'].replace(rename_dict)"
   ]
  },
  {
   "cell_type": "code",
   "execution_count": 20,
   "metadata": {},
   "outputs": [],
   "source": [
    "parse_df['Date'] = pd.to_datetime(parse_df['Date'])\n",
    "# Minus a day from now if needed\n",
    "# parse_df['Date'] = parse_df['Date'] - pd.Timedelta(days=1)"
   ]
  },
  {
   "cell_type": "code",
   "execution_count": 21,
   "metadata": {},
   "outputs": [],
   "source": [
    "# Fit day-columns\n",
    "def upd(row):\n",
    "    reg = row['Region/City']\n",
    "    \n",
    "    row['Day-Confirmed'] = row['Confirmed'] - rus_df[rus_df['Region/City'] == reg]['Confirmed'].max()\n",
    "    row['Day-Deaths']    = row['Deaths'] - rus_df[rus_df['Region/City'] == reg]['Deaths'].max()\n",
    "    row['Day-Recovered'] = row['Recovered'] - rus_df[rus_df['Region/City'] == reg]['Recovered'].max()\n",
    "    \n",
    "    row['Day-Confirmed'] = row['Confirmed'] if np.isnan(row['Day-Confirmed']) else row['Day-Confirmed']\n",
    "    row['Day-Deaths']    = row['Deaths'] if np.isnan(row['Day-Deaths']) else row['Day-Deaths']\n",
    "    row['Day-Recovered'] = row['Recovered'] if np.isnan(row['Day-Recovered']) else row['Day-Recovered']\n",
    "    \n",
    "    return row.drop('Region/City')\n",
    "\n",
    "parse_df = parse_df.groupby('Region/City').apply(lambda df: upd(df.iloc[0])).reset_index()"
   ]
  },
  {
   "cell_type": "code",
   "execution_count": 22,
   "metadata": {},
   "outputs": [
    {
     "output_type": "execute_result",
     "data": {
      "text/plain": "Empty DataFrame\nColumns: [Region/City, Confirmed, Date, Deaths, Recovered, Day-Confirmed, Day-Deaths, Day-Recovered]\nIndex: []",
      "text/html": "<div>\n<style scoped>\n    .dataframe tbody tr th:only-of-type {\n        vertical-align: middle;\n    }\n\n    .dataframe tbody tr th {\n        vertical-align: top;\n    }\n\n    .dataframe thead th {\n        text-align: right;\n    }\n</style>\n<table border=\"1\" class=\"dataframe\">\n  <thead>\n    <tr style=\"text-align: right;\">\n      <th></th>\n      <th>Region/City</th>\n      <th>Confirmed</th>\n      <th>Date</th>\n      <th>Deaths</th>\n      <th>Recovered</th>\n      <th>Day-Confirmed</th>\n      <th>Day-Deaths</th>\n      <th>Day-Recovered</th>\n    </tr>\n  </thead>\n  <tbody>\n  </tbody>\n</table>\n</div>"
     },
     "metadata": {},
     "execution_count": 22
    }
   ],
   "source": [
    "# Check for missed regions\n",
    "parse_df[np.isnan(parse_df['Day-Confirmed'])]"
   ]
  },
  {
   "cell_type": "markdown",
   "metadata": {},
   "source": [
    "# Data checking"
   ]
  },
  {
   "cell_type": "code",
   "execution_count": 23,
   "metadata": {
    "scrolled": true
   },
   "outputs": [
    {
     "output_type": "stream",
     "name": "stdout",
     "text": "Russia Confirmed: 476768.0 Day-Confirmed: 8990.0\nRussia Deaths: 5997.0 Day-Deaths: 114.0\nRussia Recovered: 230938.0 Day-Recovered: 4044.0\n"
    }
   ],
   "source": [
    "print('Russia Confirmed:', parse_df.groupby('Region/City')['Confirmed'].max().sum(),\n",
    "      'Day-Confirmed:', parse_df.groupby('Region/City')['Day-Confirmed'].sum().sum())\n",
    "print('Russia Deaths:', parse_df.groupby('Region/City')['Deaths'].max().sum(),\n",
    "      'Day-Deaths:', parse_df.groupby('Region/City')['Day-Deaths'].sum().sum())\n",
    "print('Russia Recovered:', parse_df.groupby('Region/City')['Recovered'].max().sum(),\n",
    "      'Day-Recovered:', parse_df.groupby('Region/City')['Day-Recovered'].sum().sum())\n",
    "\n",
    "# rus_regs = rus_sum.groupby('Region/City')['Recovered'].max().reset_index()\n",
    "# rus_regs['Recovered-ByDay'] = rus_sum.groupby('Region/City')['Day-Recovered'].sum().reset_index(drop=True)\n",
    "# rus_regs.loc[rus_regs['Recovered'] != rus_regs['Recovered-ByDay']]\n",
    "# # rus_regs.to_csv('rus_regs.csv')"
   ]
  },
  {
   "cell_type": "markdown",
   "metadata": {},
   "source": [
    "# Data saving"
   ]
  },
  {
   "cell_type": "code",
   "execution_count": 24,
   "metadata": {},
   "outputs": [],
   "source": [
    "# Save full snapshot of current day\n",
    "parse_df.to_csv(f'covid19-russia-cases-upd-full.csv', index=False)"
   ]
  },
  {
   "cell_type": "code",
   "execution_count": 25,
   "metadata": {},
   "outputs": [],
   "source": [
    "# Filter regions without changes\n",
    "parse_df = parse_df[(parse_df['Day-Confirmed'] != 0) |\n",
    "                (parse_df['Day-Deaths'] != 0) |\n",
    "                (parse_df['Day-Recovered'] != 0)]"
   ]
  },
  {
   "cell_type": "code",
   "execution_count": 26,
   "metadata": {},
   "outputs": [],
   "source": [
    "# Save parsed data for future use\n",
    "parse_df.to_csv(f'old_data/covid19-russia-cases-upd{DAY}-{MONTH}.csv', index=False)\n",
    "parse_df.to_csv('covid19-russia-cases-upd.csv', index=False)"
   ]
  }
 ],
 "metadata": {
  "kernelspec": {
   "display_name": "Python 3",
   "language": "python",
   "name": "python3"
  },
  "language_info": {
   "codemirror_mode": {
    "name": "ipython",
    "version": 3
   },
   "file_extension": ".py",
   "mimetype": "text/x-python",
   "name": "python",
   "nbconvert_exporter": "python",
   "pygments_lexer": "ipython3",
   "version": "3.7.6-final"
  }
 },
 "nbformat": 4,
 "nbformat_minor": 4
}