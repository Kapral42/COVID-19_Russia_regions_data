{
 "cells": [
  {
   "cell_type": "markdown",
   "metadata": {},
   "source": [
    "# Import"
   ]
  },
  {
   "cell_type": "code",
   "execution_count": 74,
   "metadata": {},
   "outputs": [],
   "source": [
    "import numpy as np\n",
    "import pandas as pd\n",
    "import datetime\n",
    "\n",
    "import sys, os\n",
    "sys.path.insert(0, os.path.abspath('scripts'))\n",
    "import rus_table_parser"
   ]
  },
  {
   "cell_type": "markdown",
   "metadata": {},
   "source": [
    "# Data parsing"
   ]
  },
  {
   "cell_type": "code",
   "execution_count": 75,
   "metadata": {},
   "outputs": [
    {
     "output_type": "execute_result",
     "data": {
      "text/plain": "    Confirmed        Date  Deaths  Recovered                 Region/City\n0    180791.0  2020-05-31  2477.0    80179.0                      Москва\n1     38995.0  2020-05-31   449.0     8091.0          Московская область\n2     15949.0  2020-05-31   204.0     5680.0             Санкт-Петербург\n3      9834.0  2020-05-31    98.0     3693.0       Нижегородская область\n4      5449.0  2020-05-31    27.0     2173.0        Свердловская область\n..        ...         ...     ...        ...                         ...\n80      161.0  2020-05-31     3.0      131.0                 Севастополь\n81      122.0  2020-05-31     0.0       71.0            Республика Алтай\n82      115.0  2020-05-31     0.0       53.0         Сахалинская область\n83       80.0  2020-05-31     1.0       54.0  Чукотский автономный округ\n84       72.0  2020-05-31     0.0       12.0   Ненецкий автономный округ\n\n[85 rows x 5 columns]",
      "text/html": "<div>\n<style scoped>\n    .dataframe tbody tr th:only-of-type {\n        vertical-align: middle;\n    }\n\n    .dataframe tbody tr th {\n        vertical-align: top;\n    }\n\n    .dataframe thead th {\n        text-align: right;\n    }\n</style>\n<table border=\"1\" class=\"dataframe\">\n  <thead>\n    <tr style=\"text-align: right;\">\n      <th></th>\n      <th>Confirmed</th>\n      <th>Date</th>\n      <th>Deaths</th>\n      <th>Recovered</th>\n      <th>Region/City</th>\n    </tr>\n  </thead>\n  <tbody>\n    <tr>\n      <th>0</th>\n      <td>180791.0</td>\n      <td>2020-05-31</td>\n      <td>2477.0</td>\n      <td>80179.0</td>\n      <td>Москва</td>\n    </tr>\n    <tr>\n      <th>1</th>\n      <td>38995.0</td>\n      <td>2020-05-31</td>\n      <td>449.0</td>\n      <td>8091.0</td>\n      <td>Московская область</td>\n    </tr>\n    <tr>\n      <th>2</th>\n      <td>15949.0</td>\n      <td>2020-05-31</td>\n      <td>204.0</td>\n      <td>5680.0</td>\n      <td>Санкт-Петербург</td>\n    </tr>\n    <tr>\n      <th>3</th>\n      <td>9834.0</td>\n      <td>2020-05-31</td>\n      <td>98.0</td>\n      <td>3693.0</td>\n      <td>Нижегородская область</td>\n    </tr>\n    <tr>\n      <th>4</th>\n      <td>5449.0</td>\n      <td>2020-05-31</td>\n      <td>27.0</td>\n      <td>2173.0</td>\n      <td>Свердловская область</td>\n    </tr>\n    <tr>\n      <th>...</th>\n      <td>...</td>\n      <td>...</td>\n      <td>...</td>\n      <td>...</td>\n      <td>...</td>\n    </tr>\n    <tr>\n      <th>80</th>\n      <td>161.0</td>\n      <td>2020-05-31</td>\n      <td>3.0</td>\n      <td>131.0</td>\n      <td>Севастополь</td>\n    </tr>\n    <tr>\n      <th>81</th>\n      <td>122.0</td>\n      <td>2020-05-31</td>\n      <td>0.0</td>\n      <td>71.0</td>\n      <td>Республика Алтай</td>\n    </tr>\n    <tr>\n      <th>82</th>\n      <td>115.0</td>\n      <td>2020-05-31</td>\n      <td>0.0</td>\n      <td>53.0</td>\n      <td>Сахалинская область</td>\n    </tr>\n    <tr>\n      <th>83</th>\n      <td>80.0</td>\n      <td>2020-05-31</td>\n      <td>1.0</td>\n      <td>54.0</td>\n      <td>Чукотский автономный округ</td>\n    </tr>\n    <tr>\n      <th>84</th>\n      <td>72.0</td>\n      <td>2020-05-31</td>\n      <td>0.0</td>\n      <td>12.0</td>\n      <td>Ненецкий автономный округ</td>\n    </tr>\n  </tbody>\n</table>\n<p>85 rows × 5 columns</p>\n</div>"
     },
     "metadata": {},
     "execution_count": 75
    }
   ],
   "source": [
    "DAY = datetime.datetime.now().strftime(\"%d\").lstrip('0')\n",
    "MONTH = datetime.datetime.now().strftime(\"%m\").lstrip('0')\n",
    "# DAY = 25\n",
    "# MONTH = 5\n",
    "\n",
    "# Save of \"https://coronavirus-monitor.ru/coronavirus-v-rossii/\" page\n",
    "path = f'html_data/{DAY}-{MONTH}/Коронавирус в России. Онлайн карта распространения коронавируса в России..html'\n",
    "parse_df = rus_table_parser.run_parsing(path)\n",
    "parse_df"
   ]
  },
  {
   "cell_type": "markdown",
   "metadata": {},
   "source": [
    "# Preparing parsed data"
   ]
  },
  {
   "cell_type": "code",
   "execution_count": 76,
   "metadata": {},
   "outputs": [
    {
     "output_type": "execute_result",
     "data": {
      "text/plain": "            Date                 Region/City                 Region/City-Eng  \\\n4833  2020-05-30         Челябинская область              Chelyabinsk region   \n4834  2020-05-30        Чеченская Республика                Chechen Republic   \n4835  2020-05-30  Чукотский автономный округ       Chukotka Autonomous Okrug   \n4836  2020-05-30           Ямало-Ненецкий АО  Yamalo-Nenets Autonomous Okrug   \n4837  2020-05-30         Ярославская область                Yaroslavl region   \n\n      Region_ID  Day-Confirmed  Day-Deaths  Day-Recovered  Confirmed  Deaths  \\\n4833       74.0          292.0         2.0          152.0     2878.0    17.0   \n4834       95.0           17.0         0.0           38.0     1209.0    13.0   \n4835       87.0            5.0         0.0            3.0       78.0     1.0   \n4836       89.0           30.0         0.0           55.0     2310.0     9.0   \n4837       76.0           79.0         0.0           53.0     3055.0    14.0   \n\n      Recovered  \n4833     1258.0  \n4834      825.0  \n4835       53.0  \n4836      953.0  \n4837      751.0  ",
      "text/html": "<div>\n<style scoped>\n    .dataframe tbody tr th:only-of-type {\n        vertical-align: middle;\n    }\n\n    .dataframe tbody tr th {\n        vertical-align: top;\n    }\n\n    .dataframe thead th {\n        text-align: right;\n    }\n</style>\n<table border=\"1\" class=\"dataframe\">\n  <thead>\n    <tr style=\"text-align: right;\">\n      <th></th>\n      <th>Date</th>\n      <th>Region/City</th>\n      <th>Region/City-Eng</th>\n      <th>Region_ID</th>\n      <th>Day-Confirmed</th>\n      <th>Day-Deaths</th>\n      <th>Day-Recovered</th>\n      <th>Confirmed</th>\n      <th>Deaths</th>\n      <th>Recovered</th>\n    </tr>\n  </thead>\n  <tbody>\n    <tr>\n      <th>4833</th>\n      <td>2020-05-30</td>\n      <td>Челябинская область</td>\n      <td>Chelyabinsk region</td>\n      <td>74.0</td>\n      <td>292.0</td>\n      <td>2.0</td>\n      <td>152.0</td>\n      <td>2878.0</td>\n      <td>17.0</td>\n      <td>1258.0</td>\n    </tr>\n    <tr>\n      <th>4834</th>\n      <td>2020-05-30</td>\n      <td>Чеченская Республика</td>\n      <td>Chechen Republic</td>\n      <td>95.0</td>\n      <td>17.0</td>\n      <td>0.0</td>\n      <td>38.0</td>\n      <td>1209.0</td>\n      <td>13.0</td>\n      <td>825.0</td>\n    </tr>\n    <tr>\n      <th>4835</th>\n      <td>2020-05-30</td>\n      <td>Чукотский автономный округ</td>\n      <td>Chukotka Autonomous Okrug</td>\n      <td>87.0</td>\n      <td>5.0</td>\n      <td>0.0</td>\n      <td>3.0</td>\n      <td>78.0</td>\n      <td>1.0</td>\n      <td>53.0</td>\n    </tr>\n    <tr>\n      <th>4836</th>\n      <td>2020-05-30</td>\n      <td>Ямало-Ненецкий АО</td>\n      <td>Yamalo-Nenets Autonomous Okrug</td>\n      <td>89.0</td>\n      <td>30.0</td>\n      <td>0.0</td>\n      <td>55.0</td>\n      <td>2310.0</td>\n      <td>9.0</td>\n      <td>953.0</td>\n    </tr>\n    <tr>\n      <th>4837</th>\n      <td>2020-05-30</td>\n      <td>Ярославская область</td>\n      <td>Yaroslavl region</td>\n      <td>76.0</td>\n      <td>79.0</td>\n      <td>0.0</td>\n      <td>53.0</td>\n      <td>3055.0</td>\n      <td>14.0</td>\n      <td>751.0</td>\n    </tr>\n  </tbody>\n</table>\n</div>"
     },
     "metadata": {},
     "execution_count": 76
    }
   ],
   "source": [
    "file_name = 'release/covid19-russia-cases.csv'\n",
    "rus_df = pd.read_csv(file_name)\n",
    "rus_df.tail()"
   ]
  },
  {
   "cell_type": "code",
   "execution_count": 77,
   "metadata": {},
   "outputs": [],
   "source": [
    "# Create day-columns\n",
    "parse_df['Day-Confirmed'] = 0\n",
    "parse_df['Day-Deaths'] = 0\n",
    "parse_df['Day-Recovered'] = 0"
   ]
  },
  {
   "cell_type": "code",
   "execution_count": 78,
   "metadata": {},
   "outputs": [],
   "source": [
    "# Strip text data\n",
    "rus_df['Region/City'] = rus_df['Region/City'].astype('str').str.strip('\\u200b')\n",
    "parse_df['Region/City'] = parse_df['Region/City'].astype('str').str.strip('\\u200b')"
   ]
  },
  {
   "cell_type": "code",
   "execution_count": 79,
   "metadata": {},
   "outputs": [],
   "source": [
    "# Rename regions\n",
    "rename_dict = {\n",
    "    'Татарстан' : 'Республика Татарстан',\n",
    "    'Башкортостан' : 'Республика Башкортостан',\n",
    "    'Чувашская Республика': 'Республика Чувашия',\n",
    "    'Камчатский край' : 'Камчатский край',\n",
    "    'Ямало-Ненецкий автономный округ' : 'Ямало-Ненецкий АО',\n",
    "    'Республика Северная Осетия — Алания' : 'Республика Северная Осетия - Алания',\n",
    "    'Республика Алтай' : 'Республика Алтай'\n",
    "}\n",
    "\n",
    "parse_df['Region/City'] = parse_df['Region/City'].replace(rename_dict)"
   ]
  },
  {
   "cell_type": "code",
   "execution_count": 80,
   "metadata": {},
   "outputs": [],
   "source": [
    "parse_df['Date'] = pd.to_datetime(parse_df['Date'])\n",
    "# Minus a day from now if needed\n",
    "# parse_df['Date'] = parse_df['Date'] - pd.Timedelta(days=1)"
   ]
  },
  {
   "cell_type": "code",
   "execution_count": 81,
   "metadata": {},
   "outputs": [],
   "source": [
    "# Fit day-columns\n",
    "def upd(row):\n",
    "    reg = row['Region/City']\n",
    "    \n",
    "    row['Day-Confirmed'] = row['Confirmed'] - rus_df[rus_df['Region/City'] == reg]['Confirmed'].max()\n",
    "    row['Day-Deaths']    = row['Deaths'] - rus_df[rus_df['Region/City'] == reg]['Deaths'].max()\n",
    "    row['Day-Recovered'] = row['Recovered'] - rus_df[rus_df['Region/City'] == reg]['Recovered'].max()\n",
    "    \n",
    "    row['Day-Confirmed'] = row['Confirmed'] if np.isnan(row['Day-Confirmed']) else row['Day-Confirmed']\n",
    "    row['Day-Deaths']    = row['Deaths'] if np.isnan(row['Day-Deaths']) else row['Day-Deaths']\n",
    "    row['Day-Recovered'] = row['Recovered'] if np.isnan(row['Day-Recovered']) else row['Day-Recovered']\n",
    "    \n",
    "    return row.drop('Region/City')\n",
    "\n",
    "parse_df = parse_df.groupby('Region/City').apply(lambda df: upd(df.iloc[0])).reset_index()"
   ]
  },
  {
   "cell_type": "code",
   "execution_count": 82,
   "metadata": {},
   "outputs": [
    {
     "output_type": "execute_result",
     "data": {
      "text/plain": "Empty DataFrame\nColumns: [Region/City, Confirmed, Date, Deaths, Recovered, Day-Confirmed, Day-Deaths, Day-Recovered]\nIndex: []",
      "text/html": "<div>\n<style scoped>\n    .dataframe tbody tr th:only-of-type {\n        vertical-align: middle;\n    }\n\n    .dataframe tbody tr th {\n        vertical-align: top;\n    }\n\n    .dataframe thead th {\n        text-align: right;\n    }\n</style>\n<table border=\"1\" class=\"dataframe\">\n  <thead>\n    <tr style=\"text-align: right;\">\n      <th></th>\n      <th>Region/City</th>\n      <th>Confirmed</th>\n      <th>Date</th>\n      <th>Deaths</th>\n      <th>Recovered</th>\n      <th>Day-Confirmed</th>\n      <th>Day-Deaths</th>\n      <th>Day-Recovered</th>\n    </tr>\n  </thead>\n  <tbody>\n  </tbody>\n</table>\n</div>"
     },
     "metadata": {},
     "execution_count": 82
    }
   ],
   "source": [
    "# Check for missed regions\n",
    "parse_df[np.isnan(parse_df['Day-Confirmed'])]"
   ]
  },
  {
   "cell_type": "markdown",
   "metadata": {},
   "source": [
    "# Data checking"
   ]
  },
  {
   "cell_type": "code",
   "execution_count": 83,
   "metadata": {
    "scrolled": true
   },
   "outputs": [
    {
     "output_type": "stream",
     "name": "stdout",
     "text": "Russia Confirmed: 405926.0 Day-Confirmed: 9013.0\nRussia Deaths: 4698.0 Day-Deaths: 140.0\nRussia Recovered: 172046.0 Day-Recovered: 4363.0\n"
    }
   ],
   "source": [
    "print('Russia Confirmed:', parse_df.groupby('Region/City')['Confirmed'].max().sum(),\n",
    "      'Day-Confirmed:', parse_df.groupby('Region/City')['Day-Confirmed'].sum().sum())\n",
    "print('Russia Deaths:', parse_df.groupby('Region/City')['Deaths'].max().sum(),\n",
    "      'Day-Deaths:', parse_df.groupby('Region/City')['Day-Deaths'].sum().sum())\n",
    "print('Russia Recovered:', parse_df.groupby('Region/City')['Recovered'].max().sum(),\n",
    "      'Day-Recovered:', parse_df.groupby('Region/City')['Day-Recovered'].sum().sum())\n",
    "\n",
    "# rus_regs = rus_sum.groupby('Region/City')['Recovered'].max().reset_index()\n",
    "# rus_regs['Recovered-ByDay'] = rus_sum.groupby('Region/City')['Day-Recovered'].sum().reset_index(drop=True)\n",
    "# rus_regs.loc[rus_regs['Recovered'] != rus_regs['Recovered-ByDay']]\n",
    "# # rus_regs.to_csv('rus_regs.csv')"
   ]
  },
  {
   "cell_type": "markdown",
   "metadata": {},
   "source": [
    "# Data saving"
   ]
  },
  {
   "cell_type": "code",
   "execution_count": 84,
   "metadata": {},
   "outputs": [],
   "source": [
    "# Save full snapshot of current day\n",
    "parse_df.to_csv(f'covid19-russia-cases-upd-full.csv', index=False)"
   ]
  },
  {
   "cell_type": "code",
   "execution_count": 85,
   "metadata": {},
   "outputs": [],
   "source": [
    "# Filter regions without changes\n",
    "parse_df = parse_df[(parse_df['Day-Confirmed'] != 0) |\n",
    "                (parse_df['Day-Deaths'] != 0) |\n",
    "                (parse_df['Day-Recovered'] != 0)]"
   ]
  },
  {
   "cell_type": "code",
   "execution_count": 86,
   "metadata": {},
   "outputs": [],
   "source": [
    "# Save parsed data for future use\n",
    "parse_df.to_csv(f'old_data/covid19-russia-cases-upd{DAY}-{MONTH}.csv', index=False)\n",
    "parse_df.to_csv('covid19-russia-cases-upd.csv', index=False)"
   ]
  }
 ],
 "metadata": {
  "kernelspec": {
   "display_name": "Python 3",
   "language": "python",
   "name": "python3"
  },
  "language_info": {
   "codemirror_mode": {
    "name": "ipython",
    "version": 3
   },
   "file_extension": ".py",
   "mimetype": "text/x-python",
   "name": "python",
   "nbconvert_exporter": "python",
   "pygments_lexer": "ipython3",
   "version": "3.7.6-final"
  }
 },
 "nbformat": 4,
 "nbformat_minor": 4
}