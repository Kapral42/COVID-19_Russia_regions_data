{
 "cells": [
  {
   "cell_type": "markdown",
   "metadata": {},
   "source": [
    "# Import"
   ]
  },
  {
   "cell_type": "code",
   "execution_count": 27,
   "metadata": {},
   "outputs": [],
   "source": [
    "import numpy as np\n",
    "import pandas as pd\n",
    "import datetime\n",
    "\n",
    "import sys, os\n",
    "sys.path.insert(0, os.path.abspath('scripts'))\n",
    "import rus_table_parser"
   ]
  },
  {
   "cell_type": "markdown",
   "metadata": {},
   "source": [
    "# Data parsing"
   ]
  },
  {
   "cell_type": "code",
   "execution_count": 28,
   "metadata": {},
   "outputs": [
    {
     "output_type": "execute_result",
     "data": {
      "text/plain": "    Confirmed        Date  Deaths  Recovered                 Region/City\n0    201221.0  2020-06-11  3138.0   115769.0                      Москва\n1     47181.0  2020-06-11   644.0    14187.0          Московская область\n2     19769.0  2020-06-11   520.0     8864.0             Санкт-Петербург\n3     13341.0  2020-06-11   152.0     6219.0       Нижегородская область\n4      8506.0  2020-06-11    48.0     3790.0        Свердловская область\n..        ...         ...     ...        ...                         ...\n80      264.0  2020-06-11     0.0       71.0         Сахалинская область\n81      212.0  2020-06-11     0.0      111.0            Республика Алтай\n82      178.0  2020-06-11     3.0      151.0                 Севастополь\n83      114.0  2020-06-11     1.0       70.0  Чукотский автономный округ\n84       80.0  2020-06-11     0.0       26.0   Ненецкий автономный округ\n\n[85 rows x 5 columns]",
      "text/html": "<div>\n<style scoped>\n    .dataframe tbody tr th:only-of-type {\n        vertical-align: middle;\n    }\n\n    .dataframe tbody tr th {\n        vertical-align: top;\n    }\n\n    .dataframe thead th {\n        text-align: right;\n    }\n</style>\n<table border=\"1\" class=\"dataframe\">\n  <thead>\n    <tr style=\"text-align: right;\">\n      <th></th>\n      <th>Confirmed</th>\n      <th>Date</th>\n      <th>Deaths</th>\n      <th>Recovered</th>\n      <th>Region/City</th>\n    </tr>\n  </thead>\n  <tbody>\n    <tr>\n      <th>0</th>\n      <td>201221.0</td>\n      <td>2020-06-11</td>\n      <td>3138.0</td>\n      <td>115769.0</td>\n      <td>Москва</td>\n    </tr>\n    <tr>\n      <th>1</th>\n      <td>47181.0</td>\n      <td>2020-06-11</td>\n      <td>644.0</td>\n      <td>14187.0</td>\n      <td>Московская область</td>\n    </tr>\n    <tr>\n      <th>2</th>\n      <td>19769.0</td>\n      <td>2020-06-11</td>\n      <td>520.0</td>\n      <td>8864.0</td>\n      <td>Санкт-Петербург</td>\n    </tr>\n    <tr>\n      <th>3</th>\n      <td>13341.0</td>\n      <td>2020-06-11</td>\n      <td>152.0</td>\n      <td>6219.0</td>\n      <td>Нижегородская область</td>\n    </tr>\n    <tr>\n      <th>4</th>\n      <td>8506.0</td>\n      <td>2020-06-11</td>\n      <td>48.0</td>\n      <td>3790.0</td>\n      <td>Свердловская область</td>\n    </tr>\n    <tr>\n      <th>...</th>\n      <td>...</td>\n      <td>...</td>\n      <td>...</td>\n      <td>...</td>\n      <td>...</td>\n    </tr>\n    <tr>\n      <th>80</th>\n      <td>264.0</td>\n      <td>2020-06-11</td>\n      <td>0.0</td>\n      <td>71.0</td>\n      <td>Сахалинская область</td>\n    </tr>\n    <tr>\n      <th>81</th>\n      <td>212.0</td>\n      <td>2020-06-11</td>\n      <td>0.0</td>\n      <td>111.0</td>\n      <td>Республика Алтай</td>\n    </tr>\n    <tr>\n      <th>82</th>\n      <td>178.0</td>\n      <td>2020-06-11</td>\n      <td>3.0</td>\n      <td>151.0</td>\n      <td>Севастополь</td>\n    </tr>\n    <tr>\n      <th>83</th>\n      <td>114.0</td>\n      <td>2020-06-11</td>\n      <td>1.0</td>\n      <td>70.0</td>\n      <td>Чукотский автономный округ</td>\n    </tr>\n    <tr>\n      <th>84</th>\n      <td>80.0</td>\n      <td>2020-06-11</td>\n      <td>0.0</td>\n      <td>26.0</td>\n      <td>Ненецкий автономный округ</td>\n    </tr>\n  </tbody>\n</table>\n<p>85 rows × 5 columns</p>\n</div>"
     },
     "metadata": {},
     "execution_count": 28
    }
   ],
   "source": [
    "DAY = datetime.datetime.now().strftime(\"%d\").lstrip('0')\n",
    "MONTH = datetime.datetime.now().strftime(\"%m\").lstrip('0')\n",
    "# DAY = 9\n",
    "# MONTH = 6\n",
    "\n",
    "# Save of \"https://coronavirus-monitor.ru/coronavirus-v-rossii/\" page\n",
    "path = f'html_data/{DAY}-{MONTH}/Коронавирус в России. Онлайн карта распространения коронавируса в России..html'\n",
    "parse_df = rus_table_parser.run_parsing(path)\n",
    "parse_df"
   ]
  },
  {
   "cell_type": "markdown",
   "metadata": {},
   "source": [
    "# Preparing parsed data"
   ]
  },
  {
   "cell_type": "code",
   "execution_count": 29,
   "metadata": {},
   "outputs": [
    {
     "output_type": "execute_result",
     "data": {
      "text/plain": "            Date                 Region/City                 Region/City-Eng  \\\n5755  2020-06-10         Ханты-Мансийский АО                 Khanty-Mansiysk   \n5756  2020-06-10        Чеченская Республика                Chechen Republic   \n5757  2020-06-10  Чукотский автономный округ       Chukotka Autonomous Okrug   \n5758  2020-06-10           Ямало-Ненецкий АО  Yamalo-Nenets Autonomous Okrug   \n5759  2020-06-10         Ярославская область                Yaroslavl region   \n\n      Region_ID  Day-Confirmed  Day-Deaths  Day-Recovered  Confirmed  Deaths  \\\n5755       86.0          197.0         2.0          264.0     3821.0    23.0   \n5756       95.0           16.0         0.0           49.0     1400.0    16.0   \n5757       87.0            2.0         0.0            1.0      112.0     1.0   \n5758       89.0           54.0         0.0            7.0     2887.0    13.0   \n5759       76.0           63.0         0.0          142.0     3844.0    15.0   \n\n      Recovered  \n5755     1468.0  \n5756     1073.0  \n5757       69.0  \n5758     1482.0  \n5759     1452.0  ",
      "text/html": "<div>\n<style scoped>\n    .dataframe tbody tr th:only-of-type {\n        vertical-align: middle;\n    }\n\n    .dataframe tbody tr th {\n        vertical-align: top;\n    }\n\n    .dataframe thead th {\n        text-align: right;\n    }\n</style>\n<table border=\"1\" class=\"dataframe\">\n  <thead>\n    <tr style=\"text-align: right;\">\n      <th></th>\n      <th>Date</th>\n      <th>Region/City</th>\n      <th>Region/City-Eng</th>\n      <th>Region_ID</th>\n      <th>Day-Confirmed</th>\n      <th>Day-Deaths</th>\n      <th>Day-Recovered</th>\n      <th>Confirmed</th>\n      <th>Deaths</th>\n      <th>Recovered</th>\n    </tr>\n  </thead>\n  <tbody>\n    <tr>\n      <th>5755</th>\n      <td>2020-06-10</td>\n      <td>Ханты-Мансийский АО</td>\n      <td>Khanty-Mansiysk</td>\n      <td>86.0</td>\n      <td>197.0</td>\n      <td>2.0</td>\n      <td>264.0</td>\n      <td>3821.0</td>\n      <td>23.0</td>\n      <td>1468.0</td>\n    </tr>\n    <tr>\n      <th>5756</th>\n      <td>2020-06-10</td>\n      <td>Чеченская Республика</td>\n      <td>Chechen Republic</td>\n      <td>95.0</td>\n      <td>16.0</td>\n      <td>0.0</td>\n      <td>49.0</td>\n      <td>1400.0</td>\n      <td>16.0</td>\n      <td>1073.0</td>\n    </tr>\n    <tr>\n      <th>5757</th>\n      <td>2020-06-10</td>\n      <td>Чукотский автономный округ</td>\n      <td>Chukotka Autonomous Okrug</td>\n      <td>87.0</td>\n      <td>2.0</td>\n      <td>0.0</td>\n      <td>1.0</td>\n      <td>112.0</td>\n      <td>1.0</td>\n      <td>69.0</td>\n    </tr>\n    <tr>\n      <th>5758</th>\n      <td>2020-06-10</td>\n      <td>Ямало-Ненецкий АО</td>\n      <td>Yamalo-Nenets Autonomous Okrug</td>\n      <td>89.0</td>\n      <td>54.0</td>\n      <td>0.0</td>\n      <td>7.0</td>\n      <td>2887.0</td>\n      <td>13.0</td>\n      <td>1482.0</td>\n    </tr>\n    <tr>\n      <th>5759</th>\n      <td>2020-06-10</td>\n      <td>Ярославская область</td>\n      <td>Yaroslavl region</td>\n      <td>76.0</td>\n      <td>63.0</td>\n      <td>0.0</td>\n      <td>142.0</td>\n      <td>3844.0</td>\n      <td>15.0</td>\n      <td>1452.0</td>\n    </tr>\n  </tbody>\n</table>\n</div>"
     },
     "metadata": {},
     "execution_count": 29
    }
   ],
   "source": [
    "file_name = 'release/covid19-russia-cases.csv'\n",
    "rus_df = pd.read_csv(file_name)\n",
    "rus_df.tail()"
   ]
  },
  {
   "cell_type": "code",
   "execution_count": 30,
   "metadata": {},
   "outputs": [],
   "source": [
    "# Create day-columns\n",
    "parse_df['Day-Confirmed'] = 0\n",
    "parse_df['Day-Deaths'] = 0\n",
    "parse_df['Day-Recovered'] = 0"
   ]
  },
  {
   "cell_type": "code",
   "execution_count": 31,
   "metadata": {},
   "outputs": [],
   "source": [
    "# Strip text data\n",
    "rus_df['Region/City'] = rus_df['Region/City'].astype('str').str.strip('\\u200b')\n",
    "parse_df['Region/City'] = parse_df['Region/City'].astype('str').str.strip('\\u200b')"
   ]
  },
  {
   "cell_type": "code",
   "execution_count": 32,
   "metadata": {},
   "outputs": [],
   "source": [
    "# Rename regions\n",
    "rename_dict = {\n",
    "    'Татарстан' : 'Республика Татарстан',\n",
    "    'Башкортостан' : 'Республика Башкортостан',\n",
    "    'Чувашская Республика': 'Республика Чувашия',\n",
    "    'Камчатский край' : 'Камчатский край',\n",
    "    'Ямало-Ненецкий автономный округ' : 'Ямало-Ненецкий АО',\n",
    "    'Республика Северная Осетия — Алания' : 'Республика Северная Осетия - Алания',\n",
    "    'Республика Алтай' : 'Республика Алтай'\n",
    "}\n",
    "\n",
    "parse_df['Region/City'] = parse_df['Region/City'].replace(rename_dict)"
   ]
  },
  {
   "cell_type": "code",
   "execution_count": 33,
   "metadata": {},
   "outputs": [],
   "source": [
    "parse_df['Date'] = pd.to_datetime(parse_df['Date'])\n",
    "# Minus a day from now if needed\n",
    "# parse_df['Date'] = parse_df['Date'] - pd.Timedelta(days=1)"
   ]
  },
  {
   "cell_type": "code",
   "execution_count": 34,
   "metadata": {},
   "outputs": [],
   "source": [
    "# Fit day-columns\n",
    "def upd(row):\n",
    "    reg = row['Region/City']\n",
    "    \n",
    "    row['Day-Confirmed'] = row['Confirmed'] - rus_df[rus_df['Region/City'] == reg]['Confirmed'].max()\n",
    "    row['Day-Deaths']    = row['Deaths'] - rus_df[rus_df['Region/City'] == reg]['Deaths'].max()\n",
    "    row['Day-Recovered'] = row['Recovered'] - rus_df[rus_df['Region/City'] == reg]['Recovered'].max()\n",
    "    \n",
    "    row['Day-Confirmed'] = row['Confirmed'] if np.isnan(row['Day-Confirmed']) else row['Day-Confirmed']\n",
    "    row['Day-Deaths']    = row['Deaths'] if np.isnan(row['Day-Deaths']) else row['Day-Deaths']\n",
    "    row['Day-Recovered'] = row['Recovered'] if np.isnan(row['Day-Recovered']) else row['Day-Recovered']\n",
    "    \n",
    "    return row.drop('Region/City')\n",
    "\n",
    "parse_df = parse_df.groupby('Region/City').apply(lambda df: upd(df.iloc[0])).reset_index()"
   ]
  },
  {
   "cell_type": "code",
   "execution_count": 35,
   "metadata": {},
   "outputs": [
    {
     "output_type": "execute_result",
     "data": {
      "text/plain": "Empty DataFrame\nColumns: [Region/City, Confirmed, Date, Deaths, Recovered, Day-Confirmed, Day-Deaths, Day-Recovered]\nIndex: []",
      "text/html": "<div>\n<style scoped>\n    .dataframe tbody tr th:only-of-type {\n        vertical-align: middle;\n    }\n\n    .dataframe tbody tr th {\n        vertical-align: top;\n    }\n\n    .dataframe thead th {\n        text-align: right;\n    }\n</style>\n<table border=\"1\" class=\"dataframe\">\n  <thead>\n    <tr style=\"text-align: right;\">\n      <th></th>\n      <th>Region/City</th>\n      <th>Confirmed</th>\n      <th>Date</th>\n      <th>Deaths</th>\n      <th>Recovered</th>\n      <th>Day-Confirmed</th>\n      <th>Day-Deaths</th>\n      <th>Day-Recovered</th>\n    </tr>\n  </thead>\n  <tbody>\n  </tbody>\n</table>\n</div>"
     },
     "metadata": {},
     "execution_count": 35
    }
   ],
   "source": [
    "# Check for missed regions\n",
    "parse_df[np.isnan(parse_df['Day-Confirmed'])]"
   ]
  },
  {
   "cell_type": "markdown",
   "metadata": {},
   "source": [
    "# Data checking"
   ]
  },
  {
   "cell_type": "code",
   "execution_count": 36,
   "metadata": {
    "scrolled": true
   },
   "outputs": [
    {
     "output_type": "stream",
     "name": "stdout",
     "text": "Russia Confirmed: 502436.0 Day-Confirmed: 8665.0\nRussia Deaths: 6559.0 Day-Deaths: 174.0\nRussia Recovered: 261173.0 Day-Recovered: 8350.0\n"
    }
   ],
   "source": [
    "print('Russia Confirmed:', parse_df.groupby('Region/City')['Confirmed'].max().sum(),\n",
    "      'Day-Confirmed:', parse_df.groupby('Region/City')['Day-Confirmed'].sum().sum())\n",
    "print('Russia Deaths:', parse_df.groupby('Region/City')['Deaths'].max().sum(),\n",
    "      'Day-Deaths:', parse_df.groupby('Region/City')['Day-Deaths'].sum().sum())\n",
    "print('Russia Recovered:', parse_df.groupby('Region/City')['Recovered'].max().sum(),\n",
    "      'Day-Recovered:', parse_df.groupby('Region/City')['Day-Recovered'].sum().sum())\n",
    "\n",
    "# rus_regs = rus_sum.groupby('Region/City')['Recovered'].max().reset_index()\n",
    "# rus_regs['Recovered-ByDay'] = rus_sum.groupby('Region/City')['Day-Recovered'].sum().reset_index(drop=True)\n",
    "# rus_regs.loc[rus_regs['Recovered'] != rus_regs['Recovered-ByDay']]\n",
    "# # rus_regs.to_csv('rus_regs.csv')"
   ]
  },
  {
   "cell_type": "markdown",
   "metadata": {},
   "source": [
    "# Data saving"
   ]
  },
  {
   "cell_type": "code",
   "execution_count": 37,
   "metadata": {},
   "outputs": [],
   "source": [
    "# Save full snapshot of current day\n",
    "parse_df.to_csv(f'covid19-russia-cases-upd-full.csv', index=False)"
   ]
  },
  {
   "cell_type": "code",
   "execution_count": 38,
   "metadata": {},
   "outputs": [],
   "source": [
    "# Filter regions without changes\n",
    "parse_df = parse_df[(parse_df['Day-Confirmed'] != 0) |\n",
    "                (parse_df['Day-Deaths'] != 0) |\n",
    "                (parse_df['Day-Recovered'] != 0)]"
   ]
  },
  {
   "cell_type": "code",
   "execution_count": 39,
   "metadata": {},
   "outputs": [],
   "source": [
    "# Save parsed data for future use\n",
    "parse_df.to_csv(f'old_data/covid19-russia-cases-upd{DAY}-{MONTH}.csv', index=False)\n",
    "parse_df.to_csv('covid19-russia-cases-upd.csv', index=False)"
   ]
  }
 ],
 "metadata": {
  "kernelspec": {
   "display_name": "Python 3",
   "language": "python",
   "name": "python3"
  },
  "language_info": {
   "codemirror_mode": {
    "name": "ipython",
    "version": 3
   },
   "file_extension": ".py",
   "mimetype": "text/x-python",
   "name": "python",
   "nbconvert_exporter": "python",
   "pygments_lexer": "ipython3",
   "version": "3.7.6-final"
  }
 },
 "nbformat": 4,
 "nbformat_minor": 4
}