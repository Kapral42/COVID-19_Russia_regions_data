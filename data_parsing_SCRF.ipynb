{
 "cells": [
  {
   "cell_type": "code",
   "execution_count": 25,
   "metadata": {},
   "outputs": [],
   "source": [
    "import numpy as np\n",
    "import pandas as pd\n",
    "import datetime\n",
    "import sys, os"
   ]
  },
  {
   "cell_type": "markdown",
   "metadata": {},
   "source": [
    "# Data parsing"
   ]
  },
  {
   "cell_type": "code",
   "execution_count": 26,
   "metadata": {},
   "outputs": [
    {
     "output_type": "execute_result",
     "data": {
      "text/plain": "                  Регион  Выявлено  Новые  \\\n0                 Москва    163913   2516   \n1     Московская область     33515    862   \n2        Санкт-Петербург     13339    384   \n3  Нижегородская область      8047    221   \n4    Республика Дагестан      4095    113   \n\n   Активные  ?  Число больных в настоящее время  Выздоровело  Умерло  \n0                                        112080        49840    1993  \n1                                         27666         5520     329  \n2                                          9754         3452     133  \n3                                          5584         2398      65  \n4                                           744         3267      84  ",
      "text/html": "<div>\n<style scoped>\n    .dataframe tbody tr th:only-of-type {\n        vertical-align: middle;\n    }\n\n    .dataframe tbody tr th {\n        vertical-align: top;\n    }\n\n    .dataframe thead th {\n        text-align: right;\n    }\n</style>\n<table border=\"1\" class=\"dataframe\">\n  <thead>\n    <tr style=\"text-align: right;\">\n      <th></th>\n      <th>Регион</th>\n      <th>Выявлено</th>\n      <th>Новые</th>\n      <th>Активные  ?  Число больных в настоящее время</th>\n      <th>Выздоровело</th>\n      <th>Умерло</th>\n    </tr>\n  </thead>\n  <tbody>\n    <tr>\n      <th>0</th>\n      <td>Москва</td>\n      <td>163913</td>\n      <td>2516</td>\n      <td>112080</td>\n      <td>49840</td>\n      <td>1993</td>\n    </tr>\n    <tr>\n      <th>1</th>\n      <td>Московская область</td>\n      <td>33515</td>\n      <td>862</td>\n      <td>27666</td>\n      <td>5520</td>\n      <td>329</td>\n    </tr>\n    <tr>\n      <th>2</th>\n      <td>Санкт-Петербург</td>\n      <td>13339</td>\n      <td>384</td>\n      <td>9754</td>\n      <td>3452</td>\n      <td>133</td>\n    </tr>\n    <tr>\n      <th>3</th>\n      <td>Нижегородская область</td>\n      <td>8047</td>\n      <td>221</td>\n      <td>5584</td>\n      <td>2398</td>\n      <td>65</td>\n    </tr>\n    <tr>\n      <th>4</th>\n      <td>Республика Дагестан</td>\n      <td>4095</td>\n      <td>113</td>\n      <td>744</td>\n      <td>3267</td>\n      <td>84</td>\n    </tr>\n  </tbody>\n</table>\n</div>"
     },
     "metadata": {},
     "execution_count": 26
    }
   ],
   "source": [
    "# Parse html file\n",
    "DAY = datetime.datetime.now().strftime(\"%d\").lstrip('0')\n",
    "MONTH = datetime.datetime.now().strftime(\"%m\").lstrip('0')\n",
    "# SUB = '/scrf'\n",
    "SUB = ''\n",
    "file_name = 'Оперативные данные _ Коронавирус COVID–19_ Официальная информация о коронавирусе в России на портале – стопкоронавирус.рф.html'\n",
    "\n",
    "# Save of \"https://xn--80aesfpebagmfblc0a.xn--p1ai/information/\" page\n",
    "path = f'html_data/{DAY}-{MONTH}{SUB}/{file_name}'\n",
    "parse_df = pd.read_html(path, encoding='utf-8')[0]\n",
    "\n",
    "parse_df.head()"
   ]
  },
  {
   "cell_type": "code",
   "execution_count": 27,
   "metadata": {},
   "outputs": [
    {
     "output_type": "execute_result",
     "data": {
      "text/plain": "                   Region/City  Confirmed  Recovered  Deaths        Date\n0                       Москва     163913      49840    1993  2020-05-24\n1           Московская область      33515       5520     329  2020-05-24\n2              Санкт-Петербург      13339       3452     133  2020-05-24\n3        Нижегородская область       8047       2398      65  2020-05-24\n4          Республика Дагестан       4095       3267      84  2020-05-24\n..                         ...        ...        ...     ...         ...\n80                 Севастополь        155        114       2  2020-05-24\n81            Республика Алтай         95         47       0  2020-05-24\n82         Сахалинская область         68         36       0  2020-05-24\n83   Ненецкий автономный округ         62         10       0  2020-05-24\n84  Чукотский автономный округ         59         32       1  2020-05-24\n\n[85 rows x 5 columns]",
      "text/html": "<div>\n<style scoped>\n    .dataframe tbody tr th:only-of-type {\n        vertical-align: middle;\n    }\n\n    .dataframe tbody tr th {\n        vertical-align: top;\n    }\n\n    .dataframe thead th {\n        text-align: right;\n    }\n</style>\n<table border=\"1\" class=\"dataframe\">\n  <thead>\n    <tr style=\"text-align: right;\">\n      <th></th>\n      <th>Region/City</th>\n      <th>Confirmed</th>\n      <th>Recovered</th>\n      <th>Deaths</th>\n      <th>Date</th>\n    </tr>\n  </thead>\n  <tbody>\n    <tr>\n      <th>0</th>\n      <td>Москва</td>\n      <td>163913</td>\n      <td>49840</td>\n      <td>1993</td>\n      <td>2020-05-24</td>\n    </tr>\n    <tr>\n      <th>1</th>\n      <td>Московская область</td>\n      <td>33515</td>\n      <td>5520</td>\n      <td>329</td>\n      <td>2020-05-24</td>\n    </tr>\n    <tr>\n      <th>2</th>\n      <td>Санкт-Петербург</td>\n      <td>13339</td>\n      <td>3452</td>\n      <td>133</td>\n      <td>2020-05-24</td>\n    </tr>\n    <tr>\n      <th>3</th>\n      <td>Нижегородская область</td>\n      <td>8047</td>\n      <td>2398</td>\n      <td>65</td>\n      <td>2020-05-24</td>\n    </tr>\n    <tr>\n      <th>4</th>\n      <td>Республика Дагестан</td>\n      <td>4095</td>\n      <td>3267</td>\n      <td>84</td>\n      <td>2020-05-24</td>\n    </tr>\n    <tr>\n      <th>...</th>\n      <td>...</td>\n      <td>...</td>\n      <td>...</td>\n      <td>...</td>\n      <td>...</td>\n    </tr>\n    <tr>\n      <th>80</th>\n      <td>Севастополь</td>\n      <td>155</td>\n      <td>114</td>\n      <td>2</td>\n      <td>2020-05-24</td>\n    </tr>\n    <tr>\n      <th>81</th>\n      <td>Республика Алтай</td>\n      <td>95</td>\n      <td>47</td>\n      <td>0</td>\n      <td>2020-05-24</td>\n    </tr>\n    <tr>\n      <th>82</th>\n      <td>Сахалинская область</td>\n      <td>68</td>\n      <td>36</td>\n      <td>0</td>\n      <td>2020-05-24</td>\n    </tr>\n    <tr>\n      <th>83</th>\n      <td>Ненецкий автономный округ</td>\n      <td>62</td>\n      <td>10</td>\n      <td>0</td>\n      <td>2020-05-24</td>\n    </tr>\n    <tr>\n      <th>84</th>\n      <td>Чукотский автономный округ</td>\n      <td>59</td>\n      <td>32</td>\n      <td>1</td>\n      <td>2020-05-24</td>\n    </tr>\n  </tbody>\n</table>\n<p>85 rows × 5 columns</p>\n</div>"
     },
     "metadata": {},
     "execution_count": 27
    }
   ],
   "source": [
    "# Modifi data frame\n",
    "parse_df = parse_df.drop(parse_df.columns[2:4] , axis=1)\n",
    "parse_df.columns = ['Region/City', 'Confirmed', 'Recovered', 'Deaths']\n",
    "parse_df['Date'] = datetime.datetime.now().strftime(\"%Y-%m-%d\")\n",
    "parse_df"
   ]
  },
  {
   "cell_type": "markdown",
   "metadata": {},
   "source": [
    "# Preparing parsed data"
   ]
  },
  {
   "cell_type": "code",
   "execution_count": 28,
   "metadata": {},
   "outputs": [
    {
     "output_type": "execute_result",
     "data": {
      "text/plain": "            Date                 Region/City                 Region/City-Eng  \\\n4242  2020-05-23         Челябинская область              Chelyabinsk region   \n4243  2020-05-23        Чеченская Республика                Chechen Republic   \n4244  2020-05-23  Чукотский автономный округ       Chukotka Autonomous Okrug   \n4245  2020-05-23           Ямало-Ненецкий АО  Yamalo-Nenets Autonomous Okrug   \n4246  2020-05-23         Ярославская область                Yaroslavl region   \n\n      Region_ID  Day-Confirmed  Day-Deaths  Day-Recovered  Confirmed  Deaths  \\\n4242       74.0           80.0         0.0           29.0     2073.0    11.0   \n4243       95.0           20.0         1.0           16.0     1066.0    12.0   \n4244       87.0            2.0         1.0            6.0       58.0     1.0   \n4245       89.0           36.0         0.0          288.0     2025.0     5.0   \n4246       76.0          115.0         0.0           49.0     2424.0    13.0   \n\n      Recovered  \n4242      754.0  \n4243      659.0  \n4244       30.0  \n4245      686.0  \n4246      493.0  ",
      "text/html": "<div>\n<style scoped>\n    .dataframe tbody tr th:only-of-type {\n        vertical-align: middle;\n    }\n\n    .dataframe tbody tr th {\n        vertical-align: top;\n    }\n\n    .dataframe thead th {\n        text-align: right;\n    }\n</style>\n<table border=\"1\" class=\"dataframe\">\n  <thead>\n    <tr style=\"text-align: right;\">\n      <th></th>\n      <th>Date</th>\n      <th>Region/City</th>\n      <th>Region/City-Eng</th>\n      <th>Region_ID</th>\n      <th>Day-Confirmed</th>\n      <th>Day-Deaths</th>\n      <th>Day-Recovered</th>\n      <th>Confirmed</th>\n      <th>Deaths</th>\n      <th>Recovered</th>\n    </tr>\n  </thead>\n  <tbody>\n    <tr>\n      <th>4242</th>\n      <td>2020-05-23</td>\n      <td>Челябинская область</td>\n      <td>Chelyabinsk region</td>\n      <td>74.0</td>\n      <td>80.0</td>\n      <td>0.0</td>\n      <td>29.0</td>\n      <td>2073.0</td>\n      <td>11.0</td>\n      <td>754.0</td>\n    </tr>\n    <tr>\n      <th>4243</th>\n      <td>2020-05-23</td>\n      <td>Чеченская Республика</td>\n      <td>Chechen Republic</td>\n      <td>95.0</td>\n      <td>20.0</td>\n      <td>1.0</td>\n      <td>16.0</td>\n      <td>1066.0</td>\n      <td>12.0</td>\n      <td>659.0</td>\n    </tr>\n    <tr>\n      <th>4244</th>\n      <td>2020-05-23</td>\n      <td>Чукотский автономный округ</td>\n      <td>Chukotka Autonomous Okrug</td>\n      <td>87.0</td>\n      <td>2.0</td>\n      <td>1.0</td>\n      <td>6.0</td>\n      <td>58.0</td>\n      <td>1.0</td>\n      <td>30.0</td>\n    </tr>\n    <tr>\n      <th>4245</th>\n      <td>2020-05-23</td>\n      <td>Ямало-Ненецкий АО</td>\n      <td>Yamalo-Nenets Autonomous Okrug</td>\n      <td>89.0</td>\n      <td>36.0</td>\n      <td>0.0</td>\n      <td>288.0</td>\n      <td>2025.0</td>\n      <td>5.0</td>\n      <td>686.0</td>\n    </tr>\n    <tr>\n      <th>4246</th>\n      <td>2020-05-23</td>\n      <td>Ярославская область</td>\n      <td>Yaroslavl region</td>\n      <td>76.0</td>\n      <td>115.0</td>\n      <td>0.0</td>\n      <td>49.0</td>\n      <td>2424.0</td>\n      <td>13.0</td>\n      <td>493.0</td>\n    </tr>\n  </tbody>\n</table>\n</div>"
     },
     "metadata": {},
     "execution_count": 28
    }
   ],
   "source": [
    "file_name = 'release/covid19-russia-cases-scrf.csv'\n",
    "rus_df = pd.read_csv(file_name)\n",
    "rus_df.tail()"
   ]
  },
  {
   "cell_type": "code",
   "execution_count": 29,
   "metadata": {},
   "outputs": [],
   "source": [
    "# Add day columns\n",
    "parse_df['Day-Confirmed'] = 0\n",
    "parse_df['Day-Deaths'] = 0\n",
    "parse_df['Day-Recovered'] = 0\n",
    "\n",
    "# Strip text data\n",
    "rus_df['Region/City'] = rus_df['Region/City'].astype('str').str.strip('\\u200b') \n",
    "parse_df['Region/City'] = parse_df['Region/City'].astype('str').str.strip('\\u200b')\n",
    "\n",
    "# Rename regions\n",
    "rename_dict = {\n",
    "    'Ямало-Ненецкий автономный округ' : 'Ямало-Ненецкий АО',\n",
    "    'Республика Северная Осетия — Алания' : 'Республика Северная Осетия - Алания',\n",
    "}\n",
    "\n",
    "def rename(row):\n",
    "    name = row['Region/City'][0]\n",
    "    return pd.Series(rename_dict[name] if name in rename_dict else name)\n",
    "\n",
    "parse_df['Region/City'] = parse_df.reset_index().groupby('index').apply(rename).reset_index(drop=True)"
   ]
  },
  {
   "cell_type": "code",
   "execution_count": 30,
   "metadata": {},
   "outputs": [],
   "source": [
    "parse_df['Date'] = pd.to_datetime(parse_df['Date'])\n",
    "# Minus a day if needed\n",
    "# parse_df['Date'] = parse_df['Date'] - pd.Timedelta(days=1)"
   ]
  },
  {
   "cell_type": "code",
   "execution_count": 31,
   "metadata": {},
   "outputs": [],
   "source": [
    "def upd(row):\n",
    "    reg = row['Region/City']\n",
    "    \n",
    "    row['Day-Confirmed'] = row['Confirmed'] - rus_df[rus_df['Region/City'] == reg]['Day-Confirmed'].sum()\n",
    "    row['Day-Deaths']    = row['Deaths'] - rus_df[rus_df['Region/City'] == reg]['Day-Deaths'].sum()\n",
    "    row['Day-Recovered'] = row['Recovered'] - rus_df[rus_df['Region/City'] == reg]['Day-Recovered'].sum()\n",
    "    \n",
    "    row['Day-Confirmed'] = row['Confirmed'] if np.isnan(row['Day-Confirmed']) else row['Day-Confirmed']\n",
    "    row['Day-Deaths']    = row['Deaths'] if np.isnan(row['Day-Deaths']) else row['Day-Deaths']\n",
    "    row['Day-Recovered'] = row['Recovered'] if np.isnan(row['Day-Recovered']) else row['Day-Recovered']\n",
    "    \n",
    "    return row.drop('Region/City')\n",
    "\n",
    "parse_df = parse_df.groupby('Region/City').apply(lambda df: upd(df.iloc[0])).reset_index()"
   ]
  },
  {
   "cell_type": "code",
   "execution_count": 32,
   "metadata": {},
   "outputs": [
    {
     "output_type": "execute_result",
     "data": {
      "text/plain": "Empty DataFrame\nColumns: [Region/City, Confirmed, Recovered, Deaths, Date, Day-Confirmed, Day-Deaths, Day-Recovered]\nIndex: []",
      "text/html": "<div>\n<style scoped>\n    .dataframe tbody tr th:only-of-type {\n        vertical-align: middle;\n    }\n\n    .dataframe tbody tr th {\n        vertical-align: top;\n    }\n\n    .dataframe thead th {\n        text-align: right;\n    }\n</style>\n<table border=\"1\" class=\"dataframe\">\n  <thead>\n    <tr style=\"text-align: right;\">\n      <th></th>\n      <th>Region/City</th>\n      <th>Confirmed</th>\n      <th>Recovered</th>\n      <th>Deaths</th>\n      <th>Date</th>\n      <th>Day-Confirmed</th>\n      <th>Day-Deaths</th>\n      <th>Day-Recovered</th>\n    </tr>\n  </thead>\n  <tbody>\n  </tbody>\n</table>\n</div>"
     },
     "metadata": {},
     "execution_count": 32
    }
   ],
   "source": [
    "# Check for missed regions\n",
    "parse_df[np.isnan(parse_df['Day-Confirmed'])]"
   ]
  },
  {
   "cell_type": "markdown",
   "metadata": {},
   "source": [
    "# Data checking"
   ]
  },
  {
   "cell_type": "code",
   "execution_count": 33,
   "metadata": {},
   "outputs": [
    {
     "output_type": "stream",
     "name": "stdout",
     "text": "Russia Confirmed: 344481 Day-Confirmed: 8599.0\nRussia Deaths: 3541 Day-Deaths: 153.0\nRussia Recovered: 113299 Day-Recovered: 5363.0\n"
    }
   ],
   "source": [
    "print('Russia Confirmed:', parse_df.groupby('Region/City')['Confirmed'].max().sum(),\n",
    "      'Day-Confirmed:', parse_df.groupby('Region/City')['Day-Confirmed'].sum().sum())\n",
    "print('Russia Deaths:', parse_df.groupby('Region/City')['Deaths'].max().sum(),\n",
    "      'Day-Deaths:', parse_df.groupby('Region/City')['Day-Deaths'].sum().sum())\n",
    "print('Russia Recovered:', parse_df.groupby('Region/City')['Recovered'].max().sum(),\n",
    "      'Day-Recovered:', parse_df.groupby('Region/City')['Day-Recovered'].sum().sum())\n",
    "\n",
    "# rus_regs = rus_sum.groupby('Region/City')['Recovered'].max().reset_index()\n",
    "# rus_regs['Recovered-ByDay'] = rus_sum.groupby('Region/City')['Day-Recovered'].sum().reset_index(drop=True)\n",
    "# rus_regs.loc[rus_regs['Recovered'] != rus_regs['Recovered-ByDay']]\n",
    "# # rus_regs.to_csv('rus_regs.csv')"
   ]
  },
  {
   "cell_type": "markdown",
   "metadata": {},
   "source": [
    "# Data saving"
   ]
  },
  {
   "cell_type": "code",
   "execution_count": 34,
   "metadata": {},
   "outputs": [],
   "source": [
    "# Save full update table\n",
    "parse_df.to_csv(f'covid19-russia-cases-upd-full-scrf.csv', index=False)"
   ]
  },
  {
   "cell_type": "code",
   "execution_count": 35,
   "metadata": {},
   "outputs": [],
   "source": [
    "# Drop rows without day changes\n",
    "parse_df = parse_df[(parse_df['Day-Confirmed'] != 0) |\n",
    "                (parse_df['Day-Deaths'] != 0) |\n",
    "                (parse_df['Day-Recovered'] != 0)]"
   ]
  },
  {
   "cell_type": "code",
   "execution_count": 36,
   "metadata": {},
   "outputs": [],
   "source": [
    "parse_df.to_csv(f'old_data/covid19-russia-cases-upd{DAY}-{MONTH}-scrf.csv', index=False)\n",
    "parse_df.to_csv('covid19-russia-cases-upd-scrf.csv', index=False)"
   ]
  }
 ],
 "metadata": {
  "language_info": {
   "codemirror_mode": {
    "name": "ipython",
    "version": 3
   },
   "file_extension": ".py",
   "mimetype": "text/x-python",
   "name": "python",
   "nbconvert_exporter": "python",
   "pygments_lexer": "ipython3",
   "version": "3.7.6-final"
  },
  "orig_nbformat": 2,
  "kernelspec": {
   "name": "python3",
   "display_name": "Python 3"
  }
 },
 "nbformat": 4,
 "nbformat_minor": 2
}