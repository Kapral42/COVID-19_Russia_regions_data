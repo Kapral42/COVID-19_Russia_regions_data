{
 "cells": [
  {
   "cell_type": "code",
   "execution_count": 74,
   "metadata": {},
   "outputs": [],
   "source": [
    "import numpy as np\n",
    "import pandas as pd\n",
    "import datetime\n",
    "import sys, os"
   ]
  },
  {
   "cell_type": "markdown",
   "metadata": {},
   "source": [
    "# Data parsing"
   ]
  },
  {
   "cell_type": "code",
   "execution_count": 75,
   "metadata": {},
   "outputs": [
    {
     "output_type": "execute_result",
     "data": {
      "text/plain": "                  Регион  Выявлено  Новые  \\\n0                 Москва    183088   2297   \n1     Московская область     39723    728   \n2        Санкт-Петербург     16313    364   \n3  Нижегородская область     10149    315   \n4   Свердловская область      5732    283   \n\n   Активные  ?  Число больных в настоящее время  Выздоровело  Умерло  \n0                                         98296        82239    2553  \n1                                         30828         8422     473  \n2                                         10352         5748     213  \n3                                          6298         3747     104  \n4                                          3366         2337      29  ",
      "text/html": "<div>\n<style scoped>\n    .dataframe tbody tr th:only-of-type {\n        vertical-align: middle;\n    }\n\n    .dataframe tbody tr th {\n        vertical-align: top;\n    }\n\n    .dataframe thead th {\n        text-align: right;\n    }\n</style>\n<table border=\"1\" class=\"dataframe\">\n  <thead>\n    <tr style=\"text-align: right;\">\n      <th></th>\n      <th>Регион</th>\n      <th>Выявлено</th>\n      <th>Новые</th>\n      <th>Активные  ?  Число больных в настоящее время</th>\n      <th>Выздоровело</th>\n      <th>Умерло</th>\n    </tr>\n  </thead>\n  <tbody>\n    <tr>\n      <th>0</th>\n      <td>Москва</td>\n      <td>183088</td>\n      <td>2297</td>\n      <td>98296</td>\n      <td>82239</td>\n      <td>2553</td>\n    </tr>\n    <tr>\n      <th>1</th>\n      <td>Московская область</td>\n      <td>39723</td>\n      <td>728</td>\n      <td>30828</td>\n      <td>8422</td>\n      <td>473</td>\n    </tr>\n    <tr>\n      <th>2</th>\n      <td>Санкт-Петербург</td>\n      <td>16313</td>\n      <td>364</td>\n      <td>10352</td>\n      <td>5748</td>\n      <td>213</td>\n    </tr>\n    <tr>\n      <th>3</th>\n      <td>Нижегородская область</td>\n      <td>10149</td>\n      <td>315</td>\n      <td>6298</td>\n      <td>3747</td>\n      <td>104</td>\n    </tr>\n    <tr>\n      <th>4</th>\n      <td>Свердловская область</td>\n      <td>5732</td>\n      <td>283</td>\n      <td>3366</td>\n      <td>2337</td>\n      <td>29</td>\n    </tr>\n  </tbody>\n</table>\n</div>"
     },
     "metadata": {},
     "execution_count": 75
    }
   ],
   "source": [
    "# Parse html file\n",
    "DAY = datetime.datetime.now().strftime(\"%d\").lstrip('0')\n",
    "MONTH = datetime.datetime.now().strftime(\"%m\").lstrip('0')\n",
    "# DAY = 20\n",
    "# MONTH = 5\n",
    "# SUB = '/scrf'\n",
    "SUB = ''\n",
    "file_name = 'Оперативные данные _ Коронавирус COVID–19_ Официальная информация о коронавирусе в России на портале – стопкоронавирус.рф.html'\n",
    "\n",
    "# Save of \"https://xn--80aesfpebagmfblc0a.xn--p1ai/information/\" page\n",
    "path = f'html_data/{DAY}-{MONTH}{SUB}/{file_name}'\n",
    "parse_df = pd.read_html(path, encoding='utf-8')[0]\n",
    "\n",
    "parse_df.head()"
   ]
  },
  {
   "cell_type": "code",
   "execution_count": 76,
   "metadata": {},
   "outputs": [
    {
     "output_type": "execute_result",
     "data": {
      "text/plain": "                   Region/City  Confirmed  Recovered  Deaths        Date\n0                       Москва     183088      82239    2553  2020-06-01\n1           Московская область      39723       8422     473  2020-06-01\n2              Санкт-Петербург      16313       5748     213  2020-06-01\n3        Нижегородская область      10149       3747     104  2020-06-01\n4         Свердловская область       5732       2337      29  2020-06-01\n..                         ...        ...        ...     ...         ...\n80                 Севастополь        165        134       3  2020-06-01\n81            Республика Алтай        132         74       0  2020-06-01\n82         Сахалинская область        118         53       0  2020-06-01\n83  Чукотский автономный округ         80         55       1  2020-06-01\n84   Ненецкий автономный округ         73         12       0  2020-06-01\n\n[85 rows x 5 columns]",
      "text/html": "<div>\n<style scoped>\n    .dataframe tbody tr th:only-of-type {\n        vertical-align: middle;\n    }\n\n    .dataframe tbody tr th {\n        vertical-align: top;\n    }\n\n    .dataframe thead th {\n        text-align: right;\n    }\n</style>\n<table border=\"1\" class=\"dataframe\">\n  <thead>\n    <tr style=\"text-align: right;\">\n      <th></th>\n      <th>Region/City</th>\n      <th>Confirmed</th>\n      <th>Recovered</th>\n      <th>Deaths</th>\n      <th>Date</th>\n    </tr>\n  </thead>\n  <tbody>\n    <tr>\n      <th>0</th>\n      <td>Москва</td>\n      <td>183088</td>\n      <td>82239</td>\n      <td>2553</td>\n      <td>2020-06-01</td>\n    </tr>\n    <tr>\n      <th>1</th>\n      <td>Московская область</td>\n      <td>39723</td>\n      <td>8422</td>\n      <td>473</td>\n      <td>2020-06-01</td>\n    </tr>\n    <tr>\n      <th>2</th>\n      <td>Санкт-Петербург</td>\n      <td>16313</td>\n      <td>5748</td>\n      <td>213</td>\n      <td>2020-06-01</td>\n    </tr>\n    <tr>\n      <th>3</th>\n      <td>Нижегородская область</td>\n      <td>10149</td>\n      <td>3747</td>\n      <td>104</td>\n      <td>2020-06-01</td>\n    </tr>\n    <tr>\n      <th>4</th>\n      <td>Свердловская область</td>\n      <td>5732</td>\n      <td>2337</td>\n      <td>29</td>\n      <td>2020-06-01</td>\n    </tr>\n    <tr>\n      <th>...</th>\n      <td>...</td>\n      <td>...</td>\n      <td>...</td>\n      <td>...</td>\n      <td>...</td>\n    </tr>\n    <tr>\n      <th>80</th>\n      <td>Севастополь</td>\n      <td>165</td>\n      <td>134</td>\n      <td>3</td>\n      <td>2020-06-01</td>\n    </tr>\n    <tr>\n      <th>81</th>\n      <td>Республика Алтай</td>\n      <td>132</td>\n      <td>74</td>\n      <td>0</td>\n      <td>2020-06-01</td>\n    </tr>\n    <tr>\n      <th>82</th>\n      <td>Сахалинская область</td>\n      <td>118</td>\n      <td>53</td>\n      <td>0</td>\n      <td>2020-06-01</td>\n    </tr>\n    <tr>\n      <th>83</th>\n      <td>Чукотский автономный округ</td>\n      <td>80</td>\n      <td>55</td>\n      <td>1</td>\n      <td>2020-06-01</td>\n    </tr>\n    <tr>\n      <th>84</th>\n      <td>Ненецкий автономный округ</td>\n      <td>73</td>\n      <td>12</td>\n      <td>0</td>\n      <td>2020-06-01</td>\n    </tr>\n  </tbody>\n</table>\n<p>85 rows × 5 columns</p>\n</div>"
     },
     "metadata": {},
     "execution_count": 76
    }
   ],
   "source": [
    "# Modifi data frame\n",
    "parse_df = parse_df.drop(parse_df.columns[2:4] , axis=1)\n",
    "parse_df.columns = ['Region/City', 'Confirmed', 'Recovered', 'Deaths']\n",
    "parse_df['Date'] = datetime.datetime.now().strftime(\"%Y-%m-%d\")\n",
    "parse_df"
   ]
  },
  {
   "cell_type": "markdown",
   "metadata": {},
   "source": [
    "# Preparing parsed data"
   ]
  },
  {
   "cell_type": "code",
   "execution_count": 77,
   "metadata": {},
   "outputs": [
    {
     "output_type": "execute_result",
     "data": {
      "text/plain": "            Date                 Region/City                 Region/City-Eng  \\\n6900  2020-05-31         Челябинская область              Chelyabinsk region   \n6901  2020-05-31        Чеченская Республика                Chechen Republic   \n6902  2020-05-31  Чукотский автономный округ       Chukotka Autonomous Okrug   \n6903  2020-05-31           Ямало-Ненецкий АО  Yamalo-Nenets Autonomous Okrug   \n6904  2020-05-31         Ярославская область                Yaroslavl region   \n\n      Region_ID  Day-Confirmed  Day-Deaths  Day-Recovered  Confirmed  Deaths  \\\n6900       74.0          136.0         0.0           78.0     2795.0    16.0   \n6901       95.0           18.0         0.0            3.0     1227.0    13.0   \n6902       87.0            2.0         0.0            1.0       80.0     1.0   \n6903       89.0           65.0         0.0           22.0     2375.0     9.0   \n6904       76.0           77.0         0.0            5.0     3132.0    14.0   \n\n      Recovered  \n6900     1258.0  \n6901      828.0  \n6902       54.0  \n6903      975.0  \n6904      756.0  ",
      "text/html": "<div>\n<style scoped>\n    .dataframe tbody tr th:only-of-type {\n        vertical-align: middle;\n    }\n\n    .dataframe tbody tr th {\n        vertical-align: top;\n    }\n\n    .dataframe thead th {\n        text-align: right;\n    }\n</style>\n<table border=\"1\" class=\"dataframe\">\n  <thead>\n    <tr style=\"text-align: right;\">\n      <th></th>\n      <th>Date</th>\n      <th>Region/City</th>\n      <th>Region/City-Eng</th>\n      <th>Region_ID</th>\n      <th>Day-Confirmed</th>\n      <th>Day-Deaths</th>\n      <th>Day-Recovered</th>\n      <th>Confirmed</th>\n      <th>Deaths</th>\n      <th>Recovered</th>\n    </tr>\n  </thead>\n  <tbody>\n    <tr>\n      <th>6900</th>\n      <td>2020-05-31</td>\n      <td>Челябинская область</td>\n      <td>Chelyabinsk region</td>\n      <td>74.0</td>\n      <td>136.0</td>\n      <td>0.0</td>\n      <td>78.0</td>\n      <td>2795.0</td>\n      <td>16.0</td>\n      <td>1258.0</td>\n    </tr>\n    <tr>\n      <th>6901</th>\n      <td>2020-05-31</td>\n      <td>Чеченская Республика</td>\n      <td>Chechen Republic</td>\n      <td>95.0</td>\n      <td>18.0</td>\n      <td>0.0</td>\n      <td>3.0</td>\n      <td>1227.0</td>\n      <td>13.0</td>\n      <td>828.0</td>\n    </tr>\n    <tr>\n      <th>6902</th>\n      <td>2020-05-31</td>\n      <td>Чукотский автономный округ</td>\n      <td>Chukotka Autonomous Okrug</td>\n      <td>87.0</td>\n      <td>2.0</td>\n      <td>0.0</td>\n      <td>1.0</td>\n      <td>80.0</td>\n      <td>1.0</td>\n      <td>54.0</td>\n    </tr>\n    <tr>\n      <th>6903</th>\n      <td>2020-05-31</td>\n      <td>Ямало-Ненецкий АО</td>\n      <td>Yamalo-Nenets Autonomous Okrug</td>\n      <td>89.0</td>\n      <td>65.0</td>\n      <td>0.0</td>\n      <td>22.0</td>\n      <td>2375.0</td>\n      <td>9.0</td>\n      <td>975.0</td>\n    </tr>\n    <tr>\n      <th>6904</th>\n      <td>2020-05-31</td>\n      <td>Ярославская область</td>\n      <td>Yaroslavl region</td>\n      <td>76.0</td>\n      <td>77.0</td>\n      <td>0.0</td>\n      <td>5.0</td>\n      <td>3132.0</td>\n      <td>14.0</td>\n      <td>756.0</td>\n    </tr>\n  </tbody>\n</table>\n</div>"
     },
     "metadata": {},
     "execution_count": 77
    }
   ],
   "source": [
    "file_name = 'release/covid19-russia-cases-scrf.csv'\n",
    "rus_df = pd.read_csv(file_name)\n",
    "rus_df.tail()"
   ]
  },
  {
   "cell_type": "code",
   "execution_count": 78,
   "metadata": {},
   "outputs": [],
   "source": [
    "# Add day columns\n",
    "parse_df['Day-Confirmed'] = 0\n",
    "parse_df['Day-Deaths'] = 0\n",
    "parse_df['Day-Recovered'] = 0\n",
    "\n",
    "# Strip text data\n",
    "rus_df['Region/City'] = rus_df['Region/City'].astype('str').str.strip('\\u200b') \n",
    "parse_df['Region/City'] = parse_df['Region/City'].astype('str').str.strip('\\u200b')\n",
    "\n",
    "# Rename regions\n",
    "rename_dict = {\n",
    "    'Ямало-Ненецкий автономный округ' : 'Ямало-Ненецкий АО',\n",
    "    'Республика Северная Осетия — Алания' : 'Республика Северная Осетия - Алания',\n",
    "}\n",
    "\n",
    "parse_df['Region/City'] = parse_df['Region/City'].replace(rename_dict)"
   ]
  },
  {
   "cell_type": "code",
   "execution_count": 79,
   "metadata": {},
   "outputs": [],
   "source": [
    "parse_df['Date'] = pd.to_datetime(parse_df['Date'])\n",
    "# Minus a day if needed\n",
    "# parse_df['Date'] = parse_df['Date'] - pd.Timedelta(days=1)"
   ]
  },
  {
   "cell_type": "code",
   "execution_count": 80,
   "metadata": {},
   "outputs": [],
   "source": [
    "def upd(row):\n",
    "    reg = row['Region/City']\n",
    "    \n",
    "    row['Day-Confirmed'] = row['Confirmed'] - rus_df[rus_df['Region/City'] == reg]['Day-Confirmed'].sum()\n",
    "    row['Day-Deaths']    = row['Deaths'] - rus_df[rus_df['Region/City'] == reg]['Day-Deaths'].sum()\n",
    "    row['Day-Recovered'] = row['Recovered'] - rus_df[rus_df['Region/City'] == reg]['Day-Recovered'].sum()\n",
    "    \n",
    "    row['Day-Confirmed'] = row['Confirmed'] if np.isnan(row['Day-Confirmed']) else row['Day-Confirmed']\n",
    "    row['Day-Deaths']    = row['Deaths'] if np.isnan(row['Day-Deaths']) else row['Day-Deaths']\n",
    "    row['Day-Recovered'] = row['Recovered'] if np.isnan(row['Day-Recovered']) else row['Day-Recovered']\n",
    "    \n",
    "    return row.drop('Region/City')\n",
    "\n",
    "parse_df = parse_df.groupby('Region/City').apply(lambda df: upd(df.iloc[0])).reset_index()"
   ]
  },
  {
   "cell_type": "code",
   "execution_count": 81,
   "metadata": {},
   "outputs": [
    {
     "output_type": "execute_result",
     "data": {
      "text/plain": "Empty DataFrame\nColumns: [Region/City, Confirmed, Recovered, Deaths, Date, Day-Confirmed, Day-Deaths, Day-Recovered]\nIndex: []",
      "text/html": "<div>\n<style scoped>\n    .dataframe tbody tr th:only-of-type {\n        vertical-align: middle;\n    }\n\n    .dataframe tbody tr th {\n        vertical-align: top;\n    }\n\n    .dataframe thead th {\n        text-align: right;\n    }\n</style>\n<table border=\"1\" class=\"dataframe\">\n  <thead>\n    <tr style=\"text-align: right;\">\n      <th></th>\n      <th>Region/City</th>\n      <th>Confirmed</th>\n      <th>Recovered</th>\n      <th>Deaths</th>\n      <th>Date</th>\n      <th>Day-Confirmed</th>\n      <th>Day-Deaths</th>\n      <th>Day-Recovered</th>\n    </tr>\n  </thead>\n  <tbody>\n  </tbody>\n</table>\n</div>"
     },
     "metadata": {},
     "execution_count": 81
    }
   ],
   "source": [
    "# Check for missed regions\n",
    "parse_df[np.isnan(parse_df['Day-Confirmed'])]"
   ]
  },
  {
   "cell_type": "markdown",
   "metadata": {},
   "source": [
    "# Data checking"
   ]
  },
  {
   "cell_type": "code",
   "execution_count": 82,
   "metadata": {},
   "outputs": [
    {
     "output_type": "stream",
     "name": "stdout",
     "text": "Russia Confirmed: 414878 Day-Confirmed: 9035.0\nRussia Deaths: 4855 Day-Deaths: 162.0\nRussia Recovered: 175877 Day-Recovered: 3994.0\n"
    }
   ],
   "source": [
    "print('Russia Confirmed:', parse_df.groupby('Region/City')['Confirmed'].max().sum(),\n",
    "      'Day-Confirmed:', parse_df.groupby('Region/City')['Day-Confirmed'].sum().sum())\n",
    "print('Russia Deaths:', parse_df.groupby('Region/City')['Deaths'].max().sum(),\n",
    "      'Day-Deaths:', parse_df.groupby('Region/City')['Day-Deaths'].sum().sum())\n",
    "print('Russia Recovered:', parse_df.groupby('Region/City')['Recovered'].max().sum(),\n",
    "      'Day-Recovered:', parse_df.groupby('Region/City')['Day-Recovered'].sum().sum())\n",
    "\n",
    "# rus_regs = rus_sum.groupby('Region/City')['Recovered'].max().reset_index()\n",
    "# rus_regs['Recovered-ByDay'] = rus_sum.groupby('Region/City')['Day-Recovered'].sum().reset_index(drop=True)\n",
    "# rus_regs.loc[rus_regs['Recovered'] != rus_regs['Recovered-ByDay']]\n",
    "# # rus_regs.to_csv('rus_regs.csv')"
   ]
  },
  {
   "cell_type": "markdown",
   "metadata": {},
   "source": [
    "# Data saving"
   ]
  },
  {
   "cell_type": "code",
   "execution_count": 83,
   "metadata": {},
   "outputs": [],
   "source": [
    "# Save full update table\n",
    "parse_df.to_csv(f'covid19-russia-cases-upd-full-scrf.csv', index=False)"
   ]
  },
  {
   "cell_type": "code",
   "execution_count": 84,
   "metadata": {},
   "outputs": [],
   "source": [
    "# Drop rows without day changes\n",
    "parse_df = parse_df[(parse_df['Day-Confirmed'] != 0) |\n",
    "                (parse_df['Day-Deaths'] != 0) |\n",
    "                (parse_df['Day-Recovered'] != 0)]"
   ]
  },
  {
   "cell_type": "code",
   "execution_count": 85,
   "metadata": {},
   "outputs": [],
   "source": [
    "parse_df.to_csv(f'old_data/covid19-russia-cases-upd{DAY}-{MONTH}-scrf.csv', index=False)\n",
    "parse_df.to_csv('covid19-russia-cases-upd-scrf.csv', index=False)"
   ]
  }
 ],
 "metadata": {
  "language_info": {
   "codemirror_mode": {
    "name": "ipython",
    "version": 3
   },
   "file_extension": ".py",
   "mimetype": "text/x-python",
   "name": "python",
   "nbconvert_exporter": "python",
   "pygments_lexer": "ipython3",
   "version": "3.7.6-final"
  },
  "orig_nbformat": 2,
  "kernelspec": {
   "name": "python3",
   "display_name": "Python 3"
  }
 },
 "nbformat": 4,
 "nbformat_minor": 2
}