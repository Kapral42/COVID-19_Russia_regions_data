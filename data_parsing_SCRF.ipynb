{
 "cells": [
  {
   "cell_type": "code",
   "execution_count": 13,
   "metadata": {},
   "outputs": [],
   "source": [
    "import numpy as np\n",
    "import pandas as pd\n",
    "import datetime\n",
    "import sys, os"
   ]
  },
  {
   "cell_type": "markdown",
   "metadata": {},
   "source": [
    "# Data parsing"
   ]
  },
  {
   "cell_type": "code",
   "execution_count": 14,
   "metadata": {},
   "outputs": [
    {
     "output_type": "execute_result",
     "data": {
      "text/plain": "                  Регион  Выявлено  Новые  \\\n0                 Москва    161397   3190   \n1     Московская область     32653    846   \n2        Санкт-Петербург     12955    363   \n3  Нижегородская область      7826    211   \n4    Республика Дагестан      3982    127   \n\n   Активные  ?  Число больных в настоящее время  Выздоровело  Умерло  \n0                                        112050        47413    1934  \n1                                         27166         5163     324  \n2                                          9718         3124     113  \n3                                          5509         2257      60  \n4                                           910         3002      70  ",
      "text/html": "<div>\n<style scoped>\n    .dataframe tbody tr th:only-of-type {\n        vertical-align: middle;\n    }\n\n    .dataframe tbody tr th {\n        vertical-align: top;\n    }\n\n    .dataframe thead th {\n        text-align: right;\n    }\n</style>\n<table border=\"1\" class=\"dataframe\">\n  <thead>\n    <tr style=\"text-align: right;\">\n      <th></th>\n      <th>Регион</th>\n      <th>Выявлено</th>\n      <th>Новые</th>\n      <th>Активные  ?  Число больных в настоящее время</th>\n      <th>Выздоровело</th>\n      <th>Умерло</th>\n    </tr>\n  </thead>\n  <tbody>\n    <tr>\n      <th>0</th>\n      <td>Москва</td>\n      <td>161397</td>\n      <td>3190</td>\n      <td>112050</td>\n      <td>47413</td>\n      <td>1934</td>\n    </tr>\n    <tr>\n      <th>1</th>\n      <td>Московская область</td>\n      <td>32653</td>\n      <td>846</td>\n      <td>27166</td>\n      <td>5163</td>\n      <td>324</td>\n    </tr>\n    <tr>\n      <th>2</th>\n      <td>Санкт-Петербург</td>\n      <td>12955</td>\n      <td>363</td>\n      <td>9718</td>\n      <td>3124</td>\n      <td>113</td>\n    </tr>\n    <tr>\n      <th>3</th>\n      <td>Нижегородская область</td>\n      <td>7826</td>\n      <td>211</td>\n      <td>5509</td>\n      <td>2257</td>\n      <td>60</td>\n    </tr>\n    <tr>\n      <th>4</th>\n      <td>Республика Дагестан</td>\n      <td>3982</td>\n      <td>127</td>\n      <td>910</td>\n      <td>3002</td>\n      <td>70</td>\n    </tr>\n  </tbody>\n</table>\n</div>"
     },
     "metadata": {},
     "execution_count": 14
    }
   ],
   "source": [
    "# Parse html file\n",
    "DAY = datetime.datetime.now().strftime(\"%d\").lstrip('0')\n",
    "MONTH = datetime.datetime.now().strftime(\"%m\").lstrip('0')\n",
    "# SUB = '/scrf'\n",
    "SUB = ''\n",
    "file_name = 'Оперативные данные _ Коронавирус COVID–19_ Официальная информация о коронавирусе в России на портале – стопкоронавирус.рф.html'\n",
    "\n",
    "# Save of \"https://xn--80aesfpebagmfblc0a.xn--p1ai/information/\" page\n",
    "path = f'html_data/{DAY}-{MONTH}{SUB}/{file_name}'\n",
    "parse_df = pd.read_html(path, encoding='utf-8')[0]\n",
    "\n",
    "parse_df.head()"
   ]
  },
  {
   "cell_type": "code",
   "execution_count": 15,
   "metadata": {},
   "outputs": [
    {
     "output_type": "execute_result",
     "data": {
      "text/plain": "                   Region/City  Confirmed  Recovered  Deaths        Date\n0                       Москва     161397      47413    1934  2020-05-23\n1           Московская область      32653       5163     324  2020-05-23\n2              Санкт-Петербург      12955       3124     113  2020-05-23\n3        Нижегородская область       7826       2257      60  2020-05-23\n4          Республика Дагестан       3982       3002      70  2020-05-23\n..                         ...        ...        ...     ...         ...\n80                 Севастополь        154        113       2  2020-05-23\n81            Республика Алтай         92         46       0  2020-05-23\n82         Сахалинская область         66         36       0  2020-05-23\n83   Ненецкий автономный округ         62         10       0  2020-05-23\n84  Чукотский автономный округ         58         30       1  2020-05-23\n\n[85 rows x 5 columns]",
      "text/html": "<div>\n<style scoped>\n    .dataframe tbody tr th:only-of-type {\n        vertical-align: middle;\n    }\n\n    .dataframe tbody tr th {\n        vertical-align: top;\n    }\n\n    .dataframe thead th {\n        text-align: right;\n    }\n</style>\n<table border=\"1\" class=\"dataframe\">\n  <thead>\n    <tr style=\"text-align: right;\">\n      <th></th>\n      <th>Region/City</th>\n      <th>Confirmed</th>\n      <th>Recovered</th>\n      <th>Deaths</th>\n      <th>Date</th>\n    </tr>\n  </thead>\n  <tbody>\n    <tr>\n      <th>0</th>\n      <td>Москва</td>\n      <td>161397</td>\n      <td>47413</td>\n      <td>1934</td>\n      <td>2020-05-23</td>\n    </tr>\n    <tr>\n      <th>1</th>\n      <td>Московская область</td>\n      <td>32653</td>\n      <td>5163</td>\n      <td>324</td>\n      <td>2020-05-23</td>\n    </tr>\n    <tr>\n      <th>2</th>\n      <td>Санкт-Петербург</td>\n      <td>12955</td>\n      <td>3124</td>\n      <td>113</td>\n      <td>2020-05-23</td>\n    </tr>\n    <tr>\n      <th>3</th>\n      <td>Нижегородская область</td>\n      <td>7826</td>\n      <td>2257</td>\n      <td>60</td>\n      <td>2020-05-23</td>\n    </tr>\n    <tr>\n      <th>4</th>\n      <td>Республика Дагестан</td>\n      <td>3982</td>\n      <td>3002</td>\n      <td>70</td>\n      <td>2020-05-23</td>\n    </tr>\n    <tr>\n      <th>...</th>\n      <td>...</td>\n      <td>...</td>\n      <td>...</td>\n      <td>...</td>\n      <td>...</td>\n    </tr>\n    <tr>\n      <th>80</th>\n      <td>Севастополь</td>\n      <td>154</td>\n      <td>113</td>\n      <td>2</td>\n      <td>2020-05-23</td>\n    </tr>\n    <tr>\n      <th>81</th>\n      <td>Республика Алтай</td>\n      <td>92</td>\n      <td>46</td>\n      <td>0</td>\n      <td>2020-05-23</td>\n    </tr>\n    <tr>\n      <th>82</th>\n      <td>Сахалинская область</td>\n      <td>66</td>\n      <td>36</td>\n      <td>0</td>\n      <td>2020-05-23</td>\n    </tr>\n    <tr>\n      <th>83</th>\n      <td>Ненецкий автономный округ</td>\n      <td>62</td>\n      <td>10</td>\n      <td>0</td>\n      <td>2020-05-23</td>\n    </tr>\n    <tr>\n      <th>84</th>\n      <td>Чукотский автономный округ</td>\n      <td>58</td>\n      <td>30</td>\n      <td>1</td>\n      <td>2020-05-23</td>\n    </tr>\n  </tbody>\n</table>\n<p>85 rows × 5 columns</p>\n</div>"
     },
     "metadata": {},
     "execution_count": 15
    }
   ],
   "source": [
    "# Modifi data frame\n",
    "parse_df = parse_df.drop(parse_df.columns[2:4] , axis=1)\n",
    "parse_df.columns = ['Region/City', 'Confirmed', 'Recovered', 'Deaths']\n",
    "parse_df['Date'] = datetime.datetime.now().strftime(\"%Y-%m-%d\")\n",
    "parse_df"
   ]
  },
  {
   "cell_type": "markdown",
   "metadata": {},
   "source": [
    "# Preparing parsed data"
   ]
  },
  {
   "cell_type": "code",
   "execution_count": 16,
   "metadata": {},
   "outputs": [
    {
     "output_type": "execute_result",
     "data": {
      "text/plain": "            Date           Region/City                 Region/City-Eng  \\\n4157  2020-05-22   Ханты-Мансийский АО                 Khanty-Mansiysk   \n4158  2020-05-22   Челябинская область              Chelyabinsk region   \n4159  2020-05-22  Чеченская Республика                Chechen Republic   \n4160  2020-05-22     Ямало-Ненецкий АО  Yamalo-Nenets Autonomous Okrug   \n4161  2020-05-22   Ярославская область                Yaroslavl region   \n\n      Region_ID  Day-Confirmed  Day-Deaths  Day-Recovered  Confirmed  Deaths  \\\n4157       86.0           80.0         1.0           18.0     1510.0    13.0   \n4158       74.0           80.0         0.0           31.0     1993.0    11.0   \n4159       95.0           20.0         0.0            8.0     1046.0    11.0   \n4160       89.0           87.0         0.0           74.0     1989.0     5.0   \n4161       76.0          103.0         0.0           24.0     2309.0    13.0   \n\n      Recovered  \n4157      520.0  \n4158      725.0  \n4159      643.0  \n4160      398.0  \n4161      444.0  ",
      "text/html": "<div>\n<style scoped>\n    .dataframe tbody tr th:only-of-type {\n        vertical-align: middle;\n    }\n\n    .dataframe tbody tr th {\n        vertical-align: top;\n    }\n\n    .dataframe thead th {\n        text-align: right;\n    }\n</style>\n<table border=\"1\" class=\"dataframe\">\n  <thead>\n    <tr style=\"text-align: right;\">\n      <th></th>\n      <th>Date</th>\n      <th>Region/City</th>\n      <th>Region/City-Eng</th>\n      <th>Region_ID</th>\n      <th>Day-Confirmed</th>\n      <th>Day-Deaths</th>\n      <th>Day-Recovered</th>\n      <th>Confirmed</th>\n      <th>Deaths</th>\n      <th>Recovered</th>\n    </tr>\n  </thead>\n  <tbody>\n    <tr>\n      <th>4157</th>\n      <td>2020-05-22</td>\n      <td>Ханты-Мансийский АО</td>\n      <td>Khanty-Mansiysk</td>\n      <td>86.0</td>\n      <td>80.0</td>\n      <td>1.0</td>\n      <td>18.0</td>\n      <td>1510.0</td>\n      <td>13.0</td>\n      <td>520.0</td>\n    </tr>\n    <tr>\n      <th>4158</th>\n      <td>2020-05-22</td>\n      <td>Челябинская область</td>\n      <td>Chelyabinsk region</td>\n      <td>74.0</td>\n      <td>80.0</td>\n      <td>0.0</td>\n      <td>31.0</td>\n      <td>1993.0</td>\n      <td>11.0</td>\n      <td>725.0</td>\n    </tr>\n    <tr>\n      <th>4159</th>\n      <td>2020-05-22</td>\n      <td>Чеченская Республика</td>\n      <td>Chechen Republic</td>\n      <td>95.0</td>\n      <td>20.0</td>\n      <td>0.0</td>\n      <td>8.0</td>\n      <td>1046.0</td>\n      <td>11.0</td>\n      <td>643.0</td>\n    </tr>\n    <tr>\n      <th>4160</th>\n      <td>2020-05-22</td>\n      <td>Ямало-Ненецкий АО</td>\n      <td>Yamalo-Nenets Autonomous Okrug</td>\n      <td>89.0</td>\n      <td>87.0</td>\n      <td>0.0</td>\n      <td>74.0</td>\n      <td>1989.0</td>\n      <td>5.0</td>\n      <td>398.0</td>\n    </tr>\n    <tr>\n      <th>4161</th>\n      <td>2020-05-22</td>\n      <td>Ярославская область</td>\n      <td>Yaroslavl region</td>\n      <td>76.0</td>\n      <td>103.0</td>\n      <td>0.0</td>\n      <td>24.0</td>\n      <td>2309.0</td>\n      <td>13.0</td>\n      <td>444.0</td>\n    </tr>\n  </tbody>\n</table>\n</div>"
     },
     "metadata": {},
     "execution_count": 16
    }
   ],
   "source": [
    "file_name = 'release/covid19-russia-cases-scrf.csv'\n",
    "rus_df = pd.read_csv(file_name)\n",
    "rus_df.tail()"
   ]
  },
  {
   "cell_type": "code",
   "execution_count": 17,
   "metadata": {},
   "outputs": [],
   "source": [
    "# Add day columns\n",
    "parse_df['Day-Confirmed'] = 0\n",
    "parse_df['Day-Deaths'] = 0\n",
    "parse_df['Day-Recovered'] = 0\n",
    "\n",
    "# Strip text data\n",
    "rus_df['Region/City'] = rus_df['Region/City'].astype('str').str.strip('\\u200b') \n",
    "parse_df['Region/City'] = parse_df['Region/City'].astype('str').str.strip('\\u200b')\n",
    "\n",
    "# Rename regions\n",
    "rename_dict = {\n",
    "    'Ямало-Ненецкий автономный округ' : 'Ямало-Ненецкий АО',\n",
    "    'Республика Северная Осетия — Алания' : 'Республика Северная Осетия - Алания',\n",
    "}\n",
    "\n",
    "def rename(row):\n",
    "    name = row['Region/City'][0]\n",
    "    return pd.Series(rename_dict[name] if name in rename_dict else name)\n",
    "\n",
    "parse_df['Region/City'] = parse_df.reset_index().groupby('index').apply(rename).reset_index(drop=True)"
   ]
  },
  {
   "cell_type": "code",
   "execution_count": 18,
   "metadata": {},
   "outputs": [],
   "source": [
    "parse_df['Date'] = pd.to_datetime(parse_df['Date'])\n",
    "# Minus a day if needed\n",
    "# parse_df['Date'] = parse_df['Date'] - pd.Timedelta(days=1)"
   ]
  },
  {
   "cell_type": "code",
   "execution_count": 19,
   "metadata": {},
   "outputs": [],
   "source": [
    "def upd(row):\n",
    "    reg = row['Region/City']\n",
    "    \n",
    "    row['Day-Confirmed'] = row['Confirmed'] - rus_df[rus_df['Region/City'] == reg]['Day-Confirmed'].sum()\n",
    "    row['Day-Deaths']    = row['Deaths'] - rus_df[rus_df['Region/City'] == reg]['Day-Deaths'].sum()\n",
    "    row['Day-Recovered'] = row['Recovered'] - rus_df[rus_df['Region/City'] == reg]['Day-Recovered'].sum()\n",
    "    \n",
    "    row['Day-Confirmed'] = row['Confirmed'] if np.isnan(row['Day-Confirmed']) else row['Day-Confirmed']\n",
    "    row['Day-Deaths']    = row['Deaths'] if np.isnan(row['Day-Deaths']) else row['Day-Deaths']\n",
    "    row['Day-Recovered'] = row['Recovered'] if np.isnan(row['Day-Recovered']) else row['Day-Recovered']\n",
    "    \n",
    "    return row.drop('Region/City')\n",
    "\n",
    "parse_df = parse_df.groupby('Region/City').apply(lambda df: upd(df.iloc[0])).reset_index()"
   ]
  },
  {
   "cell_type": "code",
   "execution_count": 20,
   "metadata": {},
   "outputs": [
    {
     "output_type": "execute_result",
     "data": {
      "text/plain": "Empty DataFrame\nColumns: [Region/City, Confirmed, Recovered, Deaths, Date, Day-Confirmed, Day-Deaths, Day-Recovered]\nIndex: []",
      "text/html": "<div>\n<style scoped>\n    .dataframe tbody tr th:only-of-type {\n        vertical-align: middle;\n    }\n\n    .dataframe tbody tr th {\n        vertical-align: top;\n    }\n\n    .dataframe thead th {\n        text-align: right;\n    }\n</style>\n<table border=\"1\" class=\"dataframe\">\n  <thead>\n    <tr style=\"text-align: right;\">\n      <th></th>\n      <th>Region/City</th>\n      <th>Confirmed</th>\n      <th>Recovered</th>\n      <th>Deaths</th>\n      <th>Date</th>\n      <th>Day-Confirmed</th>\n      <th>Day-Deaths</th>\n      <th>Day-Recovered</th>\n    </tr>\n  </thead>\n  <tbody>\n  </tbody>\n</table>\n</div>"
     },
     "metadata": {},
     "execution_count": 20
    }
   ],
   "source": [
    "# Check for missed regions\n",
    "parse_df[np.isnan(parse_df['Day-Confirmed'])]"
   ]
  },
  {
   "cell_type": "markdown",
   "metadata": {},
   "source": [
    "# Data checking"
   ]
  },
  {
   "cell_type": "code",
   "execution_count": 21,
   "metadata": {},
   "outputs": [
    {
     "output_type": "stream",
     "name": "stdout",
     "text": "Russia Confirmed: 335882 Day-Confirmed: 9434.0\nRussia Deaths: 3388 Day-Deaths: 139.0\nRussia Recovered: 107936 Day-Recovered: 8111.0\n"
    }
   ],
   "source": [
    "print('Russia Confirmed:', parse_df.groupby('Region/City')['Confirmed'].max().sum(),\n",
    "      'Day-Confirmed:', parse_df.groupby('Region/City')['Day-Confirmed'].sum().sum())\n",
    "print('Russia Deaths:', parse_df.groupby('Region/City')['Deaths'].max().sum(),\n",
    "      'Day-Deaths:', parse_df.groupby('Region/City')['Day-Deaths'].sum().sum())\n",
    "print('Russia Recovered:', parse_df.groupby('Region/City')['Recovered'].max().sum(),\n",
    "      'Day-Recovered:', parse_df.groupby('Region/City')['Day-Recovered'].sum().sum())\n",
    "\n",
    "# rus_regs = rus_sum.groupby('Region/City')['Recovered'].max().reset_index()\n",
    "# rus_regs['Recovered-ByDay'] = rus_sum.groupby('Region/City')['Day-Recovered'].sum().reset_index(drop=True)\n",
    "# rus_regs.loc[rus_regs['Recovered'] != rus_regs['Recovered-ByDay']]\n",
    "# # rus_regs.to_csv('rus_regs.csv')"
   ]
  },
  {
   "cell_type": "markdown",
   "metadata": {},
   "source": [
    "# Data saving"
   ]
  },
  {
   "cell_type": "code",
   "execution_count": 22,
   "metadata": {},
   "outputs": [],
   "source": [
    "# Save full update table\n",
    "parse_df.to_csv(f'covid19-russia-cases-upd-full-scrf.csv', index=False)"
   ]
  },
  {
   "cell_type": "code",
   "execution_count": 23,
   "metadata": {},
   "outputs": [],
   "source": [
    "# Drop rows without day changes\n",
    "parse_df = parse_df[(parse_df['Day-Confirmed'] != 0) |\n",
    "                (parse_df['Day-Deaths'] != 0) |\n",
    "                (parse_df['Day-Recovered'] != 0)]"
   ]
  },
  {
   "cell_type": "code",
   "execution_count": 24,
   "metadata": {},
   "outputs": [],
   "source": [
    "parse_df.to_csv(f'old_data/covid19-russia-cases-upd{DAY}-{MONTH}-scrf.csv', index=False)\n",
    "parse_df.to_csv('covid19-russia-cases-upd-scrf.csv', index=False)"
   ]
  }
 ],
 "metadata": {
  "language_info": {
   "codemirror_mode": {
    "name": "ipython",
    "version": 3
   },
   "file_extension": ".py",
   "mimetype": "text/x-python",
   "name": "python",
   "nbconvert_exporter": "python",
   "pygments_lexer": "ipython3",
   "version": "3.7.6-final"
  },
  "orig_nbformat": 2,
  "kernelspec": {
   "name": "python3",
   "display_name": "Python 3"
  }
 },
 "nbformat": 4,
 "nbformat_minor": 2
}