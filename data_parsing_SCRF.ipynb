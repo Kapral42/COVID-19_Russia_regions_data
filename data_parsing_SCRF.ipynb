{
 "cells": [
  {
   "cell_type": "code",
   "execution_count": 62,
   "metadata": {},
   "outputs": [],
   "source": [
    "import numpy as np\n",
    "import pandas as pd\n",
    "import datetime\n",
    "import sys, os"
   ]
  },
  {
   "cell_type": "markdown",
   "metadata": {},
   "source": [
    "# Data parsing"
   ]
  },
  {
   "cell_type": "code",
   "execution_count": 63,
   "metadata": {},
   "outputs": [
    {
     "output_type": "execute_result",
     "data": {
      "text/plain": "                  Регион  Выявлено  Новые  \\\n0                 Москва    180791   2595   \n1     Московская область     38995    757   \n2        Санкт-Петербург     15949    369   \n3  Нижегородская область      9834    301   \n4   Свердловская область      5449    265   \n\n   Активные  ?  Число больных в настоящее время  Выздоровело  Умерло  \n0                                         98135        80179    2477  \n1                                         30455         8091     449  \n2                                         10065         5680     204  \n3                                          6043         3693      98  \n4                                          3249         2173      27  ",
      "text/html": "<div>\n<style scoped>\n    .dataframe tbody tr th:only-of-type {\n        vertical-align: middle;\n    }\n\n    .dataframe tbody tr th {\n        vertical-align: top;\n    }\n\n    .dataframe thead th {\n        text-align: right;\n    }\n</style>\n<table border=\"1\" class=\"dataframe\">\n  <thead>\n    <tr style=\"text-align: right;\">\n      <th></th>\n      <th>Регион</th>\n      <th>Выявлено</th>\n      <th>Новые</th>\n      <th>Активные  ?  Число больных в настоящее время</th>\n      <th>Выздоровело</th>\n      <th>Умерло</th>\n    </tr>\n  </thead>\n  <tbody>\n    <tr>\n      <th>0</th>\n      <td>Москва</td>\n      <td>180791</td>\n      <td>2595</td>\n      <td>98135</td>\n      <td>80179</td>\n      <td>2477</td>\n    </tr>\n    <tr>\n      <th>1</th>\n      <td>Московская область</td>\n      <td>38995</td>\n      <td>757</td>\n      <td>30455</td>\n      <td>8091</td>\n      <td>449</td>\n    </tr>\n    <tr>\n      <th>2</th>\n      <td>Санкт-Петербург</td>\n      <td>15949</td>\n      <td>369</td>\n      <td>10065</td>\n      <td>5680</td>\n      <td>204</td>\n    </tr>\n    <tr>\n      <th>3</th>\n      <td>Нижегородская область</td>\n      <td>9834</td>\n      <td>301</td>\n      <td>6043</td>\n      <td>3693</td>\n      <td>98</td>\n    </tr>\n    <tr>\n      <th>4</th>\n      <td>Свердловская область</td>\n      <td>5449</td>\n      <td>265</td>\n      <td>3249</td>\n      <td>2173</td>\n      <td>27</td>\n    </tr>\n  </tbody>\n</table>\n</div>"
     },
     "metadata": {},
     "execution_count": 63
    }
   ],
   "source": [
    "# Parse html file\n",
    "DAY = datetime.datetime.now().strftime(\"%d\").lstrip('0')\n",
    "MONTH = datetime.datetime.now().strftime(\"%m\").lstrip('0')\n",
    "# DAY = 20\n",
    "# MONTH = 5\n",
    "# SUB = '/scrf'\n",
    "SUB = ''\n",
    "file_name = 'Оперативные данные _ Коронавирус COVID–19_ Официальная информация о коронавирусе в России на портале – стопкоронавирус.рф.html'\n",
    "\n",
    "# Save of \"https://xn--80aesfpebagmfblc0a.xn--p1ai/information/\" page\n",
    "path = f'html_data/{DAY}-{MONTH}{SUB}/{file_name}'\n",
    "parse_df = pd.read_html(path, encoding='utf-8')[0]\n",
    "\n",
    "parse_df.head()"
   ]
  },
  {
   "cell_type": "code",
   "execution_count": 64,
   "metadata": {},
   "outputs": [
    {
     "output_type": "execute_result",
     "data": {
      "text/plain": "                   Region/City  Confirmed  Recovered  Deaths        Date\n0                       Москва     180791      80179    2477  2020-05-31\n1           Московская область      38995       8091     449  2020-05-31\n2              Санкт-Петербург      15949       5680     204  2020-05-31\n3        Нижегородская область       9834       3693      98  2020-05-31\n4         Свердловская область       5449       2173      27  2020-05-31\n..                         ...        ...        ...     ...         ...\n80                 Севастополь        161        131       3  2020-05-31\n81            Республика Алтай        122         71       0  2020-05-31\n82         Сахалинская область        115         53       0  2020-05-31\n83  Чукотский автономный округ         80         54       1  2020-05-31\n84   Ненецкий автономный округ         72         12       0  2020-05-31\n\n[85 rows x 5 columns]",
      "text/html": "<div>\n<style scoped>\n    .dataframe tbody tr th:only-of-type {\n        vertical-align: middle;\n    }\n\n    .dataframe tbody tr th {\n        vertical-align: top;\n    }\n\n    .dataframe thead th {\n        text-align: right;\n    }\n</style>\n<table border=\"1\" class=\"dataframe\">\n  <thead>\n    <tr style=\"text-align: right;\">\n      <th></th>\n      <th>Region/City</th>\n      <th>Confirmed</th>\n      <th>Recovered</th>\n      <th>Deaths</th>\n      <th>Date</th>\n    </tr>\n  </thead>\n  <tbody>\n    <tr>\n      <th>0</th>\n      <td>Москва</td>\n      <td>180791</td>\n      <td>80179</td>\n      <td>2477</td>\n      <td>2020-05-31</td>\n    </tr>\n    <tr>\n      <th>1</th>\n      <td>Московская область</td>\n      <td>38995</td>\n      <td>8091</td>\n      <td>449</td>\n      <td>2020-05-31</td>\n    </tr>\n    <tr>\n      <th>2</th>\n      <td>Санкт-Петербург</td>\n      <td>15949</td>\n      <td>5680</td>\n      <td>204</td>\n      <td>2020-05-31</td>\n    </tr>\n    <tr>\n      <th>3</th>\n      <td>Нижегородская область</td>\n      <td>9834</td>\n      <td>3693</td>\n      <td>98</td>\n      <td>2020-05-31</td>\n    </tr>\n    <tr>\n      <th>4</th>\n      <td>Свердловская область</td>\n      <td>5449</td>\n      <td>2173</td>\n      <td>27</td>\n      <td>2020-05-31</td>\n    </tr>\n    <tr>\n      <th>...</th>\n      <td>...</td>\n      <td>...</td>\n      <td>...</td>\n      <td>...</td>\n      <td>...</td>\n    </tr>\n    <tr>\n      <th>80</th>\n      <td>Севастополь</td>\n      <td>161</td>\n      <td>131</td>\n      <td>3</td>\n      <td>2020-05-31</td>\n    </tr>\n    <tr>\n      <th>81</th>\n      <td>Республика Алтай</td>\n      <td>122</td>\n      <td>71</td>\n      <td>0</td>\n      <td>2020-05-31</td>\n    </tr>\n    <tr>\n      <th>82</th>\n      <td>Сахалинская область</td>\n      <td>115</td>\n      <td>53</td>\n      <td>0</td>\n      <td>2020-05-31</td>\n    </tr>\n    <tr>\n      <th>83</th>\n      <td>Чукотский автономный округ</td>\n      <td>80</td>\n      <td>54</td>\n      <td>1</td>\n      <td>2020-05-31</td>\n    </tr>\n    <tr>\n      <th>84</th>\n      <td>Ненецкий автономный округ</td>\n      <td>72</td>\n      <td>12</td>\n      <td>0</td>\n      <td>2020-05-31</td>\n    </tr>\n  </tbody>\n</table>\n<p>85 rows × 5 columns</p>\n</div>"
     },
     "metadata": {},
     "execution_count": 64
    }
   ],
   "source": [
    "# Modifi data frame\n",
    "parse_df = parse_df.drop(parse_df.columns[2:4] , axis=1)\n",
    "parse_df.columns = ['Region/City', 'Confirmed', 'Recovered', 'Deaths']\n",
    "parse_df['Date'] = datetime.datetime.now().strftime(\"%Y-%m-%d\")\n",
    "parse_df"
   ]
  },
  {
   "cell_type": "markdown",
   "metadata": {},
   "source": [
    "# Preparing parsed data"
   ]
  },
  {
   "cell_type": "code",
   "execution_count": 65,
   "metadata": {},
   "outputs": [
    {
     "output_type": "execute_result",
     "data": {
      "text/plain": "            Date                 Region/City                 Region/City-Eng  \\\n6815  2020-05-30         Челябинская область              Chelyabinsk region   \n6816  2020-05-30        Чеченская Республика                Chechen Republic   \n6817  2020-05-30  Чукотский автономный округ       Chukotka Autonomous Okrug   \n6818  2020-05-30           Ямало-Ненецкий АО  Yamalo-Nenets Autonomous Okrug   \n6819  2020-05-30         Ярославская область                Yaroslavl region   \n\n      Region_ID  Day-Confirmed  Day-Deaths  Day-Recovered  Confirmed  Deaths  \\\n6815       74.0          150.0         1.0           74.0     2659.0    16.0   \n6816       95.0           17.0         0.0           38.0     1209.0    13.0   \n6817       87.0            5.0         0.0            3.0       78.0     1.0   \n6818       89.0           30.0         0.0           55.0     2310.0     9.0   \n6819       76.0           79.0         0.0           53.0     3055.0    14.0   \n\n      Recovered  \n6815     1180.0  \n6816      825.0  \n6817       53.0  \n6818      953.0  \n6819      751.0  ",
      "text/html": "<div>\n<style scoped>\n    .dataframe tbody tr th:only-of-type {\n        vertical-align: middle;\n    }\n\n    .dataframe tbody tr th {\n        vertical-align: top;\n    }\n\n    .dataframe thead th {\n        text-align: right;\n    }\n</style>\n<table border=\"1\" class=\"dataframe\">\n  <thead>\n    <tr style=\"text-align: right;\">\n      <th></th>\n      <th>Date</th>\n      <th>Region/City</th>\n      <th>Region/City-Eng</th>\n      <th>Region_ID</th>\n      <th>Day-Confirmed</th>\n      <th>Day-Deaths</th>\n      <th>Day-Recovered</th>\n      <th>Confirmed</th>\n      <th>Deaths</th>\n      <th>Recovered</th>\n    </tr>\n  </thead>\n  <tbody>\n    <tr>\n      <th>6815</th>\n      <td>2020-05-30</td>\n      <td>Челябинская область</td>\n      <td>Chelyabinsk region</td>\n      <td>74.0</td>\n      <td>150.0</td>\n      <td>1.0</td>\n      <td>74.0</td>\n      <td>2659.0</td>\n      <td>16.0</td>\n      <td>1180.0</td>\n    </tr>\n    <tr>\n      <th>6816</th>\n      <td>2020-05-30</td>\n      <td>Чеченская Республика</td>\n      <td>Chechen Republic</td>\n      <td>95.0</td>\n      <td>17.0</td>\n      <td>0.0</td>\n      <td>38.0</td>\n      <td>1209.0</td>\n      <td>13.0</td>\n      <td>825.0</td>\n    </tr>\n    <tr>\n      <th>6817</th>\n      <td>2020-05-30</td>\n      <td>Чукотский автономный округ</td>\n      <td>Chukotka Autonomous Okrug</td>\n      <td>87.0</td>\n      <td>5.0</td>\n      <td>0.0</td>\n      <td>3.0</td>\n      <td>78.0</td>\n      <td>1.0</td>\n      <td>53.0</td>\n    </tr>\n    <tr>\n      <th>6818</th>\n      <td>2020-05-30</td>\n      <td>Ямало-Ненецкий АО</td>\n      <td>Yamalo-Nenets Autonomous Okrug</td>\n      <td>89.0</td>\n      <td>30.0</td>\n      <td>0.0</td>\n      <td>55.0</td>\n      <td>2310.0</td>\n      <td>9.0</td>\n      <td>953.0</td>\n    </tr>\n    <tr>\n      <th>6819</th>\n      <td>2020-05-30</td>\n      <td>Ярославская область</td>\n      <td>Yaroslavl region</td>\n      <td>76.0</td>\n      <td>79.0</td>\n      <td>0.0</td>\n      <td>53.0</td>\n      <td>3055.0</td>\n      <td>14.0</td>\n      <td>751.0</td>\n    </tr>\n  </tbody>\n</table>\n</div>"
     },
     "metadata": {},
     "execution_count": 65
    }
   ],
   "source": [
    "file_name = 'release/covid19-russia-cases-scrf.csv'\n",
    "rus_df = pd.read_csv(file_name)\n",
    "rus_df.tail()"
   ]
  },
  {
   "cell_type": "code",
   "execution_count": 66,
   "metadata": {},
   "outputs": [],
   "source": [
    "# Add day columns\n",
    "parse_df['Day-Confirmed'] = 0\n",
    "parse_df['Day-Deaths'] = 0\n",
    "parse_df['Day-Recovered'] = 0\n",
    "\n",
    "# Strip text data\n",
    "rus_df['Region/City'] = rus_df['Region/City'].astype('str').str.strip('\\u200b') \n",
    "parse_df['Region/City'] = parse_df['Region/City'].astype('str').str.strip('\\u200b')\n",
    "\n",
    "# Rename regions\n",
    "rename_dict = {\n",
    "    'Ямало-Ненецкий автономный округ' : 'Ямало-Ненецкий АО',\n",
    "    'Республика Северная Осетия — Алания' : 'Республика Северная Осетия - Алания',\n",
    "}\n",
    "\n",
    "parse_df['Region/City'] = parse_df['Region/City'].replace(rename_dict)"
   ]
  },
  {
   "cell_type": "code",
   "execution_count": 67,
   "metadata": {},
   "outputs": [],
   "source": [
    "parse_df['Date'] = pd.to_datetime(parse_df['Date'])\n",
    "# Minus a day if needed\n",
    "# parse_df['Date'] = parse_df['Date'] - pd.Timedelta(days=1)"
   ]
  },
  {
   "cell_type": "code",
   "execution_count": 68,
   "metadata": {},
   "outputs": [],
   "source": [
    "def upd(row):\n",
    "    reg = row['Region/City']\n",
    "    \n",
    "    row['Day-Confirmed'] = row['Confirmed'] - rus_df[rus_df['Region/City'] == reg]['Day-Confirmed'].sum()\n",
    "    row['Day-Deaths']    = row['Deaths'] - rus_df[rus_df['Region/City'] == reg]['Day-Deaths'].sum()\n",
    "    row['Day-Recovered'] = row['Recovered'] - rus_df[rus_df['Region/City'] == reg]['Day-Recovered'].sum()\n",
    "    \n",
    "    row['Day-Confirmed'] = row['Confirmed'] if np.isnan(row['Day-Confirmed']) else row['Day-Confirmed']\n",
    "    row['Day-Deaths']    = row['Deaths'] if np.isnan(row['Day-Deaths']) else row['Day-Deaths']\n",
    "    row['Day-Recovered'] = row['Recovered'] if np.isnan(row['Day-Recovered']) else row['Day-Recovered']\n",
    "    \n",
    "    return row.drop('Region/City')\n",
    "\n",
    "parse_df = parse_df.groupby('Region/City').apply(lambda df: upd(df.iloc[0])).reset_index()"
   ]
  },
  {
   "cell_type": "code",
   "execution_count": 69,
   "metadata": {},
   "outputs": [
    {
     "output_type": "execute_result",
     "data": {
      "text/plain": "Empty DataFrame\nColumns: [Region/City, Confirmed, Recovered, Deaths, Date, Day-Confirmed, Day-Deaths, Day-Recovered]\nIndex: []",
      "text/html": "<div>\n<style scoped>\n    .dataframe tbody tr th:only-of-type {\n        vertical-align: middle;\n    }\n\n    .dataframe tbody tr th {\n        vertical-align: top;\n    }\n\n    .dataframe thead th {\n        text-align: right;\n    }\n</style>\n<table border=\"1\" class=\"dataframe\">\n  <thead>\n    <tr style=\"text-align: right;\">\n      <th></th>\n      <th>Region/City</th>\n      <th>Confirmed</th>\n      <th>Recovered</th>\n      <th>Deaths</th>\n      <th>Date</th>\n      <th>Day-Confirmed</th>\n      <th>Day-Deaths</th>\n      <th>Day-Recovered</th>\n    </tr>\n  </thead>\n  <tbody>\n  </tbody>\n</table>\n</div>"
     },
     "metadata": {},
     "execution_count": 69
    }
   ],
   "source": [
    "# Check for missed regions\n",
    "parse_df[np.isnan(parse_df['Day-Confirmed'])]"
   ]
  },
  {
   "cell_type": "markdown",
   "metadata": {},
   "source": [
    "# Data checking"
   ]
  },
  {
   "cell_type": "code",
   "execution_count": 70,
   "metadata": {},
   "outputs": [
    {
     "output_type": "stream",
     "name": "stdout",
     "text": "Russia Confirmed: 405843 Day-Confirmed: 9268.0\nRussia Deaths: 4693 Day-Deaths: 138.0\nRussia Recovered: 171883 Day-Recovered: 4414.0\n"
    }
   ],
   "source": [
    "print('Russia Confirmed:', parse_df.groupby('Region/City')['Confirmed'].max().sum(),\n",
    "      'Day-Confirmed:', parse_df.groupby('Region/City')['Day-Confirmed'].sum().sum())\n",
    "print('Russia Deaths:', parse_df.groupby('Region/City')['Deaths'].max().sum(),\n",
    "      'Day-Deaths:', parse_df.groupby('Region/City')['Day-Deaths'].sum().sum())\n",
    "print('Russia Recovered:', parse_df.groupby('Region/City')['Recovered'].max().sum(),\n",
    "      'Day-Recovered:', parse_df.groupby('Region/City')['Day-Recovered'].sum().sum())\n",
    "\n",
    "# rus_regs = rus_sum.groupby('Region/City')['Recovered'].max().reset_index()\n",
    "# rus_regs['Recovered-ByDay'] = rus_sum.groupby('Region/City')['Day-Recovered'].sum().reset_index(drop=True)\n",
    "# rus_regs.loc[rus_regs['Recovered'] != rus_regs['Recovered-ByDay']]\n",
    "# # rus_regs.to_csv('rus_regs.csv')"
   ]
  },
  {
   "cell_type": "markdown",
   "metadata": {},
   "source": [
    "# Data saving"
   ]
  },
  {
   "cell_type": "code",
   "execution_count": 71,
   "metadata": {},
   "outputs": [],
   "source": [
    "# Save full update table\n",
    "parse_df.to_csv(f'covid19-russia-cases-upd-full-scrf.csv', index=False)"
   ]
  },
  {
   "cell_type": "code",
   "execution_count": 72,
   "metadata": {},
   "outputs": [],
   "source": [
    "# Drop rows without day changes\n",
    "parse_df = parse_df[(parse_df['Day-Confirmed'] != 0) |\n",
    "                (parse_df['Day-Deaths'] != 0) |\n",
    "                (parse_df['Day-Recovered'] != 0)]"
   ]
  },
  {
   "cell_type": "code",
   "execution_count": 73,
   "metadata": {},
   "outputs": [],
   "source": [
    "parse_df.to_csv(f'old_data/covid19-russia-cases-upd{DAY}-{MONTH}-scrf.csv', index=False)\n",
    "parse_df.to_csv('covid19-russia-cases-upd-scrf.csv', index=False)"
   ]
  }
 ],
 "metadata": {
  "language_info": {
   "codemirror_mode": {
    "name": "ipython",
    "version": 3
   },
   "file_extension": ".py",
   "mimetype": "text/x-python",
   "name": "python",
   "nbconvert_exporter": "python",
   "pygments_lexer": "ipython3",
   "version": "3.7.6-final"
  },
  "orig_nbformat": 2,
  "kernelspec": {
   "name": "python3",
   "display_name": "Python 3"
  }
 },
 "nbformat": 4,
 "nbformat_minor": 2
}