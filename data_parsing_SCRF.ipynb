{
 "cells": [
  {
   "cell_type": "code",
   "execution_count": 23,
   "metadata": {},
   "outputs": [],
   "source": [
    "import numpy as np\n",
    "import pandas as pd\n",
    "import datetime\n",
    "import sys, os"
   ]
  },
  {
   "cell_type": "markdown",
   "metadata": {},
   "source": [
    "# Data parsing"
   ]
  },
  {
   "cell_type": "code",
   "execution_count": 24,
   "metadata": {},
   "outputs": [
    {
     "output_type": "execute_result",
     "data": {
      "text/plain": "                  Регион  Выявлено  Новые  \\\n0                 Москва    217791    885   \n1     Московская область     55853    467   \n2        Санкт-Петербург     23071    221   \n3  Нижегородская область     16414    217   \n4   Свердловская область     11684    192   \n\n   Активные  ?  Число больных в настоящее время  Выздоровело  Умерло  \n0                                         71928       142194    3669  \n1                                         26019        29002     832  \n2                                          7010        15100     961  \n3                                          6636         9566     212  \n4                                          5106         6496      82  ",
      "text/html": "<div>\n<style scoped>\n    .dataframe tbody tr th:only-of-type {\n        vertical-align: middle;\n    }\n\n    .dataframe tbody tr th {\n        vertical-align: top;\n    }\n\n    .dataframe thead th {\n        text-align: right;\n    }\n</style>\n<table border=\"1\" class=\"dataframe\">\n  <thead>\n    <tr style=\"text-align: right;\">\n      <th></th>\n      <th>Регион</th>\n      <th>Выявлено</th>\n      <th>Новые</th>\n      <th>Активные  ?  Число больных в настоящее время</th>\n      <th>Выздоровело</th>\n      <th>Умерло</th>\n    </tr>\n  </thead>\n  <tbody>\n    <tr>\n      <th>0</th>\n      <td>Москва</td>\n      <td>217791</td>\n      <td>885</td>\n      <td>71928</td>\n      <td>142194</td>\n      <td>3669</td>\n    </tr>\n    <tr>\n      <th>1</th>\n      <td>Московская область</td>\n      <td>55853</td>\n      <td>467</td>\n      <td>26019</td>\n      <td>29002</td>\n      <td>832</td>\n    </tr>\n    <tr>\n      <th>2</th>\n      <td>Санкт-Петербург</td>\n      <td>23071</td>\n      <td>221</td>\n      <td>7010</td>\n      <td>15100</td>\n      <td>961</td>\n    </tr>\n    <tr>\n      <th>3</th>\n      <td>Нижегородская область</td>\n      <td>16414</td>\n      <td>217</td>\n      <td>6636</td>\n      <td>9566</td>\n      <td>212</td>\n    </tr>\n    <tr>\n      <th>4</th>\n      <td>Свердловская область</td>\n      <td>11684</td>\n      <td>192</td>\n      <td>5106</td>\n      <td>6496</td>\n      <td>82</td>\n    </tr>\n  </tbody>\n</table>\n</div>"
     },
     "metadata": {},
     "execution_count": 24
    }
   ],
   "source": [
    "# Parse html file\n",
    "DAY = datetime.datetime.now().strftime(\"%d\").lstrip('0')\n",
    "MONTH = datetime.datetime.now().strftime(\"%m\").lstrip('0')\n",
    "# DAY = 23\n",
    "# MONTH = 6\n",
    "# SUB = '/scrf'\n",
    "SUB = ''\n",
    "file_name = 'Оперативные данные _ Коронавирус COVID–19_ Официальная информация о коронавирусе в России на портале – стопкоронавирус.рф.html'\n",
    "\n",
    "# Save of \"https://xn--80aesfpebagmfblc0a.xn--p1ai/information/\" page\n",
    "path = f'html_data/{DAY}-{MONTH}{SUB}/{file_name}'\n",
    "parse_df = pd.read_html(path, encoding='utf-8')[0]\n",
    "\n",
    "parse_df.head()"
   ]
  },
  {
   "cell_type": "code",
   "execution_count": 25,
   "metadata": {},
   "outputs": [
    {
     "output_type": "execute_result",
     "data": {
      "text/plain": "                     Region/City  Confirmed  Recovered  Deaths       Date\n0                         Москва     217791     142194    3669 2020-06-25\n1             Московская область      55853      29002     832 2020-06-25\n2                Санкт-Петербург      23071      15100     961 2020-06-25\n3          Нижегородская область      16414       9566     212 2020-06-25\n4           Свердловская область      11684       6496      82 2020-06-25\n..                           ...        ...        ...     ...        ...\n80              Республика Алтай        511        215       0 2020-06-25\n81  Еврейская автономная область        408        332       5 2020-06-25\n82                   Севастополь        215        170       3 2020-06-25\n83    Чукотский автономный округ        135        122       1 2020-06-25\n84     Ненецкий автономный округ         95         35       0 2020-06-25\n\n[85 rows x 5 columns]",
      "text/html": "<div>\n<style scoped>\n    .dataframe tbody tr th:only-of-type {\n        vertical-align: middle;\n    }\n\n    .dataframe tbody tr th {\n        vertical-align: top;\n    }\n\n    .dataframe thead th {\n        text-align: right;\n    }\n</style>\n<table border=\"1\" class=\"dataframe\">\n  <thead>\n    <tr style=\"text-align: right;\">\n      <th></th>\n      <th>Region/City</th>\n      <th>Confirmed</th>\n      <th>Recovered</th>\n      <th>Deaths</th>\n      <th>Date</th>\n    </tr>\n  </thead>\n  <tbody>\n    <tr>\n      <th>0</th>\n      <td>Москва</td>\n      <td>217791</td>\n      <td>142194</td>\n      <td>3669</td>\n      <td>2020-06-25</td>\n    </tr>\n    <tr>\n      <th>1</th>\n      <td>Московская область</td>\n      <td>55853</td>\n      <td>29002</td>\n      <td>832</td>\n      <td>2020-06-25</td>\n    </tr>\n    <tr>\n      <th>2</th>\n      <td>Санкт-Петербург</td>\n      <td>23071</td>\n      <td>15100</td>\n      <td>961</td>\n      <td>2020-06-25</td>\n    </tr>\n    <tr>\n      <th>3</th>\n      <td>Нижегородская область</td>\n      <td>16414</td>\n      <td>9566</td>\n      <td>212</td>\n      <td>2020-06-25</td>\n    </tr>\n    <tr>\n      <th>4</th>\n      <td>Свердловская область</td>\n      <td>11684</td>\n      <td>6496</td>\n      <td>82</td>\n      <td>2020-06-25</td>\n    </tr>\n    <tr>\n      <th>...</th>\n      <td>...</td>\n      <td>...</td>\n      <td>...</td>\n      <td>...</td>\n      <td>...</td>\n    </tr>\n    <tr>\n      <th>80</th>\n      <td>Республика Алтай</td>\n      <td>511</td>\n      <td>215</td>\n      <td>0</td>\n      <td>2020-06-25</td>\n    </tr>\n    <tr>\n      <th>81</th>\n      <td>Еврейская автономная область</td>\n      <td>408</td>\n      <td>332</td>\n      <td>5</td>\n      <td>2020-06-25</td>\n    </tr>\n    <tr>\n      <th>82</th>\n      <td>Севастополь</td>\n      <td>215</td>\n      <td>170</td>\n      <td>3</td>\n      <td>2020-06-25</td>\n    </tr>\n    <tr>\n      <th>83</th>\n      <td>Чукотский автономный округ</td>\n      <td>135</td>\n      <td>122</td>\n      <td>1</td>\n      <td>2020-06-25</td>\n    </tr>\n    <tr>\n      <th>84</th>\n      <td>Ненецкий автономный округ</td>\n      <td>95</td>\n      <td>35</td>\n      <td>0</td>\n      <td>2020-06-25</td>\n    </tr>\n  </tbody>\n</table>\n<p>85 rows × 5 columns</p>\n</div>"
     },
     "metadata": {},
     "execution_count": 25
    }
   ],
   "source": [
    "# Modifi data frame\n",
    "parse_df = parse_df.drop(parse_df.columns[2:4] , axis=1)\n",
    "parse_df.columns = ['Region/City', 'Confirmed', 'Recovered', 'Deaths']\n",
    "parse_df['Date'] = pd.Timestamp(f'2020-{MONTH}-{DAY}')\n",
    "parse_df"
   ]
  },
  {
   "cell_type": "markdown",
   "metadata": {},
   "source": [
    "# Preparing parsed data"
   ]
  },
  {
   "cell_type": "code",
   "execution_count": 26,
   "metadata": {},
   "outputs": [
    {
     "output_type": "execute_result",
     "data": {
      "text/plain": "            Date                 Region/City                 Region/City-Eng  \\\n8928  2020-06-24         Челябинская область              Chelyabinsk region   \n8929  2020-06-24        Чеченская Республика                Chechen Republic   \n8930  2020-06-24  Чукотский автономный округ       Chukotka Autonomous Okrug   \n8931  2020-06-24           Ямало-Ненецкий АО  Yamalo-Nenets Autonomous Okrug   \n8932  2020-06-24         Ярославская область                Yaroslavl region   \n\n      Region_ID  Day-Confirmed  Day-Deaths  Day-Recovered  Confirmed  Deaths  \\\n8928       74.0          185.0         0.0          328.0     6268.0    70.0   \n8929       95.0           11.0         0.0            1.0     1645.0    20.0   \n8930       87.0            1.0         0.0           11.0      135.0     1.0   \n8931       89.0          137.0         3.0           63.0     4553.0    33.0   \n8932       76.0           44.0         1.0          178.0     4526.0    18.0   \n\n      Recovered  \n8928     3343.0  \n8929     1175.0  \n8930      122.0  \n8931     1967.0  \n8932     2864.0  ",
      "text/html": "<div>\n<style scoped>\n    .dataframe tbody tr th:only-of-type {\n        vertical-align: middle;\n    }\n\n    .dataframe tbody tr th {\n        vertical-align: top;\n    }\n\n    .dataframe thead th {\n        text-align: right;\n    }\n</style>\n<table border=\"1\" class=\"dataframe\">\n  <thead>\n    <tr style=\"text-align: right;\">\n      <th></th>\n      <th>Date</th>\n      <th>Region/City</th>\n      <th>Region/City-Eng</th>\n      <th>Region_ID</th>\n      <th>Day-Confirmed</th>\n      <th>Day-Deaths</th>\n      <th>Day-Recovered</th>\n      <th>Confirmed</th>\n      <th>Deaths</th>\n      <th>Recovered</th>\n    </tr>\n  </thead>\n  <tbody>\n    <tr>\n      <th>8928</th>\n      <td>2020-06-24</td>\n      <td>Челябинская область</td>\n      <td>Chelyabinsk region</td>\n      <td>74.0</td>\n      <td>185.0</td>\n      <td>0.0</td>\n      <td>328.0</td>\n      <td>6268.0</td>\n      <td>70.0</td>\n      <td>3343.0</td>\n    </tr>\n    <tr>\n      <th>8929</th>\n      <td>2020-06-24</td>\n      <td>Чеченская Республика</td>\n      <td>Chechen Republic</td>\n      <td>95.0</td>\n      <td>11.0</td>\n      <td>0.0</td>\n      <td>1.0</td>\n      <td>1645.0</td>\n      <td>20.0</td>\n      <td>1175.0</td>\n    </tr>\n    <tr>\n      <th>8930</th>\n      <td>2020-06-24</td>\n      <td>Чукотский автономный округ</td>\n      <td>Chukotka Autonomous Okrug</td>\n      <td>87.0</td>\n      <td>1.0</td>\n      <td>0.0</td>\n      <td>11.0</td>\n      <td>135.0</td>\n      <td>1.0</td>\n      <td>122.0</td>\n    </tr>\n    <tr>\n      <th>8931</th>\n      <td>2020-06-24</td>\n      <td>Ямало-Ненецкий АО</td>\n      <td>Yamalo-Nenets Autonomous Okrug</td>\n      <td>89.0</td>\n      <td>137.0</td>\n      <td>3.0</td>\n      <td>63.0</td>\n      <td>4553.0</td>\n      <td>33.0</td>\n      <td>1967.0</td>\n    </tr>\n    <tr>\n      <th>8932</th>\n      <td>2020-06-24</td>\n      <td>Ярославская область</td>\n      <td>Yaroslavl region</td>\n      <td>76.0</td>\n      <td>44.0</td>\n      <td>1.0</td>\n      <td>178.0</td>\n      <td>4526.0</td>\n      <td>18.0</td>\n      <td>2864.0</td>\n    </tr>\n  </tbody>\n</table>\n</div>"
     },
     "metadata": {},
     "execution_count": 26
    }
   ],
   "source": [
    "file_name = 'release/covid19-russia-cases-scrf.csv'\n",
    "rus_df = pd.read_csv(file_name)\n",
    "rus_df.tail()"
   ]
  },
  {
   "cell_type": "code",
   "execution_count": 27,
   "metadata": {},
   "outputs": [],
   "source": [
    "# Add day columns\n",
    "parse_df['Day-Confirmed'] = 0\n",
    "parse_df['Day-Deaths'] = 0\n",
    "parse_df['Day-Recovered'] = 0\n",
    "\n",
    "# Strip text data\n",
    "rus_df['Region/City'] = rus_df['Region/City'].astype('str').str.strip('\\u200b') \n",
    "parse_df['Region/City'] = parse_df['Region/City'].astype('str').str.strip('\\u200b')\n",
    "\n",
    "# Rename regions\n",
    "rename_dict = {\n",
    "    'Ямало-Ненецкий автономный округ' : 'Ямало-Ненецкий АО',\n",
    "    'Республика Северная Осетия — Алания' : 'Республика Северная Осетия - Алания',\n",
    "}\n",
    "\n",
    "parse_df['Region/City'] = parse_df['Region/City'].replace(rename_dict)"
   ]
  },
  {
   "cell_type": "code",
   "execution_count": 28,
   "metadata": {},
   "outputs": [],
   "source": [
    "def upd(row):\n",
    "    reg = row['Region/City']\n",
    "    \n",
    "    row['Day-Confirmed'] = row['Confirmed'] - rus_df[rus_df['Region/City'] == reg]['Day-Confirmed'].sum()\n",
    "    row['Day-Deaths']    = row['Deaths'] - rus_df[rus_df['Region/City'] == reg]['Day-Deaths'].sum()\n",
    "    row['Day-Recovered'] = row['Recovered'] - rus_df[rus_df['Region/City'] == reg]['Day-Recovered'].sum()\n",
    "    \n",
    "    row['Day-Confirmed'] = row['Confirmed'] if np.isnan(row['Day-Confirmed']) else row['Day-Confirmed']\n",
    "    row['Day-Deaths']    = row['Deaths'] if np.isnan(row['Day-Deaths']) else row['Day-Deaths']\n",
    "    row['Day-Recovered'] = row['Recovered'] if np.isnan(row['Day-Recovered']) else row['Day-Recovered']\n",
    "    \n",
    "    return row.drop('Region/City')\n",
    "\n",
    "parse_df = parse_df.groupby('Region/City').apply(lambda df: upd(df.iloc[0])).reset_index()"
   ]
  },
  {
   "cell_type": "code",
   "execution_count": 29,
   "metadata": {},
   "outputs": [
    {
     "output_type": "execute_result",
     "data": {
      "text/plain": "Empty DataFrame\nColumns: [Region/City, Confirmed, Recovered, Deaths, Date, Day-Confirmed, Day-Deaths, Day-Recovered]\nIndex: []",
      "text/html": "<div>\n<style scoped>\n    .dataframe tbody tr th:only-of-type {\n        vertical-align: middle;\n    }\n\n    .dataframe tbody tr th {\n        vertical-align: top;\n    }\n\n    .dataframe thead th {\n        text-align: right;\n    }\n</style>\n<table border=\"1\" class=\"dataframe\">\n  <thead>\n    <tr style=\"text-align: right;\">\n      <th></th>\n      <th>Region/City</th>\n      <th>Confirmed</th>\n      <th>Recovered</th>\n      <th>Deaths</th>\n      <th>Date</th>\n      <th>Day-Confirmed</th>\n      <th>Day-Deaths</th>\n      <th>Day-Recovered</th>\n    </tr>\n  </thead>\n  <tbody>\n  </tbody>\n</table>\n</div>"
     },
     "metadata": {},
     "execution_count": 29
    }
   ],
   "source": [
    "# Check for missed regions\n",
    "parse_df[np.isnan(parse_df['Day-Confirmed'])]"
   ]
  },
  {
   "cell_type": "markdown",
   "metadata": {},
   "source": [
    "# Data checking"
   ]
  },
  {
   "cell_type": "code",
   "execution_count": 30,
   "metadata": {
    "tags": []
   },
   "outputs": [
    {
     "output_type": "stream",
     "name": "stdout",
     "text": "Russia Confirmed: 613994 Day-Confirmed: 7113.0\nRussia Deaths: 8605 Day-Deaths: 92.0\nRussia Recovered: 375164 Day-Recovered: 6342.0\n"
    }
   ],
   "source": [
    "print('Russia Confirmed:', parse_df.groupby('Region/City')['Confirmed'].max().sum(),\n",
    "      'Day-Confirmed:', parse_df.groupby('Region/City')['Day-Confirmed'].sum().sum())\n",
    "print('Russia Deaths:', parse_df.groupby('Region/City')['Deaths'].max().sum(),\n",
    "      'Day-Deaths:', parse_df.groupby('Region/City')['Day-Deaths'].sum().sum())\n",
    "print('Russia Recovered:', parse_df.groupby('Region/City')['Recovered'].max().sum(),\n",
    "      'Day-Recovered:', parse_df.groupby('Region/City')['Day-Recovered'].sum().sum())\n",
    "\n",
    "# rus_regs = rus_sum.groupby('Region/City')['Recovered'].max().reset_index()\n",
    "# rus_regs['Recovered-ByDay'] = rus_sum.groupby('Region/City')['Day-Recovered'].sum().reset_index(drop=True)\n",
    "# rus_regs.loc[rus_regs['Recovered'] != rus_regs['Recovered-ByDay']]\n",
    "# # rus_regs.to_csv('rus_regs.csv')"
   ]
  },
  {
   "cell_type": "markdown",
   "metadata": {},
   "source": [
    "# Data saving"
   ]
  },
  {
   "cell_type": "code",
   "execution_count": 31,
   "metadata": {},
   "outputs": [],
   "source": [
    "# Save full update table\n",
    "parse_df.to_csv(f'covid19-russia-cases-upd-full-scrf.csv', index=False)"
   ]
  },
  {
   "cell_type": "code",
   "execution_count": 32,
   "metadata": {},
   "outputs": [],
   "source": [
    "# Drop rows without day changes\n",
    "parse_df = parse_df[(parse_df['Day-Confirmed'] != 0) |\n",
    "                (parse_df['Day-Deaths'] != 0) |\n",
    "                (parse_df['Day-Recovered'] != 0)]"
   ]
  },
  {
   "cell_type": "code",
   "execution_count": 33,
   "metadata": {},
   "outputs": [],
   "source": [
    "parse_df.to_csv(f'old_data/covid19-russia-cases-upd{DAY}-{MONTH}-scrf.csv', index=False)\n",
    "parse_df.to_csv('covid19-russia-cases-upd-scrf.csv', index=False)"
   ]
  }
 ],
 "metadata": {
  "language_info": {
   "codemirror_mode": {
    "name": "ipython",
    "version": 3
   },
   "file_extension": ".py",
   "mimetype": "text/x-python",
   "name": "python",
   "nbconvert_exporter": "python",
   "pygments_lexer": "ipython3",
   "version": "3.7.6-final"
  },
  "orig_nbformat": 2,
  "kernelspec": {
   "name": "python3",
   "display_name": "Python 3"
  }
 },
 "nbformat": 4,
 "nbformat_minor": 2
}