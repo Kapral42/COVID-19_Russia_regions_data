{
 "cells": [
  {
   "cell_type": "code",
   "execution_count": 7,
   "metadata": {},
   "outputs": [],
   "source": [
    "import numpy as np\n",
    "import pandas as pd\n",
    "\n",
    "# visualization\n",
    "import seaborn as sns\n",
    "import plotly.express as px\n",
    "import plotly.graph_objs as go\n",
    "import plotly.figure_factory as ff\n",
    "# import folium"
   ]
  },
  {
   "cell_type": "code",
   "execution_count": 8,
   "metadata": {},
   "outputs": [
    {
     "output_type": "execute_result",
     "data": {
      "text/plain": "                   Город           Город геоточка  Город население  \\\n38185  Ленинск-Кузнецкий   [54.663609, 86.162243]            96139   \n38186          Ульяновск   [54.316855, 48.402557]           626540   \n38187          Хабаровск  [48.480223, 135.071917]           618150   \n38188        Новоалтайск    [53.412021, 83.93107]            73439   \n38189       Электросталь   [55.784445, 38.444849]           158226   \n\n             Дата Последняя дата                         Регион  \\\n38185  23.02.2020            Нет  Кемеровская область (Кузбасс)   \n38186  23.02.2020            Нет            Ульяновская область   \n38187  23.02.2020            Нет               Хабаровский край   \n38188  23.02.2020            Нет                 Алтайский край   \n38189  23.02.2020            Нет    Москва и Московская область   \n\n       Регион geo_id          Регион геоточка  Регион население  Индекс  \\\n38185          11282   [54.779047, 87.207361]           2694877     2.7   \n38186          11153   [53.891057, 47.606533]           1246618     2.8   \n38187          11457  [60.567116, 143.008928]           1328302     2.6   \n38188          11235   [52.129671, 82.530013]           2350080     2.8   \n38189              1   [55.815792, 37.380031]           7503385     2.9   \n\n       Индекс день назад  Индекс неделю назад  \n38185                0.0                  0.0  \n38186                0.0                  0.0  \n38187                0.0                  0.0  \n38188                0.0                  0.0  \n38189                0.0                  0.0  ",
      "text/html": "<div>\n<style scoped>\n    .dataframe tbody tr th:only-of-type {\n        vertical-align: middle;\n    }\n\n    .dataframe tbody tr th {\n        vertical-align: top;\n    }\n\n    .dataframe thead th {\n        text-align: right;\n    }\n</style>\n<table border=\"1\" class=\"dataframe\">\n  <thead>\n    <tr style=\"text-align: right;\">\n      <th></th>\n      <th>Город</th>\n      <th>Город геоточка</th>\n      <th>Город население</th>\n      <th>Дата</th>\n      <th>Последняя дата</th>\n      <th>Регион</th>\n      <th>Регион geo_id</th>\n      <th>Регион геоточка</th>\n      <th>Регион население</th>\n      <th>Индекс</th>\n      <th>Индекс день назад</th>\n      <th>Индекс неделю назад</th>\n    </tr>\n  </thead>\n  <tbody>\n    <tr>\n      <th>38185</th>\n      <td>Ленинск-Кузнецкий</td>\n      <td>[54.663609, 86.162243]</td>\n      <td>96139</td>\n      <td>23.02.2020</td>\n      <td>Нет</td>\n      <td>Кемеровская область (Кузбасс)</td>\n      <td>11282</td>\n      <td>[54.779047, 87.207361]</td>\n      <td>2694877</td>\n      <td>2.7</td>\n      <td>0.0</td>\n      <td>0.0</td>\n    </tr>\n    <tr>\n      <th>38186</th>\n      <td>Ульяновск</td>\n      <td>[54.316855, 48.402557]</td>\n      <td>626540</td>\n      <td>23.02.2020</td>\n      <td>Нет</td>\n      <td>Ульяновская область</td>\n      <td>11153</td>\n      <td>[53.891057, 47.606533]</td>\n      <td>1246618</td>\n      <td>2.8</td>\n      <td>0.0</td>\n      <td>0.0</td>\n    </tr>\n    <tr>\n      <th>38187</th>\n      <td>Хабаровск</td>\n      <td>[48.480223, 135.071917]</td>\n      <td>618150</td>\n      <td>23.02.2020</td>\n      <td>Нет</td>\n      <td>Хабаровский край</td>\n      <td>11457</td>\n      <td>[60.567116, 143.008928]</td>\n      <td>1328302</td>\n      <td>2.6</td>\n      <td>0.0</td>\n      <td>0.0</td>\n    </tr>\n    <tr>\n      <th>38188</th>\n      <td>Новоалтайск</td>\n      <td>[53.412021, 83.93107]</td>\n      <td>73439</td>\n      <td>23.02.2020</td>\n      <td>Нет</td>\n      <td>Алтайский край</td>\n      <td>11235</td>\n      <td>[52.129671, 82.530013]</td>\n      <td>2350080</td>\n      <td>2.8</td>\n      <td>0.0</td>\n      <td>0.0</td>\n    </tr>\n    <tr>\n      <th>38189</th>\n      <td>Электросталь</td>\n      <td>[55.784445, 38.444849]</td>\n      <td>158226</td>\n      <td>23.02.2020</td>\n      <td>Нет</td>\n      <td>Москва и Московская область</td>\n      <td>1</td>\n      <td>[55.815792, 37.380031]</td>\n      <td>7503385</td>\n      <td>2.9</td>\n      <td>0.0</td>\n      <td>0.0</td>\n    </tr>\n  </tbody>\n</table>\n</div>"
     },
     "metadata": {},
     "execution_count": 8
    }
   ],
   "source": [
    "file_name = 'release/isolation_daily.csv'\n",
    "iso_df = pd.read_csv(file_name, sep=';')\n",
    "iso_df.tail()"
   ]
  },
  {
   "cell_type": "code",
   "execution_count": 9,
   "metadata": {},
   "outputs": [
    {
     "output_type": "execute_result",
     "data": {
      "text/plain": "            City                City_geo  City_pop        Date Date_last  \\\n0  Сергиев Посад  [56.315291, 38.135999]    103444  15.06.2020        Да   \n1       Хасавюрт  [43.246265, 46.590044]    141259  15.06.2020        Да   \n2   Петрозаводск  [61.787374, 34.354325]    263639  15.06.2020        Да   \n3         Самара  [53.195538, 50.101783]   1163399  15.06.2020        Да   \n4         Котлас   [61.25297, 46.633217]     61805  15.06.2020        Да   \n\n                        Region  Region_geo_id              Region_geo  \\\n0  Москва и Московская область              1  [55.815792, 37.380031]   \n1          Республика Дагестан          11010  [42.259793, 47.095742]   \n2           Республика Карелия          10933  [63.621324, 33.232608]   \n3            Самарская область          11131   [53.27635, 50.463301]   \n4        Архангельская область          10842  [63.637517, 43.336661]   \n\n   Region_pop  Isol_idx  Isol_idx_minus_day  Isol_idx_minus_week  \n0     7503385       1.3                 2.1                  1.6  \n1     3063885       1.9                 2.3                  2.1  \n2      622484       1.1                 2.7                  1.3  \n3     3193514       1.0                 2.4                  1.3  \n4     1111031       1.0                 2.2                  1.1  ",
      "text/html": "<div>\n<style scoped>\n    .dataframe tbody tr th:only-of-type {\n        vertical-align: middle;\n    }\n\n    .dataframe tbody tr th {\n        vertical-align: top;\n    }\n\n    .dataframe thead th {\n        text-align: right;\n    }\n</style>\n<table border=\"1\" class=\"dataframe\">\n  <thead>\n    <tr style=\"text-align: right;\">\n      <th></th>\n      <th>City</th>\n      <th>City_geo</th>\n      <th>City_pop</th>\n      <th>Date</th>\n      <th>Date_last</th>\n      <th>Region</th>\n      <th>Region_geo_id</th>\n      <th>Region_geo</th>\n      <th>Region_pop</th>\n      <th>Isol_idx</th>\n      <th>Isol_idx_minus_day</th>\n      <th>Isol_idx_minus_week</th>\n    </tr>\n  </thead>\n  <tbody>\n    <tr>\n      <th>0</th>\n      <td>Сергиев Посад</td>\n      <td>[56.315291, 38.135999]</td>\n      <td>103444</td>\n      <td>15.06.2020</td>\n      <td>Да</td>\n      <td>Москва и Московская область</td>\n      <td>1</td>\n      <td>[55.815792, 37.380031]</td>\n      <td>7503385</td>\n      <td>1.3</td>\n      <td>2.1</td>\n      <td>1.6</td>\n    </tr>\n    <tr>\n      <th>1</th>\n      <td>Хасавюрт</td>\n      <td>[43.246265, 46.590044]</td>\n      <td>141259</td>\n      <td>15.06.2020</td>\n      <td>Да</td>\n      <td>Республика Дагестан</td>\n      <td>11010</td>\n      <td>[42.259793, 47.095742]</td>\n      <td>3063885</td>\n      <td>1.9</td>\n      <td>2.3</td>\n      <td>2.1</td>\n    </tr>\n    <tr>\n      <th>2</th>\n      <td>Петрозаводск</td>\n      <td>[61.787374, 34.354325]</td>\n      <td>263639</td>\n      <td>15.06.2020</td>\n      <td>Да</td>\n      <td>Республика Карелия</td>\n      <td>10933</td>\n      <td>[63.621324, 33.232608]</td>\n      <td>622484</td>\n      <td>1.1</td>\n      <td>2.7</td>\n      <td>1.3</td>\n    </tr>\n    <tr>\n      <th>3</th>\n      <td>Самара</td>\n      <td>[53.195538, 50.101783]</td>\n      <td>1163399</td>\n      <td>15.06.2020</td>\n      <td>Да</td>\n      <td>Самарская область</td>\n      <td>11131</td>\n      <td>[53.27635, 50.463301]</td>\n      <td>3193514</td>\n      <td>1.0</td>\n      <td>2.4</td>\n      <td>1.3</td>\n    </tr>\n    <tr>\n      <th>4</th>\n      <td>Котлас</td>\n      <td>[61.25297, 46.633217]</td>\n      <td>61805</td>\n      <td>15.06.2020</td>\n      <td>Да</td>\n      <td>Архангельская область</td>\n      <td>10842</td>\n      <td>[63.637517, 43.336661]</td>\n      <td>1111031</td>\n      <td>1.0</td>\n      <td>2.2</td>\n      <td>1.1</td>\n    </tr>\n  </tbody>\n</table>\n</div>"
     },
     "metadata": {},
     "execution_count": 9
    }
   ],
   "source": [
    "# Rename columns\n",
    "iso_df = iso_df.rename(columns={'Город' : 'City', 'Город геоточка' : 'City_geo', 'Город население' : 'City_pop',\n",
    "                       'Дата' : 'Date', 'Последняя дата' : 'Date_last', 'Регион' : 'Region',\n",
    "                       'Регион geo_id' : 'Region_geo_id', 'Регион геоточка' : 'Region_geo',\n",
    "                       'Регион население' : 'Region_pop', 'Индекс' : 'Isol_idx',\n",
    "                       'Индекс день назад' : 'Isol_idx_minus_day', 'Индекс неделю назад' : 'Isol_idx_minus_week'})\n",
    "\n",
    "iso_df.head()\n"
   ]
  },
  {
   "cell_type": "code",
   "execution_count": 10,
   "metadata": {},
   "outputs": [
    {
     "output_type": "display_data",
     "data": {
      "application/vnd.plotly.v1+json": {
       "config": {
        "plotlyServerURL": "https://plot.ly"
       },
       "data": [
        {
         "alignmentgroup": "True",
         "hovertemplate": "Date=%{x}<br>value=%{marker.color}<extra></extra>",
         "legendgroup": "",
         "marker": {
          "color": [
           2.5,
           2.5,
           0.3,
           0.3,
           0.3,
           0.3,
           1.9,
           2.5,
           0.4,
           0.3,
           0.3,
           0.3,
           0.3,
           1.8,
           2.4,
           2.3,
           0.4,
           0.3,
           0.3,
           0.4,
           1.9,
           2.7,
           0.6,
           0.6,
           0.8,
           0.9,
           1,
           2.4,
           2.9,
           1.3,
           1.3,
           1.2,
           1.3,
           1.3,
           2.9,
           3.5,
           3.2,
           3.4,
           3.4,
           3.4,
           3.4,
           3.8,
           4,
           3.1,
           3.1,
           3,
           2.9,
           3,
           3.5,
           3.7,
           3.2,
           3.2,
           3.4,
           3.4,
           3.4,
           3.9,
           4.1,
           3.3,
           3.2,
           3.3,
           3.2,
           3.2,
           3.7,
           3.8,
           3,
           3,
           3,
           2.8,
           3.5,
           3.5,
           3.5,
           3.4,
           3.3,
           2.8,
           2.8,
           2.8,
           3.6,
           3.6,
           3.2,
           2.5,
           2.5,
           2.5,
           2.4,
           3.1,
           3.4,
           2.3,
           2.3,
           2.2,
           2.3,
           2.3,
           3,
           3.3,
           2.1,
           2,
           2,
           1.9,
           2.2,
           2.7,
           3.3,
           1.8,
           1.8,
           1.8,
           1.7,
           1.6,
           2.2,
           2.5,
           1.3,
           1.1,
           1.1,
           1,
           2,
           2.2,
           2.2,
           0.8
          ],
          "coloraxis": "coloraxis"
         },
         "name": "",
         "offsetgroup": "",
         "orientation": "v",
         "showlegend": false,
         "textposition": "auto",
         "type": "bar",
         "x": [
          "2020-02-23T00:00:00",
          "2020-02-24T00:00:00",
          "2020-02-25T00:00:00",
          "2020-02-26T00:00:00",
          "2020-02-27T00:00:00",
          "2020-02-28T00:00:00",
          "2020-02-29T00:00:00",
          "2020-03-01T00:00:00",
          "2020-03-02T00:00:00",
          "2020-03-03T00:00:00",
          "2020-03-04T00:00:00",
          "2020-03-05T00:00:00",
          "2020-03-06T00:00:00",
          "2020-03-07T00:00:00",
          "2020-03-08T00:00:00",
          "2020-03-09T00:00:00",
          "2020-03-10T00:00:00",
          "2020-03-11T00:00:00",
          "2020-03-12T00:00:00",
          "2020-03-13T00:00:00",
          "2020-03-14T00:00:00",
          "2020-03-15T00:00:00",
          "2020-03-16T00:00:00",
          "2020-03-17T00:00:00",
          "2020-03-18T00:00:00",
          "2020-03-19T00:00:00",
          "2020-03-20T00:00:00",
          "2020-03-21T00:00:00",
          "2020-03-22T00:00:00",
          "2020-03-23T00:00:00",
          "2020-03-24T00:00:00",
          "2020-03-25T00:00:00",
          "2020-03-26T00:00:00",
          "2020-03-27T00:00:00",
          "2020-03-28T00:00:00",
          "2020-03-29T00:00:00",
          "2020-03-30T00:00:00",
          "2020-03-31T00:00:00",
          "2020-04-01T00:00:00",
          "2020-04-02T00:00:00",
          "2020-04-03T00:00:00",
          "2020-04-04T00:00:00",
          "2020-04-05T00:00:00",
          "2020-04-06T00:00:00",
          "2020-04-07T00:00:00",
          "2020-04-08T00:00:00",
          "2020-04-09T00:00:00",
          "2020-04-10T00:00:00",
          "2020-04-11T00:00:00",
          "2020-04-12T00:00:00",
          "2020-04-13T00:00:00",
          "2020-04-14T00:00:00",
          "2020-04-15T00:00:00",
          "2020-04-16T00:00:00",
          "2020-04-17T00:00:00",
          "2020-04-18T00:00:00",
          "2020-04-19T00:00:00",
          "2020-04-20T00:00:00",
          "2020-04-21T00:00:00",
          "2020-04-22T00:00:00",
          "2020-04-23T00:00:00",
          "2020-04-24T00:00:00",
          "2020-04-25T00:00:00",
          "2020-04-26T00:00:00",
          "2020-04-27T00:00:00",
          "2020-04-28T00:00:00",
          "2020-04-29T00:00:00",
          "2020-04-30T00:00:00",
          "2020-05-01T00:00:00",
          "2020-05-02T00:00:00",
          "2020-05-03T00:00:00",
          "2020-05-04T00:00:00",
          "2020-05-05T00:00:00",
          "2020-05-06T00:00:00",
          "2020-05-07T00:00:00",
          "2020-05-08T00:00:00",
          "2020-05-09T00:00:00",
          "2020-05-10T00:00:00",
          "2020-05-11T00:00:00",
          "2020-05-12T00:00:00",
          "2020-05-13T00:00:00",
          "2020-05-14T00:00:00",
          "2020-05-15T00:00:00",
          "2020-05-16T00:00:00",
          "2020-05-17T00:00:00",
          "2020-05-18T00:00:00",
          "2020-05-19T00:00:00",
          "2020-05-20T00:00:00",
          "2020-05-21T00:00:00",
          "2020-05-22T00:00:00",
          "2020-05-23T00:00:00",
          "2020-05-24T00:00:00",
          "2020-05-25T00:00:00",
          "2020-05-26T00:00:00",
          "2020-05-27T00:00:00",
          "2020-05-28T00:00:00",
          "2020-05-29T00:00:00",
          "2020-05-30T00:00:00",
          "2020-05-31T00:00:00",
          "2020-06-01T00:00:00",
          "2020-06-02T00:00:00",
          "2020-06-03T00:00:00",
          "2020-06-04T00:00:00",
          "2020-06-05T00:00:00",
          "2020-06-06T00:00:00",
          "2020-06-07T00:00:00",
          "2020-06-08T00:00:00",
          "2020-06-09T00:00:00",
          "2020-06-10T00:00:00",
          "2020-06-11T00:00:00",
          "2020-06-12T00:00:00",
          "2020-06-13T00:00:00",
          "2020-06-14T00:00:00",
          "2020-06-15T00:00:00"
         ],
         "xaxis": "x",
         "y": [
          2.5,
          2.5,
          0.3,
          0.3,
          0.3,
          0.3,
          1.9,
          2.5,
          0.4,
          0.3,
          0.3,
          0.3,
          0.3,
          1.8,
          2.4,
          2.3,
          0.4,
          0.3,
          0.3,
          0.4,
          1.9,
          2.7,
          0.6,
          0.6,
          0.8,
          0.9,
          1,
          2.4,
          2.9,
          1.3,
          1.3,
          1.2,
          1.3,
          1.3,
          2.9,
          3.5,
          3.2,
          3.4,
          3.4,
          3.4,
          3.4,
          3.8,
          4,
          3.1,
          3.1,
          3,
          2.9,
          3,
          3.5,
          3.7,
          3.2,
          3.2,
          3.4,
          3.4,
          3.4,
          3.9,
          4.1,
          3.3,
          3.2,
          3.3,
          3.2,
          3.2,
          3.7,
          3.8,
          3,
          3,
          3,
          2.8,
          3.5,
          3.5,
          3.5,
          3.4,
          3.3,
          2.8,
          2.8,
          2.8,
          3.6,
          3.6,
          3.2,
          2.5,
          2.5,
          2.5,
          2.4,
          3.1,
          3.4,
          2.3,
          2.3,
          2.2,
          2.3,
          2.3,
          3,
          3.3,
          2.1,
          2,
          2,
          1.9,
          2.2,
          2.7,
          3.3,
          1.8,
          1.8,
          1.8,
          1.7,
          1.6,
          2.2,
          2.5,
          1.3,
          1.1,
          1.1,
          1,
          2,
          2.2,
          2.2,
          0.8
         ],
         "yaxis": "y"
        }
       ],
       "layout": {
        "barmode": "group",
        "coloraxis": {
         "colorbar": {
          "title": {
           "text": "value"
          }
         },
         "colorscale": [
          [
           0,
           "#0d0887"
          ],
          [
           0.1111111111111111,
           "#46039f"
          ],
          [
           0.2222222222222222,
           "#7201a8"
          ],
          [
           0.3333333333333333,
           "#9c179e"
          ],
          [
           0.4444444444444444,
           "#bd3786"
          ],
          [
           0.5555555555555556,
           "#d8576b"
          ],
          [
           0.6666666666666666,
           "#ed7953"
          ],
          [
           0.7777777777777778,
           "#fb9f3a"
          ],
          [
           0.8888888888888888,
           "#fdca26"
          ],
          [
           1,
           "#f0f921"
          ]
         ]
        },
        "legend": {
         "tracegroupgap": 0
        },
        "template": {
         "data": {
          "bar": [
           {
            "error_x": {
             "color": "#2a3f5f"
            },
            "error_y": {
             "color": "#2a3f5f"
            },
            "marker": {
             "line": {
              "color": "#E5ECF6",
              "width": 0.5
             }
            },
            "type": "bar"
           }
          ],
          "barpolar": [
           {
            "marker": {
             "line": {
              "color": "#E5ECF6",
              "width": 0.5
             }
            },
            "type": "barpolar"
           }
          ],
          "carpet": [
           {
            "aaxis": {
             "endlinecolor": "#2a3f5f",
             "gridcolor": "white",
             "linecolor": "white",
             "minorgridcolor": "white",
             "startlinecolor": "#2a3f5f"
            },
            "baxis": {
             "endlinecolor": "#2a3f5f",
             "gridcolor": "white",
             "linecolor": "white",
             "minorgridcolor": "white",
             "startlinecolor": "#2a3f5f"
            },
            "type": "carpet"
           }
          ],
          "choropleth": [
           {
            "colorbar": {
             "outlinewidth": 0,
             "ticks": ""
            },
            "type": "choropleth"
           }
          ],
          "contour": [
           {
            "colorbar": {
             "outlinewidth": 0,
             "ticks": ""
            },
            "colorscale": [
             [
              0,
              "#0d0887"
             ],
             [
              0.1111111111111111,
              "#46039f"
             ],
             [
              0.2222222222222222,
              "#7201a8"
             ],
             [
              0.3333333333333333,
              "#9c179e"
             ],
             [
              0.4444444444444444,
              "#bd3786"
             ],
             [
              0.5555555555555556,
              "#d8576b"
             ],
             [
              0.6666666666666666,
              "#ed7953"
             ],
             [
              0.7777777777777778,
              "#fb9f3a"
             ],
             [
              0.8888888888888888,
              "#fdca26"
             ],
             [
              1,
              "#f0f921"
             ]
            ],
            "type": "contour"
           }
          ],
          "contourcarpet": [
           {
            "colorbar": {
             "outlinewidth": 0,
             "ticks": ""
            },
            "type": "contourcarpet"
           }
          ],
          "heatmap": [
           {
            "colorbar": {
             "outlinewidth": 0,
             "ticks": ""
            },
            "colorscale": [
             [
              0,
              "#0d0887"
             ],
             [
              0.1111111111111111,
              "#46039f"
             ],
             [
              0.2222222222222222,
              "#7201a8"
             ],
             [
              0.3333333333333333,
              "#9c179e"
             ],
             [
              0.4444444444444444,
              "#bd3786"
             ],
             [
              0.5555555555555556,
              "#d8576b"
             ],
             [
              0.6666666666666666,
              "#ed7953"
             ],
             [
              0.7777777777777778,
              "#fb9f3a"
             ],
             [
              0.8888888888888888,
              "#fdca26"
             ],
             [
              1,
              "#f0f921"
             ]
            ],
            "type": "heatmap"
           }
          ],
          "heatmapgl": [
           {
            "colorbar": {
             "outlinewidth": 0,
             "ticks": ""
            },
            "colorscale": [
             [
              0,
              "#0d0887"
             ],
             [
              0.1111111111111111,
              "#46039f"
             ],
             [
              0.2222222222222222,
              "#7201a8"
             ],
             [
              0.3333333333333333,
              "#9c179e"
             ],
             [
              0.4444444444444444,
              "#bd3786"
             ],
             [
              0.5555555555555556,
              "#d8576b"
             ],
             [
              0.6666666666666666,
              "#ed7953"
             ],
             [
              0.7777777777777778,
              "#fb9f3a"
             ],
             [
              0.8888888888888888,
              "#fdca26"
             ],
             [
              1,
              "#f0f921"
             ]
            ],
            "type": "heatmapgl"
           }
          ],
          "histogram": [
           {
            "marker": {
             "colorbar": {
              "outlinewidth": 0,
              "ticks": ""
             }
            },
            "type": "histogram"
           }
          ],
          "histogram2d": [
           {
            "colorbar": {
             "outlinewidth": 0,
             "ticks": ""
            },
            "colorscale": [
             [
              0,
              "#0d0887"
             ],
             [
              0.1111111111111111,
              "#46039f"
             ],
             [
              0.2222222222222222,
              "#7201a8"
             ],
             [
              0.3333333333333333,
              "#9c179e"
             ],
             [
              0.4444444444444444,
              "#bd3786"
             ],
             [
              0.5555555555555556,
              "#d8576b"
             ],
             [
              0.6666666666666666,
              "#ed7953"
             ],
             [
              0.7777777777777778,
              "#fb9f3a"
             ],
             [
              0.8888888888888888,
              "#fdca26"
             ],
             [
              1,
              "#f0f921"
             ]
            ],
            "type": "histogram2d"
           }
          ],
          "histogram2dcontour": [
           {
            "colorbar": {
             "outlinewidth": 0,
             "ticks": ""
            },
            "colorscale": [
             [
              0,
              "#0d0887"
             ],
             [
              0.1111111111111111,
              "#46039f"
             ],
             [
              0.2222222222222222,
              "#7201a8"
             ],
             [
              0.3333333333333333,
              "#9c179e"
             ],
             [
              0.4444444444444444,
              "#bd3786"
             ],
             [
              0.5555555555555556,
              "#d8576b"
             ],
             [
              0.6666666666666666,
              "#ed7953"
             ],
             [
              0.7777777777777778,
              "#fb9f3a"
             ],
             [
              0.8888888888888888,
              "#fdca26"
             ],
             [
              1,
              "#f0f921"
             ]
            ],
            "type": "histogram2dcontour"
           }
          ],
          "mesh3d": [
           {
            "colorbar": {
             "outlinewidth": 0,
             "ticks": ""
            },
            "type": "mesh3d"
           }
          ],
          "parcoords": [
           {
            "line": {
             "colorbar": {
              "outlinewidth": 0,
              "ticks": ""
             }
            },
            "type": "parcoords"
           }
          ],
          "pie": [
           {
            "automargin": true,
            "type": "pie"
           }
          ],
          "scatter": [
           {
            "marker": {
             "colorbar": {
              "outlinewidth": 0,
              "ticks": ""
             }
            },
            "type": "scatter"
           }
          ],
          "scatter3d": [
           {
            "line": {
             "colorbar": {
              "outlinewidth": 0,
              "ticks": ""
             }
            },
            "marker": {
             "colorbar": {
              "outlinewidth": 0,
              "ticks": ""
             }
            },
            "type": "scatter3d"
           }
          ],
          "scattercarpet": [
           {
            "marker": {
             "colorbar": {
              "outlinewidth": 0,
              "ticks": ""
             }
            },
            "type": "scattercarpet"
           }
          ],
          "scattergeo": [
           {
            "marker": {
             "colorbar": {
              "outlinewidth": 0,
              "ticks": ""
             }
            },
            "type": "scattergeo"
           }
          ],
          "scattergl": [
           {
            "marker": {
             "colorbar": {
              "outlinewidth": 0,
              "ticks": ""
             }
            },
            "type": "scattergl"
           }
          ],
          "scattermapbox": [
           {
            "marker": {
             "colorbar": {
              "outlinewidth": 0,
              "ticks": ""
             }
            },
            "type": "scattermapbox"
           }
          ],
          "scatterpolar": [
           {
            "marker": {
             "colorbar": {
              "outlinewidth": 0,
              "ticks": ""
             }
            },
            "type": "scatterpolar"
           }
          ],
          "scatterpolargl": [
           {
            "marker": {
             "colorbar": {
              "outlinewidth": 0,
              "ticks": ""
             }
            },
            "type": "scatterpolargl"
           }
          ],
          "scatterternary": [
           {
            "marker": {
             "colorbar": {
              "outlinewidth": 0,
              "ticks": ""
             }
            },
            "type": "scatterternary"
           }
          ],
          "surface": [
           {
            "colorbar": {
             "outlinewidth": 0,
             "ticks": ""
            },
            "colorscale": [
             [
              0,
              "#0d0887"
             ],
             [
              0.1111111111111111,
              "#46039f"
             ],
             [
              0.2222222222222222,
              "#7201a8"
             ],
             [
              0.3333333333333333,
              "#9c179e"
             ],
             [
              0.4444444444444444,
              "#bd3786"
             ],
             [
              0.5555555555555556,
              "#d8576b"
             ],
             [
              0.6666666666666666,
              "#ed7953"
             ],
             [
              0.7777777777777778,
              "#fb9f3a"
             ],
             [
              0.8888888888888888,
              "#fdca26"
             ],
             [
              1,
              "#f0f921"
             ]
            ],
            "type": "surface"
           }
          ],
          "table": [
           {
            "cells": {
             "fill": {
              "color": "#EBF0F8"
             },
             "line": {
              "color": "white"
             }
            },
            "header": {
             "fill": {
              "color": "#C8D4E3"
             },
             "line": {
              "color": "white"
             }
            },
            "type": "table"
           }
          ]
         },
         "layout": {
          "annotationdefaults": {
           "arrowcolor": "#2a3f5f",
           "arrowhead": 0,
           "arrowwidth": 1
          },
          "coloraxis": {
           "colorbar": {
            "outlinewidth": 0,
            "ticks": ""
           }
          },
          "colorscale": {
           "diverging": [
            [
             0,
             "#8e0152"
            ],
            [
             0.1,
             "#c51b7d"
            ],
            [
             0.2,
             "#de77ae"
            ],
            [
             0.3,
             "#f1b6da"
            ],
            [
             0.4,
             "#fde0ef"
            ],
            [
             0.5,
             "#f7f7f7"
            ],
            [
             0.6,
             "#e6f5d0"
            ],
            [
             0.7,
             "#b8e186"
            ],
            [
             0.8,
             "#7fbc41"
            ],
            [
             0.9,
             "#4d9221"
            ],
            [
             1,
             "#276419"
            ]
           ],
           "sequential": [
            [
             0,
             "#0d0887"
            ],
            [
             0.1111111111111111,
             "#46039f"
            ],
            [
             0.2222222222222222,
             "#7201a8"
            ],
            [
             0.3333333333333333,
             "#9c179e"
            ],
            [
             0.4444444444444444,
             "#bd3786"
            ],
            [
             0.5555555555555556,
             "#d8576b"
            ],
            [
             0.6666666666666666,
             "#ed7953"
            ],
            [
             0.7777777777777778,
             "#fb9f3a"
            ],
            [
             0.8888888888888888,
             "#fdca26"
            ],
            [
             1,
             "#f0f921"
            ]
           ],
           "sequentialminus": [
            [
             0,
             "#0d0887"
            ],
            [
             0.1111111111111111,
             "#46039f"
            ],
            [
             0.2222222222222222,
             "#7201a8"
            ],
            [
             0.3333333333333333,
             "#9c179e"
            ],
            [
             0.4444444444444444,
             "#bd3786"
            ],
            [
             0.5555555555555556,
             "#d8576b"
            ],
            [
             0.6666666666666666,
             "#ed7953"
            ],
            [
             0.7777777777777778,
             "#fb9f3a"
            ],
            [
             0.8888888888888888,
             "#fdca26"
            ],
            [
             1,
             "#f0f921"
            ]
           ]
          },
          "colorway": [
           "#636efa",
           "#EF553B",
           "#00cc96",
           "#ab63fa",
           "#FFA15A",
           "#19d3f3",
           "#FF6692",
           "#B6E880",
           "#FF97FF",
           "#FECB52"
          ],
          "font": {
           "color": "#2a3f5f"
          },
          "geo": {
           "bgcolor": "white",
           "lakecolor": "white",
           "landcolor": "#E5ECF6",
           "showlakes": true,
           "showland": true,
           "subunitcolor": "white"
          },
          "hoverlabel": {
           "align": "left"
          },
          "hovermode": "closest",
          "mapbox": {
           "style": "light"
          },
          "paper_bgcolor": "white",
          "plot_bgcolor": "#E5ECF6",
          "polar": {
           "angularaxis": {
            "gridcolor": "white",
            "linecolor": "white",
            "ticks": ""
           },
           "bgcolor": "#E5ECF6",
           "radialaxis": {
            "gridcolor": "white",
            "linecolor": "white",
            "ticks": ""
           }
          },
          "scene": {
           "xaxis": {
            "backgroundcolor": "#E5ECF6",
            "gridcolor": "white",
            "gridwidth": 2,
            "linecolor": "white",
            "showbackground": true,
            "ticks": "",
            "zerolinecolor": "white"
           },
           "yaxis": {
            "backgroundcolor": "#E5ECF6",
            "gridcolor": "white",
            "gridwidth": 2,
            "linecolor": "white",
            "showbackground": true,
            "ticks": "",
            "zerolinecolor": "white"
           },
           "zaxis": {
            "backgroundcolor": "#E5ECF6",
            "gridcolor": "white",
            "gridwidth": 2,
            "linecolor": "white",
            "showbackground": true,
            "ticks": "",
            "zerolinecolor": "white"
           }
          },
          "shapedefaults": {
           "line": {
            "color": "#2a3f5f"
           }
          },
          "ternary": {
           "aaxis": {
            "gridcolor": "white",
            "linecolor": "white",
            "ticks": ""
           },
           "baxis": {
            "gridcolor": "white",
            "linecolor": "white",
            "ticks": ""
           },
           "bgcolor": "#E5ECF6",
           "caxis": {
            "gridcolor": "white",
            "linecolor": "white",
            "ticks": ""
           }
          },
          "title": {
           "x": 0.05
          },
          "xaxis": {
           "automargin": true,
           "gridcolor": "white",
           "linecolor": "white",
           "ticks": "",
           "title": {
            "standoff": 15
           },
           "zerolinecolor": "white",
           "zerolinewidth": 2
          },
          "yaxis": {
           "automargin": true,
           "gridcolor": "white",
           "linecolor": "white",
           "ticks": "",
           "title": {
            "standoff": 15
           },
           "zerolinecolor": "white",
           "zerolinewidth": 2
          }
         }
        },
        "title": {
         "text": "Moscow Yandex self-isolation index"
        },
        "xaxis": {
         "anchor": "y",
         "domain": [
          0,
          1
         ],
         "title": {
          "text": "Date"
         }
        },
        "yaxis": {
         "anchor": "x",
         "domain": [
          0,
          1
         ],
         "title": {
          "text": "Index"
         }
        }
       }
      }
     },
     "metadata": {}
    }
   ],
   "source": [
    "iso_df.Date = pd.to_datetime(iso_df.Date, dayfirst=True)\n",
    "\n",
    "temp = iso_df[iso_df.City == 'Москва'][['Date', 'Isol_idx']].sort_values('Date')\n",
    "temp = temp.melt(id_vars=\"Date\", \n",
    "                 value_vars=['Isol_idx'])\n",
    "\n",
    "fig = px.bar(temp, x=\"Date\", y=\"value\", color='value', title='Moscow Yandex self-isolation index')\n",
    "fig.update_layout(barmode='group', yaxis_title='Index')\n",
    "\n",
    "fig.show()"
   ]
  },
  {
   "cell_type": "code",
   "execution_count": 11,
   "metadata": {},
   "outputs": [
    {
     "output_type": "display_data",
     "data": {
      "application/vnd.plotly.v1+json": {
       "config": {
        "plotlyServerURL": "https://plot.ly"
       },
       "data": [
        {
         "alignmentgroup": "True",
         "hovertemplate": "Date=%{x}<br>value=%{marker.color}<extra></extra>",
         "legendgroup": "",
         "marker": {
          "color": [
           2.726567164179103,
           2.9056716417910433,
           1.1662686567164187,
           1.1125373134328356,
           1.1098507462686578,
           1.0964179104477605,
           2.295522388059702,
           2.7635820895522407,
           1.1453731343283584,
           1.0310447761194028,
           1.0035820895522385,
           0.9599999999999997,
           1.032238805970149,
           2.137313432835822,
           2.549253731343283,
           2.7883582089552226,
           1.0659701492537308,
           1.0370149253731342,
           1.0450746268656719,
           1.0573134328358205,
           2.206268656716417,
           2.9062686567164184,
           1.1862686567164182,
           1.1647761194029846,
           1.2805970149253731,
           1.3441791044776124,
           1.363283582089552,
           2.4614925373134304,
           2.9531343283582068,
           1.5770149253731336,
           1.542686567164179,
           1.511641791044776,
           1.5274626865671632,
           1.5313432835820893,
           2.8486567164179086,
           3.398208955223878,
           2.9746268656716404,
           3.1465671641791055,
           3.379402985074628,
           3.468059701492538,
           3.350447761194031,
           3.6826865671641813,
           3.866268656716418,
           3.022985074626865,
           2.9638805970149256,
           2.9214925373134304,
           2.848059701492538,
           2.775223880597019,
           3.3056716417910437,
           3.624776119402987,
           2.7280597014925374,
           2.6961194029850732,
           2.721492537313433,
           2.772537313432837,
           2.720597014925372,
           3.327761194029852,
           3.5782089552238823,
           2.779701492537314,
           2.7002985074626875,
           2.7361194029850746,
           2.7020895522388084,
           2.619701492537314,
           3.141492537313432,
           3.419402985074626,
           2.517014925373134,
           2.4886567164179105,
           2.4498507462686563,
           2.3394029850746256,
           3.0268656716417905,
           3.058805970149254,
           3.1626865671641804,
           2.9116417910447776,
           2.8934328358208976,
           2.3155223880597027,
           2.2997014925373143,
           2.2397014925373138,
           2.983880597014926,
           3.1495522388059705,
           2.8426865671641783,
           2.0743283582089553,
           2.1002985074626865,
           2.0707462686567166,
           2.00626865671642,
           2.67402985074627,
           2.9913432835820886,
           2.008656716417911,
           1.9671641791044765,
           1.9510447761194036,
           1.9832835820895511,
           1.9325373134328354,
           2.599402985074627,
           2.9597014925373126,
           1.9041791044776113,
           1.7671641791044783,
           1.7316417910447734,
           1.6910447761194027,
           1.7247761194029854,
           2.3946268656716434,
           2.9274626865671642,
           1.7173134328358188,
           1.6644776119402995,
           1.6471641791044762,
           1.6250746268656708,
           1.561791044776119,
           2.245074626865671,
           2.6385074626865666,
           1.557611940298507,
           1.4585074626865666,
           1.4579104477611942,
           1.4328358208955234,
           2.242089552238806,
           2.3477611940298533,
           2.6005970149253748,
           1.398805970149254
          ],
          "coloraxis": "coloraxis"
         },
         "name": "",
         "offsetgroup": "",
         "orientation": "v",
         "showlegend": false,
         "textposition": "auto",
         "type": "bar",
         "x": [
          "2020-02-23T00:00:00",
          "2020-02-24T00:00:00",
          "2020-02-25T00:00:00",
          "2020-02-26T00:00:00",
          "2020-02-27T00:00:00",
          "2020-02-28T00:00:00",
          "2020-02-29T00:00:00",
          "2020-03-01T00:00:00",
          "2020-03-02T00:00:00",
          "2020-03-03T00:00:00",
          "2020-03-04T00:00:00",
          "2020-03-05T00:00:00",
          "2020-03-06T00:00:00",
          "2020-03-07T00:00:00",
          "2020-03-08T00:00:00",
          "2020-03-09T00:00:00",
          "2020-03-10T00:00:00",
          "2020-03-11T00:00:00",
          "2020-03-12T00:00:00",
          "2020-03-13T00:00:00",
          "2020-03-14T00:00:00",
          "2020-03-15T00:00:00",
          "2020-03-16T00:00:00",
          "2020-03-17T00:00:00",
          "2020-03-18T00:00:00",
          "2020-03-19T00:00:00",
          "2020-03-20T00:00:00",
          "2020-03-21T00:00:00",
          "2020-03-22T00:00:00",
          "2020-03-23T00:00:00",
          "2020-03-24T00:00:00",
          "2020-03-25T00:00:00",
          "2020-03-26T00:00:00",
          "2020-03-27T00:00:00",
          "2020-03-28T00:00:00",
          "2020-03-29T00:00:00",
          "2020-03-30T00:00:00",
          "2020-03-31T00:00:00",
          "2020-04-01T00:00:00",
          "2020-04-02T00:00:00",
          "2020-04-03T00:00:00",
          "2020-04-04T00:00:00",
          "2020-04-05T00:00:00",
          "2020-04-06T00:00:00",
          "2020-04-07T00:00:00",
          "2020-04-08T00:00:00",
          "2020-04-09T00:00:00",
          "2020-04-10T00:00:00",
          "2020-04-11T00:00:00",
          "2020-04-12T00:00:00",
          "2020-04-13T00:00:00",
          "2020-04-14T00:00:00",
          "2020-04-15T00:00:00",
          "2020-04-16T00:00:00",
          "2020-04-17T00:00:00",
          "2020-04-18T00:00:00",
          "2020-04-19T00:00:00",
          "2020-04-20T00:00:00",
          "2020-04-21T00:00:00",
          "2020-04-22T00:00:00",
          "2020-04-23T00:00:00",
          "2020-04-24T00:00:00",
          "2020-04-25T00:00:00",
          "2020-04-26T00:00:00",
          "2020-04-27T00:00:00",
          "2020-04-28T00:00:00",
          "2020-04-29T00:00:00",
          "2020-04-30T00:00:00",
          "2020-05-01T00:00:00",
          "2020-05-02T00:00:00",
          "2020-05-03T00:00:00",
          "2020-05-04T00:00:00",
          "2020-05-05T00:00:00",
          "2020-05-06T00:00:00",
          "2020-05-07T00:00:00",
          "2020-05-08T00:00:00",
          "2020-05-09T00:00:00",
          "2020-05-10T00:00:00",
          "2020-05-11T00:00:00",
          "2020-05-12T00:00:00",
          "2020-05-13T00:00:00",
          "2020-05-14T00:00:00",
          "2020-05-15T00:00:00",
          "2020-05-16T00:00:00",
          "2020-05-17T00:00:00",
          "2020-05-18T00:00:00",
          "2020-05-19T00:00:00",
          "2020-05-20T00:00:00",
          "2020-05-21T00:00:00",
          "2020-05-22T00:00:00",
          "2020-05-23T00:00:00",
          "2020-05-24T00:00:00",
          "2020-05-25T00:00:00",
          "2020-05-26T00:00:00",
          "2020-05-27T00:00:00",
          "2020-05-28T00:00:00",
          "2020-05-29T00:00:00",
          "2020-05-30T00:00:00",
          "2020-05-31T00:00:00",
          "2020-06-01T00:00:00",
          "2020-06-02T00:00:00",
          "2020-06-03T00:00:00",
          "2020-06-04T00:00:00",
          "2020-06-05T00:00:00",
          "2020-06-06T00:00:00",
          "2020-06-07T00:00:00",
          "2020-06-08T00:00:00",
          "2020-06-09T00:00:00",
          "2020-06-10T00:00:00",
          "2020-06-11T00:00:00",
          "2020-06-12T00:00:00",
          "2020-06-13T00:00:00",
          "2020-06-14T00:00:00",
          "2020-06-15T00:00:00"
         ],
         "xaxis": "x",
         "y": [
          2.726567164179103,
          2.9056716417910433,
          1.1662686567164187,
          1.1125373134328356,
          1.1098507462686578,
          1.0964179104477605,
          2.295522388059702,
          2.7635820895522407,
          1.1453731343283584,
          1.0310447761194028,
          1.0035820895522385,
          0.9599999999999997,
          1.032238805970149,
          2.137313432835822,
          2.549253731343283,
          2.7883582089552226,
          1.0659701492537308,
          1.0370149253731342,
          1.0450746268656719,
          1.0573134328358205,
          2.206268656716417,
          2.9062686567164184,
          1.1862686567164182,
          1.1647761194029846,
          1.2805970149253731,
          1.3441791044776124,
          1.363283582089552,
          2.4614925373134304,
          2.9531343283582068,
          1.5770149253731336,
          1.542686567164179,
          1.511641791044776,
          1.5274626865671632,
          1.5313432835820893,
          2.8486567164179086,
          3.398208955223878,
          2.9746268656716404,
          3.1465671641791055,
          3.379402985074628,
          3.468059701492538,
          3.350447761194031,
          3.6826865671641813,
          3.866268656716418,
          3.022985074626865,
          2.9638805970149256,
          2.9214925373134304,
          2.848059701492538,
          2.775223880597019,
          3.3056716417910437,
          3.624776119402987,
          2.7280597014925374,
          2.6961194029850732,
          2.721492537313433,
          2.772537313432837,
          2.720597014925372,
          3.327761194029852,
          3.5782089552238823,
          2.779701492537314,
          2.7002985074626875,
          2.7361194029850746,
          2.7020895522388084,
          2.619701492537314,
          3.141492537313432,
          3.419402985074626,
          2.517014925373134,
          2.4886567164179105,
          2.4498507462686563,
          2.3394029850746256,
          3.0268656716417905,
          3.058805970149254,
          3.1626865671641804,
          2.9116417910447776,
          2.8934328358208976,
          2.3155223880597027,
          2.2997014925373143,
          2.2397014925373138,
          2.983880597014926,
          3.1495522388059705,
          2.8426865671641783,
          2.0743283582089553,
          2.1002985074626865,
          2.0707462686567166,
          2.00626865671642,
          2.67402985074627,
          2.9913432835820886,
          2.008656716417911,
          1.9671641791044765,
          1.9510447761194036,
          1.9832835820895511,
          1.9325373134328354,
          2.599402985074627,
          2.9597014925373126,
          1.9041791044776113,
          1.7671641791044783,
          1.7316417910447734,
          1.6910447761194027,
          1.7247761194029854,
          2.3946268656716434,
          2.9274626865671642,
          1.7173134328358188,
          1.6644776119402995,
          1.6471641791044762,
          1.6250746268656708,
          1.561791044776119,
          2.245074626865671,
          2.6385074626865666,
          1.557611940298507,
          1.4585074626865666,
          1.4579104477611942,
          1.4328358208955234,
          2.242089552238806,
          2.3477611940298533,
          2.6005970149253748,
          1.398805970149254
         ],
         "yaxis": "y"
        }
       ],
       "layout": {
        "barmode": "group",
        "coloraxis": {
         "colorbar": {
          "title": {
           "text": "value"
          }
         },
         "colorscale": [
          [
           0,
           "#0d0887"
          ],
          [
           0.1111111111111111,
           "#46039f"
          ],
          [
           0.2222222222222222,
           "#7201a8"
          ],
          [
           0.3333333333333333,
           "#9c179e"
          ],
          [
           0.4444444444444444,
           "#bd3786"
          ],
          [
           0.5555555555555556,
           "#d8576b"
          ],
          [
           0.6666666666666666,
           "#ed7953"
          ],
          [
           0.7777777777777778,
           "#fb9f3a"
          ],
          [
           0.8888888888888888,
           "#fdca26"
          ],
          [
           1,
           "#f0f921"
          ]
         ]
        },
        "legend": {
         "tracegroupgap": 0
        },
        "template": {
         "data": {
          "bar": [
           {
            "error_x": {
             "color": "#2a3f5f"
            },
            "error_y": {
             "color": "#2a3f5f"
            },
            "marker": {
             "line": {
              "color": "#E5ECF6",
              "width": 0.5
             }
            },
            "type": "bar"
           }
          ],
          "barpolar": [
           {
            "marker": {
             "line": {
              "color": "#E5ECF6",
              "width": 0.5
             }
            },
            "type": "barpolar"
           }
          ],
          "carpet": [
           {
            "aaxis": {
             "endlinecolor": "#2a3f5f",
             "gridcolor": "white",
             "linecolor": "white",
             "minorgridcolor": "white",
             "startlinecolor": "#2a3f5f"
            },
            "baxis": {
             "endlinecolor": "#2a3f5f",
             "gridcolor": "white",
             "linecolor": "white",
             "minorgridcolor": "white",
             "startlinecolor": "#2a3f5f"
            },
            "type": "carpet"
           }
          ],
          "choropleth": [
           {
            "colorbar": {
             "outlinewidth": 0,
             "ticks": ""
            },
            "type": "choropleth"
           }
          ],
          "contour": [
           {
            "colorbar": {
             "outlinewidth": 0,
             "ticks": ""
            },
            "colorscale": [
             [
              0,
              "#0d0887"
             ],
             [
              0.1111111111111111,
              "#46039f"
             ],
             [
              0.2222222222222222,
              "#7201a8"
             ],
             [
              0.3333333333333333,
              "#9c179e"
             ],
             [
              0.4444444444444444,
              "#bd3786"
             ],
             [
              0.5555555555555556,
              "#d8576b"
             ],
             [
              0.6666666666666666,
              "#ed7953"
             ],
             [
              0.7777777777777778,
              "#fb9f3a"
             ],
             [
              0.8888888888888888,
              "#fdca26"
             ],
             [
              1,
              "#f0f921"
             ]
            ],
            "type": "contour"
           }
          ],
          "contourcarpet": [
           {
            "colorbar": {
             "outlinewidth": 0,
             "ticks": ""
            },
            "type": "contourcarpet"
           }
          ],
          "heatmap": [
           {
            "colorbar": {
             "outlinewidth": 0,
             "ticks": ""
            },
            "colorscale": [
             [
              0,
              "#0d0887"
             ],
             [
              0.1111111111111111,
              "#46039f"
             ],
             [
              0.2222222222222222,
              "#7201a8"
             ],
             [
              0.3333333333333333,
              "#9c179e"
             ],
             [
              0.4444444444444444,
              "#bd3786"
             ],
             [
              0.5555555555555556,
              "#d8576b"
             ],
             [
              0.6666666666666666,
              "#ed7953"
             ],
             [
              0.7777777777777778,
              "#fb9f3a"
             ],
             [
              0.8888888888888888,
              "#fdca26"
             ],
             [
              1,
              "#f0f921"
             ]
            ],
            "type": "heatmap"
           }
          ],
          "heatmapgl": [
           {
            "colorbar": {
             "outlinewidth": 0,
             "ticks": ""
            },
            "colorscale": [
             [
              0,
              "#0d0887"
             ],
             [
              0.1111111111111111,
              "#46039f"
             ],
             [
              0.2222222222222222,
              "#7201a8"
             ],
             [
              0.3333333333333333,
              "#9c179e"
             ],
             [
              0.4444444444444444,
              "#bd3786"
             ],
             [
              0.5555555555555556,
              "#d8576b"
             ],
             [
              0.6666666666666666,
              "#ed7953"
             ],
             [
              0.7777777777777778,
              "#fb9f3a"
             ],
             [
              0.8888888888888888,
              "#fdca26"
             ],
             [
              1,
              "#f0f921"
             ]
            ],
            "type": "heatmapgl"
           }
          ],
          "histogram": [
           {
            "marker": {
             "colorbar": {
              "outlinewidth": 0,
              "ticks": ""
             }
            },
            "type": "histogram"
           }
          ],
          "histogram2d": [
           {
            "colorbar": {
             "outlinewidth": 0,
             "ticks": ""
            },
            "colorscale": [
             [
              0,
              "#0d0887"
             ],
             [
              0.1111111111111111,
              "#46039f"
             ],
             [
              0.2222222222222222,
              "#7201a8"
             ],
             [
              0.3333333333333333,
              "#9c179e"
             ],
             [
              0.4444444444444444,
              "#bd3786"
             ],
             [
              0.5555555555555556,
              "#d8576b"
             ],
             [
              0.6666666666666666,
              "#ed7953"
             ],
             [
              0.7777777777777778,
              "#fb9f3a"
             ],
             [
              0.8888888888888888,
              "#fdca26"
             ],
             [
              1,
              "#f0f921"
             ]
            ],
            "type": "histogram2d"
           }
          ],
          "histogram2dcontour": [
           {
            "colorbar": {
             "outlinewidth": 0,
             "ticks": ""
            },
            "colorscale": [
             [
              0,
              "#0d0887"
             ],
             [
              0.1111111111111111,
              "#46039f"
             ],
             [
              0.2222222222222222,
              "#7201a8"
             ],
             [
              0.3333333333333333,
              "#9c179e"
             ],
             [
              0.4444444444444444,
              "#bd3786"
             ],
             [
              0.5555555555555556,
              "#d8576b"
             ],
             [
              0.6666666666666666,
              "#ed7953"
             ],
             [
              0.7777777777777778,
              "#fb9f3a"
             ],
             [
              0.8888888888888888,
              "#fdca26"
             ],
             [
              1,
              "#f0f921"
             ]
            ],
            "type": "histogram2dcontour"
           }
          ],
          "mesh3d": [
           {
            "colorbar": {
             "outlinewidth": 0,
             "ticks": ""
            },
            "type": "mesh3d"
           }
          ],
          "parcoords": [
           {
            "line": {
             "colorbar": {
              "outlinewidth": 0,
              "ticks": ""
             }
            },
            "type": "parcoords"
           }
          ],
          "pie": [
           {
            "automargin": true,
            "type": "pie"
           }
          ],
          "scatter": [
           {
            "marker": {
             "colorbar": {
              "outlinewidth": 0,
              "ticks": ""
             }
            },
            "type": "scatter"
           }
          ],
          "scatter3d": [
           {
            "line": {
             "colorbar": {
              "outlinewidth": 0,
              "ticks": ""
             }
            },
            "marker": {
             "colorbar": {
              "outlinewidth": 0,
              "ticks": ""
             }
            },
            "type": "scatter3d"
           }
          ],
          "scattercarpet": [
           {
            "marker": {
             "colorbar": {
              "outlinewidth": 0,
              "ticks": ""
             }
            },
            "type": "scattercarpet"
           }
          ],
          "scattergeo": [
           {
            "marker": {
             "colorbar": {
              "outlinewidth": 0,
              "ticks": ""
             }
            },
            "type": "scattergeo"
           }
          ],
          "scattergl": [
           {
            "marker": {
             "colorbar": {
              "outlinewidth": 0,
              "ticks": ""
             }
            },
            "type": "scattergl"
           }
          ],
          "scattermapbox": [
           {
            "marker": {
             "colorbar": {
              "outlinewidth": 0,
              "ticks": ""
             }
            },
            "type": "scattermapbox"
           }
          ],
          "scatterpolar": [
           {
            "marker": {
             "colorbar": {
              "outlinewidth": 0,
              "ticks": ""
             }
            },
            "type": "scatterpolar"
           }
          ],
          "scatterpolargl": [
           {
            "marker": {
             "colorbar": {
              "outlinewidth": 0,
              "ticks": ""
             }
            },
            "type": "scatterpolargl"
           }
          ],
          "scatterternary": [
           {
            "marker": {
             "colorbar": {
              "outlinewidth": 0,
              "ticks": ""
             }
            },
            "type": "scatterternary"
           }
          ],
          "surface": [
           {
            "colorbar": {
             "outlinewidth": 0,
             "ticks": ""
            },
            "colorscale": [
             [
              0,
              "#0d0887"
             ],
             [
              0.1111111111111111,
              "#46039f"
             ],
             [
              0.2222222222222222,
              "#7201a8"
             ],
             [
              0.3333333333333333,
              "#9c179e"
             ],
             [
              0.4444444444444444,
              "#bd3786"
             ],
             [
              0.5555555555555556,
              "#d8576b"
             ],
             [
              0.6666666666666666,
              "#ed7953"
             ],
             [
              0.7777777777777778,
              "#fb9f3a"
             ],
             [
              0.8888888888888888,
              "#fdca26"
             ],
             [
              1,
              "#f0f921"
             ]
            ],
            "type": "surface"
           }
          ],
          "table": [
           {
            "cells": {
             "fill": {
              "color": "#EBF0F8"
             },
             "line": {
              "color": "white"
             }
            },
            "header": {
             "fill": {
              "color": "#C8D4E3"
             },
             "line": {
              "color": "white"
             }
            },
            "type": "table"
           }
          ]
         },
         "layout": {
          "annotationdefaults": {
           "arrowcolor": "#2a3f5f",
           "arrowhead": 0,
           "arrowwidth": 1
          },
          "coloraxis": {
           "colorbar": {
            "outlinewidth": 0,
            "ticks": ""
           }
          },
          "colorscale": {
           "diverging": [
            [
             0,
             "#8e0152"
            ],
            [
             0.1,
             "#c51b7d"
            ],
            [
             0.2,
             "#de77ae"
            ],
            [
             0.3,
             "#f1b6da"
            ],
            [
             0.4,
             "#fde0ef"
            ],
            [
             0.5,
             "#f7f7f7"
            ],
            [
             0.6,
             "#e6f5d0"
            ],
            [
             0.7,
             "#b8e186"
            ],
            [
             0.8,
             "#7fbc41"
            ],
            [
             0.9,
             "#4d9221"
            ],
            [
             1,
             "#276419"
            ]
           ],
           "sequential": [
            [
             0,
             "#0d0887"
            ],
            [
             0.1111111111111111,
             "#46039f"
            ],
            [
             0.2222222222222222,
             "#7201a8"
            ],
            [
             0.3333333333333333,
             "#9c179e"
            ],
            [
             0.4444444444444444,
             "#bd3786"
            ],
            [
             0.5555555555555556,
             "#d8576b"
            ],
            [
             0.6666666666666666,
             "#ed7953"
            ],
            [
             0.7777777777777778,
             "#fb9f3a"
            ],
            [
             0.8888888888888888,
             "#fdca26"
            ],
            [
             1,
             "#f0f921"
            ]
           ],
           "sequentialminus": [
            [
             0,
             "#0d0887"
            ],
            [
             0.1111111111111111,
             "#46039f"
            ],
            [
             0.2222222222222222,
             "#7201a8"
            ],
            [
             0.3333333333333333,
             "#9c179e"
            ],
            [
             0.4444444444444444,
             "#bd3786"
            ],
            [
             0.5555555555555556,
             "#d8576b"
            ],
            [
             0.6666666666666666,
             "#ed7953"
            ],
            [
             0.7777777777777778,
             "#fb9f3a"
            ],
            [
             0.8888888888888888,
             "#fdca26"
            ],
            [
             1,
             "#f0f921"
            ]
           ]
          },
          "colorway": [
           "#636efa",
           "#EF553B",
           "#00cc96",
           "#ab63fa",
           "#FFA15A",
           "#19d3f3",
           "#FF6692",
           "#B6E880",
           "#FF97FF",
           "#FECB52"
          ],
          "font": {
           "color": "#2a3f5f"
          },
          "geo": {
           "bgcolor": "white",
           "lakecolor": "white",
           "landcolor": "#E5ECF6",
           "showlakes": true,
           "showland": true,
           "subunitcolor": "white"
          },
          "hoverlabel": {
           "align": "left"
          },
          "hovermode": "closest",
          "mapbox": {
           "style": "light"
          },
          "paper_bgcolor": "white",
          "plot_bgcolor": "#E5ECF6",
          "polar": {
           "angularaxis": {
            "gridcolor": "white",
            "linecolor": "white",
            "ticks": ""
           },
           "bgcolor": "#E5ECF6",
           "radialaxis": {
            "gridcolor": "white",
            "linecolor": "white",
            "ticks": ""
           }
          },
          "scene": {
           "xaxis": {
            "backgroundcolor": "#E5ECF6",
            "gridcolor": "white",
            "gridwidth": 2,
            "linecolor": "white",
            "showbackground": true,
            "ticks": "",
            "zerolinecolor": "white"
           },
           "yaxis": {
            "backgroundcolor": "#E5ECF6",
            "gridcolor": "white",
            "gridwidth": 2,
            "linecolor": "white",
            "showbackground": true,
            "ticks": "",
            "zerolinecolor": "white"
           },
           "zaxis": {
            "backgroundcolor": "#E5ECF6",
            "gridcolor": "white",
            "gridwidth": 2,
            "linecolor": "white",
            "showbackground": true,
            "ticks": "",
            "zerolinecolor": "white"
           }
          },
          "shapedefaults": {
           "line": {
            "color": "#2a3f5f"
           }
          },
          "ternary": {
           "aaxis": {
            "gridcolor": "white",
            "linecolor": "white",
            "ticks": ""
           },
           "baxis": {
            "gridcolor": "white",
            "linecolor": "white",
            "ticks": ""
           },
           "bgcolor": "#E5ECF6",
           "caxis": {
            "gridcolor": "white",
            "linecolor": "white",
            "ticks": ""
           }
          },
          "title": {
           "x": 0.05
          },
          "xaxis": {
           "automargin": true,
           "gridcolor": "white",
           "linecolor": "white",
           "ticks": "",
           "title": {
            "standoff": 15
           },
           "zerolinecolor": "white",
           "zerolinewidth": 2
          },
          "yaxis": {
           "automargin": true,
           "gridcolor": "white",
           "linecolor": "white",
           "ticks": "",
           "title": {
            "standoff": 15
           },
           "zerolinecolor": "white",
           "zerolinewidth": 2
          }
         }
        },
        "title": {
         "text": "Russia Yandex self-isolation index"
        },
        "xaxis": {
         "anchor": "y",
         "domain": [
          0,
          1
         ],
         "title": {
          "text": "Date"
         }
        },
        "yaxis": {
         "anchor": "x",
         "domain": [
          0,
          1
         ],
         "title": {
          "text": "Index"
         }
        }
       }
      }
     },
     "metadata": {}
    }
   ],
   "source": [
    "\n",
    "# Count mean value for Russia\n",
    "temp = iso_df.groupby('Date')['Isol_idx'].mean().reset_index().sort_values('Date')\n",
    "temp = temp.melt(id_vars=\"Date\", \n",
    "                 value_vars=['Isol_idx'])\n",
    "\n",
    "fig = px.bar(temp, x=\"Date\", y=\"value\", color='value', title='Russia Yandex self-isolation index')\n",
    "fig.update_layout(barmode='group', yaxis_title='Index')\n",
    "\n",
    "fig.show()"
   ]
  },
  {
   "cell_type": "code",
   "execution_count": 12,
   "metadata": {},
   "outputs": [],
   "source": [
    "iso_df.to_csv(file_name, index=False)"
   ]
  }
 ],
 "metadata": {
  "language_info": {
   "codemirror_mode": {
    "name": "ipython",
    "version": 3
   },
   "file_extension": ".py",
   "mimetype": "text/x-python",
   "name": "python",
   "nbconvert_exporter": "python",
   "pygments_lexer": "ipython3",
   "version": "3.7.6-final"
  },
  "orig_nbformat": 2,
  "kernelspec": {
   "name": "python3",
   "display_name": "Python 3"
  }
 },
 "nbformat": 4,
 "nbformat_minor": 2
}