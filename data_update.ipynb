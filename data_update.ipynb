{
 "cells": [
  {
   "cell_type": "markdown",
   "metadata": {},
   "source": [
    "# Import"
   ]
  },
  {
   "cell_type": "code",
   "execution_count": 14,
   "metadata": {},
   "outputs": [],
   "source": [
    "import numpy as np\n",
    "import pandas as pd"
   ]
  },
  {
   "cell_type": "markdown",
   "metadata": {},
   "source": [
    "# Data preporation"
   ]
  },
  {
   "cell_type": "code",
   "execution_count": 15,
   "metadata": {
    "scrolled": true
   },
   "outputs": [
    {
     "output_type": "execute_result",
     "data": {
      "text/plain": "            Date                 Region/City                 Region/City-Eng  \\\n5505  2020-06-07         Ханты-Мансийский АО                 Khanty-Mansiysk   \n5506  2020-06-07        Чеченская Республика                Chechen Republic   \n5507  2020-06-07  Чукотский автономный округ       Chukotka Autonomous Okrug   \n5508  2020-06-07           Ямало-Ненецкий АО  Yamalo-Nenets Autonomous Okrug   \n5509  2020-06-07         Ярославская область                Yaroslavl region   \n\n      Region_ID  Day-Confirmed  Day-Deaths  Day-Recovered  Confirmed  Deaths  \\\n5505       86.0          115.0         0.0           14.0     3346.0    20.0   \n5506       95.0           19.0         0.0            2.0     1345.0    14.0   \n5507       87.0            4.0         0.0            2.0      106.0     1.0   \n5508       89.0           73.0         0.0           53.0     2694.0    11.0   \n5509       76.0           70.0         0.0            7.0     3646.0    15.0   \n\n      Recovered  \n5505     1126.0  \n5506      990.0  \n5507       65.0  \n5508     1429.0  \n5509     1176.0  ",
      "text/html": "<div>\n<style scoped>\n    .dataframe tbody tr th:only-of-type {\n        vertical-align: middle;\n    }\n\n    .dataframe tbody tr th {\n        vertical-align: top;\n    }\n\n    .dataframe thead th {\n        text-align: right;\n    }\n</style>\n<table border=\"1\" class=\"dataframe\">\n  <thead>\n    <tr style=\"text-align: right;\">\n      <th></th>\n      <th>Date</th>\n      <th>Region/City</th>\n      <th>Region/City-Eng</th>\n      <th>Region_ID</th>\n      <th>Day-Confirmed</th>\n      <th>Day-Deaths</th>\n      <th>Day-Recovered</th>\n      <th>Confirmed</th>\n      <th>Deaths</th>\n      <th>Recovered</th>\n    </tr>\n  </thead>\n  <tbody>\n    <tr>\n      <th>5505</th>\n      <td>2020-06-07</td>\n      <td>Ханты-Мансийский АО</td>\n      <td>Khanty-Mansiysk</td>\n      <td>86.0</td>\n      <td>115.0</td>\n      <td>0.0</td>\n      <td>14.0</td>\n      <td>3346.0</td>\n      <td>20.0</td>\n      <td>1126.0</td>\n    </tr>\n    <tr>\n      <th>5506</th>\n      <td>2020-06-07</td>\n      <td>Чеченская Республика</td>\n      <td>Chechen Republic</td>\n      <td>95.0</td>\n      <td>19.0</td>\n      <td>0.0</td>\n      <td>2.0</td>\n      <td>1345.0</td>\n      <td>14.0</td>\n      <td>990.0</td>\n    </tr>\n    <tr>\n      <th>5507</th>\n      <td>2020-06-07</td>\n      <td>Чукотский автономный округ</td>\n      <td>Chukotka Autonomous Okrug</td>\n      <td>87.0</td>\n      <td>4.0</td>\n      <td>0.0</td>\n      <td>2.0</td>\n      <td>106.0</td>\n      <td>1.0</td>\n      <td>65.0</td>\n    </tr>\n    <tr>\n      <th>5508</th>\n      <td>2020-06-07</td>\n      <td>Ямало-Ненецкий АО</td>\n      <td>Yamalo-Nenets Autonomous Okrug</td>\n      <td>89.0</td>\n      <td>73.0</td>\n      <td>0.0</td>\n      <td>53.0</td>\n      <td>2694.0</td>\n      <td>11.0</td>\n      <td>1429.0</td>\n    </tr>\n    <tr>\n      <th>5509</th>\n      <td>2020-06-07</td>\n      <td>Ярославская область</td>\n      <td>Yaroslavl region</td>\n      <td>76.0</td>\n      <td>70.0</td>\n      <td>0.0</td>\n      <td>7.0</td>\n      <td>3646.0</td>\n      <td>15.0</td>\n      <td>1176.0</td>\n    </tr>\n  </tbody>\n</table>\n</div>"
     },
     "metadata": {},
     "execution_count": 15
    }
   ],
   "source": [
    "# Load previous day data\n",
    "file_name = 'release/covid19-russia-cases.csv'\n",
    "rus_df = pd.read_csv(file_name)\n",
    "rus_df.tail()"
   ]
  },
  {
   "cell_type": "code",
   "execution_count": 16,
   "metadata": {},
   "outputs": [
    {
     "output_type": "execute_result",
     "data": {
      "text/plain": "              Region/City  Confirmed        Date  Deaths  Recovered  \\\n29                 Москва   197018.0  2020-06-08  2970.0   104347.0   \n30     Московская область    44983.0  2020-06-08   578.0    12031.0   \n63        Санкт-Петербург    18835.0  2020-06-08   392.0     7915.0   \n32  Нижегородская область    12442.0  2020-06-08   140.0     4878.0   \n66   Свердловская область     7668.0  2020-06-08    43.0     3273.0   \n\n    Day-Confirmed  Day-Deaths  Day-Recovered  \n29         2001.0        51.0         1633.0  \n30          751.0        11.0          569.0  \n63          326.0        15.0          156.0  \n32          305.0         4.0           41.0  \n66          249.0         2.0           34.0  ",
      "text/html": "<div>\n<style scoped>\n    .dataframe tbody tr th:only-of-type {\n        vertical-align: middle;\n    }\n\n    .dataframe tbody tr th {\n        vertical-align: top;\n    }\n\n    .dataframe thead th {\n        text-align: right;\n    }\n</style>\n<table border=\"1\" class=\"dataframe\">\n  <thead>\n    <tr style=\"text-align: right;\">\n      <th></th>\n      <th>Region/City</th>\n      <th>Confirmed</th>\n      <th>Date</th>\n      <th>Deaths</th>\n      <th>Recovered</th>\n      <th>Day-Confirmed</th>\n      <th>Day-Deaths</th>\n      <th>Day-Recovered</th>\n    </tr>\n  </thead>\n  <tbody>\n    <tr>\n      <th>29</th>\n      <td>Москва</td>\n      <td>197018.0</td>\n      <td>2020-06-08</td>\n      <td>2970.0</td>\n      <td>104347.0</td>\n      <td>2001.0</td>\n      <td>51.0</td>\n      <td>1633.0</td>\n    </tr>\n    <tr>\n      <th>30</th>\n      <td>Московская область</td>\n      <td>44983.0</td>\n      <td>2020-06-08</td>\n      <td>578.0</td>\n      <td>12031.0</td>\n      <td>751.0</td>\n      <td>11.0</td>\n      <td>569.0</td>\n    </tr>\n    <tr>\n      <th>63</th>\n      <td>Санкт-Петербург</td>\n      <td>18835.0</td>\n      <td>2020-06-08</td>\n      <td>392.0</td>\n      <td>7915.0</td>\n      <td>326.0</td>\n      <td>15.0</td>\n      <td>156.0</td>\n    </tr>\n    <tr>\n      <th>32</th>\n      <td>Нижегородская область</td>\n      <td>12442.0</td>\n      <td>2020-06-08</td>\n      <td>140.0</td>\n      <td>4878.0</td>\n      <td>305.0</td>\n      <td>4.0</td>\n      <td>41.0</td>\n    </tr>\n    <tr>\n      <th>66</th>\n      <td>Свердловская область</td>\n      <td>7668.0</td>\n      <td>2020-06-08</td>\n      <td>43.0</td>\n      <td>3273.0</td>\n      <td>249.0</td>\n      <td>2.0</td>\n      <td>34.0</td>\n    </tr>\n  </tbody>\n</table>\n</div>"
     },
     "metadata": {},
     "execution_count": 16
    }
   ],
   "source": [
    "# Read update data\n",
    "# Result of data_parsing.ipynb\n",
    "file_name = 'covid19-russia-cases-upd.csv'\n",
    "upd_df = pd.read_csv(file_name)\n",
    "upd_df.sort_values('Confirmed', ascending=False).head()"
   ]
  },
  {
   "cell_type": "code",
   "execution_count": 17,
   "metadata": {},
   "outputs": [],
   "source": [
    "# Strip text data\n",
    "rus_df['Region/City'] = rus_df['Region/City'].astype('str').str.strip('\\u200b') \n",
    "upd_df['Region/City'] = upd_df['Region/City'].astype('str').str.strip('\\u200b')"
   ]
  },
  {
   "cell_type": "markdown",
   "metadata": {},
   "source": [
    "# Updating"
   ]
  },
  {
   "cell_type": "code",
   "execution_count": 18,
   "metadata": {},
   "outputs": [],
   "source": [
    "def upd(row):\n",
    "    reg = row['Region/City']\n",
    "    \n",
    "    row['Confirmed'] = rus_df[rus_df['Region/City'] == reg]['Confirmed'].max() + row['Day-Confirmed']\n",
    "    row['Deaths'] = rus_df[rus_df['Region/City'] == reg]['Deaths'].max() + row['Day-Deaths']\n",
    "    row['Recovered'] = rus_df[rus_df['Region/City'] == reg]['Recovered'].max() + row['Day-Recovered']\n",
    "    \n",
    "    row['Confirmed'] = row['Day-Confirmed'] if np.isnan(row['Confirmed']) else row['Confirmed']\n",
    "    row['Deaths'] = row['Day-Deaths'] if np.isnan(row['Deaths']) else row['Deaths']\n",
    "    row['Recovered'] = row['Day-Recovered'] if np.isnan(row['Recovered']) else row['Recovered']\n",
    "    \n",
    "    return row.drop('Region/City')\n",
    "\n",
    "# If cumulative values unknown\n",
    "# upd_df = upd_df.groupby('Region/City').apply(lambda df: upd(df.iloc[0])).reset_index()"
   ]
  },
  {
   "cell_type": "code",
   "execution_count": 19,
   "metadata": {},
   "outputs": [],
   "source": [
    "# Date to datetime\n",
    "upd_df['Date'] = pd.to_datetime(upd_df['Date'])\n",
    "rus_df['Date'] = pd.to_datetime(rus_df['Date'])"
   ]
  },
  {
   "cell_type": "code",
   "execution_count": 20,
   "metadata": {},
   "outputs": [],
   "source": [
    "# Region names translation\n",
    "# from googletrans import Translator\n",
    "# translator = Translator()\n",
    "\n",
    "# def translate(rus):\n",
    "#     eng = translator.translate(rus, src='ru', dest='en')\n",
    "#     return eng.text\n",
    "\n",
    "# upd_df['Region/City-Eng'] = upd_df['Region/City'].apply(translate)"
   ]
  },
  {
   "cell_type": "code",
   "execution_count": 21,
   "metadata": {},
   "outputs": [],
   "source": [
    "# Add region ID and Eng columns\n",
    "regions_df = pd.read_csv('release/regions-info.csv')\n",
    "\n",
    "right = regions_df[['Region_ID', 'Region', 'Region_eng']]\n",
    "upd_df = upd_df.merge(right, left_on='Region/City', right_on='Region', how='left')\n",
    "upd_df['Region/City-Eng'] = upd_df.Region_eng\n",
    "upd_df = upd_df[['Date', 'Region/City', 'Region/City-Eng', 'Region_ID', 'Day-Confirmed', 'Day-Deaths', 'Day-Recovered', 'Confirmed', 'Deaths', 'Recovered']]"
   ]
  },
  {
   "cell_type": "code",
   "execution_count": 22,
   "metadata": {
    "scrolled": true
   },
   "outputs": [
    {
     "output_type": "execute_result",
     "data": {
      "text/plain": "           Date            Region/City                 Region/City-Eng  \\\n5583 2020-06-08       Тульская область                     Tula region   \n5584 2020-06-08      Тюменская область                   Tyumen region   \n5585 2020-06-08  Удмуртская Республика                 Udmurt republic   \n5586 2020-06-08    Ульяновская область                Ulyanovsk region   \n5587 2020-06-08       Хабаровский край               Khabarovsk region   \n5588 2020-06-08    Ханты-Мансийский АО                 Khanty-Mansiysk   \n5589 2020-06-08    Челябинская область              Chelyabinsk region   \n5590 2020-06-08   Чеченская Республика                Chechen Republic   \n5591 2020-06-08      Ямало-Ненецкий АО  Yamalo-Nenets Autonomous Okrug   \n5592 2020-06-08    Ярославская область                Yaroslavl region   \n\n      Region_ID  Day-Confirmed  Day-Deaths  Day-Recovered  Confirmed  Deaths  \\\n5583       71.0          114.0         0.0            7.0     4734.0    49.0   \n5584       72.0           39.0         0.0           10.0     1947.0    12.0   \n5585       18.0           27.0         0.0            0.0      963.0    20.0   \n5586       73.0           97.0         2.0            0.0     3265.0    16.0   \n5587       27.0           59.0         0.0           13.0     2596.0    17.0   \n5588       86.0          129.0         1.0           60.0     3475.0    21.0   \n5589       74.0          128.0         3.0           80.0     3847.0    31.0   \n5590       95.0           20.0         1.0            3.0     1365.0    15.0   \n5591       89.0           83.0         0.0           46.0     2777.0    11.0   \n5592       76.0           68.0         0.0            4.0     3714.0    15.0   \n\n      Recovered  \n5583     2441.0  \n5584     1067.0  \n5585      467.0  \n5586      954.0  \n5587     1314.0  \n5588     1186.0  \n5589     1801.0  \n5590      993.0  \n5591     1475.0  \n5592     1180.0  ",
      "text/html": "<div>\n<style scoped>\n    .dataframe tbody tr th:only-of-type {\n        vertical-align: middle;\n    }\n\n    .dataframe tbody tr th {\n        vertical-align: top;\n    }\n\n    .dataframe thead th {\n        text-align: right;\n    }\n</style>\n<table border=\"1\" class=\"dataframe\">\n  <thead>\n    <tr style=\"text-align: right;\">\n      <th></th>\n      <th>Date</th>\n      <th>Region/City</th>\n      <th>Region/City-Eng</th>\n      <th>Region_ID</th>\n      <th>Day-Confirmed</th>\n      <th>Day-Deaths</th>\n      <th>Day-Recovered</th>\n      <th>Confirmed</th>\n      <th>Deaths</th>\n      <th>Recovered</th>\n    </tr>\n  </thead>\n  <tbody>\n    <tr>\n      <th>5583</th>\n      <td>2020-06-08</td>\n      <td>Тульская область</td>\n      <td>Tula region</td>\n      <td>71.0</td>\n      <td>114.0</td>\n      <td>0.0</td>\n      <td>7.0</td>\n      <td>4734.0</td>\n      <td>49.0</td>\n      <td>2441.0</td>\n    </tr>\n    <tr>\n      <th>5584</th>\n      <td>2020-06-08</td>\n      <td>Тюменская область</td>\n      <td>Tyumen region</td>\n      <td>72.0</td>\n      <td>39.0</td>\n      <td>0.0</td>\n      <td>10.0</td>\n      <td>1947.0</td>\n      <td>12.0</td>\n      <td>1067.0</td>\n    </tr>\n    <tr>\n      <th>5585</th>\n      <td>2020-06-08</td>\n      <td>Удмуртская Республика</td>\n      <td>Udmurt republic</td>\n      <td>18.0</td>\n      <td>27.0</td>\n      <td>0.0</td>\n      <td>0.0</td>\n      <td>963.0</td>\n      <td>20.0</td>\n      <td>467.0</td>\n    </tr>\n    <tr>\n      <th>5586</th>\n      <td>2020-06-08</td>\n      <td>Ульяновская область</td>\n      <td>Ulyanovsk region</td>\n      <td>73.0</td>\n      <td>97.0</td>\n      <td>2.0</td>\n      <td>0.0</td>\n      <td>3265.0</td>\n      <td>16.0</td>\n      <td>954.0</td>\n    </tr>\n    <tr>\n      <th>5587</th>\n      <td>2020-06-08</td>\n      <td>Хабаровский край</td>\n      <td>Khabarovsk region</td>\n      <td>27.0</td>\n      <td>59.0</td>\n      <td>0.0</td>\n      <td>13.0</td>\n      <td>2596.0</td>\n      <td>17.0</td>\n      <td>1314.0</td>\n    </tr>\n    <tr>\n      <th>5588</th>\n      <td>2020-06-08</td>\n      <td>Ханты-Мансийский АО</td>\n      <td>Khanty-Mansiysk</td>\n      <td>86.0</td>\n      <td>129.0</td>\n      <td>1.0</td>\n      <td>60.0</td>\n      <td>3475.0</td>\n      <td>21.0</td>\n      <td>1186.0</td>\n    </tr>\n    <tr>\n      <th>5589</th>\n      <td>2020-06-08</td>\n      <td>Челябинская область</td>\n      <td>Chelyabinsk region</td>\n      <td>74.0</td>\n      <td>128.0</td>\n      <td>3.0</td>\n      <td>80.0</td>\n      <td>3847.0</td>\n      <td>31.0</td>\n      <td>1801.0</td>\n    </tr>\n    <tr>\n      <th>5590</th>\n      <td>2020-06-08</td>\n      <td>Чеченская Республика</td>\n      <td>Chechen Republic</td>\n      <td>95.0</td>\n      <td>20.0</td>\n      <td>1.0</td>\n      <td>3.0</td>\n      <td>1365.0</td>\n      <td>15.0</td>\n      <td>993.0</td>\n    </tr>\n    <tr>\n      <th>5591</th>\n      <td>2020-06-08</td>\n      <td>Ямало-Ненецкий АО</td>\n      <td>Yamalo-Nenets Autonomous Okrug</td>\n      <td>89.0</td>\n      <td>83.0</td>\n      <td>0.0</td>\n      <td>46.0</td>\n      <td>2777.0</td>\n      <td>11.0</td>\n      <td>1475.0</td>\n    </tr>\n    <tr>\n      <th>5592</th>\n      <td>2020-06-08</td>\n      <td>Ярославская область</td>\n      <td>Yaroslavl region</td>\n      <td>76.0</td>\n      <td>68.0</td>\n      <td>0.0</td>\n      <td>4.0</td>\n      <td>3714.0</td>\n      <td>15.0</td>\n      <td>1180.0</td>\n    </tr>\n  </tbody>\n</table>\n</div>"
     },
     "metadata": {},
     "execution_count": 22
    }
   ],
   "source": [
    "rus_df = pd.concat([rus_df, upd_df]).reset_index(drop=True)\n",
    "rus_df.tail(10)"
   ]
  },
  {
   "cell_type": "code",
   "execution_count": 23,
   "metadata": {},
   "outputs": [],
   "source": [
    "# Negative values fixing\n",
    "# Negative values can appear if some cases was removed from statistic\n",
    "def negval_fix(reg):\n",
    "    last = reg.iloc[-1]\n",
    "    diff_c = last['Day-Confirmed']*(-1) if last['Day-Confirmed'] < 0 else 0\n",
    "    diff_d = last['Day-Deaths']*(-1) if last['Day-Deaths'] < 0 else 0\n",
    "    diff_r = last['Day-Recovered']*(-1) if last['Day-Recovered'] < 0 else 0\n",
    "    \n",
    "    last['Day-Confirmed'] += diff_c\n",
    "    last['Day-Deaths']    += diff_d\n",
    "    last['Day-Recovered'] += diff_r\n",
    "    reg.iloc[-1] = last\n",
    "    \n",
    "    if diff_c + diff_d + diff_r > 0:\n",
    "        print(f\"Conf {diff_c} Death {diff_d} Rec {diff_r} {last['Region/City']}\")\n",
    "        prev = reg.iloc[-2]\n",
    "        prev['Confirmed'] -= diff_c\n",
    "        prev['Deaths']    -= diff_d\n",
    "        prev['Recovered'] -= diff_r\n",
    "        reg.iloc[-2] = prev\n",
    "    \n",
    "    return reg\n",
    "    \n",
    "rus_df = rus_df.groupby('Region/City').apply(negval_fix).reset_index(drop=True)"
   ]
  },
  {
   "cell_type": "code",
   "execution_count": 24,
   "metadata": {},
   "outputs": [],
   "source": [
    "# Manual fixes if needed\n",
    "# rus_df.loc[321, 'Confirmed'] = 5\n",
    "# rus_df.loc[359, 'Day-Confirmed'] = 0\n",
    "\n",
    "\n",
    "# rus_df.loc[3775, 'Deaths'] = 7\n",
    "# rus_df.loc[3775, 'Day-Deaths'] = 0"
   ]
  },
  {
   "cell_type": "markdown",
   "metadata": {},
   "source": [
    "# Data checking"
   ]
  },
  {
   "cell_type": "code",
   "execution_count": 25,
   "metadata": {},
   "outputs": [
    {
     "output_type": "stream",
     "name": "stdout",
     "text": "Russia Confirmed: 476768.0 476768.0\nRussia Deaths: 5997.0 5997.0\nRussia Recovered: 230938.0 230938.0\nEmpty DataFrame\nColumns: [Region/City, Confirmed, Confirmed-ByDay]\nIndex: []\nEmpty DataFrame\nColumns: [Region/City, Recovered, Recovered-ByDay]\nIndex: []\nEmpty DataFrame\nColumns: [Region/City, Deaths, Deaths-ByDay]\nIndex: []\n"
    }
   ],
   "source": [
    "rus_sum = rus_df.loc[rus_df['Region/City'] != 'Diamond Princess']\n",
    "\n",
    "print('Russia Confirmed:', rus_sum.groupby('Region/City')['Confirmed'].max().sum(),\n",
    "      rus_sum.groupby('Region/City')['Day-Confirmed'].sum().sum())\n",
    "print('Russia Deaths:', rus_sum.groupby('Region/City')['Deaths'].max().sum(),\n",
    "      rus_sum.groupby('Region/City')['Day-Deaths'].sum().sum())\n",
    "print('Russia Recovered:', rus_sum.groupby('Region/City')['Recovered'].max().sum(),\n",
    "      rus_sum.groupby('Region/City')['Day-Recovered'].sum().sum())\n",
    "\n",
    "rus_regs = rus_sum.groupby('Region/City')['Confirmed'].max().reset_index()\n",
    "rus_regs['Confirmed-ByDay'] = rus_sum.groupby('Region/City')['Day-Confirmed'].sum().reset_index(drop=True)\n",
    "print(rus_regs.loc[rus_regs['Confirmed'] != rus_regs['Confirmed-ByDay']])\n",
    "\n",
    "rus_regs = rus_sum.groupby('Region/City')['Recovered'].max().reset_index()\n",
    "rus_regs['Recovered-ByDay'] = rus_sum.groupby('Region/City')['Day-Recovered'].sum().reset_index(drop=True)\n",
    "print(rus_regs.loc[rus_regs['Recovered'] != rus_regs['Recovered-ByDay']])\n",
    "\n",
    "rus_regs = rus_sum.groupby('Region/City')['Deaths'].max().reset_index()\n",
    "rus_regs['Deaths-ByDay'] = rus_sum.groupby('Region/City')['Day-Deaths'].sum().reset_index(drop=True)\n",
    "print(rus_regs.loc[rus_regs['Deaths'] != rus_regs['Deaths-ByDay']])\n",
    "\n",
    "# rus_regs.to_csv('rus_regs.csv')"
   ]
  },
  {
   "cell_type": "markdown",
   "metadata": {},
   "source": [
    "# Data saving"
   ]
  },
  {
   "cell_type": "code",
   "execution_count": 26,
   "metadata": {},
   "outputs": [],
   "source": [
    "file_name = 'release/covid19-russia-cases.csv'\n",
    "rus_df.to_csv(file_name, index=False)"
   ]
  }
 ],
 "metadata": {
  "kernelspec": {
   "display_name": "Python 3",
   "language": "python",
   "name": "python3"
  },
  "language_info": {
   "codemirror_mode": {
    "name": "ipython",
    "version": 3
   },
   "file_extension": ".py",
   "mimetype": "text/x-python",
   "name": "python",
   "nbconvert_exporter": "python",
   "pygments_lexer": "ipython3",
   "version": "3.7.6-final"
  }
 },
 "nbformat": 4,
 "nbformat_minor": 4
}