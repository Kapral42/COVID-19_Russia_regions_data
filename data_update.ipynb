{
 "cells": [
  {
   "cell_type": "markdown",
   "metadata": {},
   "source": [
    "# Import"
   ]
  },
  {
   "cell_type": "code",
   "execution_count": 43,
   "metadata": {},
   "outputs": [],
   "source": [
    "import numpy as np\n",
    "import pandas as pd"
   ]
  },
  {
   "cell_type": "markdown",
   "metadata": {},
   "source": [
    "# Data preporation"
   ]
  },
  {
   "cell_type": "code",
   "execution_count": 44,
   "metadata": {
    "scrolled": true
   },
   "outputs": [
    {
     "output_type": "execute_result",
     "data": {
      "text/plain": "            Date                 Region/City                 Region/City-Eng  \\\n4833  2020-05-30         Челябинская область              Chelyabinsk region   \n4834  2020-05-30        Чеченская Республика                Chechen Republic   \n4835  2020-05-30  Чукотский автономный округ       Chukotka Autonomous Okrug   \n4836  2020-05-30           Ямало-Ненецкий АО  Yamalo-Nenets Autonomous Okrug   \n4837  2020-05-30         Ярославская область                Yaroslavl region   \n\n      Region_ID  Day-Confirmed  Day-Deaths  Day-Recovered  Confirmed  Deaths  \\\n4833       74.0          292.0         2.0          152.0     2878.0    17.0   \n4834       95.0           17.0         0.0           38.0     1209.0    13.0   \n4835       87.0            5.0         0.0            3.0       78.0     1.0   \n4836       89.0           30.0         0.0           55.0     2310.0     9.0   \n4837       76.0           79.0         0.0           53.0     3055.0    14.0   \n\n      Recovered  \n4833     1258.0  \n4834      825.0  \n4835       53.0  \n4836      953.0  \n4837      751.0  ",
      "text/html": "<div>\n<style scoped>\n    .dataframe tbody tr th:only-of-type {\n        vertical-align: middle;\n    }\n\n    .dataframe tbody tr th {\n        vertical-align: top;\n    }\n\n    .dataframe thead th {\n        text-align: right;\n    }\n</style>\n<table border=\"1\" class=\"dataframe\">\n  <thead>\n    <tr style=\"text-align: right;\">\n      <th></th>\n      <th>Date</th>\n      <th>Region/City</th>\n      <th>Region/City-Eng</th>\n      <th>Region_ID</th>\n      <th>Day-Confirmed</th>\n      <th>Day-Deaths</th>\n      <th>Day-Recovered</th>\n      <th>Confirmed</th>\n      <th>Deaths</th>\n      <th>Recovered</th>\n    </tr>\n  </thead>\n  <tbody>\n    <tr>\n      <th>4833</th>\n      <td>2020-05-30</td>\n      <td>Челябинская область</td>\n      <td>Chelyabinsk region</td>\n      <td>74.0</td>\n      <td>292.0</td>\n      <td>2.0</td>\n      <td>152.0</td>\n      <td>2878.0</td>\n      <td>17.0</td>\n      <td>1258.0</td>\n    </tr>\n    <tr>\n      <th>4834</th>\n      <td>2020-05-30</td>\n      <td>Чеченская Республика</td>\n      <td>Chechen Republic</td>\n      <td>95.0</td>\n      <td>17.0</td>\n      <td>0.0</td>\n      <td>38.0</td>\n      <td>1209.0</td>\n      <td>13.0</td>\n      <td>825.0</td>\n    </tr>\n    <tr>\n      <th>4835</th>\n      <td>2020-05-30</td>\n      <td>Чукотский автономный округ</td>\n      <td>Chukotka Autonomous Okrug</td>\n      <td>87.0</td>\n      <td>5.0</td>\n      <td>0.0</td>\n      <td>3.0</td>\n      <td>78.0</td>\n      <td>1.0</td>\n      <td>53.0</td>\n    </tr>\n    <tr>\n      <th>4836</th>\n      <td>2020-05-30</td>\n      <td>Ямало-Ненецкий АО</td>\n      <td>Yamalo-Nenets Autonomous Okrug</td>\n      <td>89.0</td>\n      <td>30.0</td>\n      <td>0.0</td>\n      <td>55.0</td>\n      <td>2310.0</td>\n      <td>9.0</td>\n      <td>953.0</td>\n    </tr>\n    <tr>\n      <th>4837</th>\n      <td>2020-05-30</td>\n      <td>Ярославская область</td>\n      <td>Yaroslavl region</td>\n      <td>76.0</td>\n      <td>79.0</td>\n      <td>0.0</td>\n      <td>53.0</td>\n      <td>3055.0</td>\n      <td>14.0</td>\n      <td>751.0</td>\n    </tr>\n  </tbody>\n</table>\n</div>"
     },
     "metadata": {},
     "execution_count": 44
    }
   ],
   "source": [
    "# Load previous day data\n",
    "file_name = 'release/covid19-russia-cases.csv'\n",
    "rus_df = pd.read_csv(file_name)\n",
    "rus_df.tail()"
   ]
  },
  {
   "cell_type": "code",
   "execution_count": 45,
   "metadata": {},
   "outputs": [
    {
     "output_type": "execute_result",
     "data": {
      "text/plain": "              Region/City  Confirmed        Date  Deaths  Recovered  \\\n29                 Москва   180791.0  2020-05-31  2477.0    80179.0   \n30     Московская область    38995.0  2020-05-31   449.0     8091.0   \n64        Санкт-Петербург    15949.0  2020-05-31   204.0     5680.0   \n33  Нижегородская область     9834.0  2020-05-31    98.0     3693.0   \n67   Свердловская область     5449.0  2020-05-31    27.0     2173.0   \n\n    Day-Confirmed  Day-Deaths  Day-Recovered  \n29         2595.0        69.0         1855.0  \n30          757.0        25.0          371.0  \n64          369.0        13.0          307.0  \n33          301.0         5.0           56.0  \n67          265.0         1.0           31.0  ",
      "text/html": "<div>\n<style scoped>\n    .dataframe tbody tr th:only-of-type {\n        vertical-align: middle;\n    }\n\n    .dataframe tbody tr th {\n        vertical-align: top;\n    }\n\n    .dataframe thead th {\n        text-align: right;\n    }\n</style>\n<table border=\"1\" class=\"dataframe\">\n  <thead>\n    <tr style=\"text-align: right;\">\n      <th></th>\n      <th>Region/City</th>\n      <th>Confirmed</th>\n      <th>Date</th>\n      <th>Deaths</th>\n      <th>Recovered</th>\n      <th>Day-Confirmed</th>\n      <th>Day-Deaths</th>\n      <th>Day-Recovered</th>\n    </tr>\n  </thead>\n  <tbody>\n    <tr>\n      <th>29</th>\n      <td>Москва</td>\n      <td>180791.0</td>\n      <td>2020-05-31</td>\n      <td>2477.0</td>\n      <td>80179.0</td>\n      <td>2595.0</td>\n      <td>69.0</td>\n      <td>1855.0</td>\n    </tr>\n    <tr>\n      <th>30</th>\n      <td>Московская область</td>\n      <td>38995.0</td>\n      <td>2020-05-31</td>\n      <td>449.0</td>\n      <td>8091.0</td>\n      <td>757.0</td>\n      <td>25.0</td>\n      <td>371.0</td>\n    </tr>\n    <tr>\n      <th>64</th>\n      <td>Санкт-Петербург</td>\n      <td>15949.0</td>\n      <td>2020-05-31</td>\n      <td>204.0</td>\n      <td>5680.0</td>\n      <td>369.0</td>\n      <td>13.0</td>\n      <td>307.0</td>\n    </tr>\n    <tr>\n      <th>33</th>\n      <td>Нижегородская область</td>\n      <td>9834.0</td>\n      <td>2020-05-31</td>\n      <td>98.0</td>\n      <td>3693.0</td>\n      <td>301.0</td>\n      <td>5.0</td>\n      <td>56.0</td>\n    </tr>\n    <tr>\n      <th>67</th>\n      <td>Свердловская область</td>\n      <td>5449.0</td>\n      <td>2020-05-31</td>\n      <td>27.0</td>\n      <td>2173.0</td>\n      <td>265.0</td>\n      <td>1.0</td>\n      <td>31.0</td>\n    </tr>\n  </tbody>\n</table>\n</div>"
     },
     "metadata": {},
     "execution_count": 45
    }
   ],
   "source": [
    "# Read update data\n",
    "# Result of data_parsing.ipynb\n",
    "file_name = 'covid19-russia-cases-upd.csv'\n",
    "upd_df = pd.read_csv(file_name)\n",
    "upd_df.sort_values('Confirmed', ascending=False).head()"
   ]
  },
  {
   "cell_type": "code",
   "execution_count": 46,
   "metadata": {},
   "outputs": [],
   "source": [
    "# Strip text data\n",
    "rus_df['Region/City'] = rus_df['Region/City'].astype('str').str.strip('\\u200b') \n",
    "upd_df['Region/City'] = upd_df['Region/City'].astype('str').str.strip('\\u200b')"
   ]
  },
  {
   "cell_type": "markdown",
   "metadata": {},
   "source": [
    "# Updating"
   ]
  },
  {
   "cell_type": "code",
   "execution_count": 47,
   "metadata": {},
   "outputs": [],
   "source": [
    "def upd(row):\n",
    "    reg = row['Region/City']\n",
    "    \n",
    "    row['Confirmed'] = rus_df[rus_df['Region/City'] == reg]['Confirmed'].max() + row['Day-Confirmed']\n",
    "    row['Deaths'] = rus_df[rus_df['Region/City'] == reg]['Deaths'].max() + row['Day-Deaths']\n",
    "    row['Recovered'] = rus_df[rus_df['Region/City'] == reg]['Recovered'].max() + row['Day-Recovered']\n",
    "    \n",
    "    row['Confirmed'] = row['Day-Confirmed'] if np.isnan(row['Confirmed']) else row['Confirmed']\n",
    "    row['Deaths'] = row['Day-Deaths'] if np.isnan(row['Deaths']) else row['Deaths']\n",
    "    row['Recovered'] = row['Day-Recovered'] if np.isnan(row['Recovered']) else row['Recovered']\n",
    "    \n",
    "    return row.drop('Region/City')\n",
    "\n",
    "# If cumulative values unknown\n",
    "# upd_df = upd_df.groupby('Region/City').apply(lambda df: upd(df.iloc[0])).reset_index()"
   ]
  },
  {
   "cell_type": "code",
   "execution_count": 48,
   "metadata": {},
   "outputs": [],
   "source": [
    "# Date to datetime\n",
    "upd_df['Date'] = pd.to_datetime(upd_df['Date'])\n",
    "rus_df['Date'] = pd.to_datetime(rus_df['Date'])"
   ]
  },
  {
   "cell_type": "code",
   "execution_count": 49,
   "metadata": {},
   "outputs": [],
   "source": [
    "# Region names translation\n",
    "# from googletrans import Translator\n",
    "# translator = Translator()\n",
    "\n",
    "# def translate(rus):\n",
    "#     eng = translator.translate(rus, src='ru', dest='en')\n",
    "#     return eng.text\n",
    "\n",
    "# upd_df['Region/City-Eng'] = upd_df['Region/City'].apply(translate)"
   ]
  },
  {
   "cell_type": "code",
   "execution_count": 50,
   "metadata": {},
   "outputs": [],
   "source": [
    "# Add region ID and Eng columns\n",
    "regions_df = pd.read_csv('release/regions-info.csv')\n",
    "\n",
    "right = regions_df[['Region_ID', 'Region', 'Region_eng']]\n",
    "upd_df = upd_df.merge(right, left_on='Region/City', right_on='Region', how='left')\n",
    "upd_df['Region/City-Eng'] = upd_df.Region_eng\n",
    "upd_df = upd_df[['Date', 'Region/City', 'Region/City-Eng', 'Region_ID', 'Day-Confirmed', 'Day-Deaths', 'Day-Recovered', 'Confirmed', 'Deaths', 'Recovered']]"
   ]
  },
  {
   "cell_type": "code",
   "execution_count": 51,
   "metadata": {
    "scrolled": true
   },
   "outputs": [
    {
     "output_type": "execute_result",
     "data": {
      "text/plain": "           Date                 Region/City                 Region/City-Eng  \\\n4912 2020-05-31            Тульская область                     Tula region   \n4913 2020-05-31           Тюменская область                   Tyumen region   \n4914 2020-05-31       Удмуртская Республика                 Udmurt republic   \n4915 2020-05-31         Ульяновская область                Ulyanovsk region   \n4916 2020-05-31            Хабаровский край               Khabarovsk region   \n4917 2020-05-31         Ханты-Мансийский АО                 Khanty-Mansiysk   \n4918 2020-05-31        Чеченская Республика                Chechen Republic   \n4919 2020-05-31  Чукотский автономный округ       Chukotka Autonomous Okrug   \n4920 2020-05-31           Ямало-Ненецкий АО  Yamalo-Nenets Autonomous Okrug   \n4921 2020-05-31         Ярославская область                Yaroslavl region   \n\n      Region_ID  Day-Confirmed  Day-Deaths  Day-Recovered  Confirmed  Deaths  \\\n4912       71.0          104.0         0.0           24.0     3855.0    36.0   \n4913       72.0           30.0         0.0           22.0     1638.0     8.0   \n4914       18.0           23.0         0.0            1.0      652.0    12.0   \n4915       73.0           97.0         0.0           13.0     2466.0     8.0   \n4916       27.0           63.0         0.0           44.0     2081.0    11.0   \n4917       86.0          136.0         0.0           30.0     2436.0    18.0   \n4918       95.0           18.0         0.0            3.0     1227.0    13.0   \n4919       87.0            2.0         0.0            1.0       80.0     1.0   \n4920       89.0           65.0         0.0           22.0     2375.0     9.0   \n4921       76.0           77.0         0.0            5.0     3132.0    14.0   \n\n      Recovered  \n4912     1803.0  \n4913      812.0  \n4914      411.0  \n4915      713.0  \n4916     1002.0  \n4917      782.0  \n4918      828.0  \n4919       54.0  \n4920      975.0  \n4921      756.0  ",
      "text/html": "<div>\n<style scoped>\n    .dataframe tbody tr th:only-of-type {\n        vertical-align: middle;\n    }\n\n    .dataframe tbody tr th {\n        vertical-align: top;\n    }\n\n    .dataframe thead th {\n        text-align: right;\n    }\n</style>\n<table border=\"1\" class=\"dataframe\">\n  <thead>\n    <tr style=\"text-align: right;\">\n      <th></th>\n      <th>Date</th>\n      <th>Region/City</th>\n      <th>Region/City-Eng</th>\n      <th>Region_ID</th>\n      <th>Day-Confirmed</th>\n      <th>Day-Deaths</th>\n      <th>Day-Recovered</th>\n      <th>Confirmed</th>\n      <th>Deaths</th>\n      <th>Recovered</th>\n    </tr>\n  </thead>\n  <tbody>\n    <tr>\n      <th>4912</th>\n      <td>2020-05-31</td>\n      <td>Тульская область</td>\n      <td>Tula region</td>\n      <td>71.0</td>\n      <td>104.0</td>\n      <td>0.0</td>\n      <td>24.0</td>\n      <td>3855.0</td>\n      <td>36.0</td>\n      <td>1803.0</td>\n    </tr>\n    <tr>\n      <th>4913</th>\n      <td>2020-05-31</td>\n      <td>Тюменская область</td>\n      <td>Tyumen region</td>\n      <td>72.0</td>\n      <td>30.0</td>\n      <td>0.0</td>\n      <td>22.0</td>\n      <td>1638.0</td>\n      <td>8.0</td>\n      <td>812.0</td>\n    </tr>\n    <tr>\n      <th>4914</th>\n      <td>2020-05-31</td>\n      <td>Удмуртская Республика</td>\n      <td>Udmurt republic</td>\n      <td>18.0</td>\n      <td>23.0</td>\n      <td>0.0</td>\n      <td>1.0</td>\n      <td>652.0</td>\n      <td>12.0</td>\n      <td>411.0</td>\n    </tr>\n    <tr>\n      <th>4915</th>\n      <td>2020-05-31</td>\n      <td>Ульяновская область</td>\n      <td>Ulyanovsk region</td>\n      <td>73.0</td>\n      <td>97.0</td>\n      <td>0.0</td>\n      <td>13.0</td>\n      <td>2466.0</td>\n      <td>8.0</td>\n      <td>713.0</td>\n    </tr>\n    <tr>\n      <th>4916</th>\n      <td>2020-05-31</td>\n      <td>Хабаровский край</td>\n      <td>Khabarovsk region</td>\n      <td>27.0</td>\n      <td>63.0</td>\n      <td>0.0</td>\n      <td>44.0</td>\n      <td>2081.0</td>\n      <td>11.0</td>\n      <td>1002.0</td>\n    </tr>\n    <tr>\n      <th>4917</th>\n      <td>2020-05-31</td>\n      <td>Ханты-Мансийский АО</td>\n      <td>Khanty-Mansiysk</td>\n      <td>86.0</td>\n      <td>136.0</td>\n      <td>0.0</td>\n      <td>30.0</td>\n      <td>2436.0</td>\n      <td>18.0</td>\n      <td>782.0</td>\n    </tr>\n    <tr>\n      <th>4918</th>\n      <td>2020-05-31</td>\n      <td>Чеченская Республика</td>\n      <td>Chechen Republic</td>\n      <td>95.0</td>\n      <td>18.0</td>\n      <td>0.0</td>\n      <td>3.0</td>\n      <td>1227.0</td>\n      <td>13.0</td>\n      <td>828.0</td>\n    </tr>\n    <tr>\n      <th>4919</th>\n      <td>2020-05-31</td>\n      <td>Чукотский автономный округ</td>\n      <td>Chukotka Autonomous Okrug</td>\n      <td>87.0</td>\n      <td>2.0</td>\n      <td>0.0</td>\n      <td>1.0</td>\n      <td>80.0</td>\n      <td>1.0</td>\n      <td>54.0</td>\n    </tr>\n    <tr>\n      <th>4920</th>\n      <td>2020-05-31</td>\n      <td>Ямало-Ненецкий АО</td>\n      <td>Yamalo-Nenets Autonomous Okrug</td>\n      <td>89.0</td>\n      <td>65.0</td>\n      <td>0.0</td>\n      <td>22.0</td>\n      <td>2375.0</td>\n      <td>9.0</td>\n      <td>975.0</td>\n    </tr>\n    <tr>\n      <th>4921</th>\n      <td>2020-05-31</td>\n      <td>Ярославская область</td>\n      <td>Yaroslavl region</td>\n      <td>76.0</td>\n      <td>77.0</td>\n      <td>0.0</td>\n      <td>5.0</td>\n      <td>3132.0</td>\n      <td>14.0</td>\n      <td>756.0</td>\n    </tr>\n  </tbody>\n</table>\n</div>"
     },
     "metadata": {},
     "execution_count": 51
    }
   ],
   "source": [
    "rus_df = pd.concat([rus_df, upd_df]).reset_index(drop=True)\n",
    "rus_df.tail(10)"
   ]
  },
  {
   "cell_type": "code",
   "execution_count": 52,
   "metadata": {},
   "outputs": [],
   "source": [
    "# Negative values fixing\n",
    "# Negative values can appear if some cases was removed from statistic\n",
    "def negval_fix(reg):\n",
    "    last = reg.iloc[-1]\n",
    "    diff_c = last['Day-Confirmed']*(-1) if last['Day-Confirmed'] < 0 else 0\n",
    "    diff_d = last['Day-Deaths']*(-1) if last['Day-Deaths'] < 0 else 0\n",
    "    diff_r = last['Day-Recovered']*(-1) if last['Day-Recovered'] < 0 else 0\n",
    "    \n",
    "    last['Day-Confirmed'] += diff_c\n",
    "    last['Day-Deaths']    += diff_d\n",
    "    last['Day-Recovered'] += diff_r\n",
    "    reg.iloc[-1] = last\n",
    "    \n",
    "    if diff_c + diff_d + diff_r > 0:\n",
    "        print(f\"Conf {diff_c} Death {diff_d} Rec {diff_r} {last['Region/City']}\")\n",
    "        prev = reg.iloc[-2]\n",
    "        prev['Confirmed'] -= diff_c\n",
    "        prev['Deaths']    -= diff_d\n",
    "        prev['Recovered'] -= diff_r\n",
    "        reg.iloc[-2] = prev\n",
    "    \n",
    "    return reg\n",
    "    \n",
    "rus_df = rus_df.groupby('Region/City').apply(negval_fix).reset_index(drop=True)"
   ]
  },
  {
   "cell_type": "code",
   "execution_count": 53,
   "metadata": {},
   "outputs": [],
   "source": [
    "# Manual fixes if needed\n",
    "# rus_df.loc[321, 'Confirmed'] = 5\n",
    "# rus_df.loc[359, 'Day-Confirmed'] = 0\n",
    "\n",
    "\n",
    "# rus_df.loc[3775, 'Deaths'] = 7\n",
    "# rus_df.loc[3775, 'Day-Deaths'] = 0"
   ]
  },
  {
   "cell_type": "markdown",
   "metadata": {},
   "source": [
    "# Data checking"
   ]
  },
  {
   "cell_type": "code",
   "execution_count": 54,
   "metadata": {},
   "outputs": [
    {
     "output_type": "stream",
     "name": "stdout",
     "text": "Russia Confirmed: 405926.0 405926.0\nRussia Deaths: 4698.0 4698.0\nRussia Recovered: 172046.0 172046.0\nEmpty DataFrame\nColumns: [Region/City, Confirmed, Confirmed-ByDay]\nIndex: []\nEmpty DataFrame\nColumns: [Region/City, Recovered, Recovered-ByDay]\nIndex: []\nEmpty DataFrame\nColumns: [Region/City, Deaths, Deaths-ByDay]\nIndex: []\n"
    }
   ],
   "source": [
    "rus_sum = rus_df.loc[rus_df['Region/City'] != 'Diamond Princess']\n",
    "\n",
    "print('Russia Confirmed:', rus_sum.groupby('Region/City')['Confirmed'].max().sum(),\n",
    "      rus_sum.groupby('Region/City')['Day-Confirmed'].sum().sum())\n",
    "print('Russia Deaths:', rus_sum.groupby('Region/City')['Deaths'].max().sum(),\n",
    "      rus_sum.groupby('Region/City')['Day-Deaths'].sum().sum())\n",
    "print('Russia Recovered:', rus_sum.groupby('Region/City')['Recovered'].max().sum(),\n",
    "      rus_sum.groupby('Region/City')['Day-Recovered'].sum().sum())\n",
    "\n",
    "rus_regs = rus_sum.groupby('Region/City')['Confirmed'].max().reset_index()\n",
    "rus_regs['Confirmed-ByDay'] = rus_sum.groupby('Region/City')['Day-Confirmed'].sum().reset_index(drop=True)\n",
    "print(rus_regs.loc[rus_regs['Confirmed'] != rus_regs['Confirmed-ByDay']])\n",
    "\n",
    "rus_regs = rus_sum.groupby('Region/City')['Recovered'].max().reset_index()\n",
    "rus_regs['Recovered-ByDay'] = rus_sum.groupby('Region/City')['Day-Recovered'].sum().reset_index(drop=True)\n",
    "print(rus_regs.loc[rus_regs['Recovered'] != rus_regs['Recovered-ByDay']])\n",
    "\n",
    "rus_regs = rus_sum.groupby('Region/City')['Deaths'].max().reset_index()\n",
    "rus_regs['Deaths-ByDay'] = rus_sum.groupby('Region/City')['Day-Deaths'].sum().reset_index(drop=True)\n",
    "print(rus_regs.loc[rus_regs['Deaths'] != rus_regs['Deaths-ByDay']])\n",
    "\n",
    "# rus_regs.to_csv('rus_regs.csv')"
   ]
  },
  {
   "cell_type": "markdown",
   "metadata": {},
   "source": [
    "# Data saving"
   ]
  },
  {
   "cell_type": "code",
   "execution_count": 55,
   "metadata": {},
   "outputs": [],
   "source": [
    "file_name = 'release/covid19-russia-cases.csv'\n",
    "rus_df.to_csv(file_name, index=False)"
   ]
  }
 ],
 "metadata": {
  "kernelspec": {
   "display_name": "Python 3",
   "language": "python",
   "name": "python3"
  },
  "language_info": {
   "codemirror_mode": {
    "name": "ipython",
    "version": 3
   },
   "file_extension": ".py",
   "mimetype": "text/x-python",
   "name": "python",
   "nbconvert_exporter": "python",
   "pygments_lexer": "ipython3",
   "version": "3.7.6-final"
  }
 },
 "nbformat": 4,
 "nbformat_minor": 4
}