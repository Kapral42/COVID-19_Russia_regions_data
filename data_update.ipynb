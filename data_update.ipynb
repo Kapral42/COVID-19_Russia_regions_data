{
 "cells": [
  {
   "cell_type": "markdown",
   "metadata": {},
   "source": [
    "# Import"
   ]
  },
  {
   "cell_type": "code",
   "execution_count": 30,
   "metadata": {},
   "outputs": [],
   "source": [
    "import numpy as np\n",
    "import pandas as pd"
   ]
  },
  {
   "cell_type": "markdown",
   "metadata": {},
   "source": [
    "# Data preporation"
   ]
  },
  {
   "cell_type": "code",
   "execution_count": 31,
   "metadata": {
    "scrolled": true
   },
   "outputs": [
    {
     "output_type": "execute_result",
     "data": {
      "text/plain": "            Date                 Region/City                 Region/City-Eng  \\\n4241  2020-05-23         Челябинская область              Chelyabinsk region   \n4242  2020-05-23        Чеченская Республика                Chechen Republic   \n4243  2020-05-23  Чукотский автономный округ       Chukotka Autonomous Okrug   \n4244  2020-05-23           Ямало-Ненецкий АО  Yamalo-Nenets Autonomous Okrug   \n4245  2020-05-23         Ярославская область                Yaroslavl region   \n\n      Region_ID  Day-Confirmed  Day-Deaths  Day-Recovered  Confirmed  Deaths  \\\n4241       74.0           67.0         0.0           65.0     2199.0    11.0   \n4242       95.0           20.0         1.0           16.0     1066.0    12.0   \n4243       87.0            2.0         1.0            6.0       58.0     1.0   \n4244       89.0           36.0         0.0          288.0     2025.0     5.0   \n4245       76.0          115.0         0.0           49.0     2424.0    13.0   \n\n      Recovered  \n4241      819.0  \n4242      659.0  \n4243       30.0  \n4244      686.0  \n4245      493.0  ",
      "text/html": "<div>\n<style scoped>\n    .dataframe tbody tr th:only-of-type {\n        vertical-align: middle;\n    }\n\n    .dataframe tbody tr th {\n        vertical-align: top;\n    }\n\n    .dataframe thead th {\n        text-align: right;\n    }\n</style>\n<table border=\"1\" class=\"dataframe\">\n  <thead>\n    <tr style=\"text-align: right;\">\n      <th></th>\n      <th>Date</th>\n      <th>Region/City</th>\n      <th>Region/City-Eng</th>\n      <th>Region_ID</th>\n      <th>Day-Confirmed</th>\n      <th>Day-Deaths</th>\n      <th>Day-Recovered</th>\n      <th>Confirmed</th>\n      <th>Deaths</th>\n      <th>Recovered</th>\n    </tr>\n  </thead>\n  <tbody>\n    <tr>\n      <th>4241</th>\n      <td>2020-05-23</td>\n      <td>Челябинская область</td>\n      <td>Chelyabinsk region</td>\n      <td>74.0</td>\n      <td>67.0</td>\n      <td>0.0</td>\n      <td>65.0</td>\n      <td>2199.0</td>\n      <td>11.0</td>\n      <td>819.0</td>\n    </tr>\n    <tr>\n      <th>4242</th>\n      <td>2020-05-23</td>\n      <td>Чеченская Республика</td>\n      <td>Chechen Republic</td>\n      <td>95.0</td>\n      <td>20.0</td>\n      <td>1.0</td>\n      <td>16.0</td>\n      <td>1066.0</td>\n      <td>12.0</td>\n      <td>659.0</td>\n    </tr>\n    <tr>\n      <th>4243</th>\n      <td>2020-05-23</td>\n      <td>Чукотский автономный округ</td>\n      <td>Chukotka Autonomous Okrug</td>\n      <td>87.0</td>\n      <td>2.0</td>\n      <td>1.0</td>\n      <td>6.0</td>\n      <td>58.0</td>\n      <td>1.0</td>\n      <td>30.0</td>\n    </tr>\n    <tr>\n      <th>4244</th>\n      <td>2020-05-23</td>\n      <td>Ямало-Ненецкий АО</td>\n      <td>Yamalo-Nenets Autonomous Okrug</td>\n      <td>89.0</td>\n      <td>36.0</td>\n      <td>0.0</td>\n      <td>288.0</td>\n      <td>2025.0</td>\n      <td>5.0</td>\n      <td>686.0</td>\n    </tr>\n    <tr>\n      <th>4245</th>\n      <td>2020-05-23</td>\n      <td>Ярославская область</td>\n      <td>Yaroslavl region</td>\n      <td>76.0</td>\n      <td>115.0</td>\n      <td>0.0</td>\n      <td>49.0</td>\n      <td>2424.0</td>\n      <td>13.0</td>\n      <td>493.0</td>\n    </tr>\n  </tbody>\n</table>\n</div>"
     },
     "metadata": {},
     "execution_count": 31
    }
   ],
   "source": [
    "# Load previous day data\n",
    "file_name = 'release/covid19-russia-cases.csv'\n",
    "rus_df = pd.read_csv(file_name)\n",
    "rus_df.tail()"
   ]
  },
  {
   "cell_type": "code",
   "execution_count": 32,
   "metadata": {},
   "outputs": [
    {
     "output_type": "execute_result",
     "data": {
      "text/plain": "              Region/City  Confirmed        Date  Deaths  Recovered  \\\n29                 Москва   163913.0  2020-05-24  1993.0    49840.0   \n30     Московская область    33515.0  2020-05-24   329.0     5520.0   \n63        Санкт-Петербург    13339.0  2020-05-24   133.0     3452.0   \n32  Нижегородская область     8047.0  2020-05-24    65.0     2398.0   \n46    Республика Дагестан     4095.0  2020-05-24    84.0     3267.0   \n\n    Day-Confirmed  Day-Deaths  Day-Recovered  \n29         2516.0        59.0         2427.0  \n30          862.0         5.0          357.0  \n63          384.0        20.0          328.0  \n32          221.0         5.0          141.0  \n46          113.0        14.0          265.0  ",
      "text/html": "<div>\n<style scoped>\n    .dataframe tbody tr th:only-of-type {\n        vertical-align: middle;\n    }\n\n    .dataframe tbody tr th {\n        vertical-align: top;\n    }\n\n    .dataframe thead th {\n        text-align: right;\n    }\n</style>\n<table border=\"1\" class=\"dataframe\">\n  <thead>\n    <tr style=\"text-align: right;\">\n      <th></th>\n      <th>Region/City</th>\n      <th>Confirmed</th>\n      <th>Date</th>\n      <th>Deaths</th>\n      <th>Recovered</th>\n      <th>Day-Confirmed</th>\n      <th>Day-Deaths</th>\n      <th>Day-Recovered</th>\n    </tr>\n  </thead>\n  <tbody>\n    <tr>\n      <th>29</th>\n      <td>Москва</td>\n      <td>163913.0</td>\n      <td>2020-05-24</td>\n      <td>1993.0</td>\n      <td>49840.0</td>\n      <td>2516.0</td>\n      <td>59.0</td>\n      <td>2427.0</td>\n    </tr>\n    <tr>\n      <th>30</th>\n      <td>Московская область</td>\n      <td>33515.0</td>\n      <td>2020-05-24</td>\n      <td>329.0</td>\n      <td>5520.0</td>\n      <td>862.0</td>\n      <td>5.0</td>\n      <td>357.0</td>\n    </tr>\n    <tr>\n      <th>63</th>\n      <td>Санкт-Петербург</td>\n      <td>13339.0</td>\n      <td>2020-05-24</td>\n      <td>133.0</td>\n      <td>3452.0</td>\n      <td>384.0</td>\n      <td>20.0</td>\n      <td>328.0</td>\n    </tr>\n    <tr>\n      <th>32</th>\n      <td>Нижегородская область</td>\n      <td>8047.0</td>\n      <td>2020-05-24</td>\n      <td>65.0</td>\n      <td>2398.0</td>\n      <td>221.0</td>\n      <td>5.0</td>\n      <td>141.0</td>\n    </tr>\n    <tr>\n      <th>46</th>\n      <td>Республика Дагестан</td>\n      <td>4095.0</td>\n      <td>2020-05-24</td>\n      <td>84.0</td>\n      <td>3267.0</td>\n      <td>113.0</td>\n      <td>14.0</td>\n      <td>265.0</td>\n    </tr>\n  </tbody>\n</table>\n</div>"
     },
     "metadata": {},
     "execution_count": 32
    }
   ],
   "source": [
    "# Read update data\n",
    "# Result of data_parsing.ipynb\n",
    "file_name = 'covid19-russia-cases-upd.csv'\n",
    "upd_df = pd.read_csv(file_name)\n",
    "upd_df.sort_values('Confirmed', ascending=False).head()"
   ]
  },
  {
   "cell_type": "code",
   "execution_count": 33,
   "metadata": {},
   "outputs": [],
   "source": [
    "# Strip text data\n",
    "rus_df['Region/City'] = rus_df['Region/City'].astype('str').str.strip('\\u200b') \n",
    "upd_df['Region/City'] = upd_df['Region/City'].astype('str').str.strip('\\u200b')"
   ]
  },
  {
   "cell_type": "markdown",
   "metadata": {},
   "source": [
    "# Updating"
   ]
  },
  {
   "cell_type": "code",
   "execution_count": 34,
   "metadata": {},
   "outputs": [],
   "source": [
    "def upd(row):\n",
    "    reg = row['Region/City']\n",
    "    \n",
    "    row['Confirmed'] = rus_df[rus_df['Region/City'] == reg]['Confirmed'].max() + row['Day-Confirmed']\n",
    "    row['Deaths'] = rus_df[rus_df['Region/City'] == reg]['Deaths'].max() + row['Day-Deaths']\n",
    "    row['Recovered'] = rus_df[rus_df['Region/City'] == reg]['Recovered'].max() + row['Day-Recovered']\n",
    "    \n",
    "    row['Confirmed'] = row['Day-Confirmed'] if np.isnan(row['Confirmed']) else row['Confirmed']\n",
    "    row['Deaths'] = row['Day-Deaths'] if np.isnan(row['Deaths']) else row['Deaths']\n",
    "    row['Recovered'] = row['Day-Recovered'] if np.isnan(row['Recovered']) else row['Recovered']\n",
    "    \n",
    "    return row.drop('Region/City')\n",
    "\n",
    "# If cumulative values unknown\n",
    "# upd_df = upd_df.groupby('Region/City').apply(lambda df: upd(df.iloc[0])).reset_index()"
   ]
  },
  {
   "cell_type": "code",
   "execution_count": 35,
   "metadata": {},
   "outputs": [],
   "source": [
    "# Date to datetime\n",
    "upd_df['Date'] = pd.to_datetime(upd_df['Date'])\n",
    "rus_df['Date'] = pd.to_datetime(rus_df['Date'])"
   ]
  },
  {
   "cell_type": "code",
   "execution_count": 36,
   "metadata": {},
   "outputs": [],
   "source": [
    "# Region names translation\n",
    "# from googletrans import Translator\n",
    "# translator = Translator()\n",
    "\n",
    "# def translate(rus):\n",
    "#     eng = translator.translate(rus, src='ru', dest='en')\n",
    "#     return eng.text\n",
    "\n",
    "# upd_df['Region/City-Eng'] = upd_df['Region/City'].apply(translate)"
   ]
  },
  {
   "cell_type": "code",
   "execution_count": 38,
   "metadata": {},
   "outputs": [],
   "source": [
    "# Add region ID and Eng columns\n",
    "regions_df = pd.read_csv('release/regions-info.csv')\n",
    "\n",
    "right = regions_df[['Region_ID', 'Region', 'Region_eng']]\n",
    "upd_df = upd_df.merge(right, left_on='Region/City', right_on='Region', how='left')\n",
    "upd_df['Region/City-Eng'] = upd_df.Region_eng\n",
    "upd_df = upd_df[['Date', 'Region/City', 'Region/City-Eng', 'Region_ID', 'Day-Confirmed', 'Day-Deaths', 'Day-Recovered', 'Confirmed', 'Deaths', 'Recovered']]"
   ]
  },
  {
   "cell_type": "code",
   "execution_count": 39,
   "metadata": {
    "scrolled": true
   },
   "outputs": [
    {
     "output_type": "execute_result",
     "data": {
      "text/plain": "           Date                 Region/City                 Region/City-Eng  \\\n4320 2020-05-24           Тюменская область                   Tyumen region   \n4321 2020-05-24       Удмуртская Республика                 Udmurt republic   \n4322 2020-05-24         Ульяновская область                Ulyanovsk region   \n4323 2020-05-24            Хабаровский край               Khabarovsk region   \n4324 2020-05-24         Ханты-Мансийский АО                 Khanty-Mansiysk   \n4325 2020-05-24         Челябинская область              Chelyabinsk region   \n4326 2020-05-24        Чеченская Республика                Chechen Republic   \n4327 2020-05-24  Чукотский автономный округ       Chukotka Autonomous Okrug   \n4328 2020-05-24           Ямало-Ненецкий АО  Yamalo-Nenets Autonomous Okrug   \n4329 2020-05-24         Ярославская область                Yaroslavl region   \n\n      Region_ID  Day-Confirmed  Day-Deaths  Day-Recovered  Confirmed  Deaths  \\\n4320       72.0           45.0         0.0           34.0     1411.0     7.0   \n4321       18.0           18.0         0.0            1.0      510.0    12.0   \n4322       73.0           97.0         0.0           36.0     1861.0     6.0   \n4323       27.0           61.0         0.0           13.0     1633.0    10.0   \n4324       86.0          102.0         2.0           34.0     1670.0    17.0   \n4325       74.0           47.0         1.0           88.0     2246.0    12.0   \n4326       95.0           24.0         0.0            1.0     1090.0    12.0   \n4327       87.0            1.0         0.0            2.0       59.0     1.0   \n4328       89.0           29.0         1.0           34.0     2054.0     6.0   \n4329       76.0          107.0         0.0           10.0     2531.0    13.0   \n\n      Recovered  \n4320      625.0  \n4321      324.0  \n4322      498.0  \n4323      691.0  \n4324      579.0  \n4325      907.0  \n4326      660.0  \n4327       32.0  \n4328      720.0  \n4329      503.0  ",
      "text/html": "<div>\n<style scoped>\n    .dataframe tbody tr th:only-of-type {\n        vertical-align: middle;\n    }\n\n    .dataframe tbody tr th {\n        vertical-align: top;\n    }\n\n    .dataframe thead th {\n        text-align: right;\n    }\n</style>\n<table border=\"1\" class=\"dataframe\">\n  <thead>\n    <tr style=\"text-align: right;\">\n      <th></th>\n      <th>Date</th>\n      <th>Region/City</th>\n      <th>Region/City-Eng</th>\n      <th>Region_ID</th>\n      <th>Day-Confirmed</th>\n      <th>Day-Deaths</th>\n      <th>Day-Recovered</th>\n      <th>Confirmed</th>\n      <th>Deaths</th>\n      <th>Recovered</th>\n    </tr>\n  </thead>\n  <tbody>\n    <tr>\n      <th>4320</th>\n      <td>2020-05-24</td>\n      <td>Тюменская область</td>\n      <td>Tyumen region</td>\n      <td>72.0</td>\n      <td>45.0</td>\n      <td>0.0</td>\n      <td>34.0</td>\n      <td>1411.0</td>\n      <td>7.0</td>\n      <td>625.0</td>\n    </tr>\n    <tr>\n      <th>4321</th>\n      <td>2020-05-24</td>\n      <td>Удмуртская Республика</td>\n      <td>Udmurt republic</td>\n      <td>18.0</td>\n      <td>18.0</td>\n      <td>0.0</td>\n      <td>1.0</td>\n      <td>510.0</td>\n      <td>12.0</td>\n      <td>324.0</td>\n    </tr>\n    <tr>\n      <th>4322</th>\n      <td>2020-05-24</td>\n      <td>Ульяновская область</td>\n      <td>Ulyanovsk region</td>\n      <td>73.0</td>\n      <td>97.0</td>\n      <td>0.0</td>\n      <td>36.0</td>\n      <td>1861.0</td>\n      <td>6.0</td>\n      <td>498.0</td>\n    </tr>\n    <tr>\n      <th>4323</th>\n      <td>2020-05-24</td>\n      <td>Хабаровский край</td>\n      <td>Khabarovsk region</td>\n      <td>27.0</td>\n      <td>61.0</td>\n      <td>0.0</td>\n      <td>13.0</td>\n      <td>1633.0</td>\n      <td>10.0</td>\n      <td>691.0</td>\n    </tr>\n    <tr>\n      <th>4324</th>\n      <td>2020-05-24</td>\n      <td>Ханты-Мансийский АО</td>\n      <td>Khanty-Mansiysk</td>\n      <td>86.0</td>\n      <td>102.0</td>\n      <td>2.0</td>\n      <td>34.0</td>\n      <td>1670.0</td>\n      <td>17.0</td>\n      <td>579.0</td>\n    </tr>\n    <tr>\n      <th>4325</th>\n      <td>2020-05-24</td>\n      <td>Челябинская область</td>\n      <td>Chelyabinsk region</td>\n      <td>74.0</td>\n      <td>47.0</td>\n      <td>1.0</td>\n      <td>88.0</td>\n      <td>2246.0</td>\n      <td>12.0</td>\n      <td>907.0</td>\n    </tr>\n    <tr>\n      <th>4326</th>\n      <td>2020-05-24</td>\n      <td>Чеченская Республика</td>\n      <td>Chechen Republic</td>\n      <td>95.0</td>\n      <td>24.0</td>\n      <td>0.0</td>\n      <td>1.0</td>\n      <td>1090.0</td>\n      <td>12.0</td>\n      <td>660.0</td>\n    </tr>\n    <tr>\n      <th>4327</th>\n      <td>2020-05-24</td>\n      <td>Чукотский автономный округ</td>\n      <td>Chukotka Autonomous Okrug</td>\n      <td>87.0</td>\n      <td>1.0</td>\n      <td>0.0</td>\n      <td>2.0</td>\n      <td>59.0</td>\n      <td>1.0</td>\n      <td>32.0</td>\n    </tr>\n    <tr>\n      <th>4328</th>\n      <td>2020-05-24</td>\n      <td>Ямало-Ненецкий АО</td>\n      <td>Yamalo-Nenets Autonomous Okrug</td>\n      <td>89.0</td>\n      <td>29.0</td>\n      <td>1.0</td>\n      <td>34.0</td>\n      <td>2054.0</td>\n      <td>6.0</td>\n      <td>720.0</td>\n    </tr>\n    <tr>\n      <th>4329</th>\n      <td>2020-05-24</td>\n      <td>Ярославская область</td>\n      <td>Yaroslavl region</td>\n      <td>76.0</td>\n      <td>107.0</td>\n      <td>0.0</td>\n      <td>10.0</td>\n      <td>2531.0</td>\n      <td>13.0</td>\n      <td>503.0</td>\n    </tr>\n  </tbody>\n</table>\n</div>"
     },
     "metadata": {},
     "execution_count": 39
    }
   ],
   "source": [
    "rus_df = pd.concat([rus_df, upd_df]).reset_index(drop=True)\n",
    "rus_df.tail(10)"
   ]
  },
  {
   "cell_type": "code",
   "execution_count": 40,
   "metadata": {},
   "outputs": [],
   "source": [
    "# Negative values fixing\n",
    "# Negative values can appear if some cases was removed from statistic\n",
    "def negval_fix(reg):\n",
    "    last = reg.iloc[-1]\n",
    "    diff_c = last['Day-Confirmed']*(-1) if last['Day-Confirmed'] < 0 else 0\n",
    "    diff_d = last['Day-Deaths']*(-1) if last['Day-Deaths'] < 0 else 0\n",
    "    diff_r = last['Day-Recovered']*(-1) if last['Day-Recovered'] < 0 else 0\n",
    "    \n",
    "    last['Day-Confirmed'] += diff_c\n",
    "    last['Day-Deaths']    += diff_d\n",
    "    last['Day-Recovered'] += diff_r\n",
    "    reg.iloc[-1] = last\n",
    "    \n",
    "    if diff_c + diff_d + diff_r > 0:\n",
    "        print(diff_c, diff_d, diff_r, last['Region/City'])\n",
    "        prev = reg.iloc[-2]\n",
    "        prev['Confirmed'] -= diff_c\n",
    "        prev['Deaths']    -= diff_d\n",
    "        prev['Recovered'] -= diff_r\n",
    "        reg.iloc[-2] = prev\n",
    "    \n",
    "    return reg\n",
    "    \n",
    "rus_df = rus_df.groupby('Region/City').apply(negval_fix).reset_index(drop=True)"
   ]
  },
  {
   "cell_type": "code",
   "execution_count": 41,
   "metadata": {},
   "outputs": [],
   "source": [
    "# Manual fixes if needed\n",
    "# rus_df.loc[321, 'Confirmed'] = 5\n",
    "# rus_df.loc[359, 'Day-Confirmed'] = 0\n",
    "\n",
    "\n",
    "# rus_df.loc[3775, 'Deaths'] = 7\n",
    "# rus_df.loc[3775, 'Day-Deaths'] = 0"
   ]
  },
  {
   "cell_type": "markdown",
   "metadata": {},
   "source": [
    "# Data checking"
   ]
  },
  {
   "cell_type": "code",
   "execution_count": 42,
   "metadata": {},
   "outputs": [
    {
     "output_type": "stream",
     "name": "stdout",
     "text": "Russia Confirmed: 344774.0 344774.0\nRussia Deaths: 3547.0 3547.0\nRussia Recovered: 113387.0 113387.0\nEmpty DataFrame\nColumns: [Region/City, Confirmed, Confirmed-ByDay]\nIndex: []\nEmpty DataFrame\nColumns: [Region/City, Recovered, Recovered-ByDay]\nIndex: []\nEmpty DataFrame\nColumns: [Region/City, Deaths, Deaths-ByDay]\nIndex: []\n"
    }
   ],
   "source": [
    "rus_sum = rus_df.loc[rus_df['Region/City'] != 'Diamond Princess']\n",
    "\n",
    "print('Russia Confirmed:', rus_sum.groupby('Region/City')['Confirmed'].max().sum(),\n",
    "      rus_sum.groupby('Region/City')['Day-Confirmed'].sum().sum())\n",
    "print('Russia Deaths:', rus_sum.groupby('Region/City')['Deaths'].max().sum(),\n",
    "      rus_sum.groupby('Region/City')['Day-Deaths'].sum().sum())\n",
    "print('Russia Recovered:', rus_sum.groupby('Region/City')['Recovered'].max().sum(),\n",
    "      rus_sum.groupby('Region/City')['Day-Recovered'].sum().sum())\n",
    "\n",
    "rus_regs = rus_sum.groupby('Region/City')['Confirmed'].max().reset_index()\n",
    "rus_regs['Confirmed-ByDay'] = rus_sum.groupby('Region/City')['Day-Confirmed'].sum().reset_index(drop=True)\n",
    "print(rus_regs.loc[rus_regs['Confirmed'] != rus_regs['Confirmed-ByDay']])\n",
    "\n",
    "rus_regs = rus_sum.groupby('Region/City')['Recovered'].max().reset_index()\n",
    "rus_regs['Recovered-ByDay'] = rus_sum.groupby('Region/City')['Day-Recovered'].sum().reset_index(drop=True)\n",
    "print(rus_regs.loc[rus_regs['Recovered'] != rus_regs['Recovered-ByDay']])\n",
    "\n",
    "rus_regs = rus_sum.groupby('Region/City')['Deaths'].max().reset_index()\n",
    "rus_regs['Deaths-ByDay'] = rus_sum.groupby('Region/City')['Day-Deaths'].sum().reset_index(drop=True)\n",
    "print(rus_regs.loc[rus_regs['Deaths'] != rus_regs['Deaths-ByDay']])\n",
    "\n",
    "# rus_regs.to_csv('rus_regs.csv')"
   ]
  },
  {
   "cell_type": "markdown",
   "metadata": {},
   "source": [
    "# Data saving"
   ]
  },
  {
   "cell_type": "code",
   "execution_count": 43,
   "metadata": {},
   "outputs": [],
   "source": [
    "file_name = 'release/covid19-russia-cases.csv'\n",
    "rus_df.to_csv(file_name, index=False)"
   ]
  },
  {
   "cell_type": "code",
   "execution_count": null,
   "metadata": {},
   "outputs": [],
   "source": []
  }
 ],
 "metadata": {
  "kernelspec": {
   "display_name": "Python 3",
   "language": "python",
   "name": "python3"
  },
  "language_info": {
   "codemirror_mode": {
    "name": "ipython",
    "version": 3
   },
   "file_extension": ".py",
   "mimetype": "text/x-python",
   "name": "python",
   "nbconvert_exporter": "python",
   "pygments_lexer": "ipython3",
   "version": "3.7.6-final"
  }
 },
 "nbformat": 4,
 "nbformat_minor": 4
}