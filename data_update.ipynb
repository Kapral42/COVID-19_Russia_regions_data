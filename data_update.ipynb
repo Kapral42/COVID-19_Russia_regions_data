{
 "cells": [
  {
   "cell_type": "markdown",
   "metadata": {},
   "source": [
    "# Import"
   ]
  },
  {
   "cell_type": "code",
   "execution_count": 16,
   "metadata": {},
   "outputs": [],
   "source": [
    "import numpy as np\n",
    "import pandas as pd"
   ]
  },
  {
   "cell_type": "markdown",
   "metadata": {},
   "source": [
    "# Data preporation"
   ]
  },
  {
   "cell_type": "code",
   "execution_count": 17,
   "metadata": {
    "scrolled": true
   },
   "outputs": [
    {
     "output_type": "execute_result",
     "data": {
      "text/plain": "            Date           Region/City                 Region/City-Eng  \\\n4156  2020-05-22   Ханты-Мансийский АО                 Khanty-Mansiysk   \n4157  2020-05-22   Челябинская область              Chelyabinsk region   \n4158  2020-05-22  Чеченская Республика                Chechen Republic   \n4159  2020-05-22     Ямало-Ненецкий АО  Yamalo-Nenets Autonomous Okrug   \n4160  2020-05-22   Ярославская область                Yaroslavl region   \n\n      Region_ID  Day-Confirmed  Day-Deaths  Day-Recovered  Confirmed  Deaths  \\\n4156       86.0           80.0         1.0           18.0     1510.0    13.0   \n4157       74.0           80.0         0.0           29.0     2132.0    11.0   \n4158       95.0           20.0         0.0            8.0     1046.0    11.0   \n4159       89.0           87.0         0.0           74.0     1989.0     5.0   \n4160       76.0          103.0         0.0           24.0     2309.0    13.0   \n\n      Recovered  \n4156      520.0  \n4157      754.0  \n4158      643.0  \n4159      398.0  \n4160      444.0  ",
      "text/html": "<div>\n<style scoped>\n    .dataframe tbody tr th:only-of-type {\n        vertical-align: middle;\n    }\n\n    .dataframe tbody tr th {\n        vertical-align: top;\n    }\n\n    .dataframe thead th {\n        text-align: right;\n    }\n</style>\n<table border=\"1\" class=\"dataframe\">\n  <thead>\n    <tr style=\"text-align: right;\">\n      <th></th>\n      <th>Date</th>\n      <th>Region/City</th>\n      <th>Region/City-Eng</th>\n      <th>Region_ID</th>\n      <th>Day-Confirmed</th>\n      <th>Day-Deaths</th>\n      <th>Day-Recovered</th>\n      <th>Confirmed</th>\n      <th>Deaths</th>\n      <th>Recovered</th>\n    </tr>\n  </thead>\n  <tbody>\n    <tr>\n      <th>4156</th>\n      <td>2020-05-22</td>\n      <td>Ханты-Мансийский АО</td>\n      <td>Khanty-Mansiysk</td>\n      <td>86.0</td>\n      <td>80.0</td>\n      <td>1.0</td>\n      <td>18.0</td>\n      <td>1510.0</td>\n      <td>13.0</td>\n      <td>520.0</td>\n    </tr>\n    <tr>\n      <th>4157</th>\n      <td>2020-05-22</td>\n      <td>Челябинская область</td>\n      <td>Chelyabinsk region</td>\n      <td>74.0</td>\n      <td>80.0</td>\n      <td>0.0</td>\n      <td>29.0</td>\n      <td>2132.0</td>\n      <td>11.0</td>\n      <td>754.0</td>\n    </tr>\n    <tr>\n      <th>4158</th>\n      <td>2020-05-22</td>\n      <td>Чеченская Республика</td>\n      <td>Chechen Republic</td>\n      <td>95.0</td>\n      <td>20.0</td>\n      <td>0.0</td>\n      <td>8.0</td>\n      <td>1046.0</td>\n      <td>11.0</td>\n      <td>643.0</td>\n    </tr>\n    <tr>\n      <th>4159</th>\n      <td>2020-05-22</td>\n      <td>Ямало-Ненецкий АО</td>\n      <td>Yamalo-Nenets Autonomous Okrug</td>\n      <td>89.0</td>\n      <td>87.0</td>\n      <td>0.0</td>\n      <td>74.0</td>\n      <td>1989.0</td>\n      <td>5.0</td>\n      <td>398.0</td>\n    </tr>\n    <tr>\n      <th>4160</th>\n      <td>2020-05-22</td>\n      <td>Ярославская область</td>\n      <td>Yaroslavl region</td>\n      <td>76.0</td>\n      <td>103.0</td>\n      <td>0.0</td>\n      <td>24.0</td>\n      <td>2309.0</td>\n      <td>13.0</td>\n      <td>444.0</td>\n    </tr>\n  </tbody>\n</table>\n</div>"
     },
     "metadata": {},
     "execution_count": 17
    }
   ],
   "source": [
    "# Load previous day data\n",
    "file_name = 'release/covid19-russia-cases.csv'\n",
    "rus_df = pd.read_csv(file_name)\n",
    "rus_df.tail()"
   ]
  },
  {
   "cell_type": "code",
   "execution_count": 18,
   "metadata": {},
   "outputs": [
    {
     "output_type": "execute_result",
     "data": {
      "text/plain": "              Region/City  Confirmed        Date  Deaths  Recovered  \\\n29                 Москва   161397.0  2020-05-23  1934.0    47413.0   \n30     Московская область    32653.0  2020-05-23   324.0     5163.0   \n64        Санкт-Петербург    12955.0  2020-05-23   113.0     3124.0   \n33  Нижегородская область     7826.0  2020-05-23    60.0     2257.0   \n47    Республика Дагестан     3982.0  2020-05-23    70.0     3002.0   \n\n    Day-Confirmed  Day-Deaths  Day-Recovered  \n29         3190.0        67.0         3831.0  \n30          846.0        12.0          464.0  \n64          363.0         6.0          265.0  \n33          211.0         3.0          251.0  \n47          127.0         5.0          120.0  ",
      "text/html": "<div>\n<style scoped>\n    .dataframe tbody tr th:only-of-type {\n        vertical-align: middle;\n    }\n\n    .dataframe tbody tr th {\n        vertical-align: top;\n    }\n\n    .dataframe thead th {\n        text-align: right;\n    }\n</style>\n<table border=\"1\" class=\"dataframe\">\n  <thead>\n    <tr style=\"text-align: right;\">\n      <th></th>\n      <th>Region/City</th>\n      <th>Confirmed</th>\n      <th>Date</th>\n      <th>Deaths</th>\n      <th>Recovered</th>\n      <th>Day-Confirmed</th>\n      <th>Day-Deaths</th>\n      <th>Day-Recovered</th>\n    </tr>\n  </thead>\n  <tbody>\n    <tr>\n      <th>29</th>\n      <td>Москва</td>\n      <td>161397.0</td>\n      <td>2020-05-23</td>\n      <td>1934.0</td>\n      <td>47413.0</td>\n      <td>3190.0</td>\n      <td>67.0</td>\n      <td>3831.0</td>\n    </tr>\n    <tr>\n      <th>30</th>\n      <td>Московская область</td>\n      <td>32653.0</td>\n      <td>2020-05-23</td>\n      <td>324.0</td>\n      <td>5163.0</td>\n      <td>846.0</td>\n      <td>12.0</td>\n      <td>464.0</td>\n    </tr>\n    <tr>\n      <th>64</th>\n      <td>Санкт-Петербург</td>\n      <td>12955.0</td>\n      <td>2020-05-23</td>\n      <td>113.0</td>\n      <td>3124.0</td>\n      <td>363.0</td>\n      <td>6.0</td>\n      <td>265.0</td>\n    </tr>\n    <tr>\n      <th>33</th>\n      <td>Нижегородская область</td>\n      <td>7826.0</td>\n      <td>2020-05-23</td>\n      <td>60.0</td>\n      <td>2257.0</td>\n      <td>211.0</td>\n      <td>3.0</td>\n      <td>251.0</td>\n    </tr>\n    <tr>\n      <th>47</th>\n      <td>Республика Дагестан</td>\n      <td>3982.0</td>\n      <td>2020-05-23</td>\n      <td>70.0</td>\n      <td>3002.0</td>\n      <td>127.0</td>\n      <td>5.0</td>\n      <td>120.0</td>\n    </tr>\n  </tbody>\n</table>\n</div>"
     },
     "metadata": {},
     "execution_count": 18
    }
   ],
   "source": [
    "# Read update data\n",
    "# Result of data_parsing.ipynb\n",
    "file_name = 'covid19-russia-cases-upd.csv'\n",
    "upd_df = pd.read_csv(file_name)\n",
    "upd_df.sort_values('Confirmed', ascending=False).head()"
   ]
  },
  {
   "cell_type": "code",
   "execution_count": 19,
   "metadata": {},
   "outputs": [],
   "source": [
    "# Strip text data\n",
    "rus_df['Region/City'] = rus_df['Region/City'].astype('str').str.strip('\\u200b') \n",
    "upd_df['Region/City'] = upd_df['Region/City'].astype('str').str.strip('\\u200b')"
   ]
  },
  {
   "cell_type": "markdown",
   "metadata": {},
   "source": [
    "# Updating"
   ]
  },
  {
   "cell_type": "code",
   "execution_count": 20,
   "metadata": {},
   "outputs": [],
   "source": [
    "def upd(row):\n",
    "    reg = row['Region/City']\n",
    "    \n",
    "    row['Confirmed'] = rus_df[rus_df['Region/City'] == reg]['Confirmed'].max() + row['Day-Confirmed']\n",
    "    row['Deaths'] = rus_df[rus_df['Region/City'] == reg]['Deaths'].max() + row['Day-Deaths']\n",
    "    row['Recovered'] = rus_df[rus_df['Region/City'] == reg]['Recovered'].max() + row['Day-Recovered']\n",
    "    \n",
    "    row['Confirmed'] = row['Day-Confirmed'] if np.isnan(row['Confirmed']) else row['Confirmed']\n",
    "    row['Deaths'] = row['Day-Deaths'] if np.isnan(row['Deaths']) else row['Deaths']\n",
    "    row['Recovered'] = row['Day-Recovered'] if np.isnan(row['Recovered']) else row['Recovered']\n",
    "    \n",
    "    return row.drop('Region/City')\n",
    "\n",
    "# If cumulative values unknown\n",
    "# upd_df = upd_df.groupby('Region/City').apply(lambda df: upd(df.iloc[0])).reset_index()"
   ]
  },
  {
   "cell_type": "code",
   "execution_count": 21,
   "metadata": {},
   "outputs": [],
   "source": [
    "# Date to datetime\n",
    "upd_df['Date'] = pd.to_datetime(upd_df['Date'])\n",
    "rus_df['Date'] = pd.to_datetime(rus_df['Date'])"
   ]
  },
  {
   "cell_type": "code",
   "execution_count": 22,
   "metadata": {},
   "outputs": [],
   "source": [
    "# Region names translation\n",
    "# from googletrans import Translator\n",
    "# translator = Translator()\n",
    "\n",
    "# def translate(rus):\n",
    "#     eng = translator.translate(rus, src='ru', dest='en')\n",
    "#     return eng.text\n",
    "\n",
    "# upd_df['Region/City-Eng'] = upd_df['Region/City'].apply(translate)"
   ]
  },
  {
   "cell_type": "code",
   "execution_count": 23,
   "metadata": {},
   "outputs": [],
   "source": [
    "# Add region ID and Eng columns\n",
    "regions_df = pd.read_csv('regions-info.csv')\n",
    "\n",
    "right = regions_df[['Region_ID', 'Region', 'Region_eng']]\n",
    "upd_df = upd_df.merge(right, left_on='Region/City', right_on='Region', how='left')\n",
    "upd_df['Region/City-Eng'] = upd_df.Region_eng\n",
    "upd_df = upd_df[['Date', 'Region/City', 'Region/City-Eng', 'Region_ID', 'Day-Confirmed', 'Day-Deaths', 'Day-Recovered', 'Confirmed', 'Deaths', 'Recovered']]"
   ]
  },
  {
   "cell_type": "code",
   "execution_count": 24,
   "metadata": {
    "scrolled": true
   },
   "outputs": [
    {
     "output_type": "execute_result",
     "data": {
      "text/plain": "           Date                 Region/City                 Region/City-Eng  \\\n4236 2020-05-23           Тюменская область                   Tyumen region   \n4237 2020-05-23       Удмуртская Республика                 Udmurt republic   \n4238 2020-05-23         Ульяновская область                Ulyanovsk region   \n4239 2020-05-23            Хабаровский край               Khabarovsk region   \n4240 2020-05-23         Ханты-Мансийский АО                 Khanty-Mansiysk   \n4241 2020-05-23         Челябинская область              Chelyabinsk region   \n4242 2020-05-23        Чеченская Республика                Chechen Republic   \n4243 2020-05-23  Чукотский автономный округ       Chukotka Autonomous Okrug   \n4244 2020-05-23           Ямало-Ненецкий АО  Yamalo-Nenets Autonomous Okrug   \n4245 2020-05-23         Ярославская область                Yaroslavl region   \n\n      Region_ID  Day-Confirmed  Day-Deaths  Day-Recovered  Confirmed  Deaths  \\\n4236       72.0           35.0         0.0           21.0     1366.0     7.0   \n4237       18.0           15.0         0.0           16.0      492.0    12.0   \n4238       73.0           98.0         0.0           26.0     1764.0     6.0   \n4239       27.0           63.0         1.0           23.0     1572.0    10.0   \n4240       86.0           58.0         2.0           25.0     1568.0    15.0   \n4241       74.0           67.0         0.0           65.0     2199.0    11.0   \n4242       95.0           20.0         1.0           16.0     1066.0    12.0   \n4243       87.0            2.0         1.0            6.0       58.0     1.0   \n4244       89.0           36.0         0.0          288.0     2025.0     5.0   \n4245       76.0          115.0         0.0           49.0     2424.0    13.0   \n\n      Recovered  \n4236      591.0  \n4237      323.0  \n4238      462.0  \n4239      678.0  \n4240      545.0  \n4241      819.0  \n4242      659.0  \n4243       30.0  \n4244      686.0  \n4245      493.0  ",
      "text/html": "<div>\n<style scoped>\n    .dataframe tbody tr th:only-of-type {\n        vertical-align: middle;\n    }\n\n    .dataframe tbody tr th {\n        vertical-align: top;\n    }\n\n    .dataframe thead th {\n        text-align: right;\n    }\n</style>\n<table border=\"1\" class=\"dataframe\">\n  <thead>\n    <tr style=\"text-align: right;\">\n      <th></th>\n      <th>Date</th>\n      <th>Region/City</th>\n      <th>Region/City-Eng</th>\n      <th>Region_ID</th>\n      <th>Day-Confirmed</th>\n      <th>Day-Deaths</th>\n      <th>Day-Recovered</th>\n      <th>Confirmed</th>\n      <th>Deaths</th>\n      <th>Recovered</th>\n    </tr>\n  </thead>\n  <tbody>\n    <tr>\n      <th>4236</th>\n      <td>2020-05-23</td>\n      <td>Тюменская область</td>\n      <td>Tyumen region</td>\n      <td>72.0</td>\n      <td>35.0</td>\n      <td>0.0</td>\n      <td>21.0</td>\n      <td>1366.0</td>\n      <td>7.0</td>\n      <td>591.0</td>\n    </tr>\n    <tr>\n      <th>4237</th>\n      <td>2020-05-23</td>\n      <td>Удмуртская Республика</td>\n      <td>Udmurt republic</td>\n      <td>18.0</td>\n      <td>15.0</td>\n      <td>0.0</td>\n      <td>16.0</td>\n      <td>492.0</td>\n      <td>12.0</td>\n      <td>323.0</td>\n    </tr>\n    <tr>\n      <th>4238</th>\n      <td>2020-05-23</td>\n      <td>Ульяновская область</td>\n      <td>Ulyanovsk region</td>\n      <td>73.0</td>\n      <td>98.0</td>\n      <td>0.0</td>\n      <td>26.0</td>\n      <td>1764.0</td>\n      <td>6.0</td>\n      <td>462.0</td>\n    </tr>\n    <tr>\n      <th>4239</th>\n      <td>2020-05-23</td>\n      <td>Хабаровский край</td>\n      <td>Khabarovsk region</td>\n      <td>27.0</td>\n      <td>63.0</td>\n      <td>1.0</td>\n      <td>23.0</td>\n      <td>1572.0</td>\n      <td>10.0</td>\n      <td>678.0</td>\n    </tr>\n    <tr>\n      <th>4240</th>\n      <td>2020-05-23</td>\n      <td>Ханты-Мансийский АО</td>\n      <td>Khanty-Mansiysk</td>\n      <td>86.0</td>\n      <td>58.0</td>\n      <td>2.0</td>\n      <td>25.0</td>\n      <td>1568.0</td>\n      <td>15.0</td>\n      <td>545.0</td>\n    </tr>\n    <tr>\n      <th>4241</th>\n      <td>2020-05-23</td>\n      <td>Челябинская область</td>\n      <td>Chelyabinsk region</td>\n      <td>74.0</td>\n      <td>67.0</td>\n      <td>0.0</td>\n      <td>65.0</td>\n      <td>2199.0</td>\n      <td>11.0</td>\n      <td>819.0</td>\n    </tr>\n    <tr>\n      <th>4242</th>\n      <td>2020-05-23</td>\n      <td>Чеченская Республика</td>\n      <td>Chechen Republic</td>\n      <td>95.0</td>\n      <td>20.0</td>\n      <td>1.0</td>\n      <td>16.0</td>\n      <td>1066.0</td>\n      <td>12.0</td>\n      <td>659.0</td>\n    </tr>\n    <tr>\n      <th>4243</th>\n      <td>2020-05-23</td>\n      <td>Чукотский автономный округ</td>\n      <td>Chukotka Autonomous Okrug</td>\n      <td>87.0</td>\n      <td>2.0</td>\n      <td>1.0</td>\n      <td>6.0</td>\n      <td>58.0</td>\n      <td>1.0</td>\n      <td>30.0</td>\n    </tr>\n    <tr>\n      <th>4244</th>\n      <td>2020-05-23</td>\n      <td>Ямало-Ненецкий АО</td>\n      <td>Yamalo-Nenets Autonomous Okrug</td>\n      <td>89.0</td>\n      <td>36.0</td>\n      <td>0.0</td>\n      <td>288.0</td>\n      <td>2025.0</td>\n      <td>5.0</td>\n      <td>686.0</td>\n    </tr>\n    <tr>\n      <th>4245</th>\n      <td>2020-05-23</td>\n      <td>Ярославская область</td>\n      <td>Yaroslavl region</td>\n      <td>76.0</td>\n      <td>115.0</td>\n      <td>0.0</td>\n      <td>49.0</td>\n      <td>2424.0</td>\n      <td>13.0</td>\n      <td>493.0</td>\n    </tr>\n  </tbody>\n</table>\n</div>"
     },
     "metadata": {},
     "execution_count": 24
    }
   ],
   "source": [
    "rus_df = pd.concat([rus_df, upd_df]).reset_index(drop=True)\n",
    "rus_df.tail(10)"
   ]
  },
  {
   "cell_type": "code",
   "execution_count": 25,
   "metadata": {},
   "outputs": [],
   "source": [
    "# Negative values fixing\n",
    "# Negative values can appear if some cases was removed from statistic\n",
    "def negval_fix(reg):\n",
    "    last = reg.iloc[-1]\n",
    "    diff_c = last['Day-Confirmed']*(-1) if last['Day-Confirmed'] < 0 else 0\n",
    "    diff_d = last['Day-Deaths']*(-1) if last['Day-Deaths'] < 0 else 0\n",
    "    diff_r = last['Day-Recovered']*(-1) if last['Day-Recovered'] < 0 else 0\n",
    "    \n",
    "    last['Day-Confirmed'] += diff_c\n",
    "    last['Day-Deaths']    += diff_d\n",
    "    last['Day-Recovered'] += diff_r\n",
    "    reg.iloc[-1] = last\n",
    "    \n",
    "    if diff_c + diff_d + diff_r > 0:\n",
    "        print(diff_c, diff_d, diff_r, last['Region/City'])\n",
    "        prev = reg.iloc[-2]\n",
    "        prev['Confirmed'] -= diff_c\n",
    "        prev['Deaths']    -= diff_d\n",
    "        prev['Recovered'] -= diff_r\n",
    "        reg.iloc[-2] = prev\n",
    "    \n",
    "    return reg\n",
    "    \n",
    "rus_df = rus_df.groupby('Region/City').apply(negval_fix).reset_index(drop=True)"
   ]
  },
  {
   "cell_type": "code",
   "execution_count": 26,
   "metadata": {},
   "outputs": [],
   "source": [
    "# Manual fixes if needed\n",
    "# rus_df.loc[321, 'Confirmed'] = 5\n",
    "# rus_df.loc[359, 'Day-Confirmed'] = 0\n",
    "\n",
    "\n",
    "# rus_df.loc[3775, 'Deaths'] = 7\n",
    "# rus_df.loc[3775, 'Day-Deaths'] = 0"
   ]
  },
  {
   "cell_type": "markdown",
   "metadata": {},
   "source": [
    "# Data checking"
   ]
  },
  {
   "cell_type": "code",
   "execution_count": 27,
   "metadata": {},
   "outputs": [
    {
     "output_type": "stream",
     "name": "stdout",
     "text": "Russia Confirmed: 336147.0 336147.0\nRussia Deaths: 3398.0 3398.0\nRussia Recovered: 108097.0 108097.0\nEmpty DataFrame\nColumns: [Region/City, Confirmed, Confirmed-ByDay]\nIndex: []\nEmpty DataFrame\nColumns: [Region/City, Recovered, Recovered-ByDay]\nIndex: []\nEmpty DataFrame\nColumns: [Region/City, Deaths, Deaths-ByDay]\nIndex: []\n"
    }
   ],
   "source": [
    "rus_sum = rus_df.loc[rus_df['Region/City'] != 'Diamond Princess']\n",
    "\n",
    "print('Russia Confirmed:', rus_sum.groupby('Region/City')['Confirmed'].max().sum(),\n",
    "      rus_sum.groupby('Region/City')['Day-Confirmed'].sum().sum())\n",
    "print('Russia Deaths:', rus_sum.groupby('Region/City')['Deaths'].max().sum(),\n",
    "      rus_sum.groupby('Region/City')['Day-Deaths'].sum().sum())\n",
    "print('Russia Recovered:', rus_sum.groupby('Region/City')['Recovered'].max().sum(),\n",
    "      rus_sum.groupby('Region/City')['Day-Recovered'].sum().sum())\n",
    "\n",
    "rus_regs = rus_sum.groupby('Region/City')['Confirmed'].max().reset_index()\n",
    "rus_regs['Confirmed-ByDay'] = rus_sum.groupby('Region/City')['Day-Confirmed'].sum().reset_index(drop=True)\n",
    "print(rus_regs.loc[rus_regs['Confirmed'] != rus_regs['Confirmed-ByDay']])\n",
    "\n",
    "rus_regs = rus_sum.groupby('Region/City')['Recovered'].max().reset_index()\n",
    "rus_regs['Recovered-ByDay'] = rus_sum.groupby('Region/City')['Day-Recovered'].sum().reset_index(drop=True)\n",
    "print(rus_regs.loc[rus_regs['Recovered'] != rus_regs['Recovered-ByDay']])\n",
    "\n",
    "rus_regs = rus_sum.groupby('Region/City')['Deaths'].max().reset_index()\n",
    "rus_regs['Deaths-ByDay'] = rus_sum.groupby('Region/City')['Day-Deaths'].sum().reset_index(drop=True)\n",
    "print(rus_regs.loc[rus_regs['Deaths'] != rus_regs['Deaths-ByDay']])\n",
    "\n",
    "# rus_regs.to_csv('rus_regs.csv')"
   ]
  },
  {
   "cell_type": "markdown",
   "metadata": {},
   "source": [
    "# Data saving"
   ]
  },
  {
   "cell_type": "code",
   "execution_count": 29,
   "metadata": {},
   "outputs": [],
   "source": [
    "file_name = 'release/covid19-russia-cases.csv'\n",
    "rus_df.to_csv(file_name, index=False)"
   ]
  },
  {
   "cell_type": "code",
   "execution_count": null,
   "metadata": {},
   "outputs": [],
   "source": []
  }
 ],
 "metadata": {
  "kernelspec": {
   "display_name": "Python 3",
   "language": "python",
   "name": "python3"
  },
  "language_info": {
   "codemirror_mode": {
    "name": "ipython",
    "version": 3
   },
   "file_extension": ".py",
   "mimetype": "text/x-python",
   "name": "python",
   "nbconvert_exporter": "python",
   "pygments_lexer": "ipython3",
   "version": "3.7.6-final"
  }
 },
 "nbformat": 4,
 "nbformat_minor": 4
}