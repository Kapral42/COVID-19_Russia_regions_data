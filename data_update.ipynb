{
 "cells": [
  {
   "cell_type": "markdown",
   "metadata": {},
   "source": [
    "# Import"
   ]
  },
  {
   "cell_type": "code",
   "execution_count": 27,
   "metadata": {},
   "outputs": [],
   "source": [
    "import numpy as np\n",
    "import pandas as pd"
   ]
  },
  {
   "cell_type": "markdown",
   "metadata": {},
   "source": [
    "# Data preporation"
   ]
  },
  {
   "cell_type": "code",
   "execution_count": 28,
   "metadata": {
    "scrolled": true
   },
   "outputs": [
    {
     "output_type": "execute_result",
     "data": {
      "text/plain": "            Date                 Region/City                 Region/City-Eng  \\\n5755  2020-06-10         Ханты-Мансийский АО                 Khanty-Mansiysk   \n5756  2020-06-10        Чеченская Республика                Chechen Republic   \n5757  2020-06-10  Чукотский автономный округ       Chukotka Autonomous Okrug   \n5758  2020-06-10           Ямало-Ненецкий АО  Yamalo-Nenets Autonomous Okrug   \n5759  2020-06-10         Ярославская область                Yaroslavl region   \n\n      Region_ID  Day-Confirmed  Day-Deaths  Day-Recovered  Confirmed  Deaths  \\\n5755       86.0          197.0         2.0          264.0     3821.0    23.0   \n5756       95.0           16.0         0.0           49.0     1400.0    16.0   \n5757       87.0            2.0         0.0            1.0      112.0     1.0   \n5758       89.0           54.0         0.0            7.0     2887.0    13.0   \n5759       76.0           63.0         0.0          142.0     3844.0    15.0   \n\n      Recovered  \n5755     1468.0  \n5756     1073.0  \n5757       69.0  \n5758     1482.0  \n5759     1452.0  ",
      "text/html": "<div>\n<style scoped>\n    .dataframe tbody tr th:only-of-type {\n        vertical-align: middle;\n    }\n\n    .dataframe tbody tr th {\n        vertical-align: top;\n    }\n\n    .dataframe thead th {\n        text-align: right;\n    }\n</style>\n<table border=\"1\" class=\"dataframe\">\n  <thead>\n    <tr style=\"text-align: right;\">\n      <th></th>\n      <th>Date</th>\n      <th>Region/City</th>\n      <th>Region/City-Eng</th>\n      <th>Region_ID</th>\n      <th>Day-Confirmed</th>\n      <th>Day-Deaths</th>\n      <th>Day-Recovered</th>\n      <th>Confirmed</th>\n      <th>Deaths</th>\n      <th>Recovered</th>\n    </tr>\n  </thead>\n  <tbody>\n    <tr>\n      <th>5755</th>\n      <td>2020-06-10</td>\n      <td>Ханты-Мансийский АО</td>\n      <td>Khanty-Mansiysk</td>\n      <td>86.0</td>\n      <td>197.0</td>\n      <td>2.0</td>\n      <td>264.0</td>\n      <td>3821.0</td>\n      <td>23.0</td>\n      <td>1468.0</td>\n    </tr>\n    <tr>\n      <th>5756</th>\n      <td>2020-06-10</td>\n      <td>Чеченская Республика</td>\n      <td>Chechen Republic</td>\n      <td>95.0</td>\n      <td>16.0</td>\n      <td>0.0</td>\n      <td>49.0</td>\n      <td>1400.0</td>\n      <td>16.0</td>\n      <td>1073.0</td>\n    </tr>\n    <tr>\n      <th>5757</th>\n      <td>2020-06-10</td>\n      <td>Чукотский автономный округ</td>\n      <td>Chukotka Autonomous Okrug</td>\n      <td>87.0</td>\n      <td>2.0</td>\n      <td>0.0</td>\n      <td>1.0</td>\n      <td>112.0</td>\n      <td>1.0</td>\n      <td>69.0</td>\n    </tr>\n    <tr>\n      <th>5758</th>\n      <td>2020-06-10</td>\n      <td>Ямало-Ненецкий АО</td>\n      <td>Yamalo-Nenets Autonomous Okrug</td>\n      <td>89.0</td>\n      <td>54.0</td>\n      <td>0.0</td>\n      <td>7.0</td>\n      <td>2887.0</td>\n      <td>13.0</td>\n      <td>1482.0</td>\n    </tr>\n    <tr>\n      <th>5759</th>\n      <td>2020-06-10</td>\n      <td>Ярославская область</td>\n      <td>Yaroslavl region</td>\n      <td>76.0</td>\n      <td>63.0</td>\n      <td>0.0</td>\n      <td>142.0</td>\n      <td>3844.0</td>\n      <td>15.0</td>\n      <td>1452.0</td>\n    </tr>\n  </tbody>\n</table>\n</div>"
     },
     "metadata": {},
     "execution_count": 28
    }
   ],
   "source": [
    "# Load previous day data\n",
    "file_name = 'release/covid19-russia-cases.csv'\n",
    "rus_df = pd.read_csv(file_name)\n",
    "rus_df.tail()"
   ]
  },
  {
   "cell_type": "code",
   "execution_count": 29,
   "metadata": {},
   "outputs": [
    {
     "output_type": "execute_result",
     "data": {
      "text/plain": "              Region/City  Confirmed        Date  Deaths  Recovered  \\\n29                 Москва   201221.0  2020-06-11  3138.0   115769.0   \n30     Московская область    47181.0  2020-06-11   644.0    14187.0   \n64        Санкт-Петербург    19769.0  2020-06-11   520.0     8864.0   \n33  Нижегородская область    13341.0  2020-06-11   152.0     6219.0   \n67   Свердловская область     8506.0  2020-06-11    48.0     3790.0   \n\n    Day-Confirmed  Day-Deaths  Day-Recovered  \n29         1436.0        53.0         2236.0  \n30          724.0        22.0          768.0  \n64          303.0        38.0          343.0  \n33          303.0         2.0          244.0  \n67          312.0         0.0          148.0  ",
      "text/html": "<div>\n<style scoped>\n    .dataframe tbody tr th:only-of-type {\n        vertical-align: middle;\n    }\n\n    .dataframe tbody tr th {\n        vertical-align: top;\n    }\n\n    .dataframe thead th {\n        text-align: right;\n    }\n</style>\n<table border=\"1\" class=\"dataframe\">\n  <thead>\n    <tr style=\"text-align: right;\">\n      <th></th>\n      <th>Region/City</th>\n      <th>Confirmed</th>\n      <th>Date</th>\n      <th>Deaths</th>\n      <th>Recovered</th>\n      <th>Day-Confirmed</th>\n      <th>Day-Deaths</th>\n      <th>Day-Recovered</th>\n    </tr>\n  </thead>\n  <tbody>\n    <tr>\n      <th>29</th>\n      <td>Москва</td>\n      <td>201221.0</td>\n      <td>2020-06-11</td>\n      <td>3138.0</td>\n      <td>115769.0</td>\n      <td>1436.0</td>\n      <td>53.0</td>\n      <td>2236.0</td>\n    </tr>\n    <tr>\n      <th>30</th>\n      <td>Московская область</td>\n      <td>47181.0</td>\n      <td>2020-06-11</td>\n      <td>644.0</td>\n      <td>14187.0</td>\n      <td>724.0</td>\n      <td>22.0</td>\n      <td>768.0</td>\n    </tr>\n    <tr>\n      <th>64</th>\n      <td>Санкт-Петербург</td>\n      <td>19769.0</td>\n      <td>2020-06-11</td>\n      <td>520.0</td>\n      <td>8864.0</td>\n      <td>303.0</td>\n      <td>38.0</td>\n      <td>343.0</td>\n    </tr>\n    <tr>\n      <th>33</th>\n      <td>Нижегородская область</td>\n      <td>13341.0</td>\n      <td>2020-06-11</td>\n      <td>152.0</td>\n      <td>6219.0</td>\n      <td>303.0</td>\n      <td>2.0</td>\n      <td>244.0</td>\n    </tr>\n    <tr>\n      <th>67</th>\n      <td>Свердловская область</td>\n      <td>8506.0</td>\n      <td>2020-06-11</td>\n      <td>48.0</td>\n      <td>3790.0</td>\n      <td>312.0</td>\n      <td>0.0</td>\n      <td>148.0</td>\n    </tr>\n  </tbody>\n</table>\n</div>"
     },
     "metadata": {},
     "execution_count": 29
    }
   ],
   "source": [
    "# Read update data\n",
    "# Result of data_parsing.ipynb\n",
    "file_name = 'covid19-russia-cases-upd.csv'\n",
    "upd_df = pd.read_csv(file_name)\n",
    "upd_df.sort_values('Confirmed', ascending=False).head()"
   ]
  },
  {
   "cell_type": "code",
   "execution_count": 30,
   "metadata": {},
   "outputs": [],
   "source": [
    "# Strip text data\n",
    "rus_df['Region/City'] = rus_df['Region/City'].astype('str').str.strip('\\u200b') \n",
    "upd_df['Region/City'] = upd_df['Region/City'].astype('str').str.strip('\\u200b')"
   ]
  },
  {
   "cell_type": "markdown",
   "metadata": {},
   "source": [
    "# Updating"
   ]
  },
  {
   "cell_type": "code",
   "execution_count": 31,
   "metadata": {},
   "outputs": [],
   "source": [
    "def upd(row):\n",
    "    reg = row['Region/City']\n",
    "    \n",
    "    row['Confirmed'] = rus_df[rus_df['Region/City'] == reg]['Confirmed'].max() + row['Day-Confirmed']\n",
    "    row['Deaths'] = rus_df[rus_df['Region/City'] == reg]['Deaths'].max() + row['Day-Deaths']\n",
    "    row['Recovered'] = rus_df[rus_df['Region/City'] == reg]['Recovered'].max() + row['Day-Recovered']\n",
    "    \n",
    "    row['Confirmed'] = row['Day-Confirmed'] if np.isnan(row['Confirmed']) else row['Confirmed']\n",
    "    row['Deaths'] = row['Day-Deaths'] if np.isnan(row['Deaths']) else row['Deaths']\n",
    "    row['Recovered'] = row['Day-Recovered'] if np.isnan(row['Recovered']) else row['Recovered']\n",
    "    \n",
    "    return row.drop('Region/City')\n",
    "\n",
    "# If cumulative values unknown\n",
    "# upd_df = upd_df.groupby('Region/City').apply(lambda df: upd(df.iloc[0])).reset_index()"
   ]
  },
  {
   "cell_type": "code",
   "execution_count": 32,
   "metadata": {},
   "outputs": [],
   "source": [
    "# Date to datetime\n",
    "upd_df['Date'] = pd.to_datetime(upd_df['Date'])\n",
    "rus_df['Date'] = pd.to_datetime(rus_df['Date'])"
   ]
  },
  {
   "cell_type": "code",
   "execution_count": 33,
   "metadata": {},
   "outputs": [],
   "source": [
    "# Region names translation\n",
    "# from googletrans import Translator\n",
    "# translator = Translator()\n",
    "\n",
    "# def translate(rus):\n",
    "#     eng = translator.translate(rus, src='ru', dest='en')\n",
    "#     return eng.text\n",
    "\n",
    "# upd_df['Region/City-Eng'] = upd_df['Region/City'].apply(translate)"
   ]
  },
  {
   "cell_type": "code",
   "execution_count": 34,
   "metadata": {},
   "outputs": [],
   "source": [
    "# Add region ID and Eng columns\n",
    "regions_df = pd.read_csv('release/regions-info.csv')\n",
    "\n",
    "right = regions_df[['Region_ID', 'Region', 'Region_eng']]\n",
    "upd_df = upd_df.merge(right, left_on='Region/City', right_on='Region', how='left')\n",
    "upd_df['Region/City-Eng'] = upd_df.Region_eng\n",
    "upd_df = upd_df[['Date', 'Region/City', 'Region/City-Eng', 'Region_ID', 'Day-Confirmed', 'Day-Deaths', 'Day-Recovered', 'Confirmed', 'Deaths', 'Recovered']]"
   ]
  },
  {
   "cell_type": "code",
   "execution_count": 35,
   "metadata": {
    "scrolled": true
   },
   "outputs": [
    {
     "output_type": "execute_result",
     "data": {
      "text/plain": "           Date                 Region/City                 Region/City-Eng  \\\n5835 2020-06-11           Тюменская область                   Tyumen region   \n5836 2020-06-11       Удмуртская Республика                 Udmurt republic   \n5837 2020-06-11         Ульяновская область                Ulyanovsk region   \n5838 2020-06-11            Хабаровский край               Khabarovsk region   \n5839 2020-06-11         Ханты-Мансийский АО                 Khanty-Mansiysk   \n5840 2020-06-11         Челябинская область              Chelyabinsk region   \n5841 2020-06-11        Чеченская Республика                Chechen Republic   \n5842 2020-06-11  Чукотский автономный округ       Chukotka Autonomous Okrug   \n5843 2020-06-11           Ямало-Ненецкий АО  Yamalo-Nenets Autonomous Okrug   \n5844 2020-06-11         Ярославская область                Yaroslavl region   \n\n      Region_ID  Day-Confirmed  Day-Deaths  Day-Recovered  Confirmed  Deaths  \\\n5835       72.0           34.0         0.0           32.0     2047.0    12.0   \n5836       18.0           20.0         0.0           14.0     1031.0    20.0   \n5837       73.0           88.0         0.0          106.0     3538.0    18.0   \n5838       27.0           71.0         1.0           37.0     2804.0    19.0   \n5839       86.0          186.0         1.0           91.0     4007.0    24.0   \n5840       74.0            1.0         0.0          132.0     4130.0    37.0   \n5841       95.0           20.0         0.0           46.0     1420.0    16.0   \n5842       87.0            2.0         0.0            1.0      114.0     1.0   \n5843       89.0           77.0         0.0            3.0     2964.0    13.0   \n5844       76.0           59.0         0.0           78.0     3903.0    15.0   \n\n      Recovered  \n5835     1176.0  \n5836      516.0  \n5837     1201.0  \n5838     1439.0  \n5839     1559.0  \n5840     2099.0  \n5841     1119.0  \n5842       70.0  \n5843     1485.0  \n5844     1530.0  ",
      "text/html": "<div>\n<style scoped>\n    .dataframe tbody tr th:only-of-type {\n        vertical-align: middle;\n    }\n\n    .dataframe tbody tr th {\n        vertical-align: top;\n    }\n\n    .dataframe thead th {\n        text-align: right;\n    }\n</style>\n<table border=\"1\" class=\"dataframe\">\n  <thead>\n    <tr style=\"text-align: right;\">\n      <th></th>\n      <th>Date</th>\n      <th>Region/City</th>\n      <th>Region/City-Eng</th>\n      <th>Region_ID</th>\n      <th>Day-Confirmed</th>\n      <th>Day-Deaths</th>\n      <th>Day-Recovered</th>\n      <th>Confirmed</th>\n      <th>Deaths</th>\n      <th>Recovered</th>\n    </tr>\n  </thead>\n  <tbody>\n    <tr>\n      <th>5835</th>\n      <td>2020-06-11</td>\n      <td>Тюменская область</td>\n      <td>Tyumen region</td>\n      <td>72.0</td>\n      <td>34.0</td>\n      <td>0.0</td>\n      <td>32.0</td>\n      <td>2047.0</td>\n      <td>12.0</td>\n      <td>1176.0</td>\n    </tr>\n    <tr>\n      <th>5836</th>\n      <td>2020-06-11</td>\n      <td>Удмуртская Республика</td>\n      <td>Udmurt republic</td>\n      <td>18.0</td>\n      <td>20.0</td>\n      <td>0.0</td>\n      <td>14.0</td>\n      <td>1031.0</td>\n      <td>20.0</td>\n      <td>516.0</td>\n    </tr>\n    <tr>\n      <th>5837</th>\n      <td>2020-06-11</td>\n      <td>Ульяновская область</td>\n      <td>Ulyanovsk region</td>\n      <td>73.0</td>\n      <td>88.0</td>\n      <td>0.0</td>\n      <td>106.0</td>\n      <td>3538.0</td>\n      <td>18.0</td>\n      <td>1201.0</td>\n    </tr>\n    <tr>\n      <th>5838</th>\n      <td>2020-06-11</td>\n      <td>Хабаровский край</td>\n      <td>Khabarovsk region</td>\n      <td>27.0</td>\n      <td>71.0</td>\n      <td>1.0</td>\n      <td>37.0</td>\n      <td>2804.0</td>\n      <td>19.0</td>\n      <td>1439.0</td>\n    </tr>\n    <tr>\n      <th>5839</th>\n      <td>2020-06-11</td>\n      <td>Ханты-Мансийский АО</td>\n      <td>Khanty-Mansiysk</td>\n      <td>86.0</td>\n      <td>186.0</td>\n      <td>1.0</td>\n      <td>91.0</td>\n      <td>4007.0</td>\n      <td>24.0</td>\n      <td>1559.0</td>\n    </tr>\n    <tr>\n      <th>5840</th>\n      <td>2020-06-11</td>\n      <td>Челябинская область</td>\n      <td>Chelyabinsk region</td>\n      <td>74.0</td>\n      <td>1.0</td>\n      <td>0.0</td>\n      <td>132.0</td>\n      <td>4130.0</td>\n      <td>37.0</td>\n      <td>2099.0</td>\n    </tr>\n    <tr>\n      <th>5841</th>\n      <td>2020-06-11</td>\n      <td>Чеченская Республика</td>\n      <td>Chechen Republic</td>\n      <td>95.0</td>\n      <td>20.0</td>\n      <td>0.0</td>\n      <td>46.0</td>\n      <td>1420.0</td>\n      <td>16.0</td>\n      <td>1119.0</td>\n    </tr>\n    <tr>\n      <th>5842</th>\n      <td>2020-06-11</td>\n      <td>Чукотский автономный округ</td>\n      <td>Chukotka Autonomous Okrug</td>\n      <td>87.0</td>\n      <td>2.0</td>\n      <td>0.0</td>\n      <td>1.0</td>\n      <td>114.0</td>\n      <td>1.0</td>\n      <td>70.0</td>\n    </tr>\n    <tr>\n      <th>5843</th>\n      <td>2020-06-11</td>\n      <td>Ямало-Ненецкий АО</td>\n      <td>Yamalo-Nenets Autonomous Okrug</td>\n      <td>89.0</td>\n      <td>77.0</td>\n      <td>0.0</td>\n      <td>3.0</td>\n      <td>2964.0</td>\n      <td>13.0</td>\n      <td>1485.0</td>\n    </tr>\n    <tr>\n      <th>5844</th>\n      <td>2020-06-11</td>\n      <td>Ярославская область</td>\n      <td>Yaroslavl region</td>\n      <td>76.0</td>\n      <td>59.0</td>\n      <td>0.0</td>\n      <td>78.0</td>\n      <td>3903.0</td>\n      <td>15.0</td>\n      <td>1530.0</td>\n    </tr>\n  </tbody>\n</table>\n</div>"
     },
     "metadata": {},
     "execution_count": 35
    }
   ],
   "source": [
    "rus_df = pd.concat([rus_df, upd_df]).reset_index(drop=True)\n",
    "rus_df.tail(10)"
   ]
  },
  {
   "cell_type": "code",
   "execution_count": 36,
   "metadata": {},
   "outputs": [],
   "source": [
    "# Negative values fixing\n",
    "# Negative values can appear if some cases was removed from statistic\n",
    "def negval_fix(reg):\n",
    "    last = reg.iloc[-1]\n",
    "    diff_c = last['Day-Confirmed']*(-1) if last['Day-Confirmed'] < 0 else 0\n",
    "    diff_d = last['Day-Deaths']*(-1) if last['Day-Deaths'] < 0 else 0\n",
    "    diff_r = last['Day-Recovered']*(-1) if last['Day-Recovered'] < 0 else 0\n",
    "    \n",
    "    last['Day-Confirmed'] += diff_c\n",
    "    last['Day-Deaths']    += diff_d\n",
    "    last['Day-Recovered'] += diff_r\n",
    "    reg.iloc[-1] = last\n",
    "    \n",
    "    if diff_c + diff_d + diff_r > 0:\n",
    "        print(f\"Conf {diff_c} Death {diff_d} Rec {diff_r} {last['Region/City']}\")\n",
    "        prev = reg.iloc[-2]\n",
    "        prev['Confirmed'] -= diff_c\n",
    "        prev['Deaths']    -= diff_d\n",
    "        prev['Recovered'] -= diff_r\n",
    "        reg.iloc[-2] = prev\n",
    "    \n",
    "    return reg\n",
    "    \n",
    "rus_df = rus_df.groupby('Region/City').apply(negval_fix).reset_index(drop=True)"
   ]
  },
  {
   "cell_type": "code",
   "execution_count": 37,
   "metadata": {},
   "outputs": [],
   "source": [
    "# Manual fixes if needed\n",
    "# rus_df.loc[321, 'Confirmed'] = 5\n",
    "# rus_df.loc[359, 'Day-Confirmed'] = 0\n",
    "\n",
    "\n",
    "# rus_df.loc[3775, 'Deaths'] = 7\n",
    "# rus_df.loc[3775, 'Day-Deaths'] = 0"
   ]
  },
  {
   "cell_type": "markdown",
   "metadata": {},
   "source": [
    "# Data checking"
   ]
  },
  {
   "cell_type": "code",
   "execution_count": 38,
   "metadata": {},
   "outputs": [
    {
     "output_type": "stream",
     "name": "stdout",
     "text": "Russia Confirmed: 502436.0 502436.0\nRussia Deaths: 6559.0 6559.0\nRussia Recovered: 261173.0 261173.0\nEmpty DataFrame\nColumns: [Region/City, Confirmed, Confirmed-ByDay]\nIndex: []\nEmpty DataFrame\nColumns: [Region/City, Recovered, Recovered-ByDay]\nIndex: []\nEmpty DataFrame\nColumns: [Region/City, Deaths, Deaths-ByDay]\nIndex: []\n"
    }
   ],
   "source": [
    "rus_sum = rus_df.loc[rus_df['Region/City'] != 'Diamond Princess']\n",
    "\n",
    "print('Russia Confirmed:', rus_sum.groupby('Region/City')['Confirmed'].max().sum(),\n",
    "      rus_sum.groupby('Region/City')['Day-Confirmed'].sum().sum())\n",
    "print('Russia Deaths:', rus_sum.groupby('Region/City')['Deaths'].max().sum(),\n",
    "      rus_sum.groupby('Region/City')['Day-Deaths'].sum().sum())\n",
    "print('Russia Recovered:', rus_sum.groupby('Region/City')['Recovered'].max().sum(),\n",
    "      rus_sum.groupby('Region/City')['Day-Recovered'].sum().sum())\n",
    "\n",
    "rus_regs = rus_sum.groupby('Region/City')['Confirmed'].max().reset_index()\n",
    "rus_regs['Confirmed-ByDay'] = rus_sum.groupby('Region/City')['Day-Confirmed'].sum().reset_index(drop=True)\n",
    "print(rus_regs.loc[rus_regs['Confirmed'] != rus_regs['Confirmed-ByDay']])\n",
    "\n",
    "rus_regs = rus_sum.groupby('Region/City')['Recovered'].max().reset_index()\n",
    "rus_regs['Recovered-ByDay'] = rus_sum.groupby('Region/City')['Day-Recovered'].sum().reset_index(drop=True)\n",
    "print(rus_regs.loc[rus_regs['Recovered'] != rus_regs['Recovered-ByDay']])\n",
    "\n",
    "rus_regs = rus_sum.groupby('Region/City')['Deaths'].max().reset_index()\n",
    "rus_regs['Deaths-ByDay'] = rus_sum.groupby('Region/City')['Day-Deaths'].sum().reset_index(drop=True)\n",
    "print(rus_regs.loc[rus_regs['Deaths'] != rus_regs['Deaths-ByDay']])\n",
    "\n",
    "# rus_regs.to_csv('rus_regs.csv')"
   ]
  },
  {
   "cell_type": "markdown",
   "metadata": {},
   "source": [
    "# Data saving"
   ]
  },
  {
   "cell_type": "code",
   "execution_count": 39,
   "metadata": {},
   "outputs": [],
   "source": [
    "file_name = 'release/covid19-russia-cases.csv'\n",
    "rus_df.to_csv(file_name, index=False)"
   ]
  }
 ],
 "metadata": {
  "kernelspec": {
   "display_name": "Python 3",
   "language": "python",
   "name": "python3"
  },
  "language_info": {
   "codemirror_mode": {
    "name": "ipython",
    "version": 3
   },
   "file_extension": ".py",
   "mimetype": "text/x-python",
   "name": "python",
   "nbconvert_exporter": "python",
   "pygments_lexer": "ipython3",
   "version": "3.7.6-final"
  }
 },
 "nbformat": 4,
 "nbformat_minor": 4
}