{
 "cells": [
  {
   "cell_type": "markdown",
   "metadata": {},
   "source": [
    "# Import"
   ]
  },
  {
   "cell_type": "code",
   "execution_count": 11,
   "metadata": {},
   "outputs": [],
   "source": [
    "import numpy as np\n",
    "import pandas as pd"
   ]
  },
  {
   "cell_type": "markdown",
   "metadata": {},
   "source": [
    "# Data preporation"
   ]
  },
  {
   "cell_type": "code",
   "execution_count": 12,
   "metadata": {
    "scrolled": true
   },
   "outputs": [
    {
     "output_type": "execute_result",
     "data": {
      "text/plain": "            Date                 Region/City                 Region/City-Eng  \\\n9096  2020-06-26         Челябинская область              Chelyabinsk region   \n9097  2020-06-26        Чеченская Республика                Chechen Republic   \n9098  2020-06-26  Чукотский автономный округ       Chukotka Autonomous Okrug   \n9099  2020-06-26           Ямало-Ненецкий АО  Yamalo-Nenets Autonomous Okrug   \n9100  2020-06-26         Ярославская область                Yaroslavl region   \n\n      Region_ID  Day-Confirmed  Day-Deaths  Day-Recovered  Confirmed  Deaths  \\\n9096       74.0          160.0        18.0            0.0     6602.0    88.0   \n9097       95.0           10.0         0.0            1.0     1664.0    21.0   \n9098       87.0            1.0         0.0            1.0      136.0     1.0   \n9099       89.0          149.0         0.0           52.0     4858.0    34.0   \n9100       76.0           43.0         0.0           47.0     4614.0    18.0   \n\n      Recovered  \n9096     3500.0  \n9097     1177.0  \n9098      123.0  \n9099     2058.0  \n9100     2950.0  ",
      "text/html": "<div>\n<style scoped>\n    .dataframe tbody tr th:only-of-type {\n        vertical-align: middle;\n    }\n\n    .dataframe tbody tr th {\n        vertical-align: top;\n    }\n\n    .dataframe thead th {\n        text-align: right;\n    }\n</style>\n<table border=\"1\" class=\"dataframe\">\n  <thead>\n    <tr style=\"text-align: right;\">\n      <th></th>\n      <th>Date</th>\n      <th>Region/City</th>\n      <th>Region/City-Eng</th>\n      <th>Region_ID</th>\n      <th>Day-Confirmed</th>\n      <th>Day-Deaths</th>\n      <th>Day-Recovered</th>\n      <th>Confirmed</th>\n      <th>Deaths</th>\n      <th>Recovered</th>\n    </tr>\n  </thead>\n  <tbody>\n    <tr>\n      <th>9096</th>\n      <td>2020-06-26</td>\n      <td>Челябинская область</td>\n      <td>Chelyabinsk region</td>\n      <td>74.0</td>\n      <td>160.0</td>\n      <td>18.0</td>\n      <td>0.0</td>\n      <td>6602.0</td>\n      <td>88.0</td>\n      <td>3500.0</td>\n    </tr>\n    <tr>\n      <th>9097</th>\n      <td>2020-06-26</td>\n      <td>Чеченская Республика</td>\n      <td>Chechen Republic</td>\n      <td>95.0</td>\n      <td>10.0</td>\n      <td>0.0</td>\n      <td>1.0</td>\n      <td>1664.0</td>\n      <td>21.0</td>\n      <td>1177.0</td>\n    </tr>\n    <tr>\n      <th>9098</th>\n      <td>2020-06-26</td>\n      <td>Чукотский автономный округ</td>\n      <td>Chukotka Autonomous Okrug</td>\n      <td>87.0</td>\n      <td>1.0</td>\n      <td>0.0</td>\n      <td>1.0</td>\n      <td>136.0</td>\n      <td>1.0</td>\n      <td>123.0</td>\n    </tr>\n    <tr>\n      <th>9099</th>\n      <td>2020-06-26</td>\n      <td>Ямало-Ненецкий АО</td>\n      <td>Yamalo-Nenets Autonomous Okrug</td>\n      <td>89.0</td>\n      <td>149.0</td>\n      <td>0.0</td>\n      <td>52.0</td>\n      <td>4858.0</td>\n      <td>34.0</td>\n      <td>2058.0</td>\n    </tr>\n    <tr>\n      <th>9100</th>\n      <td>2020-06-26</td>\n      <td>Ярославская область</td>\n      <td>Yaroslavl region</td>\n      <td>76.0</td>\n      <td>43.0</td>\n      <td>0.0</td>\n      <td>47.0</td>\n      <td>4614.0</td>\n      <td>18.0</td>\n      <td>2950.0</td>\n    </tr>\n  </tbody>\n</table>\n</div>"
     },
     "metadata": {},
     "execution_count": 12
    }
   ],
   "source": [
    "# Load data of previous day\n",
    "file_name = 'release/covid19-russia-cases-scrf.csv'\n",
    "rus_df = pd.read_csv(file_name)\n",
    "rus_df.tail()"
   ]
  },
  {
   "cell_type": "code",
   "execution_count": 13,
   "metadata": {},
   "outputs": [
    {
     "output_type": "execute_result",
     "data": {
      "text/plain": "              Region/City  Confirmed  Recovered  Deaths        Date  \\\n29                 Москва     219354     146043    3714  2020-06-27   \n30     Московская область      56609      31912     858  2020-06-27   \n64        Санкт-Петербург      23518      16211    1065  2020-06-27   \n33  Нижегородская область      16838      10400     223  2020-06-27   \n67   Свердловская область      12093       7009      90  2020-06-27   \n\n    Day-Confirmed  Day-Deaths  Day-Recovered  \n29          750.0        20.0         1852.0  \n30          366.0        12.0         1421.0  \n64          224.0        57.0          716.0  \n33          214.0         8.0          456.0  \n67          216.0         5.0          223.0  ",
      "text/html": "<div>\n<style scoped>\n    .dataframe tbody tr th:only-of-type {\n        vertical-align: middle;\n    }\n\n    .dataframe tbody tr th {\n        vertical-align: top;\n    }\n\n    .dataframe thead th {\n        text-align: right;\n    }\n</style>\n<table border=\"1\" class=\"dataframe\">\n  <thead>\n    <tr style=\"text-align: right;\">\n      <th></th>\n      <th>Region/City</th>\n      <th>Confirmed</th>\n      <th>Recovered</th>\n      <th>Deaths</th>\n      <th>Date</th>\n      <th>Day-Confirmed</th>\n      <th>Day-Deaths</th>\n      <th>Day-Recovered</th>\n    </tr>\n  </thead>\n  <tbody>\n    <tr>\n      <th>29</th>\n      <td>Москва</td>\n      <td>219354</td>\n      <td>146043</td>\n      <td>3714</td>\n      <td>2020-06-27</td>\n      <td>750.0</td>\n      <td>20.0</td>\n      <td>1852.0</td>\n    </tr>\n    <tr>\n      <th>30</th>\n      <td>Московская область</td>\n      <td>56609</td>\n      <td>31912</td>\n      <td>858</td>\n      <td>2020-06-27</td>\n      <td>366.0</td>\n      <td>12.0</td>\n      <td>1421.0</td>\n    </tr>\n    <tr>\n      <th>64</th>\n      <td>Санкт-Петербург</td>\n      <td>23518</td>\n      <td>16211</td>\n      <td>1065</td>\n      <td>2020-06-27</td>\n      <td>224.0</td>\n      <td>57.0</td>\n      <td>716.0</td>\n    </tr>\n    <tr>\n      <th>33</th>\n      <td>Нижегородская область</td>\n      <td>16838</td>\n      <td>10400</td>\n      <td>223</td>\n      <td>2020-06-27</td>\n      <td>214.0</td>\n      <td>8.0</td>\n      <td>456.0</td>\n    </tr>\n    <tr>\n      <th>67</th>\n      <td>Свердловская область</td>\n      <td>12093</td>\n      <td>7009</td>\n      <td>90</td>\n      <td>2020-06-27</td>\n      <td>216.0</td>\n      <td>5.0</td>\n      <td>223.0</td>\n    </tr>\n  </tbody>\n</table>\n</div>"
     },
     "metadata": {},
     "execution_count": 13
    }
   ],
   "source": [
    "# Read update data\n",
    "# Result of data_parsing_SCRF.ipynb\n",
    "file_name = f'covid19-russia-cases-upd-scrf.csv'\n",
    "upd_df = pd.read_csv(file_name)\n",
    "upd_df.sort_values('Confirmed', ascending=False).head()"
   ]
  },
  {
   "cell_type": "code",
   "execution_count": 14,
   "metadata": {},
   "outputs": [],
   "source": [
    "# Strip text data\n",
    "rus_df['Region/City'] = rus_df['Region/City'].astype('str').str.strip('\\u200b') \n",
    "upd_df['Region/City'] = upd_df['Region/City'].astype('str').str.strip('\\u200b')\n",
    "\n",
    "# Date to datetime\n",
    "upd_df['Date'] = pd.to_datetime(upd_df['Date'])\n",
    "rus_df['Date'] = pd.to_datetime(rus_df['Date'])"
   ]
  },
  {
   "cell_type": "markdown",
   "metadata": {},
   "source": [
    "# Updating"
   ]
  },
  {
   "cell_type": "code",
   "execution_count": 15,
   "metadata": {},
   "outputs": [],
   "source": [
    "# Add region ID and Eng columns\n",
    "regions_df = pd.read_csv('release/regions-info.csv')\n",
    "\n",
    "right = regions_df[['Region_ID', 'Region', 'Region_eng']]\n",
    "upd_df = upd_df.merge(right, left_on='Region/City', right_on='Region', how='left')\n",
    "upd_df['Region/City-Eng'] = upd_df.Region_eng\n",
    "upd_df = upd_df[['Date', 'Region/City', 'Region/City-Eng', 'Region_ID', 'Day-Confirmed', 'Day-Deaths', 'Day-Recovered', 'Confirmed', 'Deaths', 'Recovered']]"
   ]
  },
  {
   "cell_type": "code",
   "execution_count": 16,
   "metadata": {
    "scrolled": true
   },
   "outputs": [
    {
     "output_type": "execute_result",
     "data": {
      "text/plain": "           Date                 Region/City                 Region/City-Eng  \\\n9176 2020-06-27           Тюменская область                   Tyumen region   \n9177 2020-06-27       Удмуртская Республика                 Udmurt republic   \n9178 2020-06-27         Ульяновская область                Ulyanovsk region   \n9179 2020-06-27            Хабаровский край               Khabarovsk region   \n9180 2020-06-27         Ханты-Мансийский АО                 Khanty-Mansiysk   \n9181 2020-06-27         Челябинская область              Chelyabinsk region   \n9182 2020-06-27        Чеченская Республика                Chechen Republic   \n9183 2020-06-27  Чукотский автономный округ       Chukotka Autonomous Okrug   \n9184 2020-06-27           Ямало-Ненецкий АО  Yamalo-Nenets Autonomous Okrug   \n9185 2020-06-27         Ярославская область                Yaroslavl region   \n\n      Region_ID  Day-Confirmed  Day-Deaths  Day-Recovered  Confirmed  Deaths  \\\n9176       72.0           59.0         0.0           47.0     2886.0    16.0   \n9177       18.0           23.0         1.0           29.0     1357.0    16.0   \n9178       73.0          109.0         1.0          130.0     5461.0    36.0   \n9179       27.0           79.0         0.0           15.0     3978.0    28.0   \n9180       86.0          280.0         3.0          229.0     8117.0    44.0   \n9181       74.0          158.0         0.0           60.0     6760.0    88.0   \n9182       95.0           13.0         0.0            3.0     1677.0    21.0   \n9183       87.0            2.0         0.0            2.0      138.0     1.0   \n9184       89.0          147.0         0.0           95.0     5005.0    34.0   \n9185       76.0           44.0         1.0           46.0     4658.0    19.0   \n\n      Recovered  \n9176     1731.0  \n9177      998.0  \n9178     2840.0  \n9179     2063.0  \n9180     4091.0  \n9181     3560.0  \n9182     1180.0  \n9183      125.0  \n9184     2153.0  \n9185     2996.0  ",
      "text/html": "<div>\n<style scoped>\n    .dataframe tbody tr th:only-of-type {\n        vertical-align: middle;\n    }\n\n    .dataframe tbody tr th {\n        vertical-align: top;\n    }\n\n    .dataframe thead th {\n        text-align: right;\n    }\n</style>\n<table border=\"1\" class=\"dataframe\">\n  <thead>\n    <tr style=\"text-align: right;\">\n      <th></th>\n      <th>Date</th>\n      <th>Region/City</th>\n      <th>Region/City-Eng</th>\n      <th>Region_ID</th>\n      <th>Day-Confirmed</th>\n      <th>Day-Deaths</th>\n      <th>Day-Recovered</th>\n      <th>Confirmed</th>\n      <th>Deaths</th>\n      <th>Recovered</th>\n    </tr>\n  </thead>\n  <tbody>\n    <tr>\n      <th>9176</th>\n      <td>2020-06-27</td>\n      <td>Тюменская область</td>\n      <td>Tyumen region</td>\n      <td>72.0</td>\n      <td>59.0</td>\n      <td>0.0</td>\n      <td>47.0</td>\n      <td>2886.0</td>\n      <td>16.0</td>\n      <td>1731.0</td>\n    </tr>\n    <tr>\n      <th>9177</th>\n      <td>2020-06-27</td>\n      <td>Удмуртская Республика</td>\n      <td>Udmurt republic</td>\n      <td>18.0</td>\n      <td>23.0</td>\n      <td>1.0</td>\n      <td>29.0</td>\n      <td>1357.0</td>\n      <td>16.0</td>\n      <td>998.0</td>\n    </tr>\n    <tr>\n      <th>9178</th>\n      <td>2020-06-27</td>\n      <td>Ульяновская область</td>\n      <td>Ulyanovsk region</td>\n      <td>73.0</td>\n      <td>109.0</td>\n      <td>1.0</td>\n      <td>130.0</td>\n      <td>5461.0</td>\n      <td>36.0</td>\n      <td>2840.0</td>\n    </tr>\n    <tr>\n      <th>9179</th>\n      <td>2020-06-27</td>\n      <td>Хабаровский край</td>\n      <td>Khabarovsk region</td>\n      <td>27.0</td>\n      <td>79.0</td>\n      <td>0.0</td>\n      <td>15.0</td>\n      <td>3978.0</td>\n      <td>28.0</td>\n      <td>2063.0</td>\n    </tr>\n    <tr>\n      <th>9180</th>\n      <td>2020-06-27</td>\n      <td>Ханты-Мансийский АО</td>\n      <td>Khanty-Mansiysk</td>\n      <td>86.0</td>\n      <td>280.0</td>\n      <td>3.0</td>\n      <td>229.0</td>\n      <td>8117.0</td>\n      <td>44.0</td>\n      <td>4091.0</td>\n    </tr>\n    <tr>\n      <th>9181</th>\n      <td>2020-06-27</td>\n      <td>Челябинская область</td>\n      <td>Chelyabinsk region</td>\n      <td>74.0</td>\n      <td>158.0</td>\n      <td>0.0</td>\n      <td>60.0</td>\n      <td>6760.0</td>\n      <td>88.0</td>\n      <td>3560.0</td>\n    </tr>\n    <tr>\n      <th>9182</th>\n      <td>2020-06-27</td>\n      <td>Чеченская Республика</td>\n      <td>Chechen Republic</td>\n      <td>95.0</td>\n      <td>13.0</td>\n      <td>0.0</td>\n      <td>3.0</td>\n      <td>1677.0</td>\n      <td>21.0</td>\n      <td>1180.0</td>\n    </tr>\n    <tr>\n      <th>9183</th>\n      <td>2020-06-27</td>\n      <td>Чукотский автономный округ</td>\n      <td>Chukotka Autonomous Okrug</td>\n      <td>87.0</td>\n      <td>2.0</td>\n      <td>0.0</td>\n      <td>2.0</td>\n      <td>138.0</td>\n      <td>1.0</td>\n      <td>125.0</td>\n    </tr>\n    <tr>\n      <th>9184</th>\n      <td>2020-06-27</td>\n      <td>Ямало-Ненецкий АО</td>\n      <td>Yamalo-Nenets Autonomous Okrug</td>\n      <td>89.0</td>\n      <td>147.0</td>\n      <td>0.0</td>\n      <td>95.0</td>\n      <td>5005.0</td>\n      <td>34.0</td>\n      <td>2153.0</td>\n    </tr>\n    <tr>\n      <th>9185</th>\n      <td>2020-06-27</td>\n      <td>Ярославская область</td>\n      <td>Yaroslavl region</td>\n      <td>76.0</td>\n      <td>44.0</td>\n      <td>1.0</td>\n      <td>46.0</td>\n      <td>4658.0</td>\n      <td>19.0</td>\n      <td>2996.0</td>\n    </tr>\n  </tbody>\n</table>\n</div>"
     },
     "metadata": {},
     "execution_count": 16
    }
   ],
   "source": [
    "rus_df = pd.concat([rus_df, upd_df]).reset_index(drop=True)\n",
    "rus_df.tail(10)"
   ]
  },
  {
   "cell_type": "code",
   "execution_count": 17,
   "metadata": {},
   "outputs": [],
   "source": [
    "# Negative values fix\n",
    "# Negative values can appear if some cases was removed from statistic\n",
    "def negval_fix(reg):\n",
    "    last = reg.iloc[-1]\n",
    "    diff_c = last['Day-Confirmed']*(-1) if last['Day-Confirmed'] < 0 else 0\n",
    "    diff_d = last['Day-Deaths']*(-1) if last['Day-Deaths'] < 0 else 0\n",
    "    diff_r = last['Day-Recovered']*(-1) if last['Day-Recovered'] < 0 else 0\n",
    "    \n",
    "    last['Day-Confirmed'] += diff_c\n",
    "    last['Day-Deaths']    += diff_d\n",
    "    last['Day-Recovered'] += diff_r\n",
    "    reg.iloc[-1] = last\n",
    "    \n",
    "    if diff_c + diff_d + diff_r > 0:\n",
    "        print(diff_c, diff_d, diff_r, last['Region/City'])\n",
    "        prev = reg.iloc[-2]\n",
    "        prev['Confirmed'] -= diff_c\n",
    "        prev['Deaths']    -= diff_d\n",
    "        prev['Recovered'] -= diff_r\n",
    "        reg.iloc[-2] = prev\n",
    "    \n",
    "    return reg\n",
    "    \n",
    "rus_df = rus_df.groupby('Region/City').apply(negval_fix).reset_index(drop=True)"
   ]
  },
  {
   "cell_type": "code",
   "execution_count": 18,
   "metadata": {},
   "outputs": [],
   "source": [
    "# Manual fixes if needed\n",
    "# rus_df.loc[287, 'Confirmed'] = 5\n",
    "# rus_df.loc[321, 'Confirmed'] = 5\n",
    "# rus_df.loc[359, 'Day-Confirmed'] = 0\n",
    "\n",
    "# rus_df.loc[3775, 'Deaths'] = 7\n",
    "# rus_df.loc[3775, 'Day-Deaths'] = 0"
   ]
  },
  {
   "cell_type": "markdown",
   "metadata": {},
   "source": [
    "# Data checking"
   ]
  },
  {
   "cell_type": "code",
   "execution_count": 19,
   "metadata": {
    "tags": []
   },
   "outputs": [
    {
     "output_type": "stream",
     "name": "stdout",
     "text": "Russia Confirmed: 627646.0 | By day: 627646.0\nRussia Deaths: 8969.0 | By day: 8969.0\nRussia Recovered: 393352.0 | By day: 393352.0\nEmpty DataFrame\nColumns: [Region/City, Confirmed, Confirmed-ByDay]\nIndex: []\nEmpty DataFrame\nColumns: [Region/City, Recovered, Recovered-ByDay]\nIndex: []\nEmpty DataFrame\nColumns: [Region/City, Deaths, Deaths-ByDay]\nIndex: []\n"
    }
   ],
   "source": [
    "rus_sum = rus_df.loc[rus_df['Region/City'] != 'Diamond Princess']\n",
    "\n",
    "print('Russia Confirmed:', rus_sum.groupby('Region/City')['Confirmed'].max().sum(),\n",
    "      '| By day:', rus_sum.groupby('Region/City')['Day-Confirmed'].sum().sum())\n",
    "print('Russia Deaths:', rus_sum.groupby('Region/City')['Deaths'].max().sum(),\n",
    "      '| By day:', rus_sum.groupby('Region/City')['Day-Deaths'].sum().sum())\n",
    "print('Russia Recovered:', rus_sum.groupby('Region/City')['Recovered'].max().sum(),\n",
    "      '| By day:', rus_sum.groupby('Region/City')['Day-Recovered'].sum().sum())\n",
    "\n",
    "rus_regs = rus_sum.groupby('Region/City')['Confirmed'].max().reset_index()\n",
    "rus_regs['Confirmed-ByDay'] = rus_sum.groupby('Region/City')['Day-Confirmed'].sum().reset_index(drop=True)\n",
    "print(rus_regs.loc[rus_regs['Confirmed'] != rus_regs['Confirmed-ByDay']])\n",
    "\n",
    "rus_regs = rus_sum.groupby('Region/City')['Recovered'].max().reset_index()\n",
    "rus_regs['Recovered-ByDay'] = rus_sum.groupby('Region/City')['Day-Recovered'].sum().reset_index(drop=True)\n",
    "print(rus_regs.loc[rus_regs['Recovered'] != rus_regs['Recovered-ByDay']])\n",
    "\n",
    "rus_regs = rus_sum.groupby('Region/City')['Deaths'].max().reset_index()\n",
    "rus_regs['Deaths-ByDay'] = rus_sum.groupby('Region/City')['Day-Deaths'].sum().reset_index(drop=True)\n",
    "print(rus_regs.loc[rus_regs['Deaths'] != rus_regs['Deaths-ByDay']])\n",
    "\n",
    "# rus_regs.to_csv('rus_regs.csv')"
   ]
  },
  {
   "cell_type": "markdown",
   "metadata": {},
   "source": [
    "# Data saving"
   ]
  },
  {
   "cell_type": "code",
   "execution_count": 20,
   "metadata": {},
   "outputs": [],
   "source": [
    "file_name = 'release/covid19-russia-cases-scrf.csv'\n",
    "rus_df.to_csv(file_name, index=False)"
   ]
  }
 ],
 "metadata": {
  "kernelspec": {
   "display_name": "Python 3",
   "language": "python",
   "name": "python3"
  },
  "language_info": {
   "codemirror_mode": {
    "name": "ipython",
    "version": 3
   },
   "file_extension": ".py",
   "mimetype": "text/x-python",
   "name": "python",
   "nbconvert_exporter": "python",
   "pygments_lexer": "ipython3",
   "version": "3.7.6-final"
  }
 },
 "nbformat": 4,
 "nbformat_minor": 4
}