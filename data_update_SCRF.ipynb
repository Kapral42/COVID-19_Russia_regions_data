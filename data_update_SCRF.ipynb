{
 "cells": [
  {
   "cell_type": "markdown",
   "metadata": {},
   "source": [
    "# Import"
   ]
  },
  {
   "cell_type": "code",
   "execution_count": 21,
   "metadata": {},
   "outputs": [],
   "source": [
    "import numpy as np\n",
    "import pandas as pd"
   ]
  },
  {
   "cell_type": "markdown",
   "metadata": {},
   "source": [
    "# Data preporation"
   ]
  },
  {
   "cell_type": "code",
   "execution_count": 22,
   "metadata": {
    "scrolled": true
   },
   "outputs": [
    {
     "output_type": "execute_result",
     "data": {
      "text/plain": "            Date                 Region/City                 Region/City-Eng  \\\n6730  2020-05-29         Челябинская область              Chelyabinsk region   \n6731  2020-05-29        Чеченская Республика                Chechen Republic   \n6732  2020-05-29  Чукотский автономный округ       Chukotka Autonomous Okrug   \n6733  2020-05-29           Ямало-Ненецкий АО  Yamalo-Nenets Autonomous Okrug   \n6734  2020-05-29         Ярославская область                Yaroslavl region   \n\n      Region_ID  Day-Confirmed  Day-Deaths  Day-Recovered  Confirmed  Deaths  \\\n6730       74.0          141.0         1.0           49.0     2509.0    15.0   \n6731       95.0           18.0         0.0           42.0     1192.0    13.0   \n6732       87.0            7.0         0.0           10.0       73.0     1.0   \n6733       89.0           31.0         2.0           42.0     2280.0     9.0   \n6734       76.0           84.0         1.0           45.0     2976.0    14.0   \n\n      Recovered  \n6730     1106.0  \n6731      787.0  \n6732       50.0  \n6733      898.0  \n6734      698.0  ",
      "text/html": "<div>\n<style scoped>\n    .dataframe tbody tr th:only-of-type {\n        vertical-align: middle;\n    }\n\n    .dataframe tbody tr th {\n        vertical-align: top;\n    }\n\n    .dataframe thead th {\n        text-align: right;\n    }\n</style>\n<table border=\"1\" class=\"dataframe\">\n  <thead>\n    <tr style=\"text-align: right;\">\n      <th></th>\n      <th>Date</th>\n      <th>Region/City</th>\n      <th>Region/City-Eng</th>\n      <th>Region_ID</th>\n      <th>Day-Confirmed</th>\n      <th>Day-Deaths</th>\n      <th>Day-Recovered</th>\n      <th>Confirmed</th>\n      <th>Deaths</th>\n      <th>Recovered</th>\n    </tr>\n  </thead>\n  <tbody>\n    <tr>\n      <th>6730</th>\n      <td>2020-05-29</td>\n      <td>Челябинская область</td>\n      <td>Chelyabinsk region</td>\n      <td>74.0</td>\n      <td>141.0</td>\n      <td>1.0</td>\n      <td>49.0</td>\n      <td>2509.0</td>\n      <td>15.0</td>\n      <td>1106.0</td>\n    </tr>\n    <tr>\n      <th>6731</th>\n      <td>2020-05-29</td>\n      <td>Чеченская Республика</td>\n      <td>Chechen Republic</td>\n      <td>95.0</td>\n      <td>18.0</td>\n      <td>0.0</td>\n      <td>42.0</td>\n      <td>1192.0</td>\n      <td>13.0</td>\n      <td>787.0</td>\n    </tr>\n    <tr>\n      <th>6732</th>\n      <td>2020-05-29</td>\n      <td>Чукотский автономный округ</td>\n      <td>Chukotka Autonomous Okrug</td>\n      <td>87.0</td>\n      <td>7.0</td>\n      <td>0.0</td>\n      <td>10.0</td>\n      <td>73.0</td>\n      <td>1.0</td>\n      <td>50.0</td>\n    </tr>\n    <tr>\n      <th>6733</th>\n      <td>2020-05-29</td>\n      <td>Ямало-Ненецкий АО</td>\n      <td>Yamalo-Nenets Autonomous Okrug</td>\n      <td>89.0</td>\n      <td>31.0</td>\n      <td>2.0</td>\n      <td>42.0</td>\n      <td>2280.0</td>\n      <td>9.0</td>\n      <td>898.0</td>\n    </tr>\n    <tr>\n      <th>6734</th>\n      <td>2020-05-29</td>\n      <td>Ярославская область</td>\n      <td>Yaroslavl region</td>\n      <td>76.0</td>\n      <td>84.0</td>\n      <td>1.0</td>\n      <td>45.0</td>\n      <td>2976.0</td>\n      <td>14.0</td>\n      <td>698.0</td>\n    </tr>\n  </tbody>\n</table>\n</div>"
     },
     "metadata": {},
     "execution_count": 22
    }
   ],
   "source": [
    "# Load data of previous day\n",
    "file_name = 'release/covid19-russia-cases-scrf.csv'\n",
    "rus_df = pd.read_csv(file_name)\n",
    "rus_df.tail()"
   ]
  },
  {
   "cell_type": "code",
   "execution_count": 23,
   "metadata": {},
   "outputs": [
    {
     "output_type": "execute_result",
     "data": {
      "text/plain": "              Region/City  Confirmed  Recovered  Deaths        Date  \\\n29                 Москва     178196      78324    2408  2020-05-30   \n30     Московская область      38238       7720     424  2020-05-30   \n64        Санкт-Петербург      15580       5373     191  2020-05-30   \n33  Нижегородская область       9533       3637      93  2020-05-30   \n67   Свердловская область       5184       2142      26  2020-05-30   \n\n    Day-Confirmed  Day-Deaths  Day-Recovered  \n29         2367.0        78.0         3599.0  \n30          735.0        24.0          387.0  \n64          365.0        13.0          260.0  \n33          289.0         4.0          171.0  \n67          261.0         1.0          145.0  ",
      "text/html": "<div>\n<style scoped>\n    .dataframe tbody tr th:only-of-type {\n        vertical-align: middle;\n    }\n\n    .dataframe tbody tr th {\n        vertical-align: top;\n    }\n\n    .dataframe thead th {\n        text-align: right;\n    }\n</style>\n<table border=\"1\" class=\"dataframe\">\n  <thead>\n    <tr style=\"text-align: right;\">\n      <th></th>\n      <th>Region/City</th>\n      <th>Confirmed</th>\n      <th>Recovered</th>\n      <th>Deaths</th>\n      <th>Date</th>\n      <th>Day-Confirmed</th>\n      <th>Day-Deaths</th>\n      <th>Day-Recovered</th>\n    </tr>\n  </thead>\n  <tbody>\n    <tr>\n      <th>29</th>\n      <td>Москва</td>\n      <td>178196</td>\n      <td>78324</td>\n      <td>2408</td>\n      <td>2020-05-30</td>\n      <td>2367.0</td>\n      <td>78.0</td>\n      <td>3599.0</td>\n    </tr>\n    <tr>\n      <th>30</th>\n      <td>Московская область</td>\n      <td>38238</td>\n      <td>7720</td>\n      <td>424</td>\n      <td>2020-05-30</td>\n      <td>735.0</td>\n      <td>24.0</td>\n      <td>387.0</td>\n    </tr>\n    <tr>\n      <th>64</th>\n      <td>Санкт-Петербург</td>\n      <td>15580</td>\n      <td>5373</td>\n      <td>191</td>\n      <td>2020-05-30</td>\n      <td>365.0</td>\n      <td>13.0</td>\n      <td>260.0</td>\n    </tr>\n    <tr>\n      <th>33</th>\n      <td>Нижегородская область</td>\n      <td>9533</td>\n      <td>3637</td>\n      <td>93</td>\n      <td>2020-05-30</td>\n      <td>289.0</td>\n      <td>4.0</td>\n      <td>171.0</td>\n    </tr>\n    <tr>\n      <th>67</th>\n      <td>Свердловская область</td>\n      <td>5184</td>\n      <td>2142</td>\n      <td>26</td>\n      <td>2020-05-30</td>\n      <td>261.0</td>\n      <td>1.0</td>\n      <td>145.0</td>\n    </tr>\n  </tbody>\n</table>\n</div>"
     },
     "metadata": {},
     "execution_count": 23
    }
   ],
   "source": [
    "# Read update data\n",
    "# Result of data_parsing_SCRF.ipynb\n",
    "file_name = f'covid19-russia-cases-upd-scrf.csv'\n",
    "upd_df = pd.read_csv(file_name)\n",
    "upd_df.sort_values('Confirmed', ascending=False).head()"
   ]
  },
  {
   "cell_type": "code",
   "execution_count": 24,
   "metadata": {},
   "outputs": [],
   "source": [
    "# Strip text data\n",
    "rus_df['Region/City'] = rus_df['Region/City'].astype('str').str.strip('\\u200b') \n",
    "upd_df['Region/City'] = upd_df['Region/City'].astype('str').str.strip('\\u200b')\n",
    "\n",
    "# Date to datetime\n",
    "upd_df['Date'] = pd.to_datetime(upd_df['Date'])\n",
    "rus_df['Date'] = pd.to_datetime(rus_df['Date'])"
   ]
  },
  {
   "cell_type": "markdown",
   "metadata": {},
   "source": [
    "# Updating"
   ]
  },
  {
   "cell_type": "code",
   "execution_count": 25,
   "metadata": {},
   "outputs": [],
   "source": [
    "# Add region ID and Eng columns\n",
    "regions_df = pd.read_csv('release/regions-info.csv')\n",
    "\n",
    "right = regions_df[['Region_ID', 'Region', 'Region_eng']]\n",
    "upd_df = upd_df.merge(right, left_on='Region/City', right_on='Region', how='left')\n",
    "upd_df['Region/City-Eng'] = upd_df.Region_eng\n",
    "upd_df = upd_df[['Date', 'Region/City', 'Region/City-Eng', 'Region_ID', 'Day-Confirmed', 'Day-Deaths', 'Day-Recovered', 'Confirmed', 'Deaths', 'Recovered']]"
   ]
  },
  {
   "cell_type": "code",
   "execution_count": 26,
   "metadata": {
    "scrolled": true
   },
   "outputs": [
    {
     "output_type": "execute_result",
     "data": {
      "text/plain": "           Date                 Region/City                 Region/City-Eng  \\\n6810 2020-05-30           Тюменская область                   Tyumen region   \n6811 2020-05-30       Удмуртская Республика                 Udmurt republic   \n6812 2020-05-30         Ульяновская область                Ulyanovsk region   \n6813 2020-05-30            Хабаровский край               Khabarovsk region   \n6814 2020-05-30         Ханты-Мансийский АО                 Khanty-Mansiysk   \n6815 2020-05-30         Челябинская область              Chelyabinsk region   \n6816 2020-05-30        Чеченская Республика                Chechen Republic   \n6817 2020-05-30  Чукотский автономный округ       Chukotka Autonomous Okrug   \n6818 2020-05-30           Ямало-Ненецкий АО  Yamalo-Nenets Autonomous Okrug   \n6819 2020-05-30         Ярославская область                Yaroslavl region   \n\n      Region_ID  Day-Confirmed  Day-Deaths  Day-Recovered  Confirmed  Deaths  \\\n6810       72.0           28.0         1.0            7.0     1608.0     8.0   \n6811       18.0           24.0         0.0           15.0      629.0    12.0   \n6812       73.0           98.0         0.0           66.0     2369.0     8.0   \n6813       27.0           59.0         0.0           33.0     2018.0    11.0   \n6814       86.0          167.0         1.0           24.0     2300.0    18.0   \n6815       74.0          150.0         1.0           74.0     2659.0    16.0   \n6816       95.0           17.0         0.0           38.0     1209.0    13.0   \n6817       87.0            5.0         0.0            3.0       78.0     1.0   \n6818       89.0           30.0         0.0           55.0     2310.0     9.0   \n6819       76.0           79.0         0.0           53.0     3055.0    14.0   \n\n      Recovered  \n6810      790.0  \n6811      410.0  \n6812      700.0  \n6813      958.0  \n6814      752.0  \n6815     1180.0  \n6816      825.0  \n6817       53.0  \n6818      953.0  \n6819      751.0  ",
      "text/html": "<div>\n<style scoped>\n    .dataframe tbody tr th:only-of-type {\n        vertical-align: middle;\n    }\n\n    .dataframe tbody tr th {\n        vertical-align: top;\n    }\n\n    .dataframe thead th {\n        text-align: right;\n    }\n</style>\n<table border=\"1\" class=\"dataframe\">\n  <thead>\n    <tr style=\"text-align: right;\">\n      <th></th>\n      <th>Date</th>\n      <th>Region/City</th>\n      <th>Region/City-Eng</th>\n      <th>Region_ID</th>\n      <th>Day-Confirmed</th>\n      <th>Day-Deaths</th>\n      <th>Day-Recovered</th>\n      <th>Confirmed</th>\n      <th>Deaths</th>\n      <th>Recovered</th>\n    </tr>\n  </thead>\n  <tbody>\n    <tr>\n      <th>6810</th>\n      <td>2020-05-30</td>\n      <td>Тюменская область</td>\n      <td>Tyumen region</td>\n      <td>72.0</td>\n      <td>28.0</td>\n      <td>1.0</td>\n      <td>7.0</td>\n      <td>1608.0</td>\n      <td>8.0</td>\n      <td>790.0</td>\n    </tr>\n    <tr>\n      <th>6811</th>\n      <td>2020-05-30</td>\n      <td>Удмуртская Республика</td>\n      <td>Udmurt republic</td>\n      <td>18.0</td>\n      <td>24.0</td>\n      <td>0.0</td>\n      <td>15.0</td>\n      <td>629.0</td>\n      <td>12.0</td>\n      <td>410.0</td>\n    </tr>\n    <tr>\n      <th>6812</th>\n      <td>2020-05-30</td>\n      <td>Ульяновская область</td>\n      <td>Ulyanovsk region</td>\n      <td>73.0</td>\n      <td>98.0</td>\n      <td>0.0</td>\n      <td>66.0</td>\n      <td>2369.0</td>\n      <td>8.0</td>\n      <td>700.0</td>\n    </tr>\n    <tr>\n      <th>6813</th>\n      <td>2020-05-30</td>\n      <td>Хабаровский край</td>\n      <td>Khabarovsk region</td>\n      <td>27.0</td>\n      <td>59.0</td>\n      <td>0.0</td>\n      <td>33.0</td>\n      <td>2018.0</td>\n      <td>11.0</td>\n      <td>958.0</td>\n    </tr>\n    <tr>\n      <th>6814</th>\n      <td>2020-05-30</td>\n      <td>Ханты-Мансийский АО</td>\n      <td>Khanty-Mansiysk</td>\n      <td>86.0</td>\n      <td>167.0</td>\n      <td>1.0</td>\n      <td>24.0</td>\n      <td>2300.0</td>\n      <td>18.0</td>\n      <td>752.0</td>\n    </tr>\n    <tr>\n      <th>6815</th>\n      <td>2020-05-30</td>\n      <td>Челябинская область</td>\n      <td>Chelyabinsk region</td>\n      <td>74.0</td>\n      <td>150.0</td>\n      <td>1.0</td>\n      <td>74.0</td>\n      <td>2659.0</td>\n      <td>16.0</td>\n      <td>1180.0</td>\n    </tr>\n    <tr>\n      <th>6816</th>\n      <td>2020-05-30</td>\n      <td>Чеченская Республика</td>\n      <td>Chechen Republic</td>\n      <td>95.0</td>\n      <td>17.0</td>\n      <td>0.0</td>\n      <td>38.0</td>\n      <td>1209.0</td>\n      <td>13.0</td>\n      <td>825.0</td>\n    </tr>\n    <tr>\n      <th>6817</th>\n      <td>2020-05-30</td>\n      <td>Чукотский автономный округ</td>\n      <td>Chukotka Autonomous Okrug</td>\n      <td>87.0</td>\n      <td>5.0</td>\n      <td>0.0</td>\n      <td>3.0</td>\n      <td>78.0</td>\n      <td>1.0</td>\n      <td>53.0</td>\n    </tr>\n    <tr>\n      <th>6818</th>\n      <td>2020-05-30</td>\n      <td>Ямало-Ненецкий АО</td>\n      <td>Yamalo-Nenets Autonomous Okrug</td>\n      <td>89.0</td>\n      <td>30.0</td>\n      <td>0.0</td>\n      <td>55.0</td>\n      <td>2310.0</td>\n      <td>9.0</td>\n      <td>953.0</td>\n    </tr>\n    <tr>\n      <th>6819</th>\n      <td>2020-05-30</td>\n      <td>Ярославская область</td>\n      <td>Yaroslavl region</td>\n      <td>76.0</td>\n      <td>79.0</td>\n      <td>0.0</td>\n      <td>53.0</td>\n      <td>3055.0</td>\n      <td>14.0</td>\n      <td>751.0</td>\n    </tr>\n  </tbody>\n</table>\n</div>"
     },
     "metadata": {},
     "execution_count": 26
    }
   ],
   "source": [
    "rus_df = pd.concat([rus_df, upd_df]).reset_index(drop=True)\n",
    "rus_df.tail(10)"
   ]
  },
  {
   "cell_type": "code",
   "execution_count": 27,
   "metadata": {},
   "outputs": [],
   "source": [
    "# Negative values fix\n",
    "# Negative values can appear if some cases was removed from statistic\n",
    "def negval_fix(reg):\n",
    "    last = reg.iloc[-1]\n",
    "    diff_c = last['Day-Confirmed']*(-1) if last['Day-Confirmed'] < 0 else 0\n",
    "    diff_d = last['Day-Deaths']*(-1) if last['Day-Deaths'] < 0 else 0\n",
    "    diff_r = last['Day-Recovered']*(-1) if last['Day-Recovered'] < 0 else 0\n",
    "    \n",
    "    last['Day-Confirmed'] += diff_c\n",
    "    last['Day-Deaths']    += diff_d\n",
    "    last['Day-Recovered'] += diff_r\n",
    "    reg.iloc[-1] = last\n",
    "    \n",
    "    if diff_c + diff_d + diff_r > 0:\n",
    "        print(diff_c, diff_d, diff_r, last['Region/City'])\n",
    "        prev = reg.iloc[-2]\n",
    "        prev['Confirmed'] -= diff_c\n",
    "        prev['Deaths']    -= diff_d\n",
    "        prev['Recovered'] -= diff_r\n",
    "        reg.iloc[-2] = prev\n",
    "    \n",
    "    return reg\n",
    "    \n",
    "rus_df = rus_df.groupby('Region/City').apply(negval_fix).reset_index(drop=True)"
   ]
  },
  {
   "cell_type": "code",
   "execution_count": 28,
   "metadata": {},
   "outputs": [],
   "source": [
    "# Manual fixes if needed\n",
    "# rus_df.loc[287, 'Confirmed'] = 5\n",
    "# rus_df.loc[321, 'Confirmed'] = 5\n",
    "# rus_df.loc[359, 'Day-Confirmed'] = 0\n",
    "\n",
    "# rus_df.loc[3775, 'Deaths'] = 7\n",
    "# rus_df.loc[3775, 'Day-Deaths'] = 0"
   ]
  },
  {
   "cell_type": "markdown",
   "metadata": {},
   "source": [
    "# Data checking"
   ]
  },
  {
   "cell_type": "code",
   "execution_count": 29,
   "metadata": {},
   "outputs": [
    {
     "output_type": "stream",
     "name": "stdout",
     "text": "Russia Confirmed: 396575.0 | By day: 396575.0\nRussia Deaths: 4555.0 | By day: 4555.0\nRussia Recovered: 167469.0 | By day: 167469.0\nEmpty DataFrame\nColumns: [Region/City, Confirmed, Confirmed-ByDay]\nIndex: []\nEmpty DataFrame\nColumns: [Region/City, Recovered, Recovered-ByDay]\nIndex: []\nEmpty DataFrame\nColumns: [Region/City, Deaths, Deaths-ByDay]\nIndex: []\n"
    }
   ],
   "source": [
    "rus_sum = rus_df.loc[rus_df['Region/City'] != 'Diamond Princess']\n",
    "\n",
    "print('Russia Confirmed:', rus_sum.groupby('Region/City')['Confirmed'].max().sum(),\n",
    "      '| By day:', rus_sum.groupby('Region/City')['Day-Confirmed'].sum().sum())\n",
    "print('Russia Deaths:', rus_sum.groupby('Region/City')['Deaths'].max().sum(),\n",
    "      '| By day:', rus_sum.groupby('Region/City')['Day-Deaths'].sum().sum())\n",
    "print('Russia Recovered:', rus_sum.groupby('Region/City')['Recovered'].max().sum(),\n",
    "      '| By day:', rus_sum.groupby('Region/City')['Day-Recovered'].sum().sum())\n",
    "\n",
    "rus_regs = rus_sum.groupby('Region/City')['Confirmed'].max().reset_index()\n",
    "rus_regs['Confirmed-ByDay'] = rus_sum.groupby('Region/City')['Day-Confirmed'].sum().reset_index(drop=True)\n",
    "print(rus_regs.loc[rus_regs['Confirmed'] != rus_regs['Confirmed-ByDay']])\n",
    "\n",
    "rus_regs = rus_sum.groupby('Region/City')['Recovered'].max().reset_index()\n",
    "rus_regs['Recovered-ByDay'] = rus_sum.groupby('Region/City')['Day-Recovered'].sum().reset_index(drop=True)\n",
    "print(rus_regs.loc[rus_regs['Recovered'] != rus_regs['Recovered-ByDay']])\n",
    "\n",
    "rus_regs = rus_sum.groupby('Region/City')['Deaths'].max().reset_index()\n",
    "rus_regs['Deaths-ByDay'] = rus_sum.groupby('Region/City')['Day-Deaths'].sum().reset_index(drop=True)\n",
    "print(rus_regs.loc[rus_regs['Deaths'] != rus_regs['Deaths-ByDay']])\n",
    "\n",
    "# rus_regs.to_csv('rus_regs.csv')"
   ]
  },
  {
   "cell_type": "markdown",
   "metadata": {},
   "source": [
    "# Data saving"
   ]
  },
  {
   "cell_type": "code",
   "execution_count": 30,
   "metadata": {},
   "outputs": [],
   "source": [
    "file_name = 'release/covid19-russia-cases-scrf.csv'\n",
    "rus_df.to_csv(file_name, index=False)"
   ]
  },
  {
   "cell_type": "code",
   "execution_count": null,
   "metadata": {},
   "outputs": [],
   "source": []
  }
 ],
 "metadata": {
  "kernelspec": {
   "display_name": "Python 3",
   "language": "python",
   "name": "python3"
  },
  "language_info": {
   "codemirror_mode": {
    "name": "ipython",
    "version": 3
   },
   "file_extension": ".py",
   "mimetype": "text/x-python",
   "name": "python",
   "nbconvert_exporter": "python",
   "pygments_lexer": "ipython3",
   "version": "3.7.6-final"
  }
 },
 "nbformat": 4,
 "nbformat_minor": 4
}