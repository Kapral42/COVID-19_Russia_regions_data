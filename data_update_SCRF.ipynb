{
 "cells": [
  {
   "cell_type": "markdown",
   "metadata": {},
   "source": [
    "# Import"
   ]
  },
  {
   "cell_type": "code",
   "execution_count": 11,
   "metadata": {},
   "outputs": [],
   "source": [
    "import numpy as np\n",
    "import pandas as pd"
   ]
  },
  {
   "cell_type": "markdown",
   "metadata": {},
   "source": [
    "# Data preporation"
   ]
  },
  {
   "cell_type": "code",
   "execution_count": 12,
   "metadata": {
    "scrolled": true
   },
   "outputs": [
    {
     "output_type": "execute_result",
     "data": {
      "text/plain": "            Date                 Region/City                 Region/City-Eng  \\\n7493  2020-06-07         Челябинская область              Chelyabinsk region   \n7494  2020-06-07        Чеченская Республика                Chechen Republic   \n7495  2020-06-07  Чукотский автономный округ       Chukotka Autonomous Okrug   \n7496  2020-06-07           Ямало-Ненецкий АО  Yamalo-Nenets Autonomous Okrug   \n7497  2020-06-07         Ярославская область                Yaroslavl region   \n\n      Region_ID  Day-Confirmed  Day-Deaths  Day-Recovered  Confirmed  Deaths  \\\n7493       74.0          115.0         2.0           70.0     3614.0    28.0   \n7494       95.0           19.0         0.0            2.0     1345.0    14.0   \n7495       87.0            4.0         0.0            2.0      106.0     1.0   \n7496       89.0           73.0         0.0           53.0     2694.0    11.0   \n7497       76.0           70.0         0.0            7.0     3646.0    15.0   \n\n      Recovered  \n7493     1721.0  \n7494      990.0  \n7495       65.0  \n7496     1429.0  \n7497     1176.0  ",
      "text/html": "<div>\n<style scoped>\n    .dataframe tbody tr th:only-of-type {\n        vertical-align: middle;\n    }\n\n    .dataframe tbody tr th {\n        vertical-align: top;\n    }\n\n    .dataframe thead th {\n        text-align: right;\n    }\n</style>\n<table border=\"1\" class=\"dataframe\">\n  <thead>\n    <tr style=\"text-align: right;\">\n      <th></th>\n      <th>Date</th>\n      <th>Region/City</th>\n      <th>Region/City-Eng</th>\n      <th>Region_ID</th>\n      <th>Day-Confirmed</th>\n      <th>Day-Deaths</th>\n      <th>Day-Recovered</th>\n      <th>Confirmed</th>\n      <th>Deaths</th>\n      <th>Recovered</th>\n    </tr>\n  </thead>\n  <tbody>\n    <tr>\n      <th>7493</th>\n      <td>2020-06-07</td>\n      <td>Челябинская область</td>\n      <td>Chelyabinsk region</td>\n      <td>74.0</td>\n      <td>115.0</td>\n      <td>2.0</td>\n      <td>70.0</td>\n      <td>3614.0</td>\n      <td>28.0</td>\n      <td>1721.0</td>\n    </tr>\n    <tr>\n      <th>7494</th>\n      <td>2020-06-07</td>\n      <td>Чеченская Республика</td>\n      <td>Chechen Republic</td>\n      <td>95.0</td>\n      <td>19.0</td>\n      <td>0.0</td>\n      <td>2.0</td>\n      <td>1345.0</td>\n      <td>14.0</td>\n      <td>990.0</td>\n    </tr>\n    <tr>\n      <th>7495</th>\n      <td>2020-06-07</td>\n      <td>Чукотский автономный округ</td>\n      <td>Chukotka Autonomous Okrug</td>\n      <td>87.0</td>\n      <td>4.0</td>\n      <td>0.0</td>\n      <td>2.0</td>\n      <td>106.0</td>\n      <td>1.0</td>\n      <td>65.0</td>\n    </tr>\n    <tr>\n      <th>7496</th>\n      <td>2020-06-07</td>\n      <td>Ямало-Ненецкий АО</td>\n      <td>Yamalo-Nenets Autonomous Okrug</td>\n      <td>89.0</td>\n      <td>73.0</td>\n      <td>0.0</td>\n      <td>53.0</td>\n      <td>2694.0</td>\n      <td>11.0</td>\n      <td>1429.0</td>\n    </tr>\n    <tr>\n      <th>7497</th>\n      <td>2020-06-07</td>\n      <td>Ярославская область</td>\n      <td>Yaroslavl region</td>\n      <td>76.0</td>\n      <td>70.0</td>\n      <td>0.0</td>\n      <td>7.0</td>\n      <td>3646.0</td>\n      <td>15.0</td>\n      <td>1176.0</td>\n    </tr>\n  </tbody>\n</table>\n</div>"
     },
     "metadata": {},
     "execution_count": 12
    }
   ],
   "source": [
    "# Load data of previous day\n",
    "file_name = 'release/covid19-russia-cases-scrf.csv'\n",
    "rus_df = pd.read_csv(file_name)\n",
    "rus_df.tail()"
   ]
  },
  {
   "cell_type": "code",
   "execution_count": 13,
   "metadata": {},
   "outputs": [
    {
     "output_type": "execute_result",
     "data": {
      "text/plain": "              Region/City  Confirmed  Recovered  Deaths        Date  \\\n29                 Москва     197018     104347    2970  2020-06-08   \n30     Московская область      44983      12031     578  2020-06-08   \n63        Санкт-Петербург      18835       7915     392  2020-06-08   \n32  Нижегородская область      12442       4878     140  2020-06-08   \n66   Свердловская область       7668       3273      43  2020-06-08   \n\n    Day-Confirmed  Day-Deaths  Day-Recovered  \n29         2001.0        51.0         1633.0  \n30          751.0        11.0          569.0  \n63          326.0        15.0          156.0  \n32          305.0         4.0           41.0  \n66          249.0         2.0           34.0  ",
      "text/html": "<div>\n<style scoped>\n    .dataframe tbody tr th:only-of-type {\n        vertical-align: middle;\n    }\n\n    .dataframe tbody tr th {\n        vertical-align: top;\n    }\n\n    .dataframe thead th {\n        text-align: right;\n    }\n</style>\n<table border=\"1\" class=\"dataframe\">\n  <thead>\n    <tr style=\"text-align: right;\">\n      <th></th>\n      <th>Region/City</th>\n      <th>Confirmed</th>\n      <th>Recovered</th>\n      <th>Deaths</th>\n      <th>Date</th>\n      <th>Day-Confirmed</th>\n      <th>Day-Deaths</th>\n      <th>Day-Recovered</th>\n    </tr>\n  </thead>\n  <tbody>\n    <tr>\n      <th>29</th>\n      <td>Москва</td>\n      <td>197018</td>\n      <td>104347</td>\n      <td>2970</td>\n      <td>2020-06-08</td>\n      <td>2001.0</td>\n      <td>51.0</td>\n      <td>1633.0</td>\n    </tr>\n    <tr>\n      <th>30</th>\n      <td>Московская область</td>\n      <td>44983</td>\n      <td>12031</td>\n      <td>578</td>\n      <td>2020-06-08</td>\n      <td>751.0</td>\n      <td>11.0</td>\n      <td>569.0</td>\n    </tr>\n    <tr>\n      <th>63</th>\n      <td>Санкт-Петербург</td>\n      <td>18835</td>\n      <td>7915</td>\n      <td>392</td>\n      <td>2020-06-08</td>\n      <td>326.0</td>\n      <td>15.0</td>\n      <td>156.0</td>\n    </tr>\n    <tr>\n      <th>32</th>\n      <td>Нижегородская область</td>\n      <td>12442</td>\n      <td>4878</td>\n      <td>140</td>\n      <td>2020-06-08</td>\n      <td>305.0</td>\n      <td>4.0</td>\n      <td>41.0</td>\n    </tr>\n    <tr>\n      <th>66</th>\n      <td>Свердловская область</td>\n      <td>7668</td>\n      <td>3273</td>\n      <td>43</td>\n      <td>2020-06-08</td>\n      <td>249.0</td>\n      <td>2.0</td>\n      <td>34.0</td>\n    </tr>\n  </tbody>\n</table>\n</div>"
     },
     "metadata": {},
     "execution_count": 13
    }
   ],
   "source": [
    "# Read update data\n",
    "# Result of data_parsing_SCRF.ipynb\n",
    "file_name = f'covid19-russia-cases-upd-scrf.csv'\n",
    "upd_df = pd.read_csv(file_name)\n",
    "upd_df.sort_values('Confirmed', ascending=False).head()"
   ]
  },
  {
   "cell_type": "code",
   "execution_count": 14,
   "metadata": {},
   "outputs": [],
   "source": [
    "# Strip text data\n",
    "rus_df['Region/City'] = rus_df['Region/City'].astype('str').str.strip('\\u200b') \n",
    "upd_df['Region/City'] = upd_df['Region/City'].astype('str').str.strip('\\u200b')\n",
    "\n",
    "# Date to datetime\n",
    "upd_df['Date'] = pd.to_datetime(upd_df['Date'])\n",
    "rus_df['Date'] = pd.to_datetime(rus_df['Date'])"
   ]
  },
  {
   "cell_type": "markdown",
   "metadata": {},
   "source": [
    "# Updating"
   ]
  },
  {
   "cell_type": "code",
   "execution_count": 15,
   "metadata": {},
   "outputs": [],
   "source": [
    "# Add region ID and Eng columns\n",
    "regions_df = pd.read_csv('release/regions-info.csv')\n",
    "\n",
    "right = regions_df[['Region_ID', 'Region', 'Region_eng']]\n",
    "upd_df = upd_df.merge(right, left_on='Region/City', right_on='Region', how='left')\n",
    "upd_df['Region/City-Eng'] = upd_df.Region_eng\n",
    "upd_df = upd_df[['Date', 'Region/City', 'Region/City-Eng', 'Region_ID', 'Day-Confirmed', 'Day-Deaths', 'Day-Recovered', 'Confirmed', 'Deaths', 'Recovered']]"
   ]
  },
  {
   "cell_type": "code",
   "execution_count": 16,
   "metadata": {
    "scrolled": true
   },
   "outputs": [
    {
     "output_type": "execute_result",
     "data": {
      "text/plain": "           Date            Region/City                 Region/City-Eng  \\\n7571 2020-06-08       Тульская область                     Tula region   \n7572 2020-06-08      Тюменская область                   Tyumen region   \n7573 2020-06-08  Удмуртская Республика                 Udmurt republic   \n7574 2020-06-08    Ульяновская область                Ulyanovsk region   \n7575 2020-06-08       Хабаровский край               Khabarovsk region   \n7576 2020-06-08    Ханты-Мансийский АО                 Khanty-Mansiysk   \n7577 2020-06-08    Челябинская область              Chelyabinsk region   \n7578 2020-06-08   Чеченская Республика                Chechen Republic   \n7579 2020-06-08      Ямало-Ненецкий АО  Yamalo-Nenets Autonomous Okrug   \n7580 2020-06-08    Ярославская область                Yaroslavl region   \n\n      Region_ID  Day-Confirmed  Day-Deaths  Day-Recovered  Confirmed  Deaths  \\\n7571       71.0          114.0         0.0            7.0     4734.0    49.0   \n7572       72.0           39.0         0.0           10.0     1947.0    12.0   \n7573       18.0           27.0         0.0            0.0      963.0    12.0   \n7574       73.0           97.0         2.0            0.0     3265.0    16.0   \n7575       27.0           59.0         0.0           13.0     2596.0    17.0   \n7576       86.0          129.0         1.0           60.0     3475.0    21.0   \n7577       74.0          123.0         3.0           80.0     3737.0    31.0   \n7578       95.0           20.0         1.0            3.0     1365.0    15.0   \n7579       89.0           83.0         0.0           46.0     2777.0    11.0   \n7580       76.0           68.0         0.0            4.0     3714.0    15.0   \n\n      Recovered  \n7571     2441.0  \n7572     1067.0  \n7573      467.0  \n7574      954.0  \n7575     1314.0  \n7576     1186.0  \n7577     1801.0  \n7578      993.0  \n7579     1475.0  \n7580     1180.0  ",
      "text/html": "<div>\n<style scoped>\n    .dataframe tbody tr th:only-of-type {\n        vertical-align: middle;\n    }\n\n    .dataframe tbody tr th {\n        vertical-align: top;\n    }\n\n    .dataframe thead th {\n        text-align: right;\n    }\n</style>\n<table border=\"1\" class=\"dataframe\">\n  <thead>\n    <tr style=\"text-align: right;\">\n      <th></th>\n      <th>Date</th>\n      <th>Region/City</th>\n      <th>Region/City-Eng</th>\n      <th>Region_ID</th>\n      <th>Day-Confirmed</th>\n      <th>Day-Deaths</th>\n      <th>Day-Recovered</th>\n      <th>Confirmed</th>\n      <th>Deaths</th>\n      <th>Recovered</th>\n    </tr>\n  </thead>\n  <tbody>\n    <tr>\n      <th>7571</th>\n      <td>2020-06-08</td>\n      <td>Тульская область</td>\n      <td>Tula region</td>\n      <td>71.0</td>\n      <td>114.0</td>\n      <td>0.0</td>\n      <td>7.0</td>\n      <td>4734.0</td>\n      <td>49.0</td>\n      <td>2441.0</td>\n    </tr>\n    <tr>\n      <th>7572</th>\n      <td>2020-06-08</td>\n      <td>Тюменская область</td>\n      <td>Tyumen region</td>\n      <td>72.0</td>\n      <td>39.0</td>\n      <td>0.0</td>\n      <td>10.0</td>\n      <td>1947.0</td>\n      <td>12.0</td>\n      <td>1067.0</td>\n    </tr>\n    <tr>\n      <th>7573</th>\n      <td>2020-06-08</td>\n      <td>Удмуртская Республика</td>\n      <td>Udmurt republic</td>\n      <td>18.0</td>\n      <td>27.0</td>\n      <td>0.0</td>\n      <td>0.0</td>\n      <td>963.0</td>\n      <td>12.0</td>\n      <td>467.0</td>\n    </tr>\n    <tr>\n      <th>7574</th>\n      <td>2020-06-08</td>\n      <td>Ульяновская область</td>\n      <td>Ulyanovsk region</td>\n      <td>73.0</td>\n      <td>97.0</td>\n      <td>2.0</td>\n      <td>0.0</td>\n      <td>3265.0</td>\n      <td>16.0</td>\n      <td>954.0</td>\n    </tr>\n    <tr>\n      <th>7575</th>\n      <td>2020-06-08</td>\n      <td>Хабаровский край</td>\n      <td>Khabarovsk region</td>\n      <td>27.0</td>\n      <td>59.0</td>\n      <td>0.0</td>\n      <td>13.0</td>\n      <td>2596.0</td>\n      <td>17.0</td>\n      <td>1314.0</td>\n    </tr>\n    <tr>\n      <th>7576</th>\n      <td>2020-06-08</td>\n      <td>Ханты-Мансийский АО</td>\n      <td>Khanty-Mansiysk</td>\n      <td>86.0</td>\n      <td>129.0</td>\n      <td>1.0</td>\n      <td>60.0</td>\n      <td>3475.0</td>\n      <td>21.0</td>\n      <td>1186.0</td>\n    </tr>\n    <tr>\n      <th>7577</th>\n      <td>2020-06-08</td>\n      <td>Челябинская область</td>\n      <td>Chelyabinsk region</td>\n      <td>74.0</td>\n      <td>123.0</td>\n      <td>3.0</td>\n      <td>80.0</td>\n      <td>3737.0</td>\n      <td>31.0</td>\n      <td>1801.0</td>\n    </tr>\n    <tr>\n      <th>7578</th>\n      <td>2020-06-08</td>\n      <td>Чеченская Республика</td>\n      <td>Chechen Republic</td>\n      <td>95.0</td>\n      <td>20.0</td>\n      <td>1.0</td>\n      <td>3.0</td>\n      <td>1365.0</td>\n      <td>15.0</td>\n      <td>993.0</td>\n    </tr>\n    <tr>\n      <th>7579</th>\n      <td>2020-06-08</td>\n      <td>Ямало-Ненецкий АО</td>\n      <td>Yamalo-Nenets Autonomous Okrug</td>\n      <td>89.0</td>\n      <td>83.0</td>\n      <td>0.0</td>\n      <td>46.0</td>\n      <td>2777.0</td>\n      <td>11.0</td>\n      <td>1475.0</td>\n    </tr>\n    <tr>\n      <th>7580</th>\n      <td>2020-06-08</td>\n      <td>Ярославская область</td>\n      <td>Yaroslavl region</td>\n      <td>76.0</td>\n      <td>68.0</td>\n      <td>0.0</td>\n      <td>4.0</td>\n      <td>3714.0</td>\n      <td>15.0</td>\n      <td>1180.0</td>\n    </tr>\n  </tbody>\n</table>\n</div>"
     },
     "metadata": {},
     "execution_count": 16
    }
   ],
   "source": [
    "rus_df = pd.concat([rus_df, upd_df]).reset_index(drop=True)\n",
    "rus_df.tail(10)"
   ]
  },
  {
   "cell_type": "code",
   "execution_count": 17,
   "metadata": {},
   "outputs": [],
   "source": [
    "# Negative values fix\n",
    "# Negative values can appear if some cases was removed from statistic\n",
    "def negval_fix(reg):\n",
    "    last = reg.iloc[-1]\n",
    "    diff_c = last['Day-Confirmed']*(-1) if last['Day-Confirmed'] < 0 else 0\n",
    "    diff_d = last['Day-Deaths']*(-1) if last['Day-Deaths'] < 0 else 0\n",
    "    diff_r = last['Day-Recovered']*(-1) if last['Day-Recovered'] < 0 else 0\n",
    "    \n",
    "    last['Day-Confirmed'] += diff_c\n",
    "    last['Day-Deaths']    += diff_d\n",
    "    last['Day-Recovered'] += diff_r\n",
    "    reg.iloc[-1] = last\n",
    "    \n",
    "    if diff_c + diff_d + diff_r > 0:\n",
    "        print(diff_c, diff_d, diff_r, last['Region/City'])\n",
    "        prev = reg.iloc[-2]\n",
    "        prev['Confirmed'] -= diff_c\n",
    "        prev['Deaths']    -= diff_d\n",
    "        prev['Recovered'] -= diff_r\n",
    "        reg.iloc[-2] = prev\n",
    "    \n",
    "    return reg\n",
    "    \n",
    "rus_df = rus_df.groupby('Region/City').apply(negval_fix).reset_index(drop=True)"
   ]
  },
  {
   "cell_type": "code",
   "execution_count": 18,
   "metadata": {},
   "outputs": [],
   "source": [
    "# Manual fixes if needed\n",
    "# rus_df.loc[287, 'Confirmed'] = 5\n",
    "# rus_df.loc[321, 'Confirmed'] = 5\n",
    "# rus_df.loc[359, 'Day-Confirmed'] = 0\n",
    "\n",
    "# rus_df.loc[3775, 'Deaths'] = 7\n",
    "# rus_df.loc[3775, 'Day-Deaths'] = 0"
   ]
  },
  {
   "cell_type": "markdown",
   "metadata": {},
   "source": [
    "# Data checking"
   ]
  },
  {
   "cell_type": "code",
   "execution_count": 19,
   "metadata": {},
   "outputs": [
    {
     "output_type": "stream",
     "name": "stdout",
     "text": "Russia Confirmed: 476658.0 | By day: 476658.0\nRussia Deaths: 5971.0 | By day: 5971.0\nRussia Recovered: 230688.0 | By day: 230688.0\nEmpty DataFrame\nColumns: [Region/City, Confirmed, Confirmed-ByDay]\nIndex: []\nEmpty DataFrame\nColumns: [Region/City, Recovered, Recovered-ByDay]\nIndex: []\nEmpty DataFrame\nColumns: [Region/City, Deaths, Deaths-ByDay]\nIndex: []\n"
    }
   ],
   "source": [
    "rus_sum = rus_df.loc[rus_df['Region/City'] != 'Diamond Princess']\n",
    "\n",
    "print('Russia Confirmed:', rus_sum.groupby('Region/City')['Confirmed'].max().sum(),\n",
    "      '| By day:', rus_sum.groupby('Region/City')['Day-Confirmed'].sum().sum())\n",
    "print('Russia Deaths:', rus_sum.groupby('Region/City')['Deaths'].max().sum(),\n",
    "      '| By day:', rus_sum.groupby('Region/City')['Day-Deaths'].sum().sum())\n",
    "print('Russia Recovered:', rus_sum.groupby('Region/City')['Recovered'].max().sum(),\n",
    "      '| By day:', rus_sum.groupby('Region/City')['Day-Recovered'].sum().sum())\n",
    "\n",
    "rus_regs = rus_sum.groupby('Region/City')['Confirmed'].max().reset_index()\n",
    "rus_regs['Confirmed-ByDay'] = rus_sum.groupby('Region/City')['Day-Confirmed'].sum().reset_index(drop=True)\n",
    "print(rus_regs.loc[rus_regs['Confirmed'] != rus_regs['Confirmed-ByDay']])\n",
    "\n",
    "rus_regs = rus_sum.groupby('Region/City')['Recovered'].max().reset_index()\n",
    "rus_regs['Recovered-ByDay'] = rus_sum.groupby('Region/City')['Day-Recovered'].sum().reset_index(drop=True)\n",
    "print(rus_regs.loc[rus_regs['Recovered'] != rus_regs['Recovered-ByDay']])\n",
    "\n",
    "rus_regs = rus_sum.groupby('Region/City')['Deaths'].max().reset_index()\n",
    "rus_regs['Deaths-ByDay'] = rus_sum.groupby('Region/City')['Day-Deaths'].sum().reset_index(drop=True)\n",
    "print(rus_regs.loc[rus_regs['Deaths'] != rus_regs['Deaths-ByDay']])\n",
    "\n",
    "# rus_regs.to_csv('rus_regs.csv')"
   ]
  },
  {
   "cell_type": "markdown",
   "metadata": {},
   "source": [
    "# Data saving"
   ]
  },
  {
   "cell_type": "code",
   "execution_count": 20,
   "metadata": {},
   "outputs": [],
   "source": [
    "file_name = 'release/covid19-russia-cases-scrf.csv'\n",
    "rus_df.to_csv(file_name, index=False)"
   ]
  }
 ],
 "metadata": {
  "kernelspec": {
   "display_name": "Python 3",
   "language": "python",
   "name": "python3"
  },
  "language_info": {
   "codemirror_mode": {
    "name": "ipython",
    "version": 3
   },
   "file_extension": ".py",
   "mimetype": "text/x-python",
   "name": "python",
   "nbconvert_exporter": "python",
   "pygments_lexer": "ipython3",
   "version": "3.7.6-final"
  }
 },
 "nbformat": 4,
 "nbformat_minor": 4
}