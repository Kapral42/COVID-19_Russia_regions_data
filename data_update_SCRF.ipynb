{
 "cells": [
  {
   "cell_type": "markdown",
   "metadata": {},
   "source": [
    "# Import"
   ]
  },
  {
   "cell_type": "code",
   "execution_count": 25,
   "metadata": {},
   "outputs": [],
   "source": [
    "import numpy as np\n",
    "import pandas as pd"
   ]
  },
  {
   "cell_type": "markdown",
   "metadata": {},
   "source": [
    "# Data preporation"
   ]
  },
  {
   "cell_type": "code",
   "execution_count": 26,
   "metadata": {
    "scrolled": true
   },
   "outputs": [
    {
     "output_type": "execute_result",
     "data": {
      "text/plain": "            Date                 Region/City                 Region/City-Eng  \\\n4242  2020-05-23         Челябинская область              Chelyabinsk region   \n4243  2020-05-23        Чеченская Республика                Chechen Republic   \n4244  2020-05-23  Чукотский автономный округ       Chukotka Autonomous Okrug   \n4245  2020-05-23           Ямало-Ненецкий АО  Yamalo-Nenets Autonomous Okrug   \n4246  2020-05-23         Ярославская область                Yaroslavl region   \n\n      Region_ID  Day-Confirmed  Day-Deaths  Day-Recovered  Confirmed  Deaths  \\\n4242       74.0           80.0         0.0           29.0     2073.0    11.0   \n4243       95.0           20.0         1.0           16.0     1066.0    12.0   \n4244       87.0            2.0         1.0            6.0       58.0     1.0   \n4245       89.0           36.0         0.0          288.0     2025.0     5.0   \n4246       76.0          115.0         0.0           49.0     2424.0    13.0   \n\n      Recovered  \n4242      754.0  \n4243      659.0  \n4244       30.0  \n4245      686.0  \n4246      493.0  ",
      "text/html": "<div>\n<style scoped>\n    .dataframe tbody tr th:only-of-type {\n        vertical-align: middle;\n    }\n\n    .dataframe tbody tr th {\n        vertical-align: top;\n    }\n\n    .dataframe thead th {\n        text-align: right;\n    }\n</style>\n<table border=\"1\" class=\"dataframe\">\n  <thead>\n    <tr style=\"text-align: right;\">\n      <th></th>\n      <th>Date</th>\n      <th>Region/City</th>\n      <th>Region/City-Eng</th>\n      <th>Region_ID</th>\n      <th>Day-Confirmed</th>\n      <th>Day-Deaths</th>\n      <th>Day-Recovered</th>\n      <th>Confirmed</th>\n      <th>Deaths</th>\n      <th>Recovered</th>\n    </tr>\n  </thead>\n  <tbody>\n    <tr>\n      <th>4242</th>\n      <td>2020-05-23</td>\n      <td>Челябинская область</td>\n      <td>Chelyabinsk region</td>\n      <td>74.0</td>\n      <td>80.0</td>\n      <td>0.0</td>\n      <td>29.0</td>\n      <td>2073.0</td>\n      <td>11.0</td>\n      <td>754.0</td>\n    </tr>\n    <tr>\n      <th>4243</th>\n      <td>2020-05-23</td>\n      <td>Чеченская Республика</td>\n      <td>Chechen Republic</td>\n      <td>95.0</td>\n      <td>20.0</td>\n      <td>1.0</td>\n      <td>16.0</td>\n      <td>1066.0</td>\n      <td>12.0</td>\n      <td>659.0</td>\n    </tr>\n    <tr>\n      <th>4244</th>\n      <td>2020-05-23</td>\n      <td>Чукотский автономный округ</td>\n      <td>Chukotka Autonomous Okrug</td>\n      <td>87.0</td>\n      <td>2.0</td>\n      <td>1.0</td>\n      <td>6.0</td>\n      <td>58.0</td>\n      <td>1.0</td>\n      <td>30.0</td>\n    </tr>\n    <tr>\n      <th>4245</th>\n      <td>2020-05-23</td>\n      <td>Ямало-Ненецкий АО</td>\n      <td>Yamalo-Nenets Autonomous Okrug</td>\n      <td>89.0</td>\n      <td>36.0</td>\n      <td>0.0</td>\n      <td>288.0</td>\n      <td>2025.0</td>\n      <td>5.0</td>\n      <td>686.0</td>\n    </tr>\n    <tr>\n      <th>4246</th>\n      <td>2020-05-23</td>\n      <td>Ярославская область</td>\n      <td>Yaroslavl region</td>\n      <td>76.0</td>\n      <td>115.0</td>\n      <td>0.0</td>\n      <td>49.0</td>\n      <td>2424.0</td>\n      <td>13.0</td>\n      <td>493.0</td>\n    </tr>\n  </tbody>\n</table>\n</div>"
     },
     "metadata": {},
     "execution_count": 26
    }
   ],
   "source": [
    "# Load data of previous day\n",
    "file_name = 'release/covid19-russia-cases-scrf.csv'\n",
    "rus_df = pd.read_csv(file_name)\n",
    "rus_df.tail()"
   ]
  },
  {
   "cell_type": "code",
   "execution_count": 27,
   "metadata": {},
   "outputs": [
    {
     "output_type": "execute_result",
     "data": {
      "text/plain": "              Region/City  Confirmed  Recovered  Deaths        Date  \\\n29                 Москва     163913      49840    1993  2020-05-24   \n30     Московская область      33515       5520     329  2020-05-24   \n63        Санкт-Петербург      13339       3452     133  2020-05-24   \n32  Нижегородская область       8047       2398      65  2020-05-24   \n46    Республика Дагестан       4095       3267      84  2020-05-24   \n\n    Day-Confirmed  Day-Deaths  Day-Recovered  \n29         2516.0        59.0         2427.0  \n30          862.0         5.0          357.0  \n63          384.0        20.0          328.0  \n32          221.0         5.0          141.0  \n46          113.0        14.0          265.0  ",
      "text/html": "<div>\n<style scoped>\n    .dataframe tbody tr th:only-of-type {\n        vertical-align: middle;\n    }\n\n    .dataframe tbody tr th {\n        vertical-align: top;\n    }\n\n    .dataframe thead th {\n        text-align: right;\n    }\n</style>\n<table border=\"1\" class=\"dataframe\">\n  <thead>\n    <tr style=\"text-align: right;\">\n      <th></th>\n      <th>Region/City</th>\n      <th>Confirmed</th>\n      <th>Recovered</th>\n      <th>Deaths</th>\n      <th>Date</th>\n      <th>Day-Confirmed</th>\n      <th>Day-Deaths</th>\n      <th>Day-Recovered</th>\n    </tr>\n  </thead>\n  <tbody>\n    <tr>\n      <th>29</th>\n      <td>Москва</td>\n      <td>163913</td>\n      <td>49840</td>\n      <td>1993</td>\n      <td>2020-05-24</td>\n      <td>2516.0</td>\n      <td>59.0</td>\n      <td>2427.0</td>\n    </tr>\n    <tr>\n      <th>30</th>\n      <td>Московская область</td>\n      <td>33515</td>\n      <td>5520</td>\n      <td>329</td>\n      <td>2020-05-24</td>\n      <td>862.0</td>\n      <td>5.0</td>\n      <td>357.0</td>\n    </tr>\n    <tr>\n      <th>63</th>\n      <td>Санкт-Петербург</td>\n      <td>13339</td>\n      <td>3452</td>\n      <td>133</td>\n      <td>2020-05-24</td>\n      <td>384.0</td>\n      <td>20.0</td>\n      <td>328.0</td>\n    </tr>\n    <tr>\n      <th>32</th>\n      <td>Нижегородская область</td>\n      <td>8047</td>\n      <td>2398</td>\n      <td>65</td>\n      <td>2020-05-24</td>\n      <td>221.0</td>\n      <td>5.0</td>\n      <td>141.0</td>\n    </tr>\n    <tr>\n      <th>46</th>\n      <td>Республика Дагестан</td>\n      <td>4095</td>\n      <td>3267</td>\n      <td>84</td>\n      <td>2020-05-24</td>\n      <td>113.0</td>\n      <td>14.0</td>\n      <td>265.0</td>\n    </tr>\n  </tbody>\n</table>\n</div>"
     },
     "metadata": {},
     "execution_count": 27
    }
   ],
   "source": [
    "# Read update data\n",
    "# Result of data_parsing_SCRF.ipynb\n",
    "file_name = f'covid19-russia-cases-upd-scrf.csv'\n",
    "upd_df = pd.read_csv(file_name)\n",
    "upd_df.sort_values('Confirmed', ascending=False).head()"
   ]
  },
  {
   "cell_type": "code",
   "execution_count": 28,
   "metadata": {},
   "outputs": [],
   "source": [
    "# Strip text data\n",
    "rus_df['Region/City'] = rus_df['Region/City'].astype('str').str.strip('\\u200b') \n",
    "upd_df['Region/City'] = upd_df['Region/City'].astype('str').str.strip('\\u200b')\n",
    "\n",
    "# Date to datetime\n",
    "upd_df['Date'] = pd.to_datetime(upd_df['Date'])\n",
    "rus_df['Date'] = pd.to_datetime(rus_df['Date'])"
   ]
  },
  {
   "cell_type": "markdown",
   "metadata": {},
   "source": [
    "# Updating"
   ]
  },
  {
   "cell_type": "code",
   "execution_count": 30,
   "metadata": {},
   "outputs": [],
   "source": [
    "# Add region ID and Eng columns\n",
    "regions_df = pd.read_csv('release/regions-info.csv')\n",
    "\n",
    "right = regions_df[['Region_ID', 'Region', 'Region_eng']]\n",
    "upd_df = upd_df.merge(right, left_on='Region/City', right_on='Region', how='left')\n",
    "upd_df['Region/City-Eng'] = upd_df.Region_eng\n",
    "upd_df = upd_df[['Date', 'Region/City', 'Region/City-Eng', 'Region_ID', 'Day-Confirmed', 'Day-Deaths', 'Day-Recovered', 'Confirmed', 'Deaths', 'Recovered']]"
   ]
  },
  {
   "cell_type": "code",
   "execution_count": 31,
   "metadata": {
    "scrolled": true
   },
   "outputs": [
    {
     "output_type": "execute_result",
     "data": {
      "text/plain": "           Date                 Region/City                 Region/City-Eng  \\\n4321 2020-05-24           Тюменская область                   Tyumen region   \n4322 2020-05-24       Удмуртская Республика                 Udmurt republic   \n4323 2020-05-24         Ульяновская область                Ulyanovsk region   \n4324 2020-05-24            Хабаровский край               Khabarovsk region   \n4325 2020-05-24         Ханты-Мансийский АО                 Khanty-Mansiysk   \n4326 2020-05-24         Челябинская область              Chelyabinsk region   \n4327 2020-05-24        Чеченская Республика                Chechen Republic   \n4328 2020-05-24  Чукотский автономный округ       Chukotka Autonomous Okrug   \n4329 2020-05-24           Ямало-Ненецкий АО  Yamalo-Nenets Autonomous Okrug   \n4330 2020-05-24         Ярославская область                Yaroslavl region   \n\n      Region_ID  Day-Confirmed  Day-Deaths  Day-Recovered  Confirmed  Deaths  \\\n4321       72.0           45.0         0.0           34.0     1411.0     7.0   \n4322       18.0           18.0         0.0            1.0      510.0    12.0   \n4323       73.0           97.0         0.0           36.0     1861.0     6.0   \n4324       27.0           61.0         0.0           13.0     1633.0    10.0   \n4325       86.0          102.0         2.0           34.0     1670.0    17.0   \n4326       74.0           62.0         1.0           65.0     2135.0    12.0   \n4327       95.0           24.0         0.0            1.0     1090.0    12.0   \n4328       87.0            1.0         0.0            2.0       59.0     1.0   \n4329       89.0           29.0         1.0           34.0     2054.0     6.0   \n4330       76.0          107.0         0.0           10.0     2531.0    13.0   \n\n      Recovered  \n4321      625.0  \n4322      324.0  \n4323      498.0  \n4324      691.0  \n4325      579.0  \n4326      819.0  \n4327      660.0  \n4328       32.0  \n4329      720.0  \n4330      503.0  ",
      "text/html": "<div>\n<style scoped>\n    .dataframe tbody tr th:only-of-type {\n        vertical-align: middle;\n    }\n\n    .dataframe tbody tr th {\n        vertical-align: top;\n    }\n\n    .dataframe thead th {\n        text-align: right;\n    }\n</style>\n<table border=\"1\" class=\"dataframe\">\n  <thead>\n    <tr style=\"text-align: right;\">\n      <th></th>\n      <th>Date</th>\n      <th>Region/City</th>\n      <th>Region/City-Eng</th>\n      <th>Region_ID</th>\n      <th>Day-Confirmed</th>\n      <th>Day-Deaths</th>\n      <th>Day-Recovered</th>\n      <th>Confirmed</th>\n      <th>Deaths</th>\n      <th>Recovered</th>\n    </tr>\n  </thead>\n  <tbody>\n    <tr>\n      <th>4321</th>\n      <td>2020-05-24</td>\n      <td>Тюменская область</td>\n      <td>Tyumen region</td>\n      <td>72.0</td>\n      <td>45.0</td>\n      <td>0.0</td>\n      <td>34.0</td>\n      <td>1411.0</td>\n      <td>7.0</td>\n      <td>625.0</td>\n    </tr>\n    <tr>\n      <th>4322</th>\n      <td>2020-05-24</td>\n      <td>Удмуртская Республика</td>\n      <td>Udmurt republic</td>\n      <td>18.0</td>\n      <td>18.0</td>\n      <td>0.0</td>\n      <td>1.0</td>\n      <td>510.0</td>\n      <td>12.0</td>\n      <td>324.0</td>\n    </tr>\n    <tr>\n      <th>4323</th>\n      <td>2020-05-24</td>\n      <td>Ульяновская область</td>\n      <td>Ulyanovsk region</td>\n      <td>73.0</td>\n      <td>97.0</td>\n      <td>0.0</td>\n      <td>36.0</td>\n      <td>1861.0</td>\n      <td>6.0</td>\n      <td>498.0</td>\n    </tr>\n    <tr>\n      <th>4324</th>\n      <td>2020-05-24</td>\n      <td>Хабаровский край</td>\n      <td>Khabarovsk region</td>\n      <td>27.0</td>\n      <td>61.0</td>\n      <td>0.0</td>\n      <td>13.0</td>\n      <td>1633.0</td>\n      <td>10.0</td>\n      <td>691.0</td>\n    </tr>\n    <tr>\n      <th>4325</th>\n      <td>2020-05-24</td>\n      <td>Ханты-Мансийский АО</td>\n      <td>Khanty-Mansiysk</td>\n      <td>86.0</td>\n      <td>102.0</td>\n      <td>2.0</td>\n      <td>34.0</td>\n      <td>1670.0</td>\n      <td>17.0</td>\n      <td>579.0</td>\n    </tr>\n    <tr>\n      <th>4326</th>\n      <td>2020-05-24</td>\n      <td>Челябинская область</td>\n      <td>Chelyabinsk region</td>\n      <td>74.0</td>\n      <td>62.0</td>\n      <td>1.0</td>\n      <td>65.0</td>\n      <td>2135.0</td>\n      <td>12.0</td>\n      <td>819.0</td>\n    </tr>\n    <tr>\n      <th>4327</th>\n      <td>2020-05-24</td>\n      <td>Чеченская Республика</td>\n      <td>Chechen Republic</td>\n      <td>95.0</td>\n      <td>24.0</td>\n      <td>0.0</td>\n      <td>1.0</td>\n      <td>1090.0</td>\n      <td>12.0</td>\n      <td>660.0</td>\n    </tr>\n    <tr>\n      <th>4328</th>\n      <td>2020-05-24</td>\n      <td>Чукотский автономный округ</td>\n      <td>Chukotka Autonomous Okrug</td>\n      <td>87.0</td>\n      <td>1.0</td>\n      <td>0.0</td>\n      <td>2.0</td>\n      <td>59.0</td>\n      <td>1.0</td>\n      <td>32.0</td>\n    </tr>\n    <tr>\n      <th>4329</th>\n      <td>2020-05-24</td>\n      <td>Ямало-Ненецкий АО</td>\n      <td>Yamalo-Nenets Autonomous Okrug</td>\n      <td>89.0</td>\n      <td>29.0</td>\n      <td>1.0</td>\n      <td>34.0</td>\n      <td>2054.0</td>\n      <td>6.0</td>\n      <td>720.0</td>\n    </tr>\n    <tr>\n      <th>4330</th>\n      <td>2020-05-24</td>\n      <td>Ярославская область</td>\n      <td>Yaroslavl region</td>\n      <td>76.0</td>\n      <td>107.0</td>\n      <td>0.0</td>\n      <td>10.0</td>\n      <td>2531.0</td>\n      <td>13.0</td>\n      <td>503.0</td>\n    </tr>\n  </tbody>\n</table>\n</div>"
     },
     "metadata": {},
     "execution_count": 31
    }
   ],
   "source": [
    "rus_df = pd.concat([rus_df, upd_df]).reset_index(drop=True)\n",
    "rus_df.tail(10)"
   ]
  },
  {
   "cell_type": "code",
   "execution_count": 32,
   "metadata": {},
   "outputs": [],
   "source": [
    "# Negative values fix\n",
    "# Negative values can appear if some cases was removed from statistic\n",
    "def negval_fix(reg):\n",
    "    last = reg.iloc[-1]\n",
    "    diff_c = last['Day-Confirmed']*(-1) if last['Day-Confirmed'] < 0 else 0\n",
    "    diff_d = last['Day-Deaths']*(-1) if last['Day-Deaths'] < 0 else 0\n",
    "    diff_r = last['Day-Recovered']*(-1) if last['Day-Recovered'] < 0 else 0\n",
    "    \n",
    "    last['Day-Confirmed'] += diff_c\n",
    "    last['Day-Deaths']    += diff_d\n",
    "    last['Day-Recovered'] += diff_r\n",
    "    reg.iloc[-1] = last\n",
    "    \n",
    "    if diff_c + diff_d + diff_r > 0:\n",
    "        print(diff_c, diff_d, diff_r, last['Region/City'])\n",
    "        prev = reg.iloc[-2]\n",
    "        prev['Confirmed'] -= diff_c\n",
    "        prev['Deaths']    -= diff_d\n",
    "        prev['Recovered'] -= diff_r\n",
    "        reg.iloc[-2] = prev\n",
    "    \n",
    "    return reg\n",
    "    \n",
    "rus_df = rus_df.groupby('Region/City').apply(negval_fix).reset_index(drop=True)"
   ]
  },
  {
   "cell_type": "code",
   "execution_count": 33,
   "metadata": {},
   "outputs": [],
   "source": [
    "# Manual fixes if needed\n",
    "# rus_df.loc[287, 'Confirmed'] = 5\n",
    "# rus_df.loc[321, 'Confirmed'] = 5\n",
    "# rus_df.loc[359, 'Day-Confirmed'] = 0\n",
    "\n",
    "# rus_df.loc[3775, 'Deaths'] = 7\n",
    "# rus_df.loc[3775, 'Day-Deaths'] = 0"
   ]
  },
  {
   "cell_type": "markdown",
   "metadata": {},
   "source": [
    "# Data checking"
   ]
  },
  {
   "cell_type": "code",
   "execution_count": 34,
   "metadata": {},
   "outputs": [
    {
     "output_type": "stream",
     "name": "stdout",
     "text": "Russia Confirmed: 344481.0 | By day: 344481.0\nRussia Deaths: 3545.0 | By day: 3541.0\nRussia Recovered: 113299.0 | By day: 113299.0\nEmpty DataFrame\nColumns: [Region/City, Confirmed, Confirmed-ByDay]\nIndex: []\nEmpty DataFrame\nColumns: [Region/City, Recovered, Recovered-ByDay]\nIndex: []\n             Region/City  Deaths  Deaths-ByDay\n9    Воронежская область    16.0          14.0\n34  Новгородская область     7.0           5.0\n"
    }
   ],
   "source": [
    "rus_sum = rus_df.loc[rus_df['Region/City'] != 'Diamond Princess']\n",
    "\n",
    "print('Russia Confirmed:', rus_sum.groupby('Region/City')['Confirmed'].max().sum(),\n",
    "      '| By day:', rus_sum.groupby('Region/City')['Day-Confirmed'].sum().sum())\n",
    "print('Russia Deaths:', rus_sum.groupby('Region/City')['Deaths'].max().sum(),\n",
    "      '| By day:', rus_sum.groupby('Region/City')['Day-Deaths'].sum().sum())\n",
    "print('Russia Recovered:', rus_sum.groupby('Region/City')['Recovered'].max().sum(),\n",
    "      '| By day:', rus_sum.groupby('Region/City')['Day-Recovered'].sum().sum())\n",
    "\n",
    "rus_regs = rus_sum.groupby('Region/City')['Confirmed'].max().reset_index()\n",
    "rus_regs['Confirmed-ByDay'] = rus_sum.groupby('Region/City')['Day-Confirmed'].sum().reset_index(drop=True)\n",
    "print(rus_regs.loc[rus_regs['Confirmed'] != rus_regs['Confirmed-ByDay']])\n",
    "\n",
    "rus_regs = rus_sum.groupby('Region/City')['Recovered'].max().reset_index()\n",
    "rus_regs['Recovered-ByDay'] = rus_sum.groupby('Region/City')['Day-Recovered'].sum().reset_index(drop=True)\n",
    "print(rus_regs.loc[rus_regs['Recovered'] != rus_regs['Recovered-ByDay']])\n",
    "\n",
    "rus_regs = rus_sum.groupby('Region/City')['Deaths'].max().reset_index()\n",
    "rus_regs['Deaths-ByDay'] = rus_sum.groupby('Region/City')['Day-Deaths'].sum().reset_index(drop=True)\n",
    "print(rus_regs.loc[rus_regs['Deaths'] != rus_regs['Deaths-ByDay']])\n",
    "\n",
    "# rus_regs.to_csv('rus_regs.csv')"
   ]
  },
  {
   "cell_type": "markdown",
   "metadata": {},
   "source": [
    "# Data saving"
   ]
  },
  {
   "cell_type": "code",
   "execution_count": 35,
   "metadata": {},
   "outputs": [],
   "source": [
    "file_name = 'release/covid19-russia-cases-scrf.csv'\n",
    "rus_df.to_csv(file_name, index=False)"
   ]
  },
  {
   "cell_type": "code",
   "execution_count": null,
   "metadata": {},
   "outputs": [],
   "source": []
  }
 ],
 "metadata": {
  "kernelspec": {
   "display_name": "Python 3",
   "language": "python",
   "name": "python3"
  },
  "language_info": {
   "codemirror_mode": {
    "name": "ipython",
    "version": 3
   },
   "file_extension": ".py",
   "mimetype": "text/x-python",
   "name": "python",
   "nbconvert_exporter": "python",
   "pygments_lexer": "ipython3",
   "version": "3.7.6-final"
  }
 },
 "nbformat": 4,
 "nbformat_minor": 4
}