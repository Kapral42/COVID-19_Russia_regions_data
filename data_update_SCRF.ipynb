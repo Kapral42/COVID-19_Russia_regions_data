{
 "cells": [
  {
   "cell_type": "markdown",
   "metadata": {},
   "source": [
    "# Import"
   ]
  },
  {
   "cell_type": "code",
   "execution_count": 1,
   "metadata": {},
   "outputs": [],
   "source": [
    "import numpy as np\n",
    "import pandas as pd"
   ]
  },
  {
   "cell_type": "markdown",
   "metadata": {},
   "source": [
    "# Data preporation"
   ]
  },
  {
   "cell_type": "code",
   "execution_count": 2,
   "metadata": {
    "scrolled": true
   },
   "outputs": [
    {
     "output_type": "execute_result",
     "data": {
      "text/plain": "            Date                 Region/City                 Region/City-Eng  \\\n6560  2020-05-27         Челябинская область              Chelyabinsk region   \n6561  2020-05-27        Чеченская Республика                Chechen Republic   \n6562  2020-05-27  Чукотский автономный округ       Chukotka Autonomous Okrug   \n6563  2020-05-27           Ямало-Ненецкий АО  Yamalo-Nenets Autonomous Okrug   \n6564  2020-05-27         Ярославская область                Yaroslavl region   \n\n      Region_ID  Day-Confirmed  Day-Deaths  Day-Recovered  Confirmed  Deaths  \\\n6560       74.0           70.0         0.0           64.0     2286.0    13.0   \n6561       95.0           19.0         0.0            8.0     1152.0    13.0   \n6562       87.0            2.0         0.0            1.0       63.0     1.0   \n6563       89.0           51.0         0.0           30.0     2202.0     6.0   \n6564       76.0           82.0         0.0           47.0     2808.0    13.0   \n\n      Recovered  \n6560      988.0  \n6561      698.0  \n6562       37.0  \n6563      788.0  \n6564      616.0  ",
      "text/html": "<div>\n<style scoped>\n    .dataframe tbody tr th:only-of-type {\n        vertical-align: middle;\n    }\n\n    .dataframe tbody tr th {\n        vertical-align: top;\n    }\n\n    .dataframe thead th {\n        text-align: right;\n    }\n</style>\n<table border=\"1\" class=\"dataframe\">\n  <thead>\n    <tr style=\"text-align: right;\">\n      <th></th>\n      <th>Date</th>\n      <th>Region/City</th>\n      <th>Region/City-Eng</th>\n      <th>Region_ID</th>\n      <th>Day-Confirmed</th>\n      <th>Day-Deaths</th>\n      <th>Day-Recovered</th>\n      <th>Confirmed</th>\n      <th>Deaths</th>\n      <th>Recovered</th>\n    </tr>\n  </thead>\n  <tbody>\n    <tr>\n      <th>6560</th>\n      <td>2020-05-27</td>\n      <td>Челябинская область</td>\n      <td>Chelyabinsk region</td>\n      <td>74.0</td>\n      <td>70.0</td>\n      <td>0.0</td>\n      <td>64.0</td>\n      <td>2286.0</td>\n      <td>13.0</td>\n      <td>988.0</td>\n    </tr>\n    <tr>\n      <th>6561</th>\n      <td>2020-05-27</td>\n      <td>Чеченская Республика</td>\n      <td>Chechen Republic</td>\n      <td>95.0</td>\n      <td>19.0</td>\n      <td>0.0</td>\n      <td>8.0</td>\n      <td>1152.0</td>\n      <td>13.0</td>\n      <td>698.0</td>\n    </tr>\n    <tr>\n      <th>6562</th>\n      <td>2020-05-27</td>\n      <td>Чукотский автономный округ</td>\n      <td>Chukotka Autonomous Okrug</td>\n      <td>87.0</td>\n      <td>2.0</td>\n      <td>0.0</td>\n      <td>1.0</td>\n      <td>63.0</td>\n      <td>1.0</td>\n      <td>37.0</td>\n    </tr>\n    <tr>\n      <th>6563</th>\n      <td>2020-05-27</td>\n      <td>Ямало-Ненецкий АО</td>\n      <td>Yamalo-Nenets Autonomous Okrug</td>\n      <td>89.0</td>\n      <td>51.0</td>\n      <td>0.0</td>\n      <td>30.0</td>\n      <td>2202.0</td>\n      <td>6.0</td>\n      <td>788.0</td>\n    </tr>\n    <tr>\n      <th>6564</th>\n      <td>2020-05-27</td>\n      <td>Ярославская область</td>\n      <td>Yaroslavl region</td>\n      <td>76.0</td>\n      <td>82.0</td>\n      <td>0.0</td>\n      <td>47.0</td>\n      <td>2808.0</td>\n      <td>13.0</td>\n      <td>616.0</td>\n    </tr>\n  </tbody>\n</table>\n</div>"
     },
     "metadata": {},
     "execution_count": 2
    }
   ],
   "source": [
    "# Load data of previous day\n",
    "file_name = 'release/covid19-russia-cases-scrf.csv'\n",
    "rus_df = pd.read_csv(file_name)\n",
    "rus_df.tail()"
   ]
  },
  {
   "cell_type": "code",
   "execution_count": 3,
   "metadata": {},
   "outputs": [
    {
     "output_type": "execute_result",
     "data": {
      "text/plain": "              Region/City  Confirmed  Recovered  Deaths        Date  \\\n29                 Москва     173497      71251    2254  2020-05-28   \n30     Московская область      36730       6843     380  2020-05-28   \n64        Санкт-Петербург      14846       4783     167  2020-05-28   \n33  Нижегородская область       8963       3244      84  2020-05-28   \n67   Свердловская область       4693       1827      23  2020-05-28   \n\n    Day-Confirmed  Day-Deaths  Day-Recovered  \n29         2054.0        71.0         3793.0  \n30          774.0        21.0          403.0  \n64          383.0         9.0          325.0  \n33          228.0         6.0          339.0  \n67          268.0         2.0          127.0  ",
      "text/html": "<div>\n<style scoped>\n    .dataframe tbody tr th:only-of-type {\n        vertical-align: middle;\n    }\n\n    .dataframe tbody tr th {\n        vertical-align: top;\n    }\n\n    .dataframe thead th {\n        text-align: right;\n    }\n</style>\n<table border=\"1\" class=\"dataframe\">\n  <thead>\n    <tr style=\"text-align: right;\">\n      <th></th>\n      <th>Region/City</th>\n      <th>Confirmed</th>\n      <th>Recovered</th>\n      <th>Deaths</th>\n      <th>Date</th>\n      <th>Day-Confirmed</th>\n      <th>Day-Deaths</th>\n      <th>Day-Recovered</th>\n    </tr>\n  </thead>\n  <tbody>\n    <tr>\n      <th>29</th>\n      <td>Москва</td>\n      <td>173497</td>\n      <td>71251</td>\n      <td>2254</td>\n      <td>2020-05-28</td>\n      <td>2054.0</td>\n      <td>71.0</td>\n      <td>3793.0</td>\n    </tr>\n    <tr>\n      <th>30</th>\n      <td>Московская область</td>\n      <td>36730</td>\n      <td>6843</td>\n      <td>380</td>\n      <td>2020-05-28</td>\n      <td>774.0</td>\n      <td>21.0</td>\n      <td>403.0</td>\n    </tr>\n    <tr>\n      <th>64</th>\n      <td>Санкт-Петербург</td>\n      <td>14846</td>\n      <td>4783</td>\n      <td>167</td>\n      <td>2020-05-28</td>\n      <td>383.0</td>\n      <td>9.0</td>\n      <td>325.0</td>\n    </tr>\n    <tr>\n      <th>33</th>\n      <td>Нижегородская область</td>\n      <td>8963</td>\n      <td>3244</td>\n      <td>84</td>\n      <td>2020-05-28</td>\n      <td>228.0</td>\n      <td>6.0</td>\n      <td>339.0</td>\n    </tr>\n    <tr>\n      <th>67</th>\n      <td>Свердловская область</td>\n      <td>4693</td>\n      <td>1827</td>\n      <td>23</td>\n      <td>2020-05-28</td>\n      <td>268.0</td>\n      <td>2.0</td>\n      <td>127.0</td>\n    </tr>\n  </tbody>\n</table>\n</div>"
     },
     "metadata": {},
     "execution_count": 3
    }
   ],
   "source": [
    "# Read update data\n",
    "# Result of data_parsing_SCRF.ipynb\n",
    "file_name = f'covid19-russia-cases-upd-scrf.csv'\n",
    "upd_df = pd.read_csv(file_name)\n",
    "upd_df.sort_values('Confirmed', ascending=False).head()"
   ]
  },
  {
   "cell_type": "code",
   "execution_count": 4,
   "metadata": {},
   "outputs": [],
   "source": [
    "# Strip text data\n",
    "rus_df['Region/City'] = rus_df['Region/City'].astype('str').str.strip('\\u200b') \n",
    "upd_df['Region/City'] = upd_df['Region/City'].astype('str').str.strip('\\u200b')\n",
    "\n",
    "# Date to datetime\n",
    "upd_df['Date'] = pd.to_datetime(upd_df['Date'])\n",
    "rus_df['Date'] = pd.to_datetime(rus_df['Date'])"
   ]
  },
  {
   "cell_type": "markdown",
   "metadata": {},
   "source": [
    "# Updating"
   ]
  },
  {
   "cell_type": "code",
   "execution_count": 5,
   "metadata": {},
   "outputs": [],
   "source": [
    "# Add region ID and Eng columns\n",
    "regions_df = pd.read_csv('release/regions-info.csv')\n",
    "\n",
    "right = regions_df[['Region_ID', 'Region', 'Region_eng']]\n",
    "upd_df = upd_df.merge(right, left_on='Region/City', right_on='Region', how='left')\n",
    "upd_df['Region/City-Eng'] = upd_df.Region_eng\n",
    "upd_df = upd_df[['Date', 'Region/City', 'Region/City-Eng', 'Region_ID', 'Day-Confirmed', 'Day-Deaths', 'Day-Recovered', 'Confirmed', 'Deaths', 'Recovered']]"
   ]
  },
  {
   "cell_type": "code",
   "execution_count": 6,
   "metadata": {
    "scrolled": true
   },
   "outputs": [
    {
     "output_type": "execute_result",
     "data": {
      "text/plain": "           Date                 Region/City                 Region/City-Eng  \\\n6640 2020-05-28           Тюменская область                   Tyumen region   \n6641 2020-05-28       Удмуртская Республика                 Udmurt republic   \n6642 2020-05-28         Ульяновская область                Ulyanovsk region   \n6643 2020-05-28            Хабаровский край               Khabarovsk region   \n6644 2020-05-28         Ханты-Мансийский АО                 Khanty-Mansiysk   \n6645 2020-05-28         Челябинская область              Chelyabinsk region   \n6646 2020-05-28        Чеченская Республика                Chechen Republic   \n6647 2020-05-28  Чукотский автономный округ       Chukotka Autonomous Okrug   \n6648 2020-05-28           Ямало-Ненецкий АО  Yamalo-Nenets Autonomous Okrug   \n6649 2020-05-28         Ярославская область                Yaroslavl region   \n\n      Region_ID  Day-Confirmed  Day-Deaths  Day-Recovered  Confirmed  Deaths  \\\n6640       72.0           30.0         0.0           63.0     1562.0     7.0   \n6641       18.0           24.0         0.0           14.0      583.0    12.0   \n6642       73.0           75.0         0.0           28.0     2196.0     7.0   \n6643       27.0           63.0         1.0           40.0     1890.0    11.0   \n6644       86.0          104.0         0.0           47.0     2028.0    17.0   \n6645       74.0           82.0         1.0           69.0     2368.0    14.0   \n6646       95.0           22.0         0.0           47.0     1174.0    13.0   \n6647       87.0            3.0         0.0            3.0       66.0     1.0   \n6648       89.0           47.0         1.0           68.0     2249.0     7.0   \n6649       76.0           84.0         0.0           37.0     2892.0    13.0   \n\n      Recovered  \n6640      757.0  \n6641      381.0  \n6642      614.0  \n6643      843.0  \n6644      716.0  \n6645     1057.0  \n6646      745.0  \n6647       40.0  \n6648      856.0  \n6649      653.0  ",
      "text/html": "<div>\n<style scoped>\n    .dataframe tbody tr th:only-of-type {\n        vertical-align: middle;\n    }\n\n    .dataframe tbody tr th {\n        vertical-align: top;\n    }\n\n    .dataframe thead th {\n        text-align: right;\n    }\n</style>\n<table border=\"1\" class=\"dataframe\">\n  <thead>\n    <tr style=\"text-align: right;\">\n      <th></th>\n      <th>Date</th>\n      <th>Region/City</th>\n      <th>Region/City-Eng</th>\n      <th>Region_ID</th>\n      <th>Day-Confirmed</th>\n      <th>Day-Deaths</th>\n      <th>Day-Recovered</th>\n      <th>Confirmed</th>\n      <th>Deaths</th>\n      <th>Recovered</th>\n    </tr>\n  </thead>\n  <tbody>\n    <tr>\n      <th>6640</th>\n      <td>2020-05-28</td>\n      <td>Тюменская область</td>\n      <td>Tyumen region</td>\n      <td>72.0</td>\n      <td>30.0</td>\n      <td>0.0</td>\n      <td>63.0</td>\n      <td>1562.0</td>\n      <td>7.0</td>\n      <td>757.0</td>\n    </tr>\n    <tr>\n      <th>6641</th>\n      <td>2020-05-28</td>\n      <td>Удмуртская Республика</td>\n      <td>Udmurt republic</td>\n      <td>18.0</td>\n      <td>24.0</td>\n      <td>0.0</td>\n      <td>14.0</td>\n      <td>583.0</td>\n      <td>12.0</td>\n      <td>381.0</td>\n    </tr>\n    <tr>\n      <th>6642</th>\n      <td>2020-05-28</td>\n      <td>Ульяновская область</td>\n      <td>Ulyanovsk region</td>\n      <td>73.0</td>\n      <td>75.0</td>\n      <td>0.0</td>\n      <td>28.0</td>\n      <td>2196.0</td>\n      <td>7.0</td>\n      <td>614.0</td>\n    </tr>\n    <tr>\n      <th>6643</th>\n      <td>2020-05-28</td>\n      <td>Хабаровский край</td>\n      <td>Khabarovsk region</td>\n      <td>27.0</td>\n      <td>63.0</td>\n      <td>1.0</td>\n      <td>40.0</td>\n      <td>1890.0</td>\n      <td>11.0</td>\n      <td>843.0</td>\n    </tr>\n    <tr>\n      <th>6644</th>\n      <td>2020-05-28</td>\n      <td>Ханты-Мансийский АО</td>\n      <td>Khanty-Mansiysk</td>\n      <td>86.0</td>\n      <td>104.0</td>\n      <td>0.0</td>\n      <td>47.0</td>\n      <td>2028.0</td>\n      <td>17.0</td>\n      <td>716.0</td>\n    </tr>\n    <tr>\n      <th>6645</th>\n      <td>2020-05-28</td>\n      <td>Челябинская область</td>\n      <td>Chelyabinsk region</td>\n      <td>74.0</td>\n      <td>82.0</td>\n      <td>1.0</td>\n      <td>69.0</td>\n      <td>2368.0</td>\n      <td>14.0</td>\n      <td>1057.0</td>\n    </tr>\n    <tr>\n      <th>6646</th>\n      <td>2020-05-28</td>\n      <td>Чеченская Республика</td>\n      <td>Chechen Republic</td>\n      <td>95.0</td>\n      <td>22.0</td>\n      <td>0.0</td>\n      <td>47.0</td>\n      <td>1174.0</td>\n      <td>13.0</td>\n      <td>745.0</td>\n    </tr>\n    <tr>\n      <th>6647</th>\n      <td>2020-05-28</td>\n      <td>Чукотский автономный округ</td>\n      <td>Chukotka Autonomous Okrug</td>\n      <td>87.0</td>\n      <td>3.0</td>\n      <td>0.0</td>\n      <td>3.0</td>\n      <td>66.0</td>\n      <td>1.0</td>\n      <td>40.0</td>\n    </tr>\n    <tr>\n      <th>6648</th>\n      <td>2020-05-28</td>\n      <td>Ямало-Ненецкий АО</td>\n      <td>Yamalo-Nenets Autonomous Okrug</td>\n      <td>89.0</td>\n      <td>47.0</td>\n      <td>1.0</td>\n      <td>68.0</td>\n      <td>2249.0</td>\n      <td>7.0</td>\n      <td>856.0</td>\n    </tr>\n    <tr>\n      <th>6649</th>\n      <td>2020-05-28</td>\n      <td>Ярославская область</td>\n      <td>Yaroslavl region</td>\n      <td>76.0</td>\n      <td>84.0</td>\n      <td>0.0</td>\n      <td>37.0</td>\n      <td>2892.0</td>\n      <td>13.0</td>\n      <td>653.0</td>\n    </tr>\n  </tbody>\n</table>\n</div>"
     },
     "metadata": {},
     "execution_count": 6
    }
   ],
   "source": [
    "rus_df = pd.concat([rus_df, upd_df]).reset_index(drop=True)\n",
    "rus_df.tail(10)"
   ]
  },
  {
   "cell_type": "code",
   "execution_count": 7,
   "metadata": {},
   "outputs": [],
   "source": [
    "# Negative values fix\n",
    "# Negative values can appear if some cases was removed from statistic\n",
    "def negval_fix(reg):\n",
    "    last = reg.iloc[-1]\n",
    "    diff_c = last['Day-Confirmed']*(-1) if last['Day-Confirmed'] < 0 else 0\n",
    "    diff_d = last['Day-Deaths']*(-1) if last['Day-Deaths'] < 0 else 0\n",
    "    diff_r = last['Day-Recovered']*(-1) if last['Day-Recovered'] < 0 else 0\n",
    "    \n",
    "    last['Day-Confirmed'] += diff_c\n",
    "    last['Day-Deaths']    += diff_d\n",
    "    last['Day-Recovered'] += diff_r\n",
    "    reg.iloc[-1] = last\n",
    "    \n",
    "    if diff_c + diff_d + diff_r > 0:\n",
    "        print(diff_c, diff_d, diff_r, last['Region/City'])\n",
    "        prev = reg.iloc[-2]\n",
    "        prev['Confirmed'] -= diff_c\n",
    "        prev['Deaths']    -= diff_d\n",
    "        prev['Recovered'] -= diff_r\n",
    "        reg.iloc[-2] = prev\n",
    "    \n",
    "    return reg\n",
    "    \n",
    "rus_df = rus_df.groupby('Region/City').apply(negval_fix).reset_index(drop=True)"
   ]
  },
  {
   "cell_type": "code",
   "execution_count": 8,
   "metadata": {},
   "outputs": [],
   "source": [
    "# Manual fixes if needed\n",
    "# rus_df.loc[287, 'Confirmed'] = 5\n",
    "# rus_df.loc[321, 'Confirmed'] = 5\n",
    "# rus_df.loc[359, 'Day-Confirmed'] = 0\n",
    "\n",
    "# rus_df.loc[3775, 'Deaths'] = 7\n",
    "# rus_df.loc[3775, 'Day-Deaths'] = 0"
   ]
  },
  {
   "cell_type": "markdown",
   "metadata": {},
   "source": [
    "# Data checking"
   ]
  },
  {
   "cell_type": "code",
   "execution_count": 9,
   "metadata": {},
   "outputs": [
    {
     "output_type": "stream",
     "name": "stdout",
     "text": "Russia Confirmed: 379051.0 | By day: 379051.0\nRussia Deaths: 4142.0 | By day: 4142.0\nRussia Recovered: 150993.0 | By day: 150993.0\nEmpty DataFrame\nColumns: [Region/City, Confirmed, Confirmed-ByDay]\nIndex: []\nEmpty DataFrame\nColumns: [Region/City, Recovered, Recovered-ByDay]\nIndex: []\nEmpty DataFrame\nColumns: [Region/City, Deaths, Deaths-ByDay]\nIndex: []\n"
    }
   ],
   "source": [
    "rus_sum = rus_df.loc[rus_df['Region/City'] != 'Diamond Princess']\n",
    "\n",
    "print('Russia Confirmed:', rus_sum.groupby('Region/City')['Confirmed'].max().sum(),\n",
    "      '| By day:', rus_sum.groupby('Region/City')['Day-Confirmed'].sum().sum())\n",
    "print('Russia Deaths:', rus_sum.groupby('Region/City')['Deaths'].max().sum(),\n",
    "      '| By day:', rus_sum.groupby('Region/City')['Day-Deaths'].sum().sum())\n",
    "print('Russia Recovered:', rus_sum.groupby('Region/City')['Recovered'].max().sum(),\n",
    "      '| By day:', rus_sum.groupby('Region/City')['Day-Recovered'].sum().sum())\n",
    "\n",
    "rus_regs = rus_sum.groupby('Region/City')['Confirmed'].max().reset_index()\n",
    "rus_regs['Confirmed-ByDay'] = rus_sum.groupby('Region/City')['Day-Confirmed'].sum().reset_index(drop=True)\n",
    "print(rus_regs.loc[rus_regs['Confirmed'] != rus_regs['Confirmed-ByDay']])\n",
    "\n",
    "rus_regs = rus_sum.groupby('Region/City')['Recovered'].max().reset_index()\n",
    "rus_regs['Recovered-ByDay'] = rus_sum.groupby('Region/City')['Day-Recovered'].sum().reset_index(drop=True)\n",
    "print(rus_regs.loc[rus_regs['Recovered'] != rus_regs['Recovered-ByDay']])\n",
    "\n",
    "rus_regs = rus_sum.groupby('Region/City')['Deaths'].max().reset_index()\n",
    "rus_regs['Deaths-ByDay'] = rus_sum.groupby('Region/City')['Day-Deaths'].sum().reset_index(drop=True)\n",
    "print(rus_regs.loc[rus_regs['Deaths'] != rus_regs['Deaths-ByDay']])\n",
    "\n",
    "# rus_regs.to_csv('rus_regs.csv')"
   ]
  },
  {
   "cell_type": "markdown",
   "metadata": {},
   "source": [
    "# Data saving"
   ]
  },
  {
   "cell_type": "code",
   "execution_count": 10,
   "metadata": {},
   "outputs": [],
   "source": [
    "file_name = 'release/covid19-russia-cases-scrf.csv'\n",
    "rus_df.to_csv(file_name, index=False)"
   ]
  },
  {
   "cell_type": "code",
   "execution_count": null,
   "metadata": {},
   "outputs": [],
   "source": []
  }
 ],
 "metadata": {
  "kernelspec": {
   "display_name": "Python 3",
   "language": "python",
   "name": "python3"
  },
  "language_info": {
   "codemirror_mode": {
    "name": "ipython",
    "version": 3
   },
   "file_extension": ".py",
   "mimetype": "text/x-python",
   "name": "python",
   "nbconvert_exporter": "python",
   "pygments_lexer": "ipython3",
   "version": "3.7.6-final"
  }
 },
 "nbformat": 4,
 "nbformat_minor": 4
}