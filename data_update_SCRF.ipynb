{
 "cells": [
  {
   "cell_type": "markdown",
   "metadata": {},
   "source": [
    "# Import"
   ]
  },
  {
   "cell_type": "code",
   "execution_count": 21,
   "metadata": {},
   "outputs": [],
   "source": [
    "import numpy as np\n",
    "import pandas as pd"
   ]
  },
  {
   "cell_type": "markdown",
   "metadata": {},
   "source": [
    "# Data preporation"
   ]
  },
  {
   "cell_type": "code",
   "execution_count": 22,
   "metadata": {
    "scrolled": true
   },
   "outputs": [
    {
     "output_type": "execute_result",
     "data": {
      "text/plain": "            Date                 Region/City                 Region/City-Eng  \\\n4495  2020-05-26         Челябинская область              Chelyabinsk region   \n4496  2020-05-26        Чеченская Республика                Chechen Republic   \n4497  2020-05-26  Чукотский автономный округ       Chukotka Autonomous Okrug   \n4498  2020-05-26           Ямало-Ненецкий АО  Yamalo-Nenets Autonomous Okrug   \n4499  2020-05-26         Ярославская область                Yaroslavl region   \n\n      Region_ID  Day-Confirmed  Day-Deaths  Day-Recovered  Confirmed  Deaths  \\\n4495       74.0           36.0         1.0           17.0     2216.0    13.0   \n4496       95.0           21.0         0.0           30.0     1133.0    13.0   \n4497       87.0            0.0         0.0            4.0       61.0     1.0   \n4498       89.0           59.0         0.0           34.0     2151.0     6.0   \n4499       76.0           94.0         0.0           66.0     2726.0    13.0   \n\n      Recovered  \n4495      924.0  \n4496      690.0  \n4497       36.0  \n4498      758.0  \n4499      569.0  ",
      "text/html": "<div>\n<style scoped>\n    .dataframe tbody tr th:only-of-type {\n        vertical-align: middle;\n    }\n\n    .dataframe tbody tr th {\n        vertical-align: top;\n    }\n\n    .dataframe thead th {\n        text-align: right;\n    }\n</style>\n<table border=\"1\" class=\"dataframe\">\n  <thead>\n    <tr style=\"text-align: right;\">\n      <th></th>\n      <th>Date</th>\n      <th>Region/City</th>\n      <th>Region/City-Eng</th>\n      <th>Region_ID</th>\n      <th>Day-Confirmed</th>\n      <th>Day-Deaths</th>\n      <th>Day-Recovered</th>\n      <th>Confirmed</th>\n      <th>Deaths</th>\n      <th>Recovered</th>\n    </tr>\n  </thead>\n  <tbody>\n    <tr>\n      <th>4495</th>\n      <td>2020-05-26</td>\n      <td>Челябинская область</td>\n      <td>Chelyabinsk region</td>\n      <td>74.0</td>\n      <td>36.0</td>\n      <td>1.0</td>\n      <td>17.0</td>\n      <td>2216.0</td>\n      <td>13.0</td>\n      <td>924.0</td>\n    </tr>\n    <tr>\n      <th>4496</th>\n      <td>2020-05-26</td>\n      <td>Чеченская Республика</td>\n      <td>Chechen Republic</td>\n      <td>95.0</td>\n      <td>21.0</td>\n      <td>0.0</td>\n      <td>30.0</td>\n      <td>1133.0</td>\n      <td>13.0</td>\n      <td>690.0</td>\n    </tr>\n    <tr>\n      <th>4497</th>\n      <td>2020-05-26</td>\n      <td>Чукотский автономный округ</td>\n      <td>Chukotka Autonomous Okrug</td>\n      <td>87.0</td>\n      <td>0.0</td>\n      <td>0.0</td>\n      <td>4.0</td>\n      <td>61.0</td>\n      <td>1.0</td>\n      <td>36.0</td>\n    </tr>\n    <tr>\n      <th>4498</th>\n      <td>2020-05-26</td>\n      <td>Ямало-Ненецкий АО</td>\n      <td>Yamalo-Nenets Autonomous Okrug</td>\n      <td>89.0</td>\n      <td>59.0</td>\n      <td>0.0</td>\n      <td>34.0</td>\n      <td>2151.0</td>\n      <td>6.0</td>\n      <td>758.0</td>\n    </tr>\n    <tr>\n      <th>4499</th>\n      <td>2020-05-26</td>\n      <td>Ярославская область</td>\n      <td>Yaroslavl region</td>\n      <td>76.0</td>\n      <td>94.0</td>\n      <td>0.0</td>\n      <td>66.0</td>\n      <td>2726.0</td>\n      <td>13.0</td>\n      <td>569.0</td>\n    </tr>\n  </tbody>\n</table>\n</div>"
     },
     "metadata": {},
     "execution_count": 22
    }
   ],
   "source": [
    "# Load data of previous day\n",
    "file_name = 'release/covid19-russia-cases-scrf.csv'\n",
    "rus_df = pd.read_csv(file_name)\n",
    "rus_df.tail()"
   ]
  },
  {
   "cell_type": "code",
   "execution_count": 23,
   "metadata": {},
   "outputs": [
    {
     "output_type": "execute_result",
     "data": {
      "text/plain": "              Region/City  Confirmed  Recovered  Deaths        Date  \\\n29                 Москва     171443      67458    2183  2020-05-27   \n30     Московская область      35956       6440     359  2020-05-27   \n64        Санкт-Петербург      14463       4458     158  2020-05-27   \n33  Нижегородская область       8735       2905      78  2020-05-27   \n47    Республика Дагестан       4455       4161     130  2020-05-27   \n\n    Day-Confirmed  Day-Deaths  Day-Recovered  \n29         2140.0        73.0         5839.0  \n30          793.0        10.0          288.0  \n64          387.0         8.0          714.0  \n33          231.0         6.0          253.0  \n47          161.0        12.0          352.0  ",
      "text/html": "<div>\n<style scoped>\n    .dataframe tbody tr th:only-of-type {\n        vertical-align: middle;\n    }\n\n    .dataframe tbody tr th {\n        vertical-align: top;\n    }\n\n    .dataframe thead th {\n        text-align: right;\n    }\n</style>\n<table border=\"1\" class=\"dataframe\">\n  <thead>\n    <tr style=\"text-align: right;\">\n      <th></th>\n      <th>Region/City</th>\n      <th>Confirmed</th>\n      <th>Recovered</th>\n      <th>Deaths</th>\n      <th>Date</th>\n      <th>Day-Confirmed</th>\n      <th>Day-Deaths</th>\n      <th>Day-Recovered</th>\n    </tr>\n  </thead>\n  <tbody>\n    <tr>\n      <th>29</th>\n      <td>Москва</td>\n      <td>171443</td>\n      <td>67458</td>\n      <td>2183</td>\n      <td>2020-05-27</td>\n      <td>2140.0</td>\n      <td>73.0</td>\n      <td>5839.0</td>\n    </tr>\n    <tr>\n      <th>30</th>\n      <td>Московская область</td>\n      <td>35956</td>\n      <td>6440</td>\n      <td>359</td>\n      <td>2020-05-27</td>\n      <td>793.0</td>\n      <td>10.0</td>\n      <td>288.0</td>\n    </tr>\n    <tr>\n      <th>64</th>\n      <td>Санкт-Петербург</td>\n      <td>14463</td>\n      <td>4458</td>\n      <td>158</td>\n      <td>2020-05-27</td>\n      <td>387.0</td>\n      <td>8.0</td>\n      <td>714.0</td>\n    </tr>\n    <tr>\n      <th>33</th>\n      <td>Нижегородская область</td>\n      <td>8735</td>\n      <td>2905</td>\n      <td>78</td>\n      <td>2020-05-27</td>\n      <td>231.0</td>\n      <td>6.0</td>\n      <td>253.0</td>\n    </tr>\n    <tr>\n      <th>47</th>\n      <td>Республика Дагестан</td>\n      <td>4455</td>\n      <td>4161</td>\n      <td>130</td>\n      <td>2020-05-27</td>\n      <td>161.0</td>\n      <td>12.0</td>\n      <td>352.0</td>\n    </tr>\n  </tbody>\n</table>\n</div>"
     },
     "metadata": {},
     "execution_count": 23
    }
   ],
   "source": [
    "# Read update data\n",
    "# Result of data_parsing_SCRF.ipynb\n",
    "file_name = f'covid19-russia-cases-upd-scrf.csv'\n",
    "upd_df = pd.read_csv(file_name)\n",
    "upd_df.sort_values('Confirmed', ascending=False).head()"
   ]
  },
  {
   "cell_type": "code",
   "execution_count": 24,
   "metadata": {},
   "outputs": [],
   "source": [
    "# Strip text data\n",
    "rus_df['Region/City'] = rus_df['Region/City'].astype('str').str.strip('\\u200b') \n",
    "upd_df['Region/City'] = upd_df['Region/City'].astype('str').str.strip('\\u200b')\n",
    "\n",
    "# Date to datetime\n",
    "upd_df['Date'] = pd.to_datetime(upd_df['Date'])\n",
    "rus_df['Date'] = pd.to_datetime(rus_df['Date'])"
   ]
  },
  {
   "cell_type": "markdown",
   "metadata": {},
   "source": [
    "# Updating"
   ]
  },
  {
   "cell_type": "code",
   "execution_count": 25,
   "metadata": {},
   "outputs": [],
   "source": [
    "# Add region ID and Eng columns\n",
    "regions_df = pd.read_csv('release/regions-info.csv')\n",
    "\n",
    "right = regions_df[['Region_ID', 'Region', 'Region_eng']]\n",
    "upd_df = upd_df.merge(right, left_on='Region/City', right_on='Region', how='left')\n",
    "upd_df['Region/City-Eng'] = upd_df.Region_eng\n",
    "upd_df = upd_df[['Date', 'Region/City', 'Region/City-Eng', 'Region_ID', 'Day-Confirmed', 'Day-Deaths', 'Day-Recovered', 'Confirmed', 'Deaths', 'Recovered']]"
   ]
  },
  {
   "cell_type": "code",
   "execution_count": 26,
   "metadata": {
    "scrolled": true
   },
   "outputs": [
    {
     "output_type": "execute_result",
     "data": {
      "text/plain": "           Date                 Region/City                 Region/City-Eng  \\\n4575 2020-05-27           Тюменская область                   Tyumen region   \n4576 2020-05-27       Удмуртская Республика                 Udmurt republic   \n4577 2020-05-27         Ульяновская область                Ulyanovsk region   \n4578 2020-05-27            Хабаровский край               Khabarovsk region   \n4579 2020-05-27         Ханты-Мансийский АО                 Khanty-Mansiysk   \n4580 2020-05-27         Челябинская область              Chelyabinsk region   \n4581 2020-05-27        Чеченская Республика                Chechen Republic   \n4582 2020-05-27  Чукотский автономный округ       Chukotka Autonomous Okrug   \n4583 2020-05-27           Ямало-Ненецкий АО  Yamalo-Nenets Autonomous Okrug   \n4584 2020-05-27         Ярославская область                Yaroslavl region   \n\n      Region_ID  Day-Confirmed  Day-Deaths  Day-Recovered  Confirmed  Deaths  \\\n4575       72.0           42.0         0.0           45.0     1532.0     7.0   \n4576       18.0           10.0         0.0           13.0      559.0    12.0   \n4577       73.0           70.0         0.0           35.0     2121.0     7.0   \n4578       27.0           67.0         0.0           44.0     1827.0    10.0   \n4579       86.0           75.0         0.0           34.0     1924.0    17.0   \n4580       74.0           70.0         0.0           64.0     2286.0    13.0   \n4581       95.0           19.0         0.0            8.0     1152.0    13.0   \n4582       87.0            2.0         0.0            1.0       63.0     1.0   \n4583       89.0           51.0         0.0           30.0     2202.0     6.0   \n4584       76.0           82.0         0.0           47.0     2808.0    13.0   \n\n      Recovered  \n4575      694.0  \n4576      367.0  \n4577      586.0  \n4578      803.0  \n4579      669.0  \n4580      988.0  \n4581      698.0  \n4582       37.0  \n4583      788.0  \n4584      616.0  ",
      "text/html": "<div>\n<style scoped>\n    .dataframe tbody tr th:only-of-type {\n        vertical-align: middle;\n    }\n\n    .dataframe tbody tr th {\n        vertical-align: top;\n    }\n\n    .dataframe thead th {\n        text-align: right;\n    }\n</style>\n<table border=\"1\" class=\"dataframe\">\n  <thead>\n    <tr style=\"text-align: right;\">\n      <th></th>\n      <th>Date</th>\n      <th>Region/City</th>\n      <th>Region/City-Eng</th>\n      <th>Region_ID</th>\n      <th>Day-Confirmed</th>\n      <th>Day-Deaths</th>\n      <th>Day-Recovered</th>\n      <th>Confirmed</th>\n      <th>Deaths</th>\n      <th>Recovered</th>\n    </tr>\n  </thead>\n  <tbody>\n    <tr>\n      <th>4575</th>\n      <td>2020-05-27</td>\n      <td>Тюменская область</td>\n      <td>Tyumen region</td>\n      <td>72.0</td>\n      <td>42.0</td>\n      <td>0.0</td>\n      <td>45.0</td>\n      <td>1532.0</td>\n      <td>7.0</td>\n      <td>694.0</td>\n    </tr>\n    <tr>\n      <th>4576</th>\n      <td>2020-05-27</td>\n      <td>Удмуртская Республика</td>\n      <td>Udmurt republic</td>\n      <td>18.0</td>\n      <td>10.0</td>\n      <td>0.0</td>\n      <td>13.0</td>\n      <td>559.0</td>\n      <td>12.0</td>\n      <td>367.0</td>\n    </tr>\n    <tr>\n      <th>4577</th>\n      <td>2020-05-27</td>\n      <td>Ульяновская область</td>\n      <td>Ulyanovsk region</td>\n      <td>73.0</td>\n      <td>70.0</td>\n      <td>0.0</td>\n      <td>35.0</td>\n      <td>2121.0</td>\n      <td>7.0</td>\n      <td>586.0</td>\n    </tr>\n    <tr>\n      <th>4578</th>\n      <td>2020-05-27</td>\n      <td>Хабаровский край</td>\n      <td>Khabarovsk region</td>\n      <td>27.0</td>\n      <td>67.0</td>\n      <td>0.0</td>\n      <td>44.0</td>\n      <td>1827.0</td>\n      <td>10.0</td>\n      <td>803.0</td>\n    </tr>\n    <tr>\n      <th>4579</th>\n      <td>2020-05-27</td>\n      <td>Ханты-Мансийский АО</td>\n      <td>Khanty-Mansiysk</td>\n      <td>86.0</td>\n      <td>75.0</td>\n      <td>0.0</td>\n      <td>34.0</td>\n      <td>1924.0</td>\n      <td>17.0</td>\n      <td>669.0</td>\n    </tr>\n    <tr>\n      <th>4580</th>\n      <td>2020-05-27</td>\n      <td>Челябинская область</td>\n      <td>Chelyabinsk region</td>\n      <td>74.0</td>\n      <td>70.0</td>\n      <td>0.0</td>\n      <td>64.0</td>\n      <td>2286.0</td>\n      <td>13.0</td>\n      <td>988.0</td>\n    </tr>\n    <tr>\n      <th>4581</th>\n      <td>2020-05-27</td>\n      <td>Чеченская Республика</td>\n      <td>Chechen Republic</td>\n      <td>95.0</td>\n      <td>19.0</td>\n      <td>0.0</td>\n      <td>8.0</td>\n      <td>1152.0</td>\n      <td>13.0</td>\n      <td>698.0</td>\n    </tr>\n    <tr>\n      <th>4582</th>\n      <td>2020-05-27</td>\n      <td>Чукотский автономный округ</td>\n      <td>Chukotka Autonomous Okrug</td>\n      <td>87.0</td>\n      <td>2.0</td>\n      <td>0.0</td>\n      <td>1.0</td>\n      <td>63.0</td>\n      <td>1.0</td>\n      <td>37.0</td>\n    </tr>\n    <tr>\n      <th>4583</th>\n      <td>2020-05-27</td>\n      <td>Ямало-Ненецкий АО</td>\n      <td>Yamalo-Nenets Autonomous Okrug</td>\n      <td>89.0</td>\n      <td>51.0</td>\n      <td>0.0</td>\n      <td>30.0</td>\n      <td>2202.0</td>\n      <td>6.0</td>\n      <td>788.0</td>\n    </tr>\n    <tr>\n      <th>4584</th>\n      <td>2020-05-27</td>\n      <td>Ярославская область</td>\n      <td>Yaroslavl region</td>\n      <td>76.0</td>\n      <td>82.0</td>\n      <td>0.0</td>\n      <td>47.0</td>\n      <td>2808.0</td>\n      <td>13.0</td>\n      <td>616.0</td>\n    </tr>\n  </tbody>\n</table>\n</div>"
     },
     "metadata": {},
     "execution_count": 26
    }
   ],
   "source": [
    "rus_df = pd.concat([rus_df, upd_df]).reset_index(drop=True)\n",
    "rus_df.tail(10)"
   ]
  },
  {
   "cell_type": "code",
   "execution_count": 27,
   "metadata": {},
   "outputs": [],
   "source": [
    "# Negative values fix\n",
    "# Negative values can appear if some cases was removed from statistic\n",
    "def negval_fix(reg):\n",
    "    last = reg.iloc[-1]\n",
    "    diff_c = last['Day-Confirmed']*(-1) if last['Day-Confirmed'] < 0 else 0\n",
    "    diff_d = last['Day-Deaths']*(-1) if last['Day-Deaths'] < 0 else 0\n",
    "    diff_r = last['Day-Recovered']*(-1) if last['Day-Recovered'] < 0 else 0\n",
    "    \n",
    "    last['Day-Confirmed'] += diff_c\n",
    "    last['Day-Deaths']    += diff_d\n",
    "    last['Day-Recovered'] += diff_r\n",
    "    reg.iloc[-1] = last\n",
    "    \n",
    "    if diff_c + diff_d + diff_r > 0:\n",
    "        print(diff_c, diff_d, diff_r, last['Region/City'])\n",
    "        prev = reg.iloc[-2]\n",
    "        prev['Confirmed'] -= diff_c\n",
    "        prev['Deaths']    -= diff_d\n",
    "        prev['Recovered'] -= diff_r\n",
    "        reg.iloc[-2] = prev\n",
    "    \n",
    "    return reg\n",
    "    \n",
    "rus_df = rus_df.groupby('Region/City').apply(negval_fix).reset_index(drop=True)"
   ]
  },
  {
   "cell_type": "code",
   "execution_count": 28,
   "metadata": {},
   "outputs": [],
   "source": [
    "# Manual fixes if needed\n",
    "# rus_df.loc[287, 'Confirmed'] = 5\n",
    "# rus_df.loc[321, 'Confirmed'] = 5\n",
    "# rus_df.loc[359, 'Day-Confirmed'] = 0\n",
    "\n",
    "# rus_df.loc[3775, 'Deaths'] = 7\n",
    "# rus_df.loc[3775, 'Day-Deaths'] = 0"
   ]
  },
  {
   "cell_type": "markdown",
   "metadata": {},
   "source": [
    "# Data checking"
   ]
  },
  {
   "cell_type": "code",
   "execution_count": 29,
   "metadata": {},
   "outputs": [
    {
     "output_type": "stream",
     "name": "stdout",
     "text": "Russia Confirmed: 370680.0 | By day: 370680.0\nRussia Deaths: 3971.0 | By day: 3968.0\nRussia Recovered: 142208.0 | By day: 142208.0\nEmpty DataFrame\nColumns: [Region/City, Confirmed, Confirmed-ByDay]\nIndex: []\nEmpty DataFrame\nColumns: [Region/City, Recovered, Recovered-ByDay]\nIndex: []\n             Region/City  Deaths  Deaths-ByDay\n9    Воронежская область    16.0          14.0\n34  Новгородская область     7.0           6.0\n"
    }
   ],
   "source": [
    "rus_sum = rus_df.loc[rus_df['Region/City'] != 'Diamond Princess']\n",
    "\n",
    "print('Russia Confirmed:', rus_sum.groupby('Region/City')['Confirmed'].max().sum(),\n",
    "      '| By day:', rus_sum.groupby('Region/City')['Day-Confirmed'].sum().sum())\n",
    "print('Russia Deaths:', rus_sum.groupby('Region/City')['Deaths'].max().sum(),\n",
    "      '| By day:', rus_sum.groupby('Region/City')['Day-Deaths'].sum().sum())\n",
    "print('Russia Recovered:', rus_sum.groupby('Region/City')['Recovered'].max().sum(),\n",
    "      '| By day:', rus_sum.groupby('Region/City')['Day-Recovered'].sum().sum())\n",
    "\n",
    "rus_regs = rus_sum.groupby('Region/City')['Confirmed'].max().reset_index()\n",
    "rus_regs['Confirmed-ByDay'] = rus_sum.groupby('Region/City')['Day-Confirmed'].sum().reset_index(drop=True)\n",
    "print(rus_regs.loc[rus_regs['Confirmed'] != rus_regs['Confirmed-ByDay']])\n",
    "\n",
    "rus_regs = rus_sum.groupby('Region/City')['Recovered'].max().reset_index()\n",
    "rus_regs['Recovered-ByDay'] = rus_sum.groupby('Region/City')['Day-Recovered'].sum().reset_index(drop=True)\n",
    "print(rus_regs.loc[rus_regs['Recovered'] != rus_regs['Recovered-ByDay']])\n",
    "\n",
    "rus_regs = rus_sum.groupby('Region/City')['Deaths'].max().reset_index()\n",
    "rus_regs['Deaths-ByDay'] = rus_sum.groupby('Region/City')['Day-Deaths'].sum().reset_index(drop=True)\n",
    "print(rus_regs.loc[rus_regs['Deaths'] != rus_regs['Deaths-ByDay']])\n",
    "\n",
    "# rus_regs.to_csv('rus_regs.csv')"
   ]
  },
  {
   "cell_type": "markdown",
   "metadata": {},
   "source": [
    "# Data saving"
   ]
  },
  {
   "cell_type": "code",
   "execution_count": 30,
   "metadata": {},
   "outputs": [],
   "source": [
    "file_name = 'release/covid19-russia-cases-scrf.csv'\n",
    "rus_df.to_csv(file_name, index=False)"
   ]
  },
  {
   "cell_type": "code",
   "execution_count": null,
   "metadata": {},
   "outputs": [],
   "source": []
  }
 ],
 "metadata": {
  "kernelspec": {
   "display_name": "Python 3",
   "language": "python",
   "name": "python3"
  },
  "language_info": {
   "codemirror_mode": {
    "name": "ipython",
    "version": 3
   },
   "file_extension": ".py",
   "mimetype": "text/x-python",
   "name": "python",
   "nbconvert_exporter": "python",
   "pygments_lexer": "ipython3",
   "version": "3.7.6-final"
  }
 },
 "nbformat": 4,
 "nbformat_minor": 4
}