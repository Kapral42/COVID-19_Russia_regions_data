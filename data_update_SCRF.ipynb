{
 "cells": [
  {
   "cell_type": "markdown",
   "metadata": {},
   "source": [
    "# Import"
   ]
  },
  {
   "cell_type": "code",
   "execution_count": 14,
   "metadata": {},
   "outputs": [],
   "source": [
    "import numpy as np\n",
    "import pandas as pd"
   ]
  },
  {
   "cell_type": "markdown",
   "metadata": {},
   "source": [
    "# Data preporation"
   ]
  },
  {
   "cell_type": "code",
   "execution_count": 15,
   "metadata": {
    "scrolled": true
   },
   "outputs": [
    {
     "output_type": "execute_result",
     "data": {
      "text/plain": "            Date           Region/City                 Region/City-Eng  \\\n4157  2020-05-22   Ханты-Мансийский АО                 Khanty-Mansiysk   \n4158  2020-05-22   Челябинская область              Chelyabinsk region   \n4159  2020-05-22  Чеченская Республика                Chechen Republic   \n4160  2020-05-22     Ямало-Ненецкий АО  Yamalo-Nenets Autonomous Okrug   \n4161  2020-05-22   Ярославская область                Yaroslavl region   \n\n      Region_ID  Day-Confirmed  Day-Deaths  Day-Recovered  Confirmed  Deaths  \\\n4157       86.0           80.0         1.0           18.0     1510.0    13.0   \n4158       74.0           80.0         0.0           31.0     1993.0    11.0   \n4159       95.0           20.0         0.0            8.0     1046.0    11.0   \n4160       89.0           87.0         0.0           74.0     1989.0     5.0   \n4161       76.0          103.0         0.0           24.0     2309.0    13.0   \n\n      Recovered  \n4157      520.0  \n4158      725.0  \n4159      643.0  \n4160      398.0  \n4161      444.0  ",
      "text/html": "<div>\n<style scoped>\n    .dataframe tbody tr th:only-of-type {\n        vertical-align: middle;\n    }\n\n    .dataframe tbody tr th {\n        vertical-align: top;\n    }\n\n    .dataframe thead th {\n        text-align: right;\n    }\n</style>\n<table border=\"1\" class=\"dataframe\">\n  <thead>\n    <tr style=\"text-align: right;\">\n      <th></th>\n      <th>Date</th>\n      <th>Region/City</th>\n      <th>Region/City-Eng</th>\n      <th>Region_ID</th>\n      <th>Day-Confirmed</th>\n      <th>Day-Deaths</th>\n      <th>Day-Recovered</th>\n      <th>Confirmed</th>\n      <th>Deaths</th>\n      <th>Recovered</th>\n    </tr>\n  </thead>\n  <tbody>\n    <tr>\n      <th>4157</th>\n      <td>2020-05-22</td>\n      <td>Ханты-Мансийский АО</td>\n      <td>Khanty-Mansiysk</td>\n      <td>86.0</td>\n      <td>80.0</td>\n      <td>1.0</td>\n      <td>18.0</td>\n      <td>1510.0</td>\n      <td>13.0</td>\n      <td>520.0</td>\n    </tr>\n    <tr>\n      <th>4158</th>\n      <td>2020-05-22</td>\n      <td>Челябинская область</td>\n      <td>Chelyabinsk region</td>\n      <td>74.0</td>\n      <td>80.0</td>\n      <td>0.0</td>\n      <td>31.0</td>\n      <td>1993.0</td>\n      <td>11.0</td>\n      <td>725.0</td>\n    </tr>\n    <tr>\n      <th>4159</th>\n      <td>2020-05-22</td>\n      <td>Чеченская Республика</td>\n      <td>Chechen Republic</td>\n      <td>95.0</td>\n      <td>20.0</td>\n      <td>0.0</td>\n      <td>8.0</td>\n      <td>1046.0</td>\n      <td>11.0</td>\n      <td>643.0</td>\n    </tr>\n    <tr>\n      <th>4160</th>\n      <td>2020-05-22</td>\n      <td>Ямало-Ненецкий АО</td>\n      <td>Yamalo-Nenets Autonomous Okrug</td>\n      <td>89.0</td>\n      <td>87.0</td>\n      <td>0.0</td>\n      <td>74.0</td>\n      <td>1989.0</td>\n      <td>5.0</td>\n      <td>398.0</td>\n    </tr>\n    <tr>\n      <th>4161</th>\n      <td>2020-05-22</td>\n      <td>Ярославская область</td>\n      <td>Yaroslavl region</td>\n      <td>76.0</td>\n      <td>103.0</td>\n      <td>0.0</td>\n      <td>24.0</td>\n      <td>2309.0</td>\n      <td>13.0</td>\n      <td>444.0</td>\n    </tr>\n  </tbody>\n</table>\n</div>"
     },
     "metadata": {},
     "execution_count": 15
    }
   ],
   "source": [
    "# Load data of previous day\n",
    "file_name = 'release/covid19-russia-cases-scrf.csv'\n",
    "rus_df = pd.read_csv(file_name)\n",
    "rus_df.tail()"
   ]
  },
  {
   "cell_type": "code",
   "execution_count": 16,
   "metadata": {},
   "outputs": [
    {
     "output_type": "execute_result",
     "data": {
      "text/plain": "              Region/City  Confirmed  Recovered  Deaths        Date  \\\n29                 Москва     161397      47413    1934  2020-05-23   \n30     Московская область      32653       5163     324  2020-05-23   \n64        Санкт-Петербург      12955       3124     113  2020-05-23   \n33  Нижегородская область       7826       2257      60  2020-05-23   \n47    Республика Дагестан       3982       3002      70  2020-05-23   \n\n    Day-Confirmed  Day-Deaths  Day-Recovered  \n29         3190.0        67.0         3831.0  \n30          846.0        12.0          464.0  \n64          363.0         6.0          265.0  \n33          211.0         3.0          251.0  \n47          127.0         5.0          120.0  ",
      "text/html": "<div>\n<style scoped>\n    .dataframe tbody tr th:only-of-type {\n        vertical-align: middle;\n    }\n\n    .dataframe tbody tr th {\n        vertical-align: top;\n    }\n\n    .dataframe thead th {\n        text-align: right;\n    }\n</style>\n<table border=\"1\" class=\"dataframe\">\n  <thead>\n    <tr style=\"text-align: right;\">\n      <th></th>\n      <th>Region/City</th>\n      <th>Confirmed</th>\n      <th>Recovered</th>\n      <th>Deaths</th>\n      <th>Date</th>\n      <th>Day-Confirmed</th>\n      <th>Day-Deaths</th>\n      <th>Day-Recovered</th>\n    </tr>\n  </thead>\n  <tbody>\n    <tr>\n      <th>29</th>\n      <td>Москва</td>\n      <td>161397</td>\n      <td>47413</td>\n      <td>1934</td>\n      <td>2020-05-23</td>\n      <td>3190.0</td>\n      <td>67.0</td>\n      <td>3831.0</td>\n    </tr>\n    <tr>\n      <th>30</th>\n      <td>Московская область</td>\n      <td>32653</td>\n      <td>5163</td>\n      <td>324</td>\n      <td>2020-05-23</td>\n      <td>846.0</td>\n      <td>12.0</td>\n      <td>464.0</td>\n    </tr>\n    <tr>\n      <th>64</th>\n      <td>Санкт-Петербург</td>\n      <td>12955</td>\n      <td>3124</td>\n      <td>113</td>\n      <td>2020-05-23</td>\n      <td>363.0</td>\n      <td>6.0</td>\n      <td>265.0</td>\n    </tr>\n    <tr>\n      <th>33</th>\n      <td>Нижегородская область</td>\n      <td>7826</td>\n      <td>2257</td>\n      <td>60</td>\n      <td>2020-05-23</td>\n      <td>211.0</td>\n      <td>3.0</td>\n      <td>251.0</td>\n    </tr>\n    <tr>\n      <th>47</th>\n      <td>Республика Дагестан</td>\n      <td>3982</td>\n      <td>3002</td>\n      <td>70</td>\n      <td>2020-05-23</td>\n      <td>127.0</td>\n      <td>5.0</td>\n      <td>120.0</td>\n    </tr>\n  </tbody>\n</table>\n</div>"
     },
     "metadata": {},
     "execution_count": 16
    }
   ],
   "source": [
    "# Read update data\n",
    "# Result of data_parsing_SCRF.ipynb\n",
    "file_name = f'covid19-russia-cases-upd-scrf.csv'\n",
    "upd_df = pd.read_csv(file_name)\n",
    "upd_df.sort_values('Confirmed', ascending=False).head()"
   ]
  },
  {
   "cell_type": "code",
   "execution_count": 17,
   "metadata": {},
   "outputs": [],
   "source": [
    "# Strip text data\n",
    "rus_df['Region/City'] = rus_df['Region/City'].astype('str').str.strip('\\u200b') \n",
    "upd_df['Region/City'] = upd_df['Region/City'].astype('str').str.strip('\\u200b')\n",
    "\n",
    "# Date to datetime\n",
    "upd_df['Date'] = pd.to_datetime(upd_df['Date'])\n",
    "rus_df['Date'] = pd.to_datetime(rus_df['Date'])"
   ]
  },
  {
   "cell_type": "markdown",
   "metadata": {},
   "source": [
    "# Updating"
   ]
  },
  {
   "cell_type": "code",
   "execution_count": 18,
   "metadata": {},
   "outputs": [],
   "source": [
    "# Add region ID and Eng columns\n",
    "regions_df = pd.read_csv('regions-info.csv')\n",
    "\n",
    "right = regions_df[['Region_ID', 'Region', 'Region_eng']]\n",
    "upd_df = upd_df.merge(right, left_on='Region/City', right_on='Region', how='left')\n",
    "upd_df['Region/City-Eng'] = upd_df.Region_eng\n",
    "upd_df = upd_df[['Date', 'Region/City', 'Region/City-Eng', 'Region_ID', 'Day-Confirmed', 'Day-Deaths', 'Day-Recovered', 'Confirmed', 'Deaths', 'Recovered']]"
   ]
  },
  {
   "cell_type": "code",
   "execution_count": 19,
   "metadata": {
    "scrolled": true
   },
   "outputs": [
    {
     "output_type": "execute_result",
     "data": {
      "text/plain": "           Date                 Region/City                 Region/City-Eng  \\\n4237 2020-05-23           Тюменская область                   Tyumen region   \n4238 2020-05-23       Удмуртская Республика                 Udmurt republic   \n4239 2020-05-23         Ульяновская область                Ulyanovsk region   \n4240 2020-05-23            Хабаровский край               Khabarovsk region   \n4241 2020-05-23         Ханты-Мансийский АО                 Khanty-Mansiysk   \n4242 2020-05-23         Челябинская область              Chelyabinsk region   \n4243 2020-05-23        Чеченская Республика                Chechen Republic   \n4244 2020-05-23  Чукотский автономный округ       Chukotka Autonomous Okrug   \n4245 2020-05-23           Ямало-Ненецкий АО  Yamalo-Nenets Autonomous Okrug   \n4246 2020-05-23         Ярославская область                Yaroslavl region   \n\n      Region_ID  Day-Confirmed  Day-Deaths  Day-Recovered  Confirmed  Deaths  \\\n4237       72.0           35.0         0.0           21.0     1366.0     7.0   \n4238       18.0           15.0         0.0           16.0      492.0    12.0   \n4239       73.0           98.0         0.0           26.0     1764.0     6.0   \n4240       27.0           63.0         1.0           23.0     1572.0    10.0   \n4241       86.0           58.0         2.0           25.0     1568.0    15.0   \n4242       74.0           80.0         0.0           29.0     2073.0    11.0   \n4243       95.0           20.0         1.0           16.0     1066.0    12.0   \n4244       87.0            2.0         1.0            6.0       58.0     1.0   \n4245       89.0           36.0         0.0          288.0     2025.0     5.0   \n4246       76.0          115.0         0.0           49.0     2424.0    13.0   \n\n      Recovered  \n4237      591.0  \n4238      323.0  \n4239      462.0  \n4240      678.0  \n4241      545.0  \n4242      754.0  \n4243      659.0  \n4244       30.0  \n4245      686.0  \n4246      493.0  ",
      "text/html": "<div>\n<style scoped>\n    .dataframe tbody tr th:only-of-type {\n        vertical-align: middle;\n    }\n\n    .dataframe tbody tr th {\n        vertical-align: top;\n    }\n\n    .dataframe thead th {\n        text-align: right;\n    }\n</style>\n<table border=\"1\" class=\"dataframe\">\n  <thead>\n    <tr style=\"text-align: right;\">\n      <th></th>\n      <th>Date</th>\n      <th>Region/City</th>\n      <th>Region/City-Eng</th>\n      <th>Region_ID</th>\n      <th>Day-Confirmed</th>\n      <th>Day-Deaths</th>\n      <th>Day-Recovered</th>\n      <th>Confirmed</th>\n      <th>Deaths</th>\n      <th>Recovered</th>\n    </tr>\n  </thead>\n  <tbody>\n    <tr>\n      <th>4237</th>\n      <td>2020-05-23</td>\n      <td>Тюменская область</td>\n      <td>Tyumen region</td>\n      <td>72.0</td>\n      <td>35.0</td>\n      <td>0.0</td>\n      <td>21.0</td>\n      <td>1366.0</td>\n      <td>7.0</td>\n      <td>591.0</td>\n    </tr>\n    <tr>\n      <th>4238</th>\n      <td>2020-05-23</td>\n      <td>Удмуртская Республика</td>\n      <td>Udmurt republic</td>\n      <td>18.0</td>\n      <td>15.0</td>\n      <td>0.0</td>\n      <td>16.0</td>\n      <td>492.0</td>\n      <td>12.0</td>\n      <td>323.0</td>\n    </tr>\n    <tr>\n      <th>4239</th>\n      <td>2020-05-23</td>\n      <td>Ульяновская область</td>\n      <td>Ulyanovsk region</td>\n      <td>73.0</td>\n      <td>98.0</td>\n      <td>0.0</td>\n      <td>26.0</td>\n      <td>1764.0</td>\n      <td>6.0</td>\n      <td>462.0</td>\n    </tr>\n    <tr>\n      <th>4240</th>\n      <td>2020-05-23</td>\n      <td>Хабаровский край</td>\n      <td>Khabarovsk region</td>\n      <td>27.0</td>\n      <td>63.0</td>\n      <td>1.0</td>\n      <td>23.0</td>\n      <td>1572.0</td>\n      <td>10.0</td>\n      <td>678.0</td>\n    </tr>\n    <tr>\n      <th>4241</th>\n      <td>2020-05-23</td>\n      <td>Ханты-Мансийский АО</td>\n      <td>Khanty-Mansiysk</td>\n      <td>86.0</td>\n      <td>58.0</td>\n      <td>2.0</td>\n      <td>25.0</td>\n      <td>1568.0</td>\n      <td>15.0</td>\n      <td>545.0</td>\n    </tr>\n    <tr>\n      <th>4242</th>\n      <td>2020-05-23</td>\n      <td>Челябинская область</td>\n      <td>Chelyabinsk region</td>\n      <td>74.0</td>\n      <td>80.0</td>\n      <td>0.0</td>\n      <td>29.0</td>\n      <td>2073.0</td>\n      <td>11.0</td>\n      <td>754.0</td>\n    </tr>\n    <tr>\n      <th>4243</th>\n      <td>2020-05-23</td>\n      <td>Чеченская Республика</td>\n      <td>Chechen Republic</td>\n      <td>95.0</td>\n      <td>20.0</td>\n      <td>1.0</td>\n      <td>16.0</td>\n      <td>1066.0</td>\n      <td>12.0</td>\n      <td>659.0</td>\n    </tr>\n    <tr>\n      <th>4244</th>\n      <td>2020-05-23</td>\n      <td>Чукотский автономный округ</td>\n      <td>Chukotka Autonomous Okrug</td>\n      <td>87.0</td>\n      <td>2.0</td>\n      <td>1.0</td>\n      <td>6.0</td>\n      <td>58.0</td>\n      <td>1.0</td>\n      <td>30.0</td>\n    </tr>\n    <tr>\n      <th>4245</th>\n      <td>2020-05-23</td>\n      <td>Ямало-Ненецкий АО</td>\n      <td>Yamalo-Nenets Autonomous Okrug</td>\n      <td>89.0</td>\n      <td>36.0</td>\n      <td>0.0</td>\n      <td>288.0</td>\n      <td>2025.0</td>\n      <td>5.0</td>\n      <td>686.0</td>\n    </tr>\n    <tr>\n      <th>4246</th>\n      <td>2020-05-23</td>\n      <td>Ярославская область</td>\n      <td>Yaroslavl region</td>\n      <td>76.0</td>\n      <td>115.0</td>\n      <td>0.0</td>\n      <td>49.0</td>\n      <td>2424.0</td>\n      <td>13.0</td>\n      <td>493.0</td>\n    </tr>\n  </tbody>\n</table>\n</div>"
     },
     "metadata": {},
     "execution_count": 19
    }
   ],
   "source": [
    "rus_df = pd.concat([rus_df, upd_df]).reset_index(drop=True)\n",
    "rus_df.tail(10)"
   ]
  },
  {
   "cell_type": "code",
   "execution_count": 20,
   "metadata": {},
   "outputs": [],
   "source": [
    "# Negative values fix\n",
    "# Negative values can appear if some cases was removed from statistic\n",
    "def negval_fix(reg):\n",
    "    last = reg.iloc[-1]\n",
    "    diff_c = last['Day-Confirmed']*(-1) if last['Day-Confirmed'] < 0 else 0\n",
    "    diff_d = last['Day-Deaths']*(-1) if last['Day-Deaths'] < 0 else 0\n",
    "    diff_r = last['Day-Recovered']*(-1) if last['Day-Recovered'] < 0 else 0\n",
    "    \n",
    "    last['Day-Confirmed'] += diff_c\n",
    "    last['Day-Deaths']    += diff_d\n",
    "    last['Day-Recovered'] += diff_r\n",
    "    reg.iloc[-1] = last\n",
    "    \n",
    "    if diff_c + diff_d + diff_r > 0:\n",
    "        print(diff_c, diff_d, diff_r, last['Region/City'])\n",
    "        prev = reg.iloc[-2]\n",
    "        prev['Confirmed'] -= diff_c\n",
    "        prev['Deaths']    -= diff_d\n",
    "        prev['Recovered'] -= diff_r\n",
    "        reg.iloc[-2] = prev\n",
    "    \n",
    "    return reg\n",
    "    \n",
    "rus_df = rus_df.groupby('Region/City').apply(negval_fix).reset_index(drop=True)"
   ]
  },
  {
   "cell_type": "code",
   "execution_count": 21,
   "metadata": {},
   "outputs": [],
   "source": [
    "# Manual fixes if needed\n",
    "# rus_df.loc[287, 'Confirmed'] = 5\n",
    "# rus_df.loc[321, 'Confirmed'] = 5\n",
    "# rus_df.loc[359, 'Day-Confirmed'] = 0\n",
    "\n",
    "# rus_df.loc[3775, 'Deaths'] = 7\n",
    "# rus_df.loc[3775, 'Day-Deaths'] = 0"
   ]
  },
  {
   "cell_type": "markdown",
   "metadata": {},
   "source": [
    "# Data checking"
   ]
  },
  {
   "cell_type": "code",
   "execution_count": 22,
   "metadata": {},
   "outputs": [
    {
     "output_type": "stream",
     "name": "stdout",
     "text": "Russia Confirmed: 335882.0 | By day: 335882.0\nRussia Deaths: 3393.0 | By day: 3388.0\nRussia Recovered: 107944.0 | By day: 107936.0\nEmpty DataFrame\nColumns: [Region/City, Confirmed, Confirmed-ByDay]\nIndex: []\n        Region/City  Recovered  Recovered-ByDay\n17  Камчатский край      179.0            171.0\n             Region/City  Deaths  Deaths-ByDay\n9    Воронежская область    16.0          14.0\n17       Камчатский край     3.0           2.0\n34  Новгородская область     7.0           5.0\n"
    }
   ],
   "source": [
    "rus_sum = rus_df.loc[rus_df['Region/City'] != 'Diamond Princess']\n",
    "\n",
    "print('Russia Confirmed:', rus_sum.groupby('Region/City')['Confirmed'].max().sum(),\n",
    "      '| By day:', rus_sum.groupby('Region/City')['Day-Confirmed'].sum().sum())\n",
    "print('Russia Deaths:', rus_sum.groupby('Region/City')['Deaths'].max().sum(),\n",
    "      '| By day:', rus_sum.groupby('Region/City')['Day-Deaths'].sum().sum())\n",
    "print('Russia Recovered:', rus_sum.groupby('Region/City')['Recovered'].max().sum(),\n",
    "      '| By day:', rus_sum.groupby('Region/City')['Day-Recovered'].sum().sum())\n",
    "\n",
    "rus_regs = rus_sum.groupby('Region/City')['Confirmed'].max().reset_index()\n",
    "rus_regs['Confirmed-ByDay'] = rus_sum.groupby('Region/City')['Day-Confirmed'].sum().reset_index(drop=True)\n",
    "print(rus_regs.loc[rus_regs['Confirmed'] != rus_regs['Confirmed-ByDay']])\n",
    "\n",
    "rus_regs = rus_sum.groupby('Region/City')['Recovered'].max().reset_index()\n",
    "rus_regs['Recovered-ByDay'] = rus_sum.groupby('Region/City')['Day-Recovered'].sum().reset_index(drop=True)\n",
    "print(rus_regs.loc[rus_regs['Recovered'] != rus_regs['Recovered-ByDay']])\n",
    "\n",
    "rus_regs = rus_sum.groupby('Region/City')['Deaths'].max().reset_index()\n",
    "rus_regs['Deaths-ByDay'] = rus_sum.groupby('Region/City')['Day-Deaths'].sum().reset_index(drop=True)\n",
    "print(rus_regs.loc[rus_regs['Deaths'] != rus_regs['Deaths-ByDay']])\n",
    "\n",
    "# rus_regs.to_csv('rus_regs.csv')"
   ]
  },
  {
   "cell_type": "markdown",
   "metadata": {},
   "source": [
    "# Data saving"
   ]
  },
  {
   "cell_type": "code",
   "execution_count": 24,
   "metadata": {},
   "outputs": [],
   "source": [
    "file_name = 'release/covid19-russia-cases-scrf.csv'\n",
    "rus_df.to_csv(file_name, index=False)"
   ]
  },
  {
   "cell_type": "code",
   "execution_count": null,
   "metadata": {},
   "outputs": [],
   "source": []
  }
 ],
 "metadata": {
  "kernelspec": {
   "display_name": "Python 3",
   "language": "python",
   "name": "python3"
  },
  "language_info": {
   "codemirror_mode": {
    "name": "ipython",
    "version": 3
   },
   "file_extension": ".py",
   "mimetype": "text/x-python",
   "name": "python",
   "nbconvert_exporter": "python",
   "pygments_lexer": "ipython3",
   "version": "3.7.6-final"
  }
 },
 "nbformat": 4,
 "nbformat_minor": 4
}