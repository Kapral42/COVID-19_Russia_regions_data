{
 "cells": [
  {
   "cell_type": "code",
   "execution_count": 50,
   "metadata": {},
   "outputs": [],
   "source": [
    "# storing and anaysis\n",
    "import numpy as np\n",
    "import pandas as pd"
   ]
  },
  {
   "cell_type": "code",
   "execution_count": 51,
   "metadata": {},
   "outputs": [
    {
     "output_type": "execute_result",
     "data": {
      "text/plain": "     Year    Month  StateRegistrationOfBirth  \\\nID                                             \n120  2019  Äåêàáðü                     10329   \n121  2020   ßíâàðü                      9703   \n122  2020  Ôåâðàëü                      9485   \n123  2020     Ìàðò                      9533   \n124  2020   Àïðåëü                      3959   \n\n     NumberOfBirthCertificatesForBoys  NumberOfBirthCertificatesForGirls  \\\nID                                                                         \n120                              5333                               4996   \n121                              5014                               4689   \n122                              4777                               4708   \n123                              4940                               4593   \n124                              2042                               1917   \n\n     StateRegistrationOfDeath  StateRegistrationOfMarriage  \\\nID                                                           \n120                     10562                         6230   \n121                     10918                         3365   \n122                      9873                         6244   \n123                     10250                         4250   \n124                     11846                         3893   \n\n     StateRegistrationOfDivorce  StateRegistrationOfPaternityExamination  \\\nID                                                                         \n120                        4350                                     1250   \n121                        4134                                     1088   \n122                        3290                                     1082   \n123                        3284                                     1003   \n124                        1424                                      323   \n\n     StateRegistrationOfAdoption  StateRegistrationOfNameChange  TotalNumber  \\\nID                                                                             \n120                           63                            935        33719   \n121                           46                            815        30069   \n122                           50                            942        30966   \n123                           40                            771        29131   \n124                            7                             54        21506   \n\n      global_id  Unnamed: 14  \nID                            \n120  1026815773          NaN  \n121  1029422373          NaN  \n122  1035521174          NaN  \n123  1035521176          NaN  \n124  1035521177          NaN  ",
      "text/html": "<div>\n<style scoped>\n    .dataframe tbody tr th:only-of-type {\n        vertical-align: middle;\n    }\n\n    .dataframe tbody tr th {\n        vertical-align: top;\n    }\n\n    .dataframe thead th {\n        text-align: right;\n    }\n</style>\n<table border=\"1\" class=\"dataframe\">\n  <thead>\n    <tr style=\"text-align: right;\">\n      <th></th>\n      <th>Year</th>\n      <th>Month</th>\n      <th>StateRegistrationOfBirth</th>\n      <th>NumberOfBirthCertificatesForBoys</th>\n      <th>NumberOfBirthCertificatesForGirls</th>\n      <th>StateRegistrationOfDeath</th>\n      <th>StateRegistrationOfMarriage</th>\n      <th>StateRegistrationOfDivorce</th>\n      <th>StateRegistrationOfPaternityExamination</th>\n      <th>StateRegistrationOfAdoption</th>\n      <th>StateRegistrationOfNameChange</th>\n      <th>TotalNumber</th>\n      <th>global_id</th>\n      <th>Unnamed: 14</th>\n    </tr>\n    <tr>\n      <th>ID</th>\n      <th></th>\n      <th></th>\n      <th></th>\n      <th></th>\n      <th></th>\n      <th></th>\n      <th></th>\n      <th></th>\n      <th></th>\n      <th></th>\n      <th></th>\n      <th></th>\n      <th></th>\n      <th></th>\n    </tr>\n  </thead>\n  <tbody>\n    <tr>\n      <th>120</th>\n      <td>2019</td>\n      <td>Äåêàáðü</td>\n      <td>10329</td>\n      <td>5333</td>\n      <td>4996</td>\n      <td>10562</td>\n      <td>6230</td>\n      <td>4350</td>\n      <td>1250</td>\n      <td>63</td>\n      <td>935</td>\n      <td>33719</td>\n      <td>1026815773</td>\n      <td>NaN</td>\n    </tr>\n    <tr>\n      <th>121</th>\n      <td>2020</td>\n      <td>ßíâàðü</td>\n      <td>9703</td>\n      <td>5014</td>\n      <td>4689</td>\n      <td>10918</td>\n      <td>3365</td>\n      <td>4134</td>\n      <td>1088</td>\n      <td>46</td>\n      <td>815</td>\n      <td>30069</td>\n      <td>1029422373</td>\n      <td>NaN</td>\n    </tr>\n    <tr>\n      <th>122</th>\n      <td>2020</td>\n      <td>Ôåâðàëü</td>\n      <td>9485</td>\n      <td>4777</td>\n      <td>4708</td>\n      <td>9873</td>\n      <td>6244</td>\n      <td>3290</td>\n      <td>1082</td>\n      <td>50</td>\n      <td>942</td>\n      <td>30966</td>\n      <td>1035521174</td>\n      <td>NaN</td>\n    </tr>\n    <tr>\n      <th>123</th>\n      <td>2020</td>\n      <td>Ìàðò</td>\n      <td>9533</td>\n      <td>4940</td>\n      <td>4593</td>\n      <td>10250</td>\n      <td>4250</td>\n      <td>3284</td>\n      <td>1003</td>\n      <td>40</td>\n      <td>771</td>\n      <td>29131</td>\n      <td>1035521176</td>\n      <td>NaN</td>\n    </tr>\n    <tr>\n      <th>124</th>\n      <td>2020</td>\n      <td>Àïðåëü</td>\n      <td>3959</td>\n      <td>2042</td>\n      <td>1917</td>\n      <td>11846</td>\n      <td>3893</td>\n      <td>1424</td>\n      <td>323</td>\n      <td>7</td>\n      <td>54</td>\n      <td>21506</td>\n      <td>1035521177</td>\n      <td>NaN</td>\n    </tr>\n  </tbody>\n</table>\n</div>"
     },
     "metadata": {},
     "execution_count": 51
    }
   ],
   "source": [
    "zags_df = pd.read_csv('data-6267-2020-05-08.csv', sep=';', encoding='ISO-8859-1', index_col=0)\n",
    "zags_df.tail()"
   ]
  },
  {
   "cell_type": "code",
   "execution_count": 52,
   "metadata": {},
   "outputs": [
    {
     "output_type": "execute_result",
     "data": {
      "text/plain": "    Year  Deaths\nID              \n1   2010   10430\n2   2010    9573\n3   2010   10528\n4   2010    9501\n5   2010    9482",
      "text/html": "<div>\n<style scoped>\n    .dataframe tbody tr th:only-of-type {\n        vertical-align: middle;\n    }\n\n    .dataframe tbody tr th {\n        vertical-align: top;\n    }\n\n    .dataframe thead th {\n        text-align: right;\n    }\n</style>\n<table border=\"1\" class=\"dataframe\">\n  <thead>\n    <tr style=\"text-align: right;\">\n      <th></th>\n      <th>Year</th>\n      <th>Deaths</th>\n    </tr>\n    <tr>\n      <th>ID</th>\n      <th></th>\n      <th></th>\n    </tr>\n  </thead>\n  <tbody>\n    <tr>\n      <th>1</th>\n      <td>2010</td>\n      <td>10430</td>\n    </tr>\n    <tr>\n      <th>2</th>\n      <td>2010</td>\n      <td>9573</td>\n    </tr>\n    <tr>\n      <th>3</th>\n      <td>2010</td>\n      <td>10528</td>\n    </tr>\n    <tr>\n      <th>4</th>\n      <td>2010</td>\n      <td>9501</td>\n    </tr>\n    <tr>\n      <th>5</th>\n      <td>2010</td>\n      <td>9482</td>\n    </tr>\n  </tbody>\n</table>\n</div>"
     },
     "metadata": {},
     "execution_count": 52
    }
   ],
   "source": [
    "death_df = zags_df[['Year', 'StateRegistrationOfDeath']]\n",
    "death_df = death_df.rename(columns={'StateRegistrationOfDeath' : 'Deaths'})\n",
    "death_df.head()"
   ]
  },
  {
   "cell_type": "code",
   "execution_count": 53,
   "metadata": {},
   "outputs": [
    {
     "output_type": "execute_result",
     "data": {
      "text/plain": "     Year  Deaths  Month\nID                      \n1    2010   10430      1\n2    2010    9573      2\n3    2010   10528      3\n4    2010    9501      4\n5    2010    9482      5\n..    ...     ...    ...\n120  2019   10562     12\n121  2020   10918      1\n122  2020    9873      2\n123  2020   10250      3\n124  2020   11846      4\n\n[124 rows x 3 columns]",
      "text/html": "<div>\n<style scoped>\n    .dataframe tbody tr th:only-of-type {\n        vertical-align: middle;\n    }\n\n    .dataframe tbody tr th {\n        vertical-align: top;\n    }\n\n    .dataframe thead th {\n        text-align: right;\n    }\n</style>\n<table border=\"1\" class=\"dataframe\">\n  <thead>\n    <tr style=\"text-align: right;\">\n      <th></th>\n      <th>Year</th>\n      <th>Deaths</th>\n      <th>Month</th>\n    </tr>\n    <tr>\n      <th>ID</th>\n      <th></th>\n      <th></th>\n      <th></th>\n    </tr>\n  </thead>\n  <tbody>\n    <tr>\n      <th>1</th>\n      <td>2010</td>\n      <td>10430</td>\n      <td>1</td>\n    </tr>\n    <tr>\n      <th>2</th>\n      <td>2010</td>\n      <td>9573</td>\n      <td>2</td>\n    </tr>\n    <tr>\n      <th>3</th>\n      <td>2010</td>\n      <td>10528</td>\n      <td>3</td>\n    </tr>\n    <tr>\n      <th>4</th>\n      <td>2010</td>\n      <td>9501</td>\n      <td>4</td>\n    </tr>\n    <tr>\n      <th>5</th>\n      <td>2010</td>\n      <td>9482</td>\n      <td>5</td>\n    </tr>\n    <tr>\n      <th>...</th>\n      <td>...</td>\n      <td>...</td>\n      <td>...</td>\n    </tr>\n    <tr>\n      <th>120</th>\n      <td>2019</td>\n      <td>10562</td>\n      <td>12</td>\n    </tr>\n    <tr>\n      <th>121</th>\n      <td>2020</td>\n      <td>10918</td>\n      <td>1</td>\n    </tr>\n    <tr>\n      <th>122</th>\n      <td>2020</td>\n      <td>9873</td>\n      <td>2</td>\n    </tr>\n    <tr>\n      <th>123</th>\n      <td>2020</td>\n      <td>10250</td>\n      <td>3</td>\n    </tr>\n    <tr>\n      <th>124</th>\n      <td>2020</td>\n      <td>11846</td>\n      <td>4</td>\n    </tr>\n  </tbody>\n</table>\n<p>124 rows × 3 columns</p>\n</div>"
     },
     "metadata": {},
     "execution_count": 53
    }
   ],
   "source": [
    "# Create month column\n",
    "month_lst = (list(range(1, 13))*11)[:-8]\n",
    "death_df['Month'] = month_lst\n",
    "death_df"
   ]
  },
  {
   "cell_type": "code",
   "execution_count": 56,
   "metadata": {},
   "outputs": [],
   "source": [
    "# Save dataset\n",
    "death_df = death_df[['Month', 'Year', 'Deaths']]\n",
    "death_df.to_csv('release/moscow_deaths.csv', index=False)"
   ]
  }
 ],
 "metadata": {
  "language_info": {
   "codemirror_mode": {
    "name": "ipython",
    "version": 3
   },
   "file_extension": ".py",
   "mimetype": "text/x-python",
   "name": "python",
   "nbconvert_exporter": "python",
   "pygments_lexer": "ipython3",
   "version": "3.7.7-final"
  },
  "orig_nbformat": 2,
  "kernelspec": {
   "name": "python3",
   "display_name": "Python 3"
  }
 },
 "nbformat": 4,
 "nbformat_minor": 2
}